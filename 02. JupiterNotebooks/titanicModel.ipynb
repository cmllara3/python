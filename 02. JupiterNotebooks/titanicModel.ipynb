{
 "cells": [
  {
   "cell_type": "markdown",
   "metadata": {},
   "source": [
    "## Importacion de librerias"
   ]
  },
  {
   "cell_type": "code",
   "execution_count": 1,
   "metadata": {},
   "outputs": [],
   "source": [
    "#Importing libraries\n",
    "import pandas as pd\n",
    "import numpy as np\n",
    "from datetime import datetime as dt\n",
    "from datetime import timedelta as td\n",
    "import matplotlib.pyplot as pl\n",
    "import seaborn as sns\n",
    "%matplotlib inline"
   ]
  },
  {
   "cell_type": "markdown",
   "metadata": {},
   "source": [
    "## Leer datos"
   ]
  },
  {
   "cell_type": "code",
   "execution_count": 2,
   "metadata": {},
   "outputs": [
    {
     "output_type": "execute_result",
     "data": {
      "text/plain": [
       "  Passenger Class                                             Name     Sex  \\\n",
       "0           First                    Allen, Miss. Elisabeth Walton  Female   \n",
       "1           First                   Allison, Master. Hudson Trevor    Male   \n",
       "2           First                     Allison, Miss. Helen Loraine  Female   \n",
       "3           First             Allison, Mr. Hudson Joshua Creighton    Male   \n",
       "4           First  Allison, Mrs. Hudson J C (Bessie Waldo Daniels)  Female   \n",
       "\n",
       "    Age  No of Siblings or Spouses on Board  \\\n",
       "0  29.0                                 0.0   \n",
       "1   0.9                                 1.0   \n",
       "2   2.0                                 1.0   \n",
       "3  30.0                                 1.0   \n",
       "4  25.0                                 1.0   \n",
       "\n",
       "   No of Parents or Children on Board Ticket Number  Passenger Fare    Cabin  \\\n",
       "0                                 0.0         24160           211.3       B5   \n",
       "1                                 2.0        113781           151.6  C22 C26   \n",
       "2                                 2.0        113781           151.6  C22 C26   \n",
       "3                                 2.0        113781           151.6  C22 C26   \n",
       "4                                 2.0        113781           151.6  C22 C26   \n",
       "\n",
       "  Port of Embarkation Life Boat Survived  \n",
       "0         Southampton         2      Yes  \n",
       "1         Southampton        11      Yes  \n",
       "2         Southampton       NaN       No  \n",
       "3         Southampton       NaN       No  \n",
       "4         Southampton       NaN       No  "
      ],
      "text/html": "<div>\n<style scoped>\n    .dataframe tbody tr th:only-of-type {\n        vertical-align: middle;\n    }\n\n    .dataframe tbody tr th {\n        vertical-align: top;\n    }\n\n    .dataframe thead th {\n        text-align: right;\n    }\n</style>\n<table border=\"1\" class=\"dataframe\">\n  <thead>\n    <tr style=\"text-align: right;\">\n      <th></th>\n      <th>Passenger Class</th>\n      <th>Name</th>\n      <th>Sex</th>\n      <th>Age</th>\n      <th>No of Siblings or Spouses on Board</th>\n      <th>No of Parents or Children on Board</th>\n      <th>Ticket Number</th>\n      <th>Passenger Fare</th>\n      <th>Cabin</th>\n      <th>Port of Embarkation</th>\n      <th>Life Boat</th>\n      <th>Survived</th>\n    </tr>\n  </thead>\n  <tbody>\n    <tr>\n      <th>0</th>\n      <td>First</td>\n      <td>Allen, Miss. Elisabeth Walton</td>\n      <td>Female</td>\n      <td>29.0</td>\n      <td>0.0</td>\n      <td>0.0</td>\n      <td>24160</td>\n      <td>211.3</td>\n      <td>B5</td>\n      <td>Southampton</td>\n      <td>2</td>\n      <td>Yes</td>\n    </tr>\n    <tr>\n      <th>1</th>\n      <td>First</td>\n      <td>Allison, Master. Hudson Trevor</td>\n      <td>Male</td>\n      <td>0.9</td>\n      <td>1.0</td>\n      <td>2.0</td>\n      <td>113781</td>\n      <td>151.6</td>\n      <td>C22 C26</td>\n      <td>Southampton</td>\n      <td>11</td>\n      <td>Yes</td>\n    </tr>\n    <tr>\n      <th>2</th>\n      <td>First</td>\n      <td>Allison, Miss. Helen Loraine</td>\n      <td>Female</td>\n      <td>2.0</td>\n      <td>1.0</td>\n      <td>2.0</td>\n      <td>113781</td>\n      <td>151.6</td>\n      <td>C22 C26</td>\n      <td>Southampton</td>\n      <td>NaN</td>\n      <td>No</td>\n    </tr>\n    <tr>\n      <th>3</th>\n      <td>First</td>\n      <td>Allison, Mr. Hudson Joshua Creighton</td>\n      <td>Male</td>\n      <td>30.0</td>\n      <td>1.0</td>\n      <td>2.0</td>\n      <td>113781</td>\n      <td>151.6</td>\n      <td>C22 C26</td>\n      <td>Southampton</td>\n      <td>NaN</td>\n      <td>No</td>\n    </tr>\n    <tr>\n      <th>4</th>\n      <td>First</td>\n      <td>Allison, Mrs. Hudson J C (Bessie Waldo Daniels)</td>\n      <td>Female</td>\n      <td>25.0</td>\n      <td>1.0</td>\n      <td>2.0</td>\n      <td>113781</td>\n      <td>151.6</td>\n      <td>C22 C26</td>\n      <td>Southampton</td>\n      <td>NaN</td>\n      <td>No</td>\n    </tr>\n  </tbody>\n</table>\n</div>"
     },
     "metadata": {},
     "execution_count": 2
    }
   ],
   "source": [
    "#Import data titanic\n",
    "titanic = pd.read_csv(\"../01. Flat Files/titanic.csv\",delimiter=\",\")\n",
    "titanic.head(5)"
   ]
  },
  {
   "cell_type": "markdown",
   "metadata": {},
   "source": [
    "# ETL Titanic"
   ]
  },
  {
   "cell_type": "markdown",
   "metadata": {},
   "source": [
    "## Arreglo columna Age"
   ]
  },
  {
   "cell_type": "code",
   "execution_count": 3,
   "metadata": {},
   "outputs": [],
   "source": [
    "#Definicion de funcion para calcular la media de la columna age\n",
    "def addAge (cols):\n",
    "    age = cols[0]\n",
    "    pclass = cols[1]\n",
    "    \n",
    "    if pd.isnull(age):\n",
    "        return int(titanic[titanic[\"Passenger Class\"] == pclass][\"Age\"].mean())\n",
    "    else:\n",
    "        return age"
   ]
  },
  {
   "cell_type": "code",
   "execution_count": 4,
   "metadata": {},
   "outputs": [
    {
     "output_type": "stream",
     "name": "stdout",
     "text": [
      "Age                     263\n",
      "Passenger Fare            1\n",
      "Cabin                  1014\n",
      "Port of Embarkation       2\n",
      "Life Boat               823\n",
      "dtype: int64\n",
      "\n",
      "Passenger Fare            1\n",
      "Cabin                  1014\n",
      "Port of Embarkation       2\n",
      "Life Boat               823\n",
      "dtype: int64\n"
     ]
    }
   ],
   "source": [
    "#Cantidad de registros nulos por columna en la tabla\n",
    "null_columns = titanic.columns[titanic.isnull().any()]\n",
    "print(titanic[null_columns].isnull().sum())\n",
    "print(\"\")\n",
    "\n",
    "del null_columns\n",
    "\n",
    "#Aplica sobre la columna age la funcion add_age\n",
    "titanic[\"Age\"] = titanic[[\"Age\",\"Passenger Class\"]].apply(addAge,axis=1) #Axis 1 para que lo aplique sobre la columna\n",
    "  \n",
    "#Cantidad de registros nulos por columna en la tabla\n",
    "null_columns = titanic.columns[titanic.isnull().any()]\n",
    "print(titanic[null_columns].isnull().sum())\n",
    "\n",
    "del null_columns"
   ]
  },
  {
   "cell_type": "markdown",
   "metadata": {},
   "source": [
    "## Eliminar columnas de Cabin y Life Boat"
   ]
  },
  {
   "cell_type": "code",
   "execution_count": 5,
   "metadata": {},
   "outputs": [
    {
     "output_type": "stream",
     "name": "stdout",
     "text": [
      "Passenger Fare            1\nCabin                  1014\nPort of Embarkation       2\nLife Boat               823\ndtype: int64\n\nPassenger Fare         1\nPort of Embarkation    2\ndtype: int64\n"
     ]
    }
   ],
   "source": [
    "#Cantidad de registros nulos por columna en la tabla\n",
    "null_columns = titanic.columns[titanic.isnull().any()]\n",
    "print(titanic[null_columns].isnull().sum())\n",
    "print(\"\")\n",
    "\n",
    "del null_columns\n",
    "\n",
    "#ELiminacion de las clumnas Cabin y Life Boat\n",
    "titanic = titanic.drop(columns=[\"Cabin\",\"Life Boat\"])\n",
    "\n",
    "#Cantidad de registros nulos por columna en la tabla\n",
    "null_columns = titanic.columns[titanic.isnull().any()]\n",
    "print(titanic[null_columns].isnull().sum())\n",
    "\n",
    "del null_columns"
   ]
  },
  {
   "cell_type": "markdown",
   "metadata": {},
   "source": [
    "## Arreglo columnas de Passenger Fare y Port of Embarkation"
   ]
  },
  {
   "cell_type": "code",
   "execution_count": 6,
   "metadata": {},
   "outputs": [
    {
     "output_type": "stream",
     "name": "stdout",
     "text": [
      "Passenger Fare         1\nPort of Embarkation    2\ndtype: int64\n\nSeries([], dtype: float64)\n"
     ]
    }
   ],
   "source": [
    "#Cantidad de registros nulos por columna en la tabla\n",
    "null_columns = titanic.columns[titanic.isnull().any()]\n",
    "print(titanic[null_columns].isnull().sum())\n",
    "print(\"\")\n",
    "\n",
    "del null_columns\n",
    "\n",
    "#ELiminacion de las filas nulas en Passenger Fare y Port of Embarkation\n",
    "titanic = titanic.dropna(axis=\"index\", subset=[\"Passenger Fare\",\"Port of Embarkation\"])\n",
    "\n",
    "#Cantidad de registros nulos por columna en la tabla\n",
    "null_columns = titanic.columns[titanic.isnull().any()]\n",
    "print(titanic[null_columns].isnull().sum())\n",
    "\n",
    "del null_columns"
   ]
  },
  {
   "cell_type": "markdown",
   "metadata": {},
   "source": [
    "## Convertir a nominal las columnas string (Cuando es posible)"
   ]
  },
  {
   "cell_type": "code",
   "execution_count": 7,
   "metadata": {},
   "outputs": [
    {
     "output_type": "execute_result",
     "data": {
      "text/plain": [
       "  Passenger Class                                             Name     Sex  \\\n",
       "0           First                    Allen, Miss. Elisabeth Walton  Female   \n",
       "1           First                   Allison, Master. Hudson Trevor    Male   \n",
       "2           First                     Allison, Miss. Helen Loraine  Female   \n",
       "3           First             Allison, Mr. Hudson Joshua Creighton    Male   \n",
       "4           First  Allison, Mrs. Hudson J C (Bessie Waldo Daniels)  Female   \n",
       "\n",
       "    Age  No of Siblings or Spouses on Board  \\\n",
       "0  29.0                                 0.0   \n",
       "1   0.9                                 1.0   \n",
       "2   2.0                                 1.0   \n",
       "3  30.0                                 1.0   \n",
       "4  25.0                                 1.0   \n",
       "\n",
       "   No of Parents or Children on Board Ticket Number  Passenger Fare  \\\n",
       "0                                 0.0         24160           211.3   \n",
       "1                                 2.0        113781           151.6   \n",
       "2                                 2.0        113781           151.6   \n",
       "3                                 2.0        113781           151.6   \n",
       "4                                 2.0        113781           151.6   \n",
       "\n",
       "  Port of Embarkation Survived  Female  Male  First  Second  Third  Cherbourg  \\\n",
       "0         Southampton      Yes       1     0      1       0      0          0   \n",
       "1         Southampton      Yes       0     1      1       0      0          0   \n",
       "2         Southampton       No       1     0      1       0      0          0   \n",
       "3         Southampton       No       0     1      1       0      0          0   \n",
       "4         Southampton       No       1     0      1       0      0          0   \n",
       "\n",
       "   Queenstown  Southampton  \n",
       "0           0            1  \n",
       "1           0            1  \n",
       "2           0            1  \n",
       "3           0            1  \n",
       "4           0            1  "
      ],
      "text/html": "<div>\n<style scoped>\n    .dataframe tbody tr th:only-of-type {\n        vertical-align: middle;\n    }\n\n    .dataframe tbody tr th {\n        vertical-align: top;\n    }\n\n    .dataframe thead th {\n        text-align: right;\n    }\n</style>\n<table border=\"1\" class=\"dataframe\">\n  <thead>\n    <tr style=\"text-align: right;\">\n      <th></th>\n      <th>Passenger Class</th>\n      <th>Name</th>\n      <th>Sex</th>\n      <th>Age</th>\n      <th>No of Siblings or Spouses on Board</th>\n      <th>No of Parents or Children on Board</th>\n      <th>Ticket Number</th>\n      <th>Passenger Fare</th>\n      <th>Port of Embarkation</th>\n      <th>Survived</th>\n      <th>Female</th>\n      <th>Male</th>\n      <th>First</th>\n      <th>Second</th>\n      <th>Third</th>\n      <th>Cherbourg</th>\n      <th>Queenstown</th>\n      <th>Southampton</th>\n    </tr>\n  </thead>\n  <tbody>\n    <tr>\n      <th>0</th>\n      <td>First</td>\n      <td>Allen, Miss. Elisabeth Walton</td>\n      <td>Female</td>\n      <td>29.0</td>\n      <td>0.0</td>\n      <td>0.0</td>\n      <td>24160</td>\n      <td>211.3</td>\n      <td>Southampton</td>\n      <td>Yes</td>\n      <td>1</td>\n      <td>0</td>\n      <td>1</td>\n      <td>0</td>\n      <td>0</td>\n      <td>0</td>\n      <td>0</td>\n      <td>1</td>\n    </tr>\n    <tr>\n      <th>1</th>\n      <td>First</td>\n      <td>Allison, Master. Hudson Trevor</td>\n      <td>Male</td>\n      <td>0.9</td>\n      <td>1.0</td>\n      <td>2.0</td>\n      <td>113781</td>\n      <td>151.6</td>\n      <td>Southampton</td>\n      <td>Yes</td>\n      <td>0</td>\n      <td>1</td>\n      <td>1</td>\n      <td>0</td>\n      <td>0</td>\n      <td>0</td>\n      <td>0</td>\n      <td>1</td>\n    </tr>\n    <tr>\n      <th>2</th>\n      <td>First</td>\n      <td>Allison, Miss. Helen Loraine</td>\n      <td>Female</td>\n      <td>2.0</td>\n      <td>1.0</td>\n      <td>2.0</td>\n      <td>113781</td>\n      <td>151.6</td>\n      <td>Southampton</td>\n      <td>No</td>\n      <td>1</td>\n      <td>0</td>\n      <td>1</td>\n      <td>0</td>\n      <td>0</td>\n      <td>0</td>\n      <td>0</td>\n      <td>1</td>\n    </tr>\n    <tr>\n      <th>3</th>\n      <td>First</td>\n      <td>Allison, Mr. Hudson Joshua Creighton</td>\n      <td>Male</td>\n      <td>30.0</td>\n      <td>1.0</td>\n      <td>2.0</td>\n      <td>113781</td>\n      <td>151.6</td>\n      <td>Southampton</td>\n      <td>No</td>\n      <td>0</td>\n      <td>1</td>\n      <td>1</td>\n      <td>0</td>\n      <td>0</td>\n      <td>0</td>\n      <td>0</td>\n      <td>1</td>\n    </tr>\n    <tr>\n      <th>4</th>\n      <td>First</td>\n      <td>Allison, Mrs. Hudson J C (Bessie Waldo Daniels)</td>\n      <td>Female</td>\n      <td>25.0</td>\n      <td>1.0</td>\n      <td>2.0</td>\n      <td>113781</td>\n      <td>151.6</td>\n      <td>Southampton</td>\n      <td>No</td>\n      <td>1</td>\n      <td>0</td>\n      <td>1</td>\n      <td>0</td>\n      <td>0</td>\n      <td>0</td>\n      <td>0</td>\n      <td>1</td>\n    </tr>\n  </tbody>\n</table>\n</div>"
     },
     "metadata": {},
     "execution_count": 7
    }
   ],
   "source": [
    "#Se convierte la columna Sex en nominal\n",
    "sex = pd.get_dummies(titanic[\"Sex\"])\n",
    "#Se convierte la columna Passenger Class en nominal\n",
    "ps_class = pd.get_dummies(titanic[\"Passenger Class\"])\n",
    "#Se convierte la columna Port of Embarkation en nominal\n",
    "embarkation = pd.get_dummies(titanic[\"Port of Embarkation\"])\n",
    "\n",
    "#Se hace la concactenacion de las columnas con concat \n",
    "titanic = pd.concat([titanic,sex,ps_class,embarkation],axis=1) #Axis 1 agrega las columnas \n",
    "titanic.head()"
   ]
  },
  {
   "cell_type": "markdown",
   "metadata": {},
   "source": [
    "## Creacion de copia independiente de Titanic"
   ]
  },
  {
   "cell_type": "code",
   "execution_count": 8,
   "metadata": {},
   "outputs": [
    {
     "output_type": "execute_result",
     "data": {
      "text/plain": [
       "  Passenger Class                                             Name     Sex  \\\n",
       "0           First                    Allen, Miss. Elisabeth Walton  Female   \n",
       "1           First                   Allison, Master. Hudson Trevor    Male   \n",
       "2           First                     Allison, Miss. Helen Loraine  Female   \n",
       "3           First             Allison, Mr. Hudson Joshua Creighton    Male   \n",
       "4           First  Allison, Mrs. Hudson J C (Bessie Waldo Daniels)  Female   \n",
       "\n",
       "    Age  No of Siblings or Spouses on Board  \\\n",
       "0  29.0                                 0.0   \n",
       "1   0.9                                 1.0   \n",
       "2   2.0                                 1.0   \n",
       "3  30.0                                 1.0   \n",
       "4  25.0                                 1.0   \n",
       "\n",
       "   No of Parents or Children on Board Ticket Number  Passenger Fare  \\\n",
       "0                                 0.0         24160           211.3   \n",
       "1                                 2.0        113781           151.6   \n",
       "2                                 2.0        113781           151.6   \n",
       "3                                 2.0        113781           151.6   \n",
       "4                                 2.0        113781           151.6   \n",
       "\n",
       "  Port of Embarkation Survived  Female  Male  First  Second  Third  Cherbourg  \\\n",
       "0         Southampton      Yes       1     0      1       0      0          0   \n",
       "1         Southampton      Yes       0     1      1       0      0          0   \n",
       "2         Southampton       No       1     0      1       0      0          0   \n",
       "3         Southampton       No       0     1      1       0      0          0   \n",
       "4         Southampton       No       1     0      1       0      0          0   \n",
       "\n",
       "   Queenstown  Southampton  \n",
       "0           0            1  \n",
       "1           0            1  \n",
       "2           0            1  \n",
       "3           0            1  \n",
       "4           0            1  "
      ],
      "text/html": "<div>\n<style scoped>\n    .dataframe tbody tr th:only-of-type {\n        vertical-align: middle;\n    }\n\n    .dataframe tbody tr th {\n        vertical-align: top;\n    }\n\n    .dataframe thead th {\n        text-align: right;\n    }\n</style>\n<table border=\"1\" class=\"dataframe\">\n  <thead>\n    <tr style=\"text-align: right;\">\n      <th></th>\n      <th>Passenger Class</th>\n      <th>Name</th>\n      <th>Sex</th>\n      <th>Age</th>\n      <th>No of Siblings or Spouses on Board</th>\n      <th>No of Parents or Children on Board</th>\n      <th>Ticket Number</th>\n      <th>Passenger Fare</th>\n      <th>Port of Embarkation</th>\n      <th>Survived</th>\n      <th>Female</th>\n      <th>Male</th>\n      <th>First</th>\n      <th>Second</th>\n      <th>Third</th>\n      <th>Cherbourg</th>\n      <th>Queenstown</th>\n      <th>Southampton</th>\n    </tr>\n  </thead>\n  <tbody>\n    <tr>\n      <th>0</th>\n      <td>First</td>\n      <td>Allen, Miss. Elisabeth Walton</td>\n      <td>Female</td>\n      <td>29.0</td>\n      <td>0.0</td>\n      <td>0.0</td>\n      <td>24160</td>\n      <td>211.3</td>\n      <td>Southampton</td>\n      <td>Yes</td>\n      <td>1</td>\n      <td>0</td>\n      <td>1</td>\n      <td>0</td>\n      <td>0</td>\n      <td>0</td>\n      <td>0</td>\n      <td>1</td>\n    </tr>\n    <tr>\n      <th>1</th>\n      <td>First</td>\n      <td>Allison, Master. Hudson Trevor</td>\n      <td>Male</td>\n      <td>0.9</td>\n      <td>1.0</td>\n      <td>2.0</td>\n      <td>113781</td>\n      <td>151.6</td>\n      <td>Southampton</td>\n      <td>Yes</td>\n      <td>0</td>\n      <td>1</td>\n      <td>1</td>\n      <td>0</td>\n      <td>0</td>\n      <td>0</td>\n      <td>0</td>\n      <td>1</td>\n    </tr>\n    <tr>\n      <th>2</th>\n      <td>First</td>\n      <td>Allison, Miss. Helen Loraine</td>\n      <td>Female</td>\n      <td>2.0</td>\n      <td>1.0</td>\n      <td>2.0</td>\n      <td>113781</td>\n      <td>151.6</td>\n      <td>Southampton</td>\n      <td>No</td>\n      <td>1</td>\n      <td>0</td>\n      <td>1</td>\n      <td>0</td>\n      <td>0</td>\n      <td>0</td>\n      <td>0</td>\n      <td>1</td>\n    </tr>\n    <tr>\n      <th>3</th>\n      <td>First</td>\n      <td>Allison, Mr. Hudson Joshua Creighton</td>\n      <td>Male</td>\n      <td>30.0</td>\n      <td>1.0</td>\n      <td>2.0</td>\n      <td>113781</td>\n      <td>151.6</td>\n      <td>Southampton</td>\n      <td>No</td>\n      <td>0</td>\n      <td>1</td>\n      <td>1</td>\n      <td>0</td>\n      <td>0</td>\n      <td>0</td>\n      <td>0</td>\n      <td>1</td>\n    </tr>\n    <tr>\n      <th>4</th>\n      <td>First</td>\n      <td>Allison, Mrs. Hudson J C (Bessie Waldo Daniels)</td>\n      <td>Female</td>\n      <td>25.0</td>\n      <td>1.0</td>\n      <td>2.0</td>\n      <td>113781</td>\n      <td>151.6</td>\n      <td>Southampton</td>\n      <td>No</td>\n      <td>1</td>\n      <td>0</td>\n      <td>1</td>\n      <td>0</td>\n      <td>0</td>\n      <td>0</td>\n      <td>0</td>\n      <td>1</td>\n    </tr>\n  </tbody>\n</table>\n</div>"
     },
     "metadata": {},
     "execution_count": 8
    }
   ],
   "source": [
    "seaTitanic = titanic.copy()\n",
    "seaTitanic.head()"
   ]
  },
  {
   "cell_type": "markdown",
   "metadata": {},
   "source": [
    "## Eliminacion de columnas que no son relevantes en el modelo"
   ]
  },
  {
   "cell_type": "code",
   "execution_count": 9,
   "metadata": {},
   "outputs": [
    {
     "output_type": "execute_result",
     "data": {
      "text/plain": [
       "    Age  No of Siblings or Spouses on Board  \\\n",
       "0  29.0                                 0.0   \n",
       "1   0.9                                 1.0   \n",
       "2   2.0                                 1.0   \n",
       "3  30.0                                 1.0   \n",
       "4  25.0                                 1.0   \n",
       "\n",
       "   No of Parents or Children on Board Survived  Female  Male  First  Second  \\\n",
       "0                                 0.0      Yes       1     0      1       0   \n",
       "1                                 2.0      Yes       0     1      1       0   \n",
       "2                                 2.0       No       1     0      1       0   \n",
       "3                                 2.0       No       0     1      1       0   \n",
       "4                                 2.0       No       1     0      1       0   \n",
       "\n",
       "   Third  Cherbourg  Queenstown  Southampton  \n",
       "0      0          0           0            1  \n",
       "1      0          0           0            1  \n",
       "2      0          0           0            1  \n",
       "3      0          0           0            1  \n",
       "4      0          0           0            1  "
      ],
      "text/html": "<div>\n<style scoped>\n    .dataframe tbody tr th:only-of-type {\n        vertical-align: middle;\n    }\n\n    .dataframe tbody tr th {\n        vertical-align: top;\n    }\n\n    .dataframe thead th {\n        text-align: right;\n    }\n</style>\n<table border=\"1\" class=\"dataframe\">\n  <thead>\n    <tr style=\"text-align: right;\">\n      <th></th>\n      <th>Age</th>\n      <th>No of Siblings or Spouses on Board</th>\n      <th>No of Parents or Children on Board</th>\n      <th>Survived</th>\n      <th>Female</th>\n      <th>Male</th>\n      <th>First</th>\n      <th>Second</th>\n      <th>Third</th>\n      <th>Cherbourg</th>\n      <th>Queenstown</th>\n      <th>Southampton</th>\n    </tr>\n  </thead>\n  <tbody>\n    <tr>\n      <th>0</th>\n      <td>29.0</td>\n      <td>0.0</td>\n      <td>0.0</td>\n      <td>Yes</td>\n      <td>1</td>\n      <td>0</td>\n      <td>1</td>\n      <td>0</td>\n      <td>0</td>\n      <td>0</td>\n      <td>0</td>\n      <td>1</td>\n    </tr>\n    <tr>\n      <th>1</th>\n      <td>0.9</td>\n      <td>1.0</td>\n      <td>2.0</td>\n      <td>Yes</td>\n      <td>0</td>\n      <td>1</td>\n      <td>1</td>\n      <td>0</td>\n      <td>0</td>\n      <td>0</td>\n      <td>0</td>\n      <td>1</td>\n    </tr>\n    <tr>\n      <th>2</th>\n      <td>2.0</td>\n      <td>1.0</td>\n      <td>2.0</td>\n      <td>No</td>\n      <td>1</td>\n      <td>0</td>\n      <td>1</td>\n      <td>0</td>\n      <td>0</td>\n      <td>0</td>\n      <td>0</td>\n      <td>1</td>\n    </tr>\n    <tr>\n      <th>3</th>\n      <td>30.0</td>\n      <td>1.0</td>\n      <td>2.0</td>\n      <td>No</td>\n      <td>0</td>\n      <td>1</td>\n      <td>1</td>\n      <td>0</td>\n      <td>0</td>\n      <td>0</td>\n      <td>0</td>\n      <td>1</td>\n    </tr>\n    <tr>\n      <th>4</th>\n      <td>25.0</td>\n      <td>1.0</td>\n      <td>2.0</td>\n      <td>No</td>\n      <td>1</td>\n      <td>0</td>\n      <td>1</td>\n      <td>0</td>\n      <td>0</td>\n      <td>0</td>\n      <td>0</td>\n      <td>1</td>\n    </tr>\n  </tbody>\n</table>\n</div>"
     },
     "metadata": {},
     "execution_count": 9
    }
   ],
   "source": [
    "titanic = titanic.drop(columns = [\"Passenger Class\",\"Name\",\"Sex\",\"Ticket Number\",\"Port of Embarkation\",\"Passenger Fare\"])\n",
    "titanic.head()"
   ]
  },
  {
   "cell_type": "markdown",
   "metadata": {},
   "source": [
    "# Mineria de datos"
   ]
  },
  {
   "cell_type": "markdown",
   "metadata": {},
   "source": [
    "## Proceso de entrenamiento"
   ]
  },
  {
   "cell_type": "code",
   "execution_count": 10,
   "metadata": {},
   "outputs": [],
   "source": [
    "# Se deja una matriz con las columnas predictorias\n",
    "x = titanic.drop(columns=[\"Survived\"])\n",
    "\n",
    "from sklearn.preprocessing import LabelEncoder \n",
    "#Se inicializa el LabelEncoder\n",
    "enc = LabelEncoder()\n",
    "#Se crea un diccionario para las transformaciones\n",
    "diccionarioEncoder = {}\n",
    "#Se realiza la codificacion\n",
    "enc.fit(titanic[\"Survived\"])\n",
    "#Obtencion de la codificacion\n",
    "diccionarioEncoder = enc.classes_\n",
    "# Un arreglo con la columna predecida\n",
    "y = enc.transform(titanic[\"Survived\"])"
   ]
  },
  {
   "cell_type": "code",
   "execution_count": 11,
   "metadata": {},
   "outputs": [],
   "source": [
    "#Importa la funcion train test split\n",
    "from sklearn.model_selection import train_test_split\n",
    "\n",
    "#Se obtienen 4 variables con la informacion necesaria para correr un modelo de prediccion, con la matriz de entrenamiento\n",
    "xTrain, xTest, yTrain, yTest = train_test_split(x,y,test_size = 0.3, random_state = 101)"
   ]
  },
  {
   "cell_type": "markdown",
   "metadata": {},
   "source": [
    "## Prediccion por Regresion Logistica"
   ]
  },
  {
   "cell_type": "code",
   "execution_count": 12,
   "metadata": {},
   "outputs": [
    {
     "output_type": "execute_result",
     "data": {
      "text/plain": [
       "LogisticRegression(max_iter=1000)"
      ]
     },
     "metadata": {},
     "execution_count": 12
    }
   ],
   "source": [
    "#Importa el el modelo de LogisticRegression\n",
    "from sklearn.linear_model import LogisticRegression\n",
    "\n",
    "logmodel = LogisticRegression(max_iter=1000)\n",
    "logmodel.fit(xTrain,yTrain)"
   ]
  },
  {
   "cell_type": "code",
   "execution_count": 13,
   "metadata": {},
   "outputs": [
    {
     "output_type": "execute_result",
     "data": {
      "text/plain": [
       "RandomForestClassifier(max_depth=5, n_estimators=50)"
      ]
     },
     "metadata": {},
     "execution_count": 13
    }
   ],
   "source": [
    "from sklearn.ensemble import RandomForestClassifier\n",
    "model = RandomForestClassifier(n_estimators=50, max_depth=5)\n",
    "model.fit(xTrain, yTrain)"
   ]
  },
  {
   "cell_type": "code",
   "execution_count": 18,
   "metadata": {},
   "outputs": [
    {
     "output_type": "stream",
     "name": "stdout",
     "text": [
      "Detected RandomForestClassifier model: Changing class type to RandomForestClassifierExplainer...\n",
      "Note: model_output=='probability', so assuming that raw shap output of RandomForestClassifier is in probability space...\n",
      "Generating self.shap_explainer = shap.TreeExplainer(model)\n",
      "Building ExplainerDashboard..\n",
      "Warning: calculating shap interaction values can be slow! Pass shap_interaction=False to remove interactions tab.\n",
      "Generating layout...\n",
      "Calculating shap values...\n",
      "Calculating dependencies...\n",
      "Calculating permutation importances (if slow, try setting n_jobs parameter)...\n",
      "Calculating predictions...\n",
      "Calculating roc auc curves...\n",
      "Calculating prediction probabilities...\n",
      "Calculating liftcurve_dfs...\n",
      "Calculating pred_percentiles...\n",
      "Calculating confusion matrices...\n",
      "Calculating classification_dfs...\n",
      "Calculating pr auc curves...\n",
      "Calculating metrics...\n",
      "Calculating shap interaction values... (this may take a while)\n",
      "Reminder: TreeShap computational complexity is O(TLD^2), where T is the number of trees, L is the maximum number of leaves in any tree and D the maximal depth of any tree. So reducing these will speed up the calculation.\n",
      "Calculating ShadowDecTree for each individual decision tree...\n",
      "Reminder: you can store the explainer (including calculated dependencies) with explainer.dump('explainer.joblib') and reload with e.g. ClassifierExplainer.from_file('explainer.joblib')\n",
      "Registering callbacks...\n",
      "Starting ExplainerDashboard inline (terminate it with ExplainerDashboard.terminate(8050))\n"
     ]
    }
   ],
   "source": [
    "from explainerdashboard import ClassifierExplainer, ExplainerDashboard\n",
    "explainer = ClassifierExplainer(model, xTest, yTest, cats=x.columns.values, labels=diccionarioEncoder.tolist())\n",
    "ExplainerDashboard(explainer, mode='jupyterlab').run()"
   ]
  },
  {
   "cell_type": "code",
   "execution_count": 16,
   "metadata": {},
   "outputs": [
    {
     "output_type": "stream",
     "name": "stdout",
     "text": [
      "              precision    recall  f1-score   support\n\n           0       0.85      0.85      0.85       247\n           1       0.74      0.74      0.74       145\n\n    accuracy                           0.81       392\n   macro avg       0.80      0.80      0.80       392\nweighted avg       0.81      0.81      0.81       392\n\n"
     ]
    }
   ],
   "source": [
    "#Apply model\n",
    "predictions = logmodel.predict(xTest)\n",
    "\n",
    "from sklearn.metrics import classification_report\n",
    "\n",
    "#Matriz de precision (accuracy)\n",
    "print(classification_report(yTest,predictions))"
   ]
  }
 ],
 "metadata": {
  "kernelspec": {
   "name": "python385jvsc74a57bd0b3ba2566441a7c06988d0923437866b63cedc61552a5af99d1f4fb67d367b25f",
   "display_name": "Python 3.8.5 64-bit ('base': conda)"
  },
  "language_info": {
   "codemirror_mode": {
    "name": "ipython",
    "version": 3
   },
   "file_extension": ".py",
   "mimetype": "text/x-python",
   "name": "python",
   "nbconvert_exporter": "python",
   "pygments_lexer": "ipython3",
   "version": "3.8.5"
  }
 },
 "nbformat": 4,
 "nbformat_minor": 2
}