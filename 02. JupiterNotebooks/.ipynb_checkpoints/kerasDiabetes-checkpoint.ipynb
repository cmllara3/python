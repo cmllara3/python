{
 "cells": [
  {
   "cell_type": "markdown",
   "metadata": {},
   "source": [
    "# Keras Deep Learning - Diabetes"
   ]
  },
  {
   "cell_type": "markdown",
   "metadata": {},
   "source": [
    "## Importación de librerias"
   ]
  },
  {
   "cell_type": "markdown",
   "metadata": {},
   "source": [
    "<b>Paso 0. </b> Importación de librerias"
   ]
  },
  {
   "cell_type": "code",
   "execution_count": 1,
   "metadata": {},
   "outputs": [],
   "source": [
    "#Importing libraries\n",
    "import pandas as pd\n",
    "import numpy as np\n",
    "import matplotlib.pyplot as plt\n",
    "from datetime import datetime"
   ]
  },
  {
   "cell_type": "markdown",
   "metadata": {},
   "source": [
    "## ETL"
   ]
  },
  {
   "cell_type": "markdown",
   "metadata": {},
   "source": [
    "<b>Paso 1.</b> Cargue de datos"
   ]
  },
  {
   "cell_type": "code",
   "execution_count": 2,
   "metadata": {},
   "outputs": [
    {
     "name": "stdout",
     "output_type": "stream",
     "text": [
      "Archivo diabetes cargado:  (768, 9)\n",
      "Pregnancies                   int64\n",
      "Glucose                       int64\n",
      "BloodPressure                 int64\n",
      "SkinThickness                 int64\n",
      "Insulin                       int64\n",
      "BMI                         float64\n",
      "DiabetesPedigreeFunction    float64\n",
      "Age                           int64\n",
      "Outcome                       int64\n",
      "dtype: object\n"
     ]
    }
   ],
   "source": [
    "#Lectura CSV Diabetes\n",
    "diabetes = pd.read_csv(\"../01. Flat Files/diabetes.csv\",delimiter=\",\")\n",
    "print(\"Archivo diabetes cargado: \",diabetes.shape)\n",
    "print(diabetes.dtypes)"
   ]
  },
  {
   "cell_type": "markdown",
   "metadata": {},
   "source": [
    "<b>Paso 2.</b> Verificacion de nulos en el DataFrame"
   ]
  },
  {
   "cell_type": "code",
   "execution_count": 3,
   "metadata": {},
   "outputs": [
    {
     "data": {
      "text/plain": [
       "Pregnancies                 768\n",
       "Glucose                     768\n",
       "BloodPressure               768\n",
       "SkinThickness               768\n",
       "Insulin                     768\n",
       "BMI                         768\n",
       "DiabetesPedigreeFunction    768\n",
       "Age                         768\n",
       "Outcome                     768\n",
       "dtype: int64"
      ]
     },
     "execution_count": 3,
     "metadata": {},
     "output_type": "execute_result"
    }
   ],
   "source": [
    "#Funcion para determinar las filas nulas\n",
    "diabetes.count()"
   ]
  },
  {
   "cell_type": "markdown",
   "metadata": {},
   "source": [
    "No se encuentra ningun registro con nulos en el Data Frame"
   ]
  },
  {
   "cell_type": "markdown",
   "metadata": {},
   "source": [
    "<b>Paso 3.</b> Cambio de nombre de las columnas"
   ]
  },
  {
   "cell_type": "code",
   "execution_count": 4,
   "metadata": {},
   "outputs": [
    {
     "data": {
      "text/html": [
       "<div>\n",
       "<style scoped>\n",
       "    .dataframe tbody tr th:only-of-type {\n",
       "        vertical-align: middle;\n",
       "    }\n",
       "\n",
       "    .dataframe tbody tr th {\n",
       "        vertical-align: top;\n",
       "    }\n",
       "\n",
       "    .dataframe thead th {\n",
       "        text-align: right;\n",
       "    }\n",
       "</style>\n",
       "<table border=\"1\" class=\"dataframe\">\n",
       "  <thead>\n",
       "    <tr style=\"text-align: right;\">\n",
       "      <th></th>\n",
       "      <th>pregnancies</th>\n",
       "      <th>glucose</th>\n",
       "      <th>bloodPressure</th>\n",
       "      <th>skinThickness</th>\n",
       "      <th>insulin</th>\n",
       "      <th>bmi</th>\n",
       "      <th>diabetesPedigreeFunction</th>\n",
       "      <th>age</th>\n",
       "      <th>outcome</th>\n",
       "    </tr>\n",
       "  </thead>\n",
       "  <tbody>\n",
       "    <tr>\n",
       "      <th>0</th>\n",
       "      <td>6</td>\n",
       "      <td>148</td>\n",
       "      <td>72</td>\n",
       "      <td>35</td>\n",
       "      <td>0</td>\n",
       "      <td>33.6</td>\n",
       "      <td>0.627</td>\n",
       "      <td>50</td>\n",
       "      <td>1</td>\n",
       "    </tr>\n",
       "    <tr>\n",
       "      <th>1</th>\n",
       "      <td>1</td>\n",
       "      <td>85</td>\n",
       "      <td>66</td>\n",
       "      <td>29</td>\n",
       "      <td>0</td>\n",
       "      <td>26.6</td>\n",
       "      <td>0.351</td>\n",
       "      <td>31</td>\n",
       "      <td>0</td>\n",
       "    </tr>\n",
       "  </tbody>\n",
       "</table>\n",
       "</div>"
      ],
      "text/plain": [
       "   pregnancies  glucose  bloodPressure  skinThickness  insulin   bmi  \\\n",
       "0            6      148             72             35        0  33.6   \n",
       "1            1       85             66             29        0  26.6   \n",
       "\n",
       "   diabetesPedigreeFunction  age  outcome  \n",
       "0                     0.627   50        1  \n",
       "1                     0.351   31        0  "
      ]
     },
     "execution_count": 4,
     "metadata": {},
     "output_type": "execute_result"
    }
   ],
   "source": [
    "diabetes = diabetes.rename(columns={'Pregnancies':'pregnancies','Glucose':'glucose','BloodPressure':'bloodPressure',\n",
    "                        'SkinThickness':'skinThickness','Insulin':'insulin','BMI':'bmi',\n",
    "                         'DiabetesPedigreeFunction':'diabetesPedigreeFunction','Age':'age','Outcome':'outcome'})\n",
    "diabetes.head(2)"
   ]
  },
  {
   "cell_type": "markdown",
   "metadata": {},
   "source": [
    "## Descripción de las variables"
   ]
  },
  {
   "cell_type": "markdown",
   "metadata": {},
   "source": [
    "<b>Paso 4.</b> Se realizaran graficos para determinar el comportamiento de cada una de las variables excluyendo la variable a predecir"
   ]
  },
  {
   "cell_type": "code",
   "execution_count": 5,
   "metadata": {},
   "outputs": [],
   "source": [
    "#Funcion encargada de pintar en un subplot el histograma de las variables\n",
    "def histogramaVariable (ax,nombreVariable,arregloDatos):\n",
    "    \n",
    "    ax.title.set_text(\"Var: \"+nombreVariable)\n",
    "    ax.hist(arregloDatos,bins=10)\n",
    "    ax.grid(True)"
   ]
  },
  {
   "cell_type": "code",
   "execution_count": 6,
   "metadata": {},
   "outputs": [
    {
     "data": {
      "image/png": "[encoded data removed]",
      "text/plain": [
       "<Figure size 1440x720 with 8 Axes>"
      ]
     },
     "metadata": {
      "needs_background": "light"
     },
     "output_type": "display_data"
    }
   ],
   "source": [
    "#Particion del grafico en 2 filas y 4 columnas\n",
    "figure,axes = plt.subplots(nrows=2,ncols=4,figsize=(20,10))\n",
    "figure.tight_layout(pad=3.0)\n",
    "\n",
    "#Posicion variable\n",
    "posicion = 0\n",
    "\n",
    "#Se realiza la actualizacion de cada uno de los subplots\n",
    "for i in range(2):\n",
    "    for j in range(4):\n",
    "        ax = axes[i][j]\n",
    "        nombreVariable = diabetes.columns[posicion]\n",
    "        arregloDatos = diabetes[nombreVariable]\n",
    "        histogramaVariable(ax,nombreVariable,arregloDatos)\n",
    "        posicion = posicion + 1\n",
    "\n",
    "#Se salva el grafico como una imagen\n",
    "plt.savefig(\"../01. Flat Files/Ejercicio4Distribucion.png\")\n",
    "        \n",
    "#Se muestra el plot\n",
    "plt.show()"
   ]
  },
  {
   "cell_type": "markdown",
   "metadata": {},
   "source": [
    "Como se puede evidenciar las diferentes variables no tienen un comportamiento distribuido a lo largo de sus posibles valores. Por lo cual en la ejecucion del modelo de Keras se realizara una normalizacion de las diferentes variables"
   ]
  },
  {
   "cell_type": "markdown",
   "metadata": {},
   "source": [
    "<b>Paso 5.</b> Matriz de correlación de las variables"
   ]
  },
  {
   "cell_type": "code",
   "execution_count": 7,
   "metadata": {},
   "outputs": [
    {
     "data": {
      "text/html": [
       "<div>\n",
       "<style scoped>\n",
       "    .dataframe tbody tr th:only-of-type {\n",
       "        vertical-align: middle;\n",
       "    }\n",
       "\n",
       "    .dataframe tbody tr th {\n",
       "        vertical-align: top;\n",
       "    }\n",
       "\n",
       "    .dataframe thead th {\n",
       "        text-align: right;\n",
       "    }\n",
       "</style>\n",
       "<table border=\"1\" class=\"dataframe\">\n",
       "  <thead>\n",
       "    <tr style=\"text-align: right;\">\n",
       "      <th></th>\n",
       "      <th>pregnancies</th>\n",
       "      <th>glucose</th>\n",
       "      <th>bloodPressure</th>\n",
       "      <th>skinThickness</th>\n",
       "      <th>insulin</th>\n",
       "      <th>bmi</th>\n",
       "      <th>diabetesPedigreeFunction</th>\n",
       "      <th>age</th>\n",
       "    </tr>\n",
       "  </thead>\n",
       "  <tbody>\n",
       "    <tr>\n",
       "      <th>pregnancies</th>\n",
       "      <td>1.000000</td>\n",
       "      <td>0.129459</td>\n",
       "      <td>0.141282</td>\n",
       "      <td>-0.081672</td>\n",
       "      <td>-0.073535</td>\n",
       "      <td>0.017683</td>\n",
       "      <td>-0.033523</td>\n",
       "      <td>0.544341</td>\n",
       "    </tr>\n",
       "    <tr>\n",
       "      <th>glucose</th>\n",
       "      <td>0.129459</td>\n",
       "      <td>1.000000</td>\n",
       "      <td>0.152590</td>\n",
       "      <td>0.057328</td>\n",
       "      <td>0.331357</td>\n",
       "      <td>0.221071</td>\n",
       "      <td>0.137337</td>\n",
       "      <td>0.263514</td>\n",
       "    </tr>\n",
       "    <tr>\n",
       "      <th>bloodPressure</th>\n",
       "      <td>0.141282</td>\n",
       "      <td>0.152590</td>\n",
       "      <td>1.000000</td>\n",
       "      <td>0.207371</td>\n",
       "      <td>0.088933</td>\n",
       "      <td>0.281805</td>\n",
       "      <td>0.041265</td>\n",
       "      <td>0.239528</td>\n",
       "    </tr>\n",
       "    <tr>\n",
       "      <th>skinThickness</th>\n",
       "      <td>-0.081672</td>\n",
       "      <td>0.057328</td>\n",
       "      <td>0.207371</td>\n",
       "      <td>1.000000</td>\n",
       "      <td>0.436783</td>\n",
       "      <td>0.392573</td>\n",
       "      <td>0.183928</td>\n",
       "      <td>-0.113970</td>\n",
       "    </tr>\n",
       "    <tr>\n",
       "      <th>insulin</th>\n",
       "      <td>-0.073535</td>\n",
       "      <td>0.331357</td>\n",
       "      <td>0.088933</td>\n",
       "      <td>0.436783</td>\n",
       "      <td>1.000000</td>\n",
       "      <td>0.197859</td>\n",
       "      <td>0.185071</td>\n",
       "      <td>-0.042163</td>\n",
       "    </tr>\n",
       "    <tr>\n",
       "      <th>bmi</th>\n",
       "      <td>0.017683</td>\n",
       "      <td>0.221071</td>\n",
       "      <td>0.281805</td>\n",
       "      <td>0.392573</td>\n",
       "      <td>0.197859</td>\n",
       "      <td>1.000000</td>\n",
       "      <td>0.140647</td>\n",
       "      <td>0.036242</td>\n",
       "    </tr>\n",
       "    <tr>\n",
       "      <th>diabetesPedigreeFunction</th>\n",
       "      <td>-0.033523</td>\n",
       "      <td>0.137337</td>\n",
       "      <td>0.041265</td>\n",
       "      <td>0.183928</td>\n",
       "      <td>0.185071</td>\n",
       "      <td>0.140647</td>\n",
       "      <td>1.000000</td>\n",
       "      <td>0.033561</td>\n",
       "    </tr>\n",
       "    <tr>\n",
       "      <th>age</th>\n",
       "      <td>0.544341</td>\n",
       "      <td>0.263514</td>\n",
       "      <td>0.239528</td>\n",
       "      <td>-0.113970</td>\n",
       "      <td>-0.042163</td>\n",
       "      <td>0.036242</td>\n",
       "      <td>0.033561</td>\n",
       "      <td>1.000000</td>\n",
       "    </tr>\n",
       "  </tbody>\n",
       "</table>\n",
       "</div>"
      ],
      "text/plain": [
       "                          pregnancies   glucose  bloodPressure  skinThickness  \\\n",
       "pregnancies                  1.000000  0.129459       0.141282      -0.081672   \n",
       "glucose                      0.129459  1.000000       0.152590       0.057328   \n",
       "bloodPressure                0.141282  0.152590       1.000000       0.207371   \n",
       "skinThickness               -0.081672  0.057328       0.207371       1.000000   \n",
       "insulin                     -0.073535  0.331357       0.088933       0.436783   \n",
       "bmi                          0.017683  0.221071       0.281805       0.392573   \n",
       "diabetesPedigreeFunction    -0.033523  0.137337       0.041265       0.183928   \n",
       "age                          0.544341  0.263514       0.239528      -0.113970   \n",
       "\n",
       "                           insulin       bmi  diabetesPedigreeFunction  \\\n",
       "pregnancies              -0.073535  0.017683                 -0.033523   \n",
       "glucose                   0.331357  0.221071                  0.137337   \n",
       "bloodPressure             0.088933  0.281805                  0.041265   \n",
       "skinThickness             0.436783  0.392573                  0.183928   \n",
       "insulin                   1.000000  0.197859                  0.185071   \n",
       "bmi                       0.197859  1.000000                  0.140647   \n",
       "diabetesPedigreeFunction  0.185071  0.140647                  1.000000   \n",
       "age                      -0.042163  0.036242                  0.033561   \n",
       "\n",
       "                               age  \n",
       "pregnancies               0.544341  \n",
       "glucose                   0.263514  \n",
       "bloodPressure             0.239528  \n",
       "skinThickness            -0.113970  \n",
       "insulin                  -0.042163  \n",
       "bmi                       0.036242  \n",
       "diabetesPedigreeFunction  0.033561  \n",
       "age                       1.000000  "
      ]
     },
     "execution_count": 7,
     "metadata": {},
     "output_type": "execute_result"
    }
   ],
   "source": [
    "#Se exporta el DF en CSV\n",
    "diabetes.drop(columns={'outcome'}).corr().to_csv(\"../01. Flat Files/Ejercicio4Correlacion.csv\",index=False)\n",
    "\n",
    "#Se elimina la variable outcome que es la varaible a predecir\n",
    "diabetes.drop(columns={'outcome'}).corr()"
   ]
  },
  {
   "cell_type": "markdown",
   "metadata": {},
   "source": [
    "Como se puede ver en la matriz, la correlación entre las variables no es significativa. Por lo cual se podria afirmar que son variables independientes, y no se eliminara ninguna para la ejecucion del modelo"
   ]
  },
  {
   "cell_type": "markdown",
   "metadata": {},
   "source": [
    "## Keras"
   ]
  },
  {
   "cell_type": "markdown",
   "metadata": {},
   "source": [
    "<b>Paso 5.</b> Se extrae las variables predictorias y el campo a predecir"
   ]
  },
  {
   "cell_type": "code",
   "execution_count": 8,
   "metadata": {},
   "outputs": [
    {
     "name": "stdout",
     "output_type": "stream",
     "text": [
      "Registros X:  (768, 8)\n",
      "Registros Y:  (768,)\n"
     ]
    }
   ],
   "source": [
    "X = diabetes.drop(columns={'outcome'})\n",
    "Y = diabetes['outcome']\n",
    "print('Registros X: ',X.shape)\n",
    "print('Registros Y: ',Y.shape)"
   ]
  },
  {
   "cell_type": "markdown",
   "metadata": {},
   "source": [
    "<b>Paso 6.</b> Importacion de librerias de Keras"
   ]
  },
  {
   "cell_type": "code",
   "execution_count": 9,
   "metadata": {},
   "outputs": [],
   "source": [
    "import tensorflow.keras as keras\n",
    "from tensorflow.keras.models import Sequential\n",
    "from tensorflow.keras.layers import Dense\n",
    "from tensorflow.keras.optimizers import Adam\n",
    "from sklearn.pipeline import Pipeline\n",
    "from sklearn.preprocessing import Normalizer"
   ]
  },
  {
   "cell_type": "markdown",
   "metadata": {},
   "source": [
    "<b>Paso 7.</b> Extraccion de los datos de testeo y prueba"
   ]
  },
  {
   "cell_type": "code",
   "execution_count": 10,
   "metadata": {},
   "outputs": [
    {
     "name": "stdout",
     "output_type": "stream",
     "text": [
      "Registros X train:  (537, 8)\n",
      "Registros Y train:  (537,)\n",
      "Registros X test:  (231, 8)\n",
      "Registros Y test:  (231,)\n"
     ]
    }
   ],
   "source": [
    "from sklearn.model_selection import train_test_split\n",
    "\n",
    "#Se separan los datos, los datos de prueba seran el 30% de los datos originales\n",
    "Xtrain,Xtest,Ytrain,Ytest=train_test_split(X,Y,test_size=0.3,random_state=42)\n",
    "\n",
    "print('Registros X train: ',Xtrain.shape)\n",
    "print('Registros Y train: ',Ytrain.shape)\n",
    "print('Registros X test: ',Xtest.shape)\n",
    "print('Registros Y test: ',Ytest.shape)"
   ]
  },
  {
   "cell_type": "markdown",
   "metadata": {},
   "source": [
    "<b>Paso 8.</b> Funcion que permite construir un modelo secuencial de Keras"
   ]
  },
  {
   "cell_type": "code",
   "execution_count": 11,
   "metadata": {},
   "outputs": [],
   "source": [
    "#Funcion que retorna el modelo de Keras ya testeado\n",
    "def modeloKeras (cantCapas,activadores,Xtrain,Ytrain,imputVaraiblesInicial,restoPorCapa):\n",
    "        \n",
    "        #Cantidad de varaibles\n",
    "        shapeX = Xtrain.shape[1]\n",
    "        \n",
    "        #Se inicializa el modelo \n",
    "        modelKeras = Sequential()\n",
    "        \n",
    "        #Se inicializa las variables restantes en el imput de variables inicial\n",
    "        variablesRestantes = imputVaraiblesInicial\n",
    "           \n",
    "        #Arreglo para insercion de capas intermedias\n",
    "        for i in range(cantCapas):\n",
    "            #Si es la primera capa\n",
    "            if (i==0):\n",
    "                print(imputVaraiblesInicial)\n",
    "                modelKeras.add(Dense(imputVaraiblesInicial,input_shape=(shapeX,),activation=activadores[i]))\n",
    "            #Si es una capa intermedia\n",
    "            elif(i<(cantCapas-1)):\n",
    "                print(variablesRestantes-restoPorCapa)\n",
    "                modelKeras.add(Dense((variablesRestantes-restoPorCapa),activation=activadores[i]))\n",
    "                #Se actualiza el total de variables restantes\n",
    "                variablesRestantes = variablesRestantes - restoPorCapa\n",
    "            #El resto de los casos\n",
    "            else:\n",
    "                print(1)\n",
    "                modelKeras.add(Dense(1,activation=activadores[i]))\n",
    "        \n",
    "        #Se complia el modelo con el optimizador Adam (Learning Rate de 0.05) y metrica del Accuracy\n",
    "        modelKeras.compile(optimizer=Adam(lr=0.05),loss='binary_crossentropy',metrics=['accuracy'])\n",
    "        \n",
    "        #Se normaliza la matriz X\n",
    "        XtrainNormalizer = np.asarray(Normalizer().transform(Xtrain))\n",
    "        \n",
    "        #Se convierte en array la variable  a predecir\n",
    "        Ytrain = np.asarray(Ytrain)\n",
    "        \n",
    "        #Se entrena el modelo con los datos de prueba. Con 200 iteraciones sobre y sin print en pantalla\n",
    "        modelKeras.fit(XtrainNormalizer,Ytrain,epochs=200,verbose=0)\n",
    "        \n",
    "        #Se retorna el modelo\n",
    "        return modelKeras"
   ]
  },
  {
   "cell_type": "markdown",
   "metadata": {},
   "source": [
    "<b>Paso 9.</b> Funcion que permite la evaluacion del modelo de keras"
   ]
  },
  {
   "cell_type": "code",
   "execution_count": 12,
   "metadata": {},
   "outputs": [],
   "source": [
    "def evaluacionKeras(modelo,Xtest,Ytest):\n",
    "    #Se normaliza la matriz X\n",
    "    XtestNormalizer = np.asarray(Normalizer().transform(Xtest))\n",
    "        \n",
    "    #Se convierte en array la variable  a predecir\n",
    "    Ytest = np.asarray(Ytest)\n",
    "    \n",
    "    return modelo.evaluate(XtestNormalizer,Ytest,verbose=0)"
   ]
  },
  {
   "cell_type": "markdown",
   "metadata": {},
   "source": [
    "<b>Paso 10.</b> Se realiza una prueba bajo una red neuronal de 2 capas, con la misma funcion de activacion inicial y cambiando la cantidad de neuronas de imput"
   ]
  },
  {
   "cell_type": "code",
   "execution_count": 13,
   "metadata": {},
   "outputs": [
    {
     "name": "stdout",
     "output_type": "stream",
     "text": [
      "Cantidad imputs =  1\n",
      "1\n",
      "1\n",
      "Cantidad imputs =  2\n",
      "2\n",
      "1\n",
      "Cantidad imputs =  3\n",
      "3\n",
      "1\n",
      "Cantidad imputs =  4\n",
      "4\n",
      "1\n",
      "Cantidad imputs =  5\n",
      "5\n",
      "1\n",
      "Cantidad imputs =  6\n",
      "6\n",
      "1\n",
      "Cantidad imputs =  7\n",
      "7\n",
      "1\n",
      "Cantidad imputs =  8\n",
      "8\n",
      "1\n"
     ]
    },
    {
     "data": {
      "text/html": [
       "<div>\n",
       "<style scoped>\n",
       "    .dataframe tbody tr th:only-of-type {\n",
       "        vertical-align: middle;\n",
       "    }\n",
       "\n",
       "    .dataframe tbody tr th {\n",
       "        vertical-align: top;\n",
       "    }\n",
       "\n",
       "    .dataframe thead th {\n",
       "        text-align: right;\n",
       "    }\n",
       "</style>\n",
       "<table border=\"1\" class=\"dataframe\">\n",
       "  <thead>\n",
       "    <tr style=\"text-align: right;\">\n",
       "      <th></th>\n",
       "      <th>numeroImputs</th>\n",
       "      <th>loss</th>\n",
       "      <th>accuracy</th>\n",
       "      <th>secEjecucion</th>\n",
       "    </tr>\n",
       "  </thead>\n",
       "  <tbody>\n",
       "    <tr>\n",
       "      <th>4</th>\n",
       "      <td>5</td>\n",
       "      <td>0.582065</td>\n",
       "      <td>0.744589</td>\n",
       "      <td>6</td>\n",
       "    </tr>\n",
       "    <tr>\n",
       "      <th>3</th>\n",
       "      <td>4</td>\n",
       "      <td>0.562994</td>\n",
       "      <td>0.731602</td>\n",
       "      <td>6</td>\n",
       "    </tr>\n",
       "    <tr>\n",
       "      <th>2</th>\n",
       "      <td>3</td>\n",
       "      <td>0.563667</td>\n",
       "      <td>0.727273</td>\n",
       "      <td>7</td>\n",
       "    </tr>\n",
       "    <tr>\n",
       "      <th>6</th>\n",
       "      <td>7</td>\n",
       "      <td>0.589984</td>\n",
       "      <td>0.709957</td>\n",
       "      <td>7</td>\n",
       "    </tr>\n",
       "    <tr>\n",
       "      <th>5</th>\n",
       "      <td>6</td>\n",
       "      <td>0.598285</td>\n",
       "      <td>0.696970</td>\n",
       "      <td>6</td>\n",
       "    </tr>\n",
       "    <tr>\n",
       "      <th>0</th>\n",
       "      <td>1</td>\n",
       "      <td>0.585184</td>\n",
       "      <td>0.688312</td>\n",
       "      <td>9</td>\n",
       "    </tr>\n",
       "    <tr>\n",
       "      <th>7</th>\n",
       "      <td>8</td>\n",
       "      <td>0.606371</td>\n",
       "      <td>0.679654</td>\n",
       "      <td>6</td>\n",
       "    </tr>\n",
       "    <tr>\n",
       "      <th>1</th>\n",
       "      <td>2</td>\n",
       "      <td>0.598738</td>\n",
       "      <td>0.666667</td>\n",
       "      <td>8</td>\n",
       "    </tr>\n",
       "  </tbody>\n",
       "</table>\n",
       "</div>"
      ],
      "text/plain": [
       "   numeroImputs      loss  accuracy  secEjecucion\n",
       "4             5  0.582065  0.744589             6\n",
       "3             4  0.562994  0.731602             6\n",
       "2             3  0.563667  0.727273             7\n",
       "6             7  0.589984  0.709957             7\n",
       "5             6  0.598285  0.696970             6\n",
       "0             1  0.585184  0.688312             9\n",
       "7             8  0.606371  0.679654             6\n",
       "1             2  0.598738  0.666667             8"
      ]
     },
     "execution_count": 13,
     "metadata": {},
     "output_type": "execute_result"
    }
   ],
   "source": [
    "#Variable de resultado\n",
    "resultado = []\n",
    "\n",
    "for i in range(1,9):\n",
    "    print(\"Cantidad imputs = \",i)\n",
    "    #Primera capa para probar la funcion de activación y la segunda capa con funcion de clasificación binaria\n",
    "    activadores=['tanh','sigmoid']\n",
    "    #Fecha de inicio de ejecucion del modelo\n",
    "    inicioEjecucion = datetime.now()\n",
    "    #Se ejecuta  el modelo\n",
    "    model = modeloKeras(2,activadores,Xtrain,Ytrain,i,1)\n",
    "    #Se obtiene la información de ejecucion del modelo\n",
    "    modelResult = evaluacionKeras(model,Xtest,Ytest)\n",
    "    #Fecha de fin de ejecucion del modelo\n",
    "    finEjecucion = datetime.now()\n",
    "    #Se insertan los registros dentro del vector de resultado\n",
    "    resultado.append([i,modelResult[0],modelResult[1],(finEjecucion-inicioEjecucion).seconds])\n",
    "    \n",
    "resultado = pd.DataFrame(resultado,columns=['numeroImputs','loss','accuracy','secEjecucion'])\n",
    "resultado = resultado.sort_values(['accuracy'],ascending=False)\n",
    "\n",
    "#Se exporta el DF en CSV\n",
    "resultado.to_csv(\"../01. Flat Files/Ejercicio4NumeroImputs.csv\",index=False)\n",
    "resultado"
   ]
  },
  {
   "cell_type": "markdown",
   "metadata": {},
   "source": [
    "A partir de los resultados obtenidos para este caso se utilizara un imput de variables de 5. Teniendo en cuenta que cada vez que se evalue la red este resultado del accuracy puede cambiar"
   ]
  },
  {
   "cell_type": "markdown",
   "metadata": {},
   "source": [
    "<b>Paso 10.</b> Selección de la cantidad de layers con una cantidad de 5 neuronas obtenidas en el paso anterior y disminuyendo en 1 la cantidad de neuroas de layer a layer. Con una funcion de actiavación unica"
   ]
  },
  {
   "cell_type": "code",
   "execution_count": 17,
   "metadata": {},
   "outputs": [
    {
     "name": "stdout",
     "output_type": "stream",
     "text": [
      "Cantidad layers =  2  Activadores =  ['tanh', 'sigmoid']\n",
      "5\n",
      "1\n",
      "Cantidad layers =  3  Activadores =  ['tanh', 'tanh', 'sigmoid']\n",
      "5\n",
      "4\n",
      "1\n",
      "Cantidad layers =  4  Activadores =  ['tanh', 'tanh', 'tanh', 'sigmoid']\n",
      "5\n",
      "4\n",
      "3\n",
      "1\n",
      "Cantidad layers =  5  Activadores =  ['tanh', 'tanh', 'tanh', 'tanh', 'sigmoid']\n",
      "5\n",
      "4\n",
      "3\n",
      "2\n",
      "1\n"
     ]
    },
    {
     "data": {
      "text/html": [
       "<div>\n",
       "<style scoped>\n",
       "    .dataframe tbody tr th:only-of-type {\n",
       "        vertical-align: middle;\n",
       "    }\n",
       "\n",
       "    .dataframe tbody tr th {\n",
       "        vertical-align: top;\n",
       "    }\n",
       "\n",
       "    .dataframe thead th {\n",
       "        text-align: right;\n",
       "    }\n",
       "</style>\n",
       "<table border=\"1\" class=\"dataframe\">\n",
       "  <thead>\n",
       "    <tr style=\"text-align: right;\">\n",
       "      <th></th>\n",
       "      <th>layers</th>\n",
       "      <th>loss</th>\n",
       "      <th>accuracy</th>\n",
       "      <th>secEjecucion</th>\n",
       "    </tr>\n",
       "  </thead>\n",
       "  <tbody>\n",
       "    <tr>\n",
       "      <th>0</th>\n",
       "      <td>2</td>\n",
       "      <td>0.603738</td>\n",
       "      <td>0.705628</td>\n",
       "      <td>8</td>\n",
       "    </tr>\n",
       "    <tr>\n",
       "      <th>1</th>\n",
       "      <td>3</td>\n",
       "      <td>0.581118</td>\n",
       "      <td>0.705628</td>\n",
       "      <td>8</td>\n",
       "    </tr>\n",
       "    <tr>\n",
       "      <th>2</th>\n",
       "      <td>4</td>\n",
       "      <td>0.583773</td>\n",
       "      <td>0.701299</td>\n",
       "      <td>6</td>\n",
       "    </tr>\n",
       "    <tr>\n",
       "      <th>3</th>\n",
       "      <td>5</td>\n",
       "      <td>0.608755</td>\n",
       "      <td>0.653680</td>\n",
       "      <td>7</td>\n",
       "    </tr>\n",
       "  </tbody>\n",
       "</table>\n",
       "</div>"
      ],
      "text/plain": [
       "   layers      loss  accuracy  secEjecucion\n",
       "0       2  0.603738  0.705628             8\n",
       "1       3  0.581118  0.705628             8\n",
       "2       4  0.583773  0.701299             6\n",
       "3       5  0.608755  0.653680             7"
      ]
     },
     "execution_count": 17,
     "metadata": {},
     "output_type": "execute_result"
    }
   ],
   "source": [
    "#Variable de resultado\n",
    "resultado = []\n",
    "\n",
    "for i in range(2,6):\n",
    "    activadores = []\n",
    "    for j in range(1,i):\n",
    "        activadores.append('tanh') \n",
    "    activadores.append('sigmoid')\n",
    "    print(\"Cantidad layers = \",i,\" Activadores = \",activadores)\n",
    "    #Fecha de inicio de ejecucion del modelo\n",
    "    inicioEjecucion = datetime.now()\n",
    "    #Se ejecuta  el modelo\n",
    "    model = modeloKeras(i,activadores,Xtrain,Ytrain,5,1)\n",
    "    #Fecha de fin de ejecucion del modelo\n",
    "    finEjecucion = datetime.now()\n",
    "    #Se obtiene la información de ejecucion del modelo\n",
    "    modelResult = evaluacionKeras(model,Xtest,Ytest)\n",
    "    #Se insertan los registros dentro del vector de resultado\n",
    "    resultado.append([i,modelResult[0],modelResult[1],(finEjecucion-inicioEjecucion).seconds])\n",
    "\n",
    "resultado = pd.DataFrame(resultado,columns=['layers','loss','accuracy','secEjecucion'])\n",
    "resultado = resultado.sort_values(['accuracy'],ascending=False)\n",
    "\n",
    "#Se exporta el DF en CSV\n",
    "resultado.to_csv(\"../01. Flat Files/Ejercicio4Layers.csv\",index=False)\n",
    "resultado"
   ]
  },
  {
   "cell_type": "markdown",
   "metadata": {},
   "source": [
    "A partir de los resultados obtenidos se tomara una red neuronal con 3 layers"
   ]
  },
  {
   "cell_type": "markdown",
   "metadata": {},
   "source": [
    "<b>Paso 11.</b> Se realiza una red neuronal con X layers obtenidas en el paso anterior y disminuyendo en 1 la cantidad de neuronas"
   ]
  },
  {
   "cell_type": "code",
   "execution_count": 23,
   "metadata": {
    "scrolled": true
   },
   "outputs": [
    {
     "name": "stdout",
     "output_type": "stream",
     "text": [
      "Activdores =  ['relu', 'relu', 'sigmoid']\n",
      "5\n",
      "4\n",
      "1\n",
      "Activdores =  ['tanh', 'tanh', 'sigmoid']\n",
      "5\n",
      "4\n",
      "1\n",
      "Activdores =  ['relu', 'tanh', 'sigmoid']\n",
      "5\n",
      "4\n",
      "1\n",
      "Activdores =  ['tanh', 'relu', 'sigmoid']\n",
      "5\n",
      "4\n",
      "1\n"
     ]
    },
    {
     "data": {
      "text/html": [
       "<div>\n",
       "<style scoped>\n",
       "    .dataframe tbody tr th:only-of-type {\n",
       "        vertical-align: middle;\n",
       "    }\n",
       "\n",
       "    .dataframe tbody tr th {\n",
       "        vertical-align: top;\n",
       "    }\n",
       "\n",
       "    .dataframe thead th {\n",
       "        text-align: right;\n",
       "    }\n",
       "</style>\n",
       "<table border=\"1\" class=\"dataframe\">\n",
       "  <thead>\n",
       "    <tr style=\"text-align: right;\">\n",
       "      <th></th>\n",
       "      <th>funcion</th>\n",
       "      <th>loss</th>\n",
       "      <th>accuracy</th>\n",
       "      <th>secEjecucion</th>\n",
       "    </tr>\n",
       "  </thead>\n",
       "  <tbody>\n",
       "    <tr>\n",
       "      <th>3</th>\n",
       "      <td>[tanh, relu, sigmoid]</td>\n",
       "      <td>0.608914</td>\n",
       "      <td>0.731602</td>\n",
       "      <td>7</td>\n",
       "    </tr>\n",
       "    <tr>\n",
       "      <th>1</th>\n",
       "      <td>[tanh, tanh, sigmoid]</td>\n",
       "      <td>0.585582</td>\n",
       "      <td>0.709957</td>\n",
       "      <td>8</td>\n",
       "    </tr>\n",
       "    <tr>\n",
       "      <th>0</th>\n",
       "      <td>[relu, relu, sigmoid]</td>\n",
       "      <td>0.592749</td>\n",
       "      <td>0.679654</td>\n",
       "      <td>7</td>\n",
       "    </tr>\n",
       "    <tr>\n",
       "      <th>2</th>\n",
       "      <td>[relu, tanh, sigmoid]</td>\n",
       "      <td>0.598491</td>\n",
       "      <td>0.675325</td>\n",
       "      <td>7</td>\n",
       "    </tr>\n",
       "  </tbody>\n",
       "</table>\n",
       "</div>"
      ],
      "text/plain": [
       "                 funcion      loss  accuracy  secEjecucion\n",
       "3  [tanh, relu, sigmoid]  0.608914  0.731602             7\n",
       "1  [tanh, tanh, sigmoid]  0.585582  0.709957             8\n",
       "0  [relu, relu, sigmoid]  0.592749  0.679654             7\n",
       "2  [relu, tanh, sigmoid]  0.598491  0.675325             7"
      ]
     },
     "execution_count": 23,
     "metadata": {},
     "output_type": "execute_result"
    }
   ],
   "source": [
    "#Funciones de activacion de relu \n",
    "funciones1 = ['relu','relu','sigmoid']\n",
    "\n",
    "#Funciones de activacion de tanh \n",
    "funciones2 = ['tanh','tanh','sigmoid']\n",
    "\n",
    "#Funciones de activacion de relu-tanh\n",
    "funciones3 = ['relu','tanh','sigmoid']\n",
    "\n",
    "#Funciones de activacion de tanh-relu\n",
    "funciones4 = ['tanh','relu','sigmoid']\n",
    "\n",
    "#Variable de resultado\n",
    "resultado = []\n",
    "\n",
    "activadores = funciones1\n",
    "print(\"Activdores = \",activadores)\n",
    "#Fecha de inicio de ejecucion del modelo\n",
    "inicioEjecucion = datetime.now()\n",
    "#Se ejecuta  el modelo\n",
    "model = modeloKeras(3,activadores,Xtrain,Ytrain,5,1)\n",
    "#Fecha de fin de ejecucion del modelo\n",
    "finEjecucion = datetime.now()\n",
    "#Se obtiene la información de ejecucion del modelo\n",
    "modelResult = evaluacionKeras(model,Xtest,Ytest)\n",
    "#Se insertan los registros dentro del vector de resultado\n",
    "resultado.append([activadores,modelResult[0],modelResult[1],(finEjecucion-inicioEjecucion).seconds]) \n",
    "\n",
    "activadores = funciones2\n",
    "print(\"Activdores = \",activadores)\n",
    "#Fecha de inicio de ejecucion del modelo\n",
    "inicioEjecucion = datetime.now()\n",
    "#Se ejecuta  el modelo\n",
    "model = modeloKeras(3,activadores,Xtrain,Ytrain,5,1)\n",
    "#Fecha de fin de ejecucion del modelo\n",
    "finEjecucion = datetime.now()\n",
    "#Se obtiene la información de ejecucion del modelo\n",
    "modelResult = evaluacionKeras(model,Xtest,Ytest)\n",
    "#Se insertan los registros dentro del vector de resultado\n",
    "resultado.append([activadores,modelResult[0],modelResult[1],(finEjecucion-inicioEjecucion).seconds]) \n",
    "    \n",
    "activadores = funciones3\n",
    "print(\"Activdores = \",activadores)\n",
    "#Fecha de inicio de ejecucion del modelo\n",
    "inicioEjecucion = datetime.now()\n",
    "#Se ejecuta  el modelo\n",
    "model = modeloKeras(3,activadores,Xtrain,Ytrain,5,1)\n",
    "#Fecha de fin de ejecucion del modelo\n",
    "finEjecucion = datetime.now()\n",
    "#Se obtiene la información de ejecucion del modelo\n",
    "modelResult = evaluacionKeras(model,Xtest,Ytest)\n",
    "#Se insertan los registros dentro del vector de resultado\n",
    "resultado.append([activadores,modelResult[0],modelResult[1],(finEjecucion-inicioEjecucion).seconds]) \n",
    "\n",
    "activadores = funciones4\n",
    "print(\"Activdores = \",activadores)\n",
    "#Fecha de inicio de ejecucion del modelo\n",
    "inicioEjecucion = datetime.now()\n",
    "#Se ejecuta  el modelo\n",
    "model = modeloKeras(3,activadores,Xtrain,Ytrain,5,1)\n",
    "#Fecha de fin de ejecucion del modelo\n",
    "finEjecucion = datetime.now()\n",
    "#Se obtiene la información de ejecucion del modelo\n",
    "modelResult = evaluacionKeras(model,Xtest,Ytest)\n",
    "#Se insertan los registros dentro del vector de resultado\n",
    "resultado.append([activadores,modelResult[0],modelResult[1],(finEjecucion-inicioEjecucion).seconds]) \n",
    "\n",
    "resultado = pd.DataFrame(resultado,columns=['funcion','loss','accuracy','secEjecucion'])\n",
    "resultado = resultado.sort_values(['accuracy'],ascending=False)\n",
    "\n",
    "#Se exporta el DF en CSV\n",
    "resultado.to_csv(\"../01. Flat Files/Ejercicio4FuncionActivacion.csv\",index=False)\n",
    "resultado"
   ]
  },
  {
   "cell_type": "markdown",
   "metadata": {},
   "source": [
    "A partir de los resultados obtenidos para el modelo general se las funciones de activación tanh,relu,sigmoid en cada capa"
   ]
  },
  {
   "cell_type": "markdown",
   "metadata": {},
   "source": [
    "<b>Paso 12.</b> Eliminación de variables por layer"
   ]
  },
  {
   "cell_type": "code",
   "execution_count": 25,
   "metadata": {},
   "outputs": [
    {
     "name": "stdout",
     "output_type": "stream",
     "text": [
      "Varaibles =  1\n",
      "5\n",
      "4\n",
      "1\n",
      "Varaibles =  2\n",
      "5\n",
      "3\n",
      "1\n",
      "Varaibles =  3\n",
      "5\n",
      "2\n",
      "1\n",
      "Varaibles =  4\n",
      "5\n",
      "1\n",
      "1\n"
     ]
    },
    {
     "data": {
      "text/html": [
       "<div>\n",
       "<style scoped>\n",
       "    .dataframe tbody tr th:only-of-type {\n",
       "        vertical-align: middle;\n",
       "    }\n",
       "\n",
       "    .dataframe tbody tr th {\n",
       "        vertical-align: top;\n",
       "    }\n",
       "\n",
       "    .dataframe thead th {\n",
       "        text-align: right;\n",
       "    }\n",
       "</style>\n",
       "<table border=\"1\" class=\"dataframe\">\n",
       "  <thead>\n",
       "    <tr style=\"text-align: right;\">\n",
       "      <th></th>\n",
       "      <th>elimnaVaraibles</th>\n",
       "      <th>loss</th>\n",
       "      <th>accuracy</th>\n",
       "      <th>secEjecucion</th>\n",
       "    </tr>\n",
       "  </thead>\n",
       "  <tbody>\n",
       "    <tr>\n",
       "      <th>2</th>\n",
       "      <td>3</td>\n",
       "      <td>0.605305</td>\n",
       "      <td>0.727273</td>\n",
       "      <td>10</td>\n",
       "    </tr>\n",
       "    <tr>\n",
       "      <th>0</th>\n",
       "      <td>1</td>\n",
       "      <td>0.635931</td>\n",
       "      <td>0.709957</td>\n",
       "      <td>7</td>\n",
       "    </tr>\n",
       "    <tr>\n",
       "      <th>1</th>\n",
       "      <td>2</td>\n",
       "      <td>0.588063</td>\n",
       "      <td>0.705628</td>\n",
       "      <td>11</td>\n",
       "    </tr>\n",
       "    <tr>\n",
       "      <th>3</th>\n",
       "      <td>4</td>\n",
       "      <td>0.645573</td>\n",
       "      <td>0.653680</td>\n",
       "      <td>7</td>\n",
       "    </tr>\n",
       "  </tbody>\n",
       "</table>\n",
       "</div>"
      ],
      "text/plain": [
       "   elimnaVaraibles      loss  accuracy  secEjecucion\n",
       "2                3  0.605305  0.727273            10\n",
       "0                1  0.635931  0.709957             7\n",
       "1                2  0.588063  0.705628            11\n",
       "3                4  0.645573  0.653680             7"
      ]
     },
     "execution_count": 25,
     "metadata": {},
     "output_type": "execute_result"
    }
   ],
   "source": [
    "#Variable de resultado\n",
    "resultado = []\n",
    "\n",
    "for i in range(1,5):\n",
    "    activadores = ['tanh','relu','sigmoid']\n",
    "    print(\"Varaibles = \",i)\n",
    "    #Fecha de inicio de ejecucion del modelo\n",
    "    inicioEjecucion = datetime.now()\n",
    "    #Se ejecuta  el modelo\n",
    "    model = modeloKeras(3,activadores,Xtrain,Ytrain,5,i)\n",
    "    #Fecha de fin de ejecucion del modelo\n",
    "    finEjecucion = datetime.now()\n",
    "    #Se obtiene la información de ejecucion del modelo\n",
    "    modelResult = evaluacionKeras(model,Xtest,Ytest)\n",
    "    #Se insertan los registros dentro del vector de resultado\n",
    "    resultado.append([i,modelResult[0],modelResult[1],(finEjecucion-inicioEjecucion).seconds])\n",
    "\n",
    "resultado = pd.DataFrame(resultado,columns=['elimnaVaraibles','loss','accuracy','secEjecucion'])\n",
    "resultado = resultado.sort_values(['accuracy'],ascending=False)\n",
    "\n",
    "#Se exporta el DF en CSV\n",
    "resultado.to_csv(\"../01. Flat Files/Ejercicio4Variables.csv\",index=False)\n",
    "resultado"
   ]
  },
  {
   "cell_type": "markdown",
   "metadata": {},
   "source": [
    "A partir de los resultados obtenidos, se utilizara un modelo con donde en la segunda capa se eliminen 3 neuronas"
   ]
  },
  {
   "cell_type": "markdown",
   "metadata": {},
   "source": [
    "<b>Paso 13.</b> Ejecucion modelo con los siguientes parametros, neuronasIniciales = 5, layers = 3, activadores = ['tanh','relu','sigmoid'] y elimnacion = 3"
   ]
  },
  {
   "cell_type": "code",
   "execution_count": 28,
   "metadata": {},
   "outputs": [
    {
     "name": "stdout",
     "output_type": "stream",
     "text": [
      "5\n",
      "2\n",
      "1\n",
      "Loss =  0.5934898641718415\n",
      "Acuracy =  0.6883117\n",
      "Tiempo Ejecucion =  7\n"
     ]
    }
   ],
   "source": [
    "activadores = ['tanh','relu','sigmoid']\n",
    "#Fecha de inicio de ejecucion del modelo\n",
    "inicioEjecucion = datetime.now()\n",
    "#Se ejecuta  el modelo\n",
    "model = modeloKeras(3,activadores,Xtrain,Ytrain,5,3)\n",
    "#Fecha de fin de ejecucion del modelo\n",
    "finEjecucion = datetime.now()\n",
    "#Se obtiene la información de ejecucion del modelo\n",
    "modelResult = evaluacionKeras(model,Xtest,Ytest)\n",
    "print(\"Loss = \",modelResult[0])\n",
    "print(\"Acuracy = \",modelResult[1])\n",
    "print(\"Tiempo Ejecucion = \",(finEjecucion-inicioEjecucion).seconds)"
   ]
  },
  {
   "cell_type": "markdown",
   "metadata": {},
   "source": [
    "<b>Paso 13.</b> Prediccion sobre los valores de testeo"
   ]
  },
  {
   "cell_type": "code",
   "execution_count": 46,
   "metadata": {},
   "outputs": [
    {
     "name": "stdout",
     "output_type": "stream",
     "text": [
      "WARNING:tensorflow:Falling back from v2 loop because of error: Failed to find data adapter that can handle input: <class 'pandas.core.frame.DataFrame'>, <class 'NoneType'>\n",
      "Tamaño =  231\n"
     ]
    }
   ],
   "source": [
    "predictY = model.predict(Xtest)\n",
    "print(\"Tamaño = \",len(predictY))"
   ]
  },
  {
   "cell_type": "markdown",
   "metadata": {},
   "source": [
    "<b>Paso 14.</b> Se actualiza a 1 o 0 la prediccion de outcome dependiendo de la probabilidad "
   ]
  },
  {
   "cell_type": "code",
   "execution_count": 52,
   "metadata": {},
   "outputs": [],
   "source": [
    "resultado = []\n",
    "\n",
    "for i in predictY:\n",
    "    for j in i:\n",
    "        if j > 0.5:\n",
    "            j = 1\n",
    "        else:\n",
    "            j = 0\n",
    "        resultado.append(j)\n",
    "\n",
    "predictYBin = pd.DataFrame(resultado)[0]"
   ]
  },
  {
   "cell_type": "markdown",
   "metadata": {},
   "source": [
    "<b>Paso 15.</b> Analisis del modelo obtenido con la matriz de confusión"
   ]
  },
  {
   "cell_type": "code",
   "execution_count": 54,
   "metadata": {},
   "outputs": [
    {
     "data": {
      "text/html": [
       "<div>\n",
       "<style scoped>\n",
       "    .dataframe tbody tr th:only-of-type {\n",
       "        vertical-align: middle;\n",
       "    }\n",
       "\n",
       "    .dataframe tbody tr th {\n",
       "        vertical-align: top;\n",
       "    }\n",
       "\n",
       "    .dataframe thead th {\n",
       "        text-align: right;\n",
       "    }\n",
       "</style>\n",
       "<table border=\"1\" class=\"dataframe\">\n",
       "  <thead>\n",
       "    <tr style=\"text-align: right;\">\n",
       "      <th></th>\n",
       "      <th>0</th>\n",
       "      <th>1</th>\n",
       "      <th>accuracy</th>\n",
       "      <th>macro avg</th>\n",
       "      <th>weighted avg</th>\n",
       "    </tr>\n",
       "  </thead>\n",
       "  <tbody>\n",
       "    <tr>\n",
       "      <th>precision</th>\n",
       "      <td>0.689024</td>\n",
       "      <td>0.432836</td>\n",
       "      <td>0.614719</td>\n",
       "      <td>0.560930</td>\n",
       "      <td>0.600301</td>\n",
       "    </tr>\n",
       "    <tr>\n",
       "      <th>recall</th>\n",
       "      <td>0.748344</td>\n",
       "      <td>0.362500</td>\n",
       "      <td>0.614719</td>\n",
       "      <td>0.555422</td>\n",
       "      <td>0.614719</td>\n",
       "    </tr>\n",
       "    <tr>\n",
       "      <th>f1-score</th>\n",
       "      <td>0.717460</td>\n",
       "      <td>0.394558</td>\n",
       "      <td>0.614719</td>\n",
       "      <td>0.556009</td>\n",
       "      <td>0.605633</td>\n",
       "    </tr>\n",
       "    <tr>\n",
       "      <th>support</th>\n",
       "      <td>151.000000</td>\n",
       "      <td>80.000000</td>\n",
       "      <td>0.614719</td>\n",
       "      <td>231.000000</td>\n",
       "      <td>231.000000</td>\n",
       "    </tr>\n",
       "  </tbody>\n",
       "</table>\n",
       "</div>"
      ],
      "text/plain": [
       "                    0          1  accuracy   macro avg  weighted avg\n",
       "precision    0.689024   0.432836  0.614719    0.560930      0.600301\n",
       "recall       0.748344   0.362500  0.614719    0.555422      0.614719\n",
       "f1-score     0.717460   0.394558  0.614719    0.556009      0.605633\n",
       "support    151.000000  80.000000  0.614719  231.000000    231.000000"
      ]
     },
     "execution_count": 54,
     "metadata": {},
     "output_type": "execute_result"
    }
   ],
   "source": [
    "from sklearn.metrics import classification_report\n",
    "\n",
    "#Matriz de precision (accuracy)\n",
    "resultado = pd.DataFrame.from_dict(classification_report(Ytest,predictYBin,output_dict=True))\n",
    "#resultado = resultado.transpose()\n",
    "resultado\n",
    "\n",
    "#Se exporta el DF en CSV\n",
    "resultado.to_csv(\"../01. Flat Files/Ejercicio4Matrix.csv\")\n",
    "resultado"
   ]
  }
 ],
 "metadata": {
  "kernelspec": {
   "display_name": "Python 3",
   "language": "python",
   "name": "python3"
  },
  "language_info": {
   "codemirror_mode": {
    "name": "ipython",
    "version": 3
   },
   "file_extension": ".py",
   "mimetype": "text/x-python",
   "name": "python",
   "nbconvert_exporter": "python",
   "pygments_lexer": "ipython3",
   "version": "3.7.6"
  }
 },
 "nbformat": 4,
 "nbformat_minor": 4
}
