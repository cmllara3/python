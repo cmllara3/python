{
 "cells": [
  {
   "cell_type": "markdown",
   "metadata": {},
   "source": [
    "# Trabajo Final - Prediccion Modelo PQL"
   ]
  },
  {
   "cell_type": "markdown",
   "metadata": {},
   "source": [
    "## Importacion de librerias"
   ]
  },
  {
   "cell_type": "markdown",
   "metadata": {},
   "source": [
    "<b>Paso 0.</b> Instalacion de la libreria ipynb"
   ]
  },
  {
   "cell_type": "code",
   "execution_count": 16,
   "metadata": {},
   "outputs": [
    {
     "name": "stdout",
     "output_type": "stream",
     "text": [
      "Requirement already satisfied: ipynb in c:\\users\\usuario\\anaconda3\\lib\\site-packages (0.5.1)\n"
     ]
    }
   ],
   "source": [
    "#Instalacion para poder llamar funciones de otro notebook\n",
    "!pip install ipynb"
   ]
  },
  {
   "cell_type": "markdown",
   "metadata": {},
   "source": [
    "<b>Paso 1.</b> Importacion de las librerias de python"
   ]
  },
  {
   "cell_type": "code",
   "execution_count": 17,
   "metadata": {},
   "outputs": [],
   "source": [
    "#Importacion de numpy\n",
    "import numpy as np\n",
    "#Importacion de pandas\n",
    "import pandas as pd\n",
    "#Importacion de pyplot\n",
    "import matplotlib.pyplot as plt\n",
    "#Importacion de seaborn\n",
    "import seaborn as sns\n",
    "#Importacion de pickle\n",
    "import pickle\n",
    "#Se importan las funciones definidas en el notebook de entrenamiento\n",
    "import ipynb.fs.defs.TrabajoFinal_Mayo_04_Train as funcPropias"
   ]
  },
  {
   "cell_type": "markdown",
   "metadata": {},
   "source": [
    "<b>Paso 2.</b> Importacion del modelo obtenido en el entramiento"
   ]
  },
  {
   "cell_type": "code",
   "execution_count": 18,
   "metadata": {},
   "outputs": [
    {
     "data": {
      "text/plain": [
       "RFECV(cv=10,\n",
       "      estimator=ComplementNB(alpha=1.0, class_prior=None, fit_prior=True,\n",
       "                             norm=False),\n",
       "      min_features_to_select=10, n_jobs=None, scoring='accuracy', step=1,\n",
       "      verbose=0)"
      ]
     },
     "execution_count": 18,
     "metadata": {},
     "output_type": "execute_result"
    }
   ],
   "source": [
    "#Se abre el modelo guardado del entrenamiento\n",
    "model = pickle.load(open(\"../01. Flat Files/data_PQL_model\", 'rb'))\n",
    "\n",
    "model"
   ]
  },
  {
   "cell_type": "markdown",
   "metadata": {},
   "source": [
    "## Ejecucion del modelo"
   ]
  },
  {
   "cell_type": "markdown",
   "metadata": {},
   "source": [
    "<b>Paso 3.</b> Se realizan las transformaciones iniciales necesarias del DataFrame"
   ]
  },
  {
   "cell_type": "code",
   "execution_count": 19,
   "metadata": {},
   "outputs": [
    {
     "name": "stdout",
     "output_type": "stream",
     "text": [
      "Parametrizar country =  Series([], )\n",
      "Parametrizar industry =  Series([], )\n",
      "Parametrizar job_function =  Series([], )\n",
      "Parametrizar job_title =  Series([], )\n"
     ]
    },
    {
     "data": {
      "text/html": [
       "<div>\n",
       "<style scoped>\n",
       "    .dataframe tbody tr th:only-of-type {\n",
       "        vertical-align: middle;\n",
       "    }\n",
       "\n",
       "    .dataframe tbody tr th {\n",
       "        vertical-align: top;\n",
       "    }\n",
       "\n",
       "    .dataframe thead th {\n",
       "        text-align: right;\n",
       "    }\n",
       "</style>\n",
       "<table border=\"1\" class=\"dataframe\">\n",
       "  <thead>\n",
       "    <tr style=\"text-align: right;\">\n",
       "      <th></th>\n",
       "      <th>starts_2_day</th>\n",
       "      <th>starts_4_day</th>\n",
       "      <th>starts_6_day</th>\n",
       "      <th>starts_8_day</th>\n",
       "      <th>starts_10_day</th>\n",
       "      <th>starts_12_day</th>\n",
       "      <th>starts_14_day</th>\n",
       "      <th>starts_16_day</th>\n",
       "      <th>starts_18_day</th>\n",
       "      <th>starts_20_day</th>\n",
       "      <th>...</th>\n",
       "      <th>runtime_exception_ratio</th>\n",
       "      <th>user_error_ratio</th>\n",
       "      <th>operator_exception_ratio</th>\n",
       "      <th>stopped_ratio</th>\n",
       "      <th>is_won</th>\n",
       "      <th>id</th>\n",
       "      <th>country_new</th>\n",
       "      <th>industry_new</th>\n",
       "      <th>job_function_new</th>\n",
       "      <th>job_title_new</th>\n",
       "    </tr>\n",
       "  </thead>\n",
       "  <tbody>\n",
       "    <tr>\n",
       "      <th>0</th>\n",
       "      <td>2</td>\n",
       "      <td>2</td>\n",
       "      <td>2</td>\n",
       "      <td>3</td>\n",
       "      <td>3</td>\n",
       "      <td>3</td>\n",
       "      <td>3</td>\n",
       "      <td>3</td>\n",
       "      <td>5</td>\n",
       "      <td>5</td>\n",
       "      <td>...</td>\n",
       "      <td>0.001076</td>\n",
       "      <td>0.057362</td>\n",
       "      <td>0.001283</td>\n",
       "      <td>0.002301</td>\n",
       "      <td>0</td>\n",
       "      <td>400</td>\n",
       "      <td>MY</td>\n",
       "      <td>Healthcare</td>\n",
       "      <td>Data Scientist</td>\n",
       "      <td>CEO</td>\n",
       "    </tr>\n",
       "    <tr>\n",
       "      <th>1</th>\n",
       "      <td>2</td>\n",
       "      <td>2</td>\n",
       "      <td>2</td>\n",
       "      <td>2</td>\n",
       "      <td>2</td>\n",
       "      <td>2</td>\n",
       "      <td>2</td>\n",
       "      <td>2</td>\n",
       "      <td>2</td>\n",
       "      <td>2</td>\n",
       "      <td>...</td>\n",
       "      <td>0.001076</td>\n",
       "      <td>0.057362</td>\n",
       "      <td>0.001283</td>\n",
       "      <td>0.002301</td>\n",
       "      <td>0</td>\n",
       "      <td>401</td>\n",
       "      <td>CH</td>\n",
       "      <td>Financial Services</td>\n",
       "      <td>Architect</td>\n",
       "      <td>Data Scientist</td>\n",
       "    </tr>\n",
       "    <tr>\n",
       "      <th>2</th>\n",
       "      <td>1</td>\n",
       "      <td>2</td>\n",
       "      <td>2</td>\n",
       "      <td>2</td>\n",
       "      <td>2</td>\n",
       "      <td>2</td>\n",
       "      <td>3</td>\n",
       "      <td>3</td>\n",
       "      <td>3</td>\n",
       "      <td>3</td>\n",
       "      <td>...</td>\n",
       "      <td>0.000000</td>\n",
       "      <td>0.000000</td>\n",
       "      <td>0.000000</td>\n",
       "      <td>0.000000</td>\n",
       "      <td>0</td>\n",
       "      <td>402</td>\n",
       "      <td>UK</td>\n",
       "      <td>Energy</td>\n",
       "      <td>Architect</td>\n",
       "      <td>Data Scientist</td>\n",
       "    </tr>\n",
       "    <tr>\n",
       "      <th>3</th>\n",
       "      <td>4</td>\n",
       "      <td>4</td>\n",
       "      <td>4</td>\n",
       "      <td>4</td>\n",
       "      <td>4</td>\n",
       "      <td>4</td>\n",
       "      <td>12</td>\n",
       "      <td>15</td>\n",
       "      <td>16</td>\n",
       "      <td>16</td>\n",
       "      <td>...</td>\n",
       "      <td>0.001076</td>\n",
       "      <td>0.057362</td>\n",
       "      <td>0.001283</td>\n",
       "      <td>0.002301</td>\n",
       "      <td>0</td>\n",
       "      <td>403</td>\n",
       "      <td>SG</td>\n",
       "      <td>Educaction</td>\n",
       "      <td>Other</td>\n",
       "      <td>Data Scientist</td>\n",
       "    </tr>\n",
       "    <tr>\n",
       "      <th>4</th>\n",
       "      <td>1</td>\n",
       "      <td>1</td>\n",
       "      <td>1</td>\n",
       "      <td>1</td>\n",
       "      <td>1</td>\n",
       "      <td>1</td>\n",
       "      <td>1</td>\n",
       "      <td>1</td>\n",
       "      <td>1</td>\n",
       "      <td>1</td>\n",
       "      <td>...</td>\n",
       "      <td>0.001076</td>\n",
       "      <td>0.057362</td>\n",
       "      <td>0.001283</td>\n",
       "      <td>0.002301</td>\n",
       "      <td>0</td>\n",
       "      <td>404</td>\n",
       "      <td>US</td>\n",
       "      <td>Other</td>\n",
       "      <td>Data Scientist</td>\n",
       "      <td>Data Scientist</td>\n",
       "    </tr>\n",
       "  </tbody>\n",
       "</table>\n",
       "<p>5 rows × 308 columns</p>\n",
       "</div>"
      ],
      "text/plain": [
       "   starts_2_day  starts_4_day  starts_6_day  starts_8_day  starts_10_day  \\\n",
       "0             2             2             2             3              3   \n",
       "1             2             2             2             2              2   \n",
       "2             1             2             2             2              2   \n",
       "3             4             4             4             4              4   \n",
       "4             1             1             1             1              1   \n",
       "\n",
       "   starts_12_day  starts_14_day  starts_16_day  starts_18_day  starts_20_day  \\\n",
       "0              3              3              3              5              5   \n",
       "1              2              2              2              2              2   \n",
       "2              2              3              3              3              3   \n",
       "3              4             12             15             16             16   \n",
       "4              1              1              1              1              1   \n",
       "\n",
       "   ...  runtime_exception_ratio  user_error_ratio  operator_exception_ratio  \\\n",
       "0  ...                 0.001076          0.057362                  0.001283   \n",
       "1  ...                 0.001076          0.057362                  0.001283   \n",
       "2  ...                 0.000000          0.000000                  0.000000   \n",
       "3  ...                 0.001076          0.057362                  0.001283   \n",
       "4  ...                 0.001076          0.057362                  0.001283   \n",
       "\n",
       "   stopped_ratio  is_won   id  country_new        industry_new  \\\n",
       "0       0.002301       0  400           MY          Healthcare   \n",
       "1       0.002301       0  401           CH  Financial Services   \n",
       "2       0.000000       0  402           UK              Energy   \n",
       "3       0.002301       0  403           SG          Educaction   \n",
       "4       0.002301       0  404           US               Other   \n",
       "\n",
       "   job_function_new   job_title_new  \n",
       "0    Data Scientist             CEO  \n",
       "1         Architect  Data Scientist  \n",
       "2         Architect  Data Scientist  \n",
       "3             Other  Data Scientist  \n",
       "4    Data Scientist  Data Scientist  \n",
       "\n",
       "[5 rows x 308 columns]"
      ]
     },
     "execution_count": 19,
     "metadata": {},
     "output_type": "execute_result"
    }
   ],
   "source": [
    "#Se lee el archivo de prediccion\n",
    "dfInicial = funcPropias.lecturaInicial(\"../01. Flat Files/data_PQLpredict.xlsx\")\n",
    "\n",
    "#Se hace el tratamiento de nulos\n",
    "dfNotNull = funcPropias.manejoNulos(dfInicial)\n",
    "\n",
    "#Se normalizan las columnas String\n",
    "dfColumnasEstandarizadas = funcPropias.normalizacionColumnasString(dfNotNull)\n",
    "\n",
    "#Se remplaza los valores de is_won\n",
    "dfColumnasEstandarizadas[\"is_won\"] = 0\n",
    "\n",
    "#Se muestra los primeros 5 registros\n",
    "dfColumnasEstandarizadas.head(5)"
   ]
  },
  {
   "cell_type": "markdown",
   "metadata": {},
   "source": [
    "<b>Paso 4.</b> Funcion que permite realizar la codifiacion y estandarizacion de los campos del DataFrame"
   ]
  },
  {
   "cell_type": "code",
   "execution_count": 20,
   "metadata": {},
   "outputs": [],
   "source": [
    "def xPredict(dfColumnasEstandarizadas):\n",
    "\n",
    "    #Se estandarizan las columnas elimnando las columnas no funcionales\n",
    "    dfColumnasEstandarizadas = funcPropias.eliminarVariables(dfColumnasEstandarizadas)\n",
    "\n",
    "    #Se codifican las columnas string\n",
    "    dicEncoder,dfEncoder = funcPropias.codString(dfColumnasEstandarizadas)\n",
    "\n",
    "    #Se realiza la normalizacion de las columnas numericas\n",
    "    dfZTransformacion = funcPropias.normalizacion(dfColumnasEstandarizadas)\n",
    "\n",
    "    #Concatena el nuevo DataFrame\n",
    "    dfModel = pd.concat([dfEncoder,dfZTransformacion],axis=1)\n",
    "\n",
    "    #Separa las variables\n",
    "    X,Y = funcPropias.separacionDataFrameModelo(dfModel)\n",
    "\n",
    "    return X\n",
    "\n",
    "X = xPredict(dfColumnasEstandarizadas)"
   ]
  },
  {
   "cell_type": "markdown",
   "metadata": {},
   "source": [
    "<b>Paso 5.</b> Se predice el resultado sobre los datos de prueba y se exporta el resultado"
   ]
  },
  {
   "cell_type": "code",
   "execution_count": 27,
   "metadata": {},
   "outputs": [
    {
     "data": {
      "text/plain": [
       "is_won\n",
       "False     3\n",
       "True     46\n",
       "Name: id, dtype: int64"
      ]
     },
     "execution_count": 27,
     "metadata": {},
     "output_type": "execute_result"
    }
   ],
   "source": [
    "#Se hace la predccion sobre el DataFrame X\n",
    "Y = model.predict(X)\n",
    "\n",
    "#Se asignan los valores al DataFrame\n",
    "dfColumnasEstandarizadas[\"is_won\"] = Y\n",
    "\n",
    "#Se convierte el valor objetivo a tipo Boolean\n",
    "dfColumnasEstandarizadas[\"is_won\"] = dfColumnasEstandarizadas[\"is_won\"].astype('bool')\n",
    "\n",
    "#Se exportan los resultados obtenidos\n",
    "dfColumnasEstandarizadas[[\"id\",\"is_won\"]].to_csv(\"../01. Flat Files/data_PQLpredict_results.csv\",index = False)\n",
    "\n",
    "#Se muestra los primeros 5 registros\n",
    "dfColumnasEstandarizadas.groupby(\"is_won\").count()[\"id\"]"
   ]
  }
 ],
 "metadata": {
  "kernelspec": {
   "display_name": "Python 3",
   "language": "python",
   "name": "python3"
  },
  "language_info": {
   "codemirror_mode": {
    "name": "ipython",
    "version": 3
   },
   "file_extension": ".py",
   "mimetype": "text/x-python",
   "name": "python",
   "nbconvert_exporter": "python",
   "pygments_lexer": "ipython3",
   "version": "3.7.6"
  }
 },
 "nbformat": 4,
 "nbformat_minor": 4
}
