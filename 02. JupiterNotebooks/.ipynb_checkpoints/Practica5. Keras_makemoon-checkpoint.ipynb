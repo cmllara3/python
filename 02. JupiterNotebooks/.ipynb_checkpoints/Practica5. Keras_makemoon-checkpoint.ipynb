{
 "cells": [
  {
   "cell_type": "code",
   "execution_count": null,
   "metadata": {
    "colab": {},
    "colab_type": "code",
    "id": "zKlyFWxmR_ZN"
   },
   "outputs": [],
   "source": [
    "#Importamos librerías\n",
    "\n",
    "import numpy as np\n",
    "import pandas as pd\n",
    "import matplotlib.pyplot as plt\n",
    "%matplotlib inline"
   ]
  },
  {
   "cell_type": "code",
   "execution_count": null,
   "metadata": {
    "colab": {},
    "colab_type": "code",
    "id": "LYwELelWS58n"
   },
   "outputs": [],
   "source": [
    "#Importamos los datos\n",
    "from sklearn.datasets import make_moons"
   ]
  },
  {
   "cell_type": "code",
   "execution_count": null,
   "metadata": {
    "colab": {},
    "colab_type": "code",
    "id": "FDjcUlZaUmLX"
   },
   "outputs": [],
   "source": [
    "X,y = make_moons(n_samples=1000,noise=0.1,random_state=0)\n"
   ]
  },
  {
   "cell_type": "code",
   "execution_count": null,
   "metadata": {
    "colab": {
     "base_uri": "https://localhost:8080/",
     "height": 134
    },
    "colab_type": "code",
    "id": "-2CHp4I6VlCo",
    "outputId": "ec8eb12e-42b4-4e40-ad35-48e4eabcf2b8"
   },
   "outputs": [],
   "source": [
    "X"
   ]
  },
  {
   "cell_type": "code",
   "execution_count": null,
   "metadata": {
    "colab": {
     "base_uri": "https://localhost:8080/",
     "height": 790
    },
    "colab_type": "code",
    "id": "FMG-KVyEV-QA",
    "outputId": "e80e8e38-7cf1-4be8-8ae3-eacb4a285378"
   },
   "outputs": [],
   "source": [
    "y\n"
   ]
  },
  {
   "cell_type": "code",
   "execution_count": null,
   "metadata": {
    "colab": {
     "base_uri": "https://localhost:8080/",
     "height": 34
    },
    "colab_type": "code",
    "id": "FWeyRlOeWOWt",
    "outputId": "5965039b-58d8-4552-a66e-34fd3e300a99"
   },
   "outputs": [],
   "source": [
    "X.shape"
   ]
  },
  {
   "cell_type": "code",
   "execution_count": null,
   "metadata": {
    "colab": {
     "base_uri": "https://localhost:8080/",
     "height": 34
    },
    "colab_type": "code",
    "id": "v01QIF9zWSEH",
    "outputId": "89b26075-46eb-435f-ec22-6b29cab63d01"
   },
   "outputs": [],
   "source": [
    "y.shape"
   ]
  },
  {
   "cell_type": "code",
   "execution_count": null,
   "metadata": {
    "colab": {
     "base_uri": "https://localhost:8080/",
     "height": 282
    },
    "colab_type": "code",
    "id": "GhE-e4cdWq0i",
    "outputId": "b8e207b4-b126-45d8-e744-538b4809db36"
   },
   "outputs": [],
   "source": [
    "plt.scatter(X[:,0],X[:,1])"
   ]
  },
  {
   "cell_type": "code",
   "execution_count": null,
   "metadata": {
    "colab": {
     "base_uri": "https://localhost:8080/",
     "height": 282
    },
    "colab_type": "code",
    "id": "9hxsEKK4YBj1",
    "outputId": "a03a4096-9df0-42a9-87ad-6727a1bfd89a"
   },
   "outputs": [],
   "source": [
    "#Pintaremos en el gráfico X e Y\n",
    "plt.plot(X[y==0,0],X[y==0,1],'ob',alpha=0.5)\n",
    "plt.plot(X[y==1,0],X[y==1,1],'og',alpha=0.5)\n",
    "plt.legend(['0','1'])\n"
   ]
  },
  {
   "cell_type": "code",
   "execution_count": null,
   "metadata": {
    "colab": {},
    "colab_type": "code",
    "id": "S7d1FUq-dSeo"
   },
   "outputs": [],
   "source": [
    "#Separamos datos en train&test\n",
    "from sklearn.model_selection import train_test_split"
   ]
  },
  {
   "cell_type": "code",
   "execution_count": null,
   "metadata": {
    "colab": {},
    "colab_type": "code",
    "id": "cfy-IenJd73y"
   },
   "outputs": [],
   "source": [
    "X_train,X_test,y_train,y_test=train_test_split(X,y,test_size=0.3,random_state=42)"
   ]
  },
  {
   "cell_type": "code",
   "execution_count": null,
   "metadata": {
    "colab": {
     "base_uri": "https://localhost:8080/",
     "height": 84
    },
    "colab_type": "code",
    "id": "9YMry5F7euYG",
    "outputId": "7d6dc2ba-f82a-410b-ea2d-e9ff8e782c51"
   },
   "outputs": [],
   "source": [
    "print('Registros X train: ',X_train.shape)\n",
    "print('Registros y train: ',y_train.shape)\n",
    "print('Registros X test: ',X_test.shape)\n",
    "print('Registros y test: ',y_test.shape)"
   ]
  },
  {
   "cell_type": "code",
   "execution_count": null,
   "metadata": {
    "colab": {},
    "colab_type": "code",
    "id": "ecx3p7zonklf"
   },
   "outputs": [],
   "source": [
    "#Importamos Librerías de Keras\n",
    "%tensorflow_version 2.x\n",
    "\n",
    "import tensorflow.keras as keras\n",
    "from tensorflow.keras.models import Sequential\n",
    "from tensorflow.keras.layers import Dense\n"
   ]
  },
  {
   "cell_type": "markdown",
   "metadata": {},
   "source": [
    "## Primera aproximación Deep Learning\n",
    "\n"
   ]
  },
  {
   "cell_type": "markdown",
   "metadata": {},
   "source": [
    "Una regresión lineal con Keras"
   ]
  },
  {
   "cell_type": "markdown",
   "metadata": {},
   "source": [
    "Función de visualización"
   ]
  },
  {
   "cell_type": "code",
   "execution_count": null,
   "metadata": {
    "colab": {
     "base_uri": "https://localhost:8080/",
     "height": 483
    },
    "colab_type": "code",
    "id": "XkjaZTox3lDL",
    "outputId": "168e54f8-0066-4e00-da08-4de8af39b6dc"
   },
   "outputs": [],
   "source": [
    "def plot_decision_boundary(model, X, y):\n",
    "    amin, bmin = X.min(axis=0) - 0.1                  #punto X mínimo [amin,bmin]\n",
    "    amax, bmax = X.max(axis=0) + 0.1                  #punto X máximo [amax,bmax]\n",
    "    hticks = np.linspace(amin, amax, 101)             #crea 101 puntos horizontales entre amin y amax\n",
    "    vticks = np.linspace(bmin, bmax, 101)             #crea 101 puntos verticales entre bmin y bmax\n",
    "    \n",
    "    aa, bb = np.meshgrid(hticks, vticks)              #con estas dos funciones se crea una matriz de puntos [a,b]\n",
    "    ab = np.c_[aa.ravel(), bb.ravel()]\n",
    "    \n",
    "    c = model.predict(ab)                             #hacemos la predicción sobre los 101*101 puntos [a,b] => nos devuelve un array con la predicción de los 10201 puntos\n",
    "    cc = c.reshape(aa.shape)                          #refiguramos c para formato (101,101)\n",
    "    \n",
    "    plt.figure(figsize=(12, 8))                       #dimensión de la figura\n",
    "    plt.contourf(aa, bb, cc, cmap='bwr', alpha=0.2)   #marcamos linea\n",
    "    plt.plot(X[y==0, 0], X[y==0, 1], 'ob', alpha=0.5) #Grupo 0\n",
    "    plt.plot(X[y==1, 0], X[y==1, 1], 'og', alpha=0.5) #Grupo 1\n",
    "    plt.legend(['0', '1'])\n",
    "    \n",
    "    \n",
    "plot_decision_boundary(model, X, y)\n"
   ]
  },
  {
   "cell_type": "markdown",
   "metadata": {},
   "source": [
    "## Segunda aproximación Deep Learning"
   ]
  },
  {
   "cell_type": "markdown",
   "metadata": {},
   "source": [
    "Estructura con más capas"
   ]
  }
 ],
 "metadata": {
  "celltoolbar": "Raw Cell Format",
  "colab": {
   "collapsed_sections": [],
   "name": "Keras - makemoon.ipynb v2.0",
   "provenance": []
  },
  "kernelspec": {
   "display_name": "Python 3",
   "language": "python",
   "name": "python3"
  },
  "language_info": {
   "codemirror_mode": {
    "name": "ipython",
    "version": 3
   },
   "file_extension": ".py",
   "mimetype": "text/x-python",
   "name": "python",
   "nbconvert_exporter": "python",
   "pygments_lexer": "ipython3",
   "version": "3.7.6"
  }
 },
 "nbformat": 4,
 "nbformat_minor": 1
}
