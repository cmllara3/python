{
 "cells": [
  {
   "cell_type": "markdown",
   "metadata": {},
   "source": [
    "## Comandos Python"
   ]
  },
  {
   "cell_type": "code",
   "execution_count": null,
   "metadata": {},
   "outputs": [],
   "source": [
    "#Variables que estan actualmente en el programa\n",
    "%whos\n",
    "\n",
    "#Borrar variables a partir de su nombre\n",
    "del nombreVariable\n",
    "\n",
    "#Uso de ciclos --> While\n",
    "while #Condicion de parada:\n",
    "    #Codigo a hacer durante la ejecucion del loop\n",
    "\n",
    "#Uso de ciclos --> For\n",
    "for variable in #Donde la voy a recorrer:\n",
    "    #Codigo a hacer durante la ejecucion del loop\n",
    "    \n",
    "#Uso de ciclos --> Break\n",
    "break #Permite parar la ejecucion de loop y seguir con el codigo\n",
    "\n",
    "#Uso de ciclos --> Rango\n",
    "range(a,b,c) #a-->Posicion inicial del rango, b-->Hasta donde va el recorrido, c-->Pasos dentro del rango"
   ]
  },
  {
   "cell_type": "markdown",
   "metadata": {},
   "source": [
    "## ETL"
   ]
  },
  {
   "cell_type": "code",
   "execution_count": null,
   "metadata": {},
   "outputs": [],
   "source": [
    "#Importacion de la Libreria pandas\n",
    "import pandas as pd\n",
    "#Importacion de la libreria numpy\n",
    "import numpy as np\n",
    "#Importacion del formato de fecha de la libreria datetime\n",
    "from datetime import datetime as dt"
   ]
  },
  {
   "cell_type": "code",
   "execution_count": null,
   "metadata": {},
   "outputs": [],
   "source": [
    "#Lectura de un flat file\n",
    "#/ --> Separador de carpetas, ..-->Regresar al path anterior\n",
    "#delimiter = 'delimitador' --> Como se separa el campo\n",
    "#header = [\"col1\",\"col2\",\"etc\"]\n",
    "df = pd.read_csv(\"[parthArchivo]\")"
   ]
  },
  {
   "cell_type": "code",
   "execution_count": null,
   "metadata": {},
   "outputs": [],
   "source": [
    "#Lectura de un JSON\n",
    "#/ --> Separador de carpetas, ..-->Regresar al path anterior\n",
    "#orient -->  'columns' (Identificador del archivo JSON como columna), \n",
    "#            'index' (Identificador del archivo JSON como columna), \n",
    "#            'values'(Sin indice el archivo)\n",
    "my_dict = pd.read_json ('[pathArchivo]')\n",
    "#Convierte un dicionario en un data frame\n",
    "df = pd.DataFrame.from_dict(my_dict)"
   ]
  },
  {
   "cell_type": "code",
   "execution_count": null,
   "metadata": {},
   "outputs": [],
   "source": [
    "#Lectura de un Excel file\n",
    "#/ --> Separador de carpetas, ..-->Regresar al path anterior\n",
    "#sheet_name = \"[sheetName]\"\n",
    "#header = [\"col1\",\"col2\",\"etc\"]\n",
    "df = pd.read_excel(\"[parthArchivo]\",)"
   ]
  },
  {
   "cell_type": "code",
   "execution_count": null,
   "metadata": {},
   "outputs": [],
   "source": [
    "#Renombrar el nombre de una columna\n",
    "df = df.rename(columns={'[nombreAnt]':'[nuevoNombre]'})"
   ]
  },
  {
   "cell_type": "code",
   "execution_count": null,
   "metadata": {},
   "outputs": [],
   "source": [
    "#Unir data frames\n",
    "#axis = 0 (Anexa por filas), 1 (Anexa por columnas)\n",
    "df = pd.concat([df1,df2,etc])"
   ]
  },
  {
   "cell_type": "code",
   "execution_count": null,
   "metadata": {},
   "outputs": [],
   "source": [
    "#Remplaza valores nulos en una columna\n",
    "df[\"nomCol\"] = df[\"nomCol\"].fillna(valor)\n",
    "#ELiminacion de las filas nulas en df\n",
    "#axis = 0 (Borra registros nulos por fila), 1 (Elimina la columna con valores nulos)\n",
    "#subSet = Nombre de las columnas para tener en cuenta\n",
    "df = df.dropna(axis=0,subset=[\"col1\",\"col2\",\"etc\"])"
   ]
  },
  {
   "cell_type": "code",
   "execution_count": null,
   "metadata": {},
   "outputs": [],
   "source": [
    "#Cambio de tipo de dato todo menos fechas\n",
    "#tipoDato = str (String),int (Numero entero),float (Numeros decimales),bool (Expreciones boleanas)\n",
    "df[\"nomCol\"]=tabla[\"nomCol\"].astype(tipoDato) \n",
    "#Cambia el formato del campo a fecha\n",
    "#format --> Formato en el que viene la fecha (https://docs.python.org/3/library/datetime.html#strftime-and-strptime-behavior)\n",
    "df[\"birthday\"] = pd.to_datetime(df[\"birthday\"],format=\"%m/%d/%Y\")"
   ]
  },
  {
   "cell_type": "code",
   "execution_count": null,
   "metadata": {},
   "outputs": [],
   "source": [
    "#Identificacion nulos\n",
    "null_columns = df.columns[df.isnull().any()]\n",
    "print(df[null_columns].isnull().sum())\n",
    "#Resumen de los campos\n",
    "df.count"
   ]
  },
  {
   "cell_type": "code",
   "execution_count": null,
   "metadata": {},
   "outputs": [],
   "source": [
    "#Importa la libreria JSON\n",
    "import json\n",
    "#Importa la libreria requests\n",
    "import requests\n",
    "\n",
    "#Permite adquirir un archivo a partir e la url que se pasa por parametro\n",
    "#auth=('user', 'pass') --> En caso de ser necesario un login\n",
    "json_response = requests.get(\"[urlJSON]\")\n",
    "\n",
    "#Se obtiene el codigo de estado\n",
    "#200 --> Es que el request fue atendido\n",
    "json_response.status_code\n",
    "\n",
    "#Crear un diccionario a partir del texto que duelve la respuesta\n",
    "dictionary = json.loads(json_response.text)\n",
    "\n",
    "#Normaliza el JSON y lo comviertirlo en un DataFrame\n",
    "#Toma solo la columna de 'columnaJSON'\n",
    "matriz = pd.DataFrame.from_dict(dictionary['columnaJSON'])\n",
    "#Asignar una columna como identificador de registros\n",
    "matriz = matriz.set_index(\"nomCol\")"
   ]
  },
  {
   "cell_type": "code",
   "execution_count": null,
   "metadata": {},
   "outputs": [],
   "source": [
    "#Importa la libreria JSON\n",
    "import json\n",
    "\n",
    "#Exportar un dictionary a un archivo JSON\n",
    "# w --> Write , r --> Read\n",
    "with open(\"[pathArchivo]\", \"w\") as salida:\n",
    "    json.dump(dictionary['columnaJSON'], salida)"
   ]
  },
  {
   "cell_type": "code",
   "execution_count": null,
   "metadata": {},
   "outputs": [],
   "source": [
    "#Importa la libreria JSON\n",
    "import json\n",
    "#Importacion de la Libreria pandas\n",
    "import pandas as pd\n",
    "\n",
    "#Convierte un data frame en un dicionario JSON\n",
    "#orient = 'records' (Identificador filas), 'columns' (Identificador columnas), 'values' (Sin identificador)\n",
    "dictionary = df.to_json()\n",
    "\n",
    "#Exportar un dictionary a un archivo JSON\n",
    "# w --> Write , r --> Read\n",
    "with open(\"[pathArchivo]\", \"w\") as salida:\n",
    "    json.dump(dictionaty['columnaJSON'], salida)"
   ]
  },
  {
   "cell_type": "markdown",
   "metadata": {},
   "source": [
    "## Graficos"
   ]
  },
  {
   "cell_type": "code",
   "execution_count": null,
   "metadata": {},
   "outputs": [],
   "source": [
    "#Se importa la libreria de pyplot\n",
    "import matplotlib.pyplot as plt"
   ]
  },
  {
   "cell_type": "code",
   "execution_count": null,
   "metadata": {},
   "outputs": [],
   "source": [
    "#Titulo del grafico\n",
    "#fontsize --> Tamaño de la fuente\n",
    "plt.title('tituloGrafico',fontsize='##')\n",
    "\n",
    "#Titulo del eje horizontal\n",
    "#fontsize --> Tamaño de la fuente\n",
    "plt.xlabel('tituloEje',fontsize='##')\n",
    "\n",
    "#Titulo del eje vertical\n",
    "#fontsize --> Tamaño de la fuente\n",
    "plt.ylabel('tituloEje',fontsize='##')\n",
    "\n",
    "#Legenda de las series\n",
    "#loc = ('best',0)-('upper right',1)-('upper left',2)-('lower left',3)-('lower right',4)-('right',5)-('center left',6)-\n",
    "#('center right',7)-('lower center',8)-('upper center',9)-('center',10) \n",
    "plt.legend([\"l1\",\"l2\",\"l3\",\"l4\"],loc='#')"
   ]
  },
  {
   "cell_type": "code",
   "execution_count": null,
   "metadata": {},
   "outputs": [],
   "source": [
    "#Grafico de pie\n",
    "#valores = [x1,x2,x3,x4,x5] --> Valores que se van a graficar\n",
    "#colors = [c1,c2,c3,c4,c5] --> Colores de cada una de las porciones en HEX (No Necesario)\n",
    "#labels = [l1,l2,l3,l4,l5] --> Data label de cada porcion (No Necesario, default None)\n",
    "#explode = [e1,e2,e3,e4,e5] --> Separacion entre cada una de las porciones del grafico (No Necesario, default 0)\n",
    "#autopct = '%.#f%%' --> Porcentaje de la porcion,# se remplaza por la cantidad de decimales (No Necesario, default None)\n",
    "#counterclock = Boolean direccion en que se ubican las tortas True (En contra de la manesillas) (No Necesario, default True)\n",
    "#shadow = Sobra de la porcion (No Necesario, default False)\n",
    "plt.pie(values,colors=colors,labels=labels,explode=explode,autopct='%.1f%%',counterclock=False,shadow=True)\n",
    "plt.show()"
   ]
  },
  {
   "cell_type": "code",
   "execution_count": null,
   "metadata": {},
   "outputs": [],
   "source": [
    "#Grafico de puntos\n",
    "#valoresX = [x1,x2,x3,x4,x5]\n",
    "#valoresY = [y1,y2,y3,y4,y5]\n",
    "#s = [s1,s2,s3,s4,s5] --> Arreglo o valor del tamaño del radio de los puntos (No Necesario)\n",
    "#c = 'HEXColor' --> Color de los puntos en forma HEX (No Necesario)\n",
    "#marker = 'forma' --> Forma del punto graficado ('.','point')-(',','pixel')-('o','circle')-('v','triangle_down')-\n",
    "#('^','triangle_up')-('<','triangle_left')-('>','triangle_right')-('1','tri_down')-('2','tri_up')-('3','tri_left')-\n",
    "#('4','tri_right')-('8','octagon')-('s','square')-('p','pentagon')-('*','star')-('h','hexagon1')-('H','hexagon2')-\n",
    "#('+','plus')-('x','x')-('D','diamond')-('d','thin_diamond')-('|','vline')-('_','hline')-('P','plus_filled')-\n",
    "#('X','x_filled')-(0,'tickleft')-(1,'tickright')-(2,'tickup')-(3,'tickdown')-(4,'caretleft')-(5,'caretright')-\n",
    "#(6,'caretup')-(7,'caretdown')-(8,'caretleftbase')-(9,'caretrightbase')-(10,'caretupbase')-(11,'caretdownbase') (No Necesario)\n",
    "plt.scatter(valoresX,valoresY,s=s,c=c,marker=marker)\n",
    "plt.show()"
   ]
  },
  {
   "cell_type": "code",
   "execution_count": null,
   "metadata": {},
   "outputs": [],
   "source": [
    "#Grafico de cajas\n",
    "#data = [[x11,x12,x13,x13,x14,x15],[x21,x22,x23,x23,x24,x25],[x31,x32,x33,x33,x34,x35],[x41,x42,x43,x43,x44,x45]]\n",
    "#vert = True (Grafico vertical), False (Grafico horizontal) (No Necesario)\n",
    "#patch_artist = True (Color de relleno), False (Solo contorno) (No Necesario)\n",
    "#labels = [\"l1\",\"l2\",\"l3\",\"l4\"]\n",
    "plt.boxplot(data,vert=True,patch_artist=True,labels=labels)\n",
    "plt.show()\n",
    "\n",
    "#Grafico de cajas con colores diferentes\n",
    "#data = [[x11,x12,x13,x13,x14,x15],[x21,x22,x23,x23,x24,x25],[x31,x32,x33,x33,x34,x35],[x41,x42,x43,x43,x44,x45]]\n",
    "#vert = True (Grafico vertical), False (Grafico horizontal) (No Necesario)\n",
    "#patch_artist = True (Color de relleno), False (Solo contorno) (No Necesario)\n",
    "#labels = [\"l1\",\"l2\",\"l3\",\"l4\"]\n",
    "box=plt.boxplot(data,vert=True,patch_artist=True,labels=labels)\n",
    "\n",
    "#colors = ['HEX1','HEX2','HEX3','HEX4'] --> Color de la caja en forma HEX (No Necesario)\n",
    "colors = colors\n",
    "for patch, color in zip(box['boxes'], colors):\n",
    "    patch.set_facecolor(color)\n",
    "    \n",
    "plt.show()"
   ]
  },
  {
   "cell_type": "code",
   "execution_count": null,
   "metadata": {},
   "outputs": [],
   "source": [
    "#Importacion de la libreria numpy\n",
    "import numpy as np\n",
    "\n",
    "#Grafico de barras\n",
    "#data = [x1,x2,x3,x4,x5]\n",
    "#labels = [\"l1\",\"l2\",\"l3\",\"l4\",\"l5\"]\n",
    "#posicion = np.arange(len(labels)) --> Arreglo con valores de 0 hasta el tamaño de las columnas\n",
    "#color = Color de las barras en forma HEX (No Necesario)\n",
    "#edgecolor = Color del contorno en forma HEX (No Necesario)\n",
    "plt.bar(posicion,data,color=color,edgecolor=edgecolor)\n",
    "#Labels de las barras\n",
    "#rotation = \"rotacion\" (angle in degrees,'vertical','horizontal')\n",
    "plt.xticks(posicion,labels,rotation='rotation')\n",
    "plt.show()\n",
    "\n",
    "#Grafico de barras apilado\n",
    "#data = [[x11,x12,x13,x14,x15],[x21,x22,x23,x24,x25],[x31,x32,x33,x34,x35],[x41,x42,x43,x44,x45]]\n",
    "#labels = [\"l1\",\"l2\",\"l3\",\"l4\",\"l5\"]\n",
    "#posicion = np.arange(len(labels)) --> Arreglo con valores de 0 hasta el tamaño de las columnas\n",
    "#color = [\"c1\",\"c2\",\"c3\",\"c4\"] --> Color de las barras en forma HEX (No Necesario)\n",
    "#edgecolor = [\"e1\",\"e2\",\"e3\",\"e4\"] --> Color de las barras en forma HEX (No Necesario)\n",
    "for i in range(0,len(data),1):\n",
    "    if i == 0:\n",
    "        plt.bar(posicion,data[i],color=color[i],edgecolor=edgecolor[i])\n",
    "    else:\n",
    "        plt.bar(posicion,data[i],color=color[i],edgecolor=edgecolor[i],bottom=np.sum(dataTotal[0:i],axis=0))\n",
    "\n",
    "#Labels de las barras\n",
    "#rotation = \"rotacion\" (angle in degrees,'vertical','horizontal')\n",
    "plt.xticks(posicion,labels,rotation='rotation')\n",
    "plt.show()\n",
    "\n",
    "#Grafico de barras multiple\n",
    "#data = [[x11,x12,x13,x14,x15],[x21,x22,x23,x24,x25],[x31,x32,x33,x34,x35],[x41,x42,x43,x44,x45]]\n",
    "#labels = [\"l1\",\"l2\",\"l3\",\"l4\",\"l5\"]\n",
    "#posicion = np.arange(len(labels)) --> Arreglo con valores de 0 hasta el tamaño de las columnas\n",
    "#barWidth = (plt.figure().get_size_inches()[0])/(len(dataTotal)*len(dataTotal[0])) --> Ancho de la barra\n",
    "#color = [\"c1\",\"c2\",\"c3\",\"c4\"] --> Color de las barras en forma HEX (No Necesario)\n",
    "#edgecolor = [\"e1\",\"e2\",\"e3\",\"e4\"] --> Color de las barras en forma HEX (No Necesario)\n",
    "for i in range(0,len(data),1):\n",
    "    plt.bar(posicion+(barWidth*i),data[i],color=color[i],edgecolor=edgecolor[i],width=barWidth)\n",
    "    \n",
    "#Labels de las barras\n",
    "#rotation = \"rotacion\" (angle in degrees,'vertical','horizontal')\n",
    "plt.xticks(posicion,labels,rotation='rotation')\n",
    "plt.show()"
   ]
  },
  {
   "cell_type": "code",
   "execution_count": 1,
   "metadata": {},
   "outputs": [],
   "source": [
    "#Histograma de frecuencias\n",
    "#values = [x1,x2,x3,x4,x5]\n",
    "#grupos = # --> Catnidad de grupos que se van a hacer en el histograma (No Necesario)\n",
    "#histtype = 'step' (Grafico de linea), 'bar' (Grafico de barra) (No Necesario)\n",
    "#align = Posicion en el grafico ('left','mid','right') (No Necesario)\n",
    "#color = Color en forma HEX (No Necesario)\n",
    "#label = Nombre de la serie (No Necesario)\n",
    "plt.hist(values,grupos, histtype=histtype, align=aling, color=color, label=label)\n",
    "plt.show()"
   ]
  },
  {
   "cell_type": "code",
   "execution_count": null,
   "metadata": {},
   "outputs": [],
   "source": [
    "#Grafico de linea\n",
    "#valoresX = [[x11,x12,x13,x14,x15],[x21,x22,x23,x24,x25]]\n",
    "#valoresY = [[y11,y12,y13,y14,y15],[y21,y22,y23,y24,y25]]\n",
    "#marker = [\"m1\",\"m2\"] --> Forma del punto graficado ('.','point')-(',','pixel')-('o','circle')-('v','triangle_down')-\n",
    "#('^','triangle_up')-('<','triangle_left')-('>','triangle_right')-('1','tri_down')-('2','tri_up')-('3','tri_left')-\n",
    "#('4','tri_right')-('8','octagon')-('s','square')-('p','pentagon')-('*','star')-('h','hexagon1')-('H','hexagon2')-\n",
    "#('+','plus')-('x','x')-('D','diamond')-('d','thin_diamond')-('|','vline')-('_','hline')-('P','plus_filled')-\n",
    "#('X','x_filled')-(0,'tickleft')-(1,'tickright')-(2,'tickup')-(3,'tickdown')-(4,'caretleft')-(5,'caretright')-\n",
    "#(6,'caretup')-(7,'caretdown')-(8,'caretleftbase')-(9,'caretrightbase')-(10,'caretupbase')-(11,'caretdownbase') (No Necesario)\n",
    "#linestyle = [\"l1\",\"l2\"] --> ('-','solid')-('--','dashed')-('-.','dashdot')-(':','dotted') (No Necesario)\n",
    "for i in range(0,len(valoresX),1):\n",
    "    plt.plot(valoresX[i],valoresY[i],marker=marker[i],linestyle=linestyle[i])\n",
    "\n",
    "plt.show()"
   ]
  },
  {
   "cell_type": "markdown",
   "metadata": {},
   "source": [
    "## Algoritmos supervisados"
   ]
  },
  {
   "cell_type": "code",
   "execution_count": null,
   "metadata": {},
   "outputs": [],
   "source": []
  }
 ],
 "metadata": {
  "kernelspec": {
   "display_name": "Python 3",
   "language": "python",
   "name": "python3"
  },
  "language_info": {
   "codemirror_mode": {
    "name": "ipython",
    "version": 3
   },
   "file_extension": ".py",
   "mimetype": "text/x-python",
   "name": "python",
   "nbconvert_exporter": "python",
   "pygments_lexer": "ipython3",
   "version": "3.7.6"
  }
 },
 "nbformat": 4,
 "nbformat_minor": 2
}
