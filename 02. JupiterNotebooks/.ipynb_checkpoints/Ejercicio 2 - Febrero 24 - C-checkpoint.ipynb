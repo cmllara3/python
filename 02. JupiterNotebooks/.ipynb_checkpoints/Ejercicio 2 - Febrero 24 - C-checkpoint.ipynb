{
 "cells": [
  {
   "cell_type": "markdown",
   "metadata": {},
   "source": [
    "<b>Paso 0.</b> Importación de librerías"
   ]
  },
  {
   "cell_type": "code",
   "execution_count": null,
   "metadata": {},
   "outputs": [],
   "source": [
    "#Importing libraries\n",
    "import pandas as pd\n",
    "import numpy as np\n",
    "import matplotlib.pyplot as plt"
   ]
  },
  {
   "cell_type": "markdown",
   "metadata": {},
   "source": [
    "<b>Paso 1.</b> Cargue de los archivos"
   ]
  },
  {
   "cell_type": "code",
   "execution_count": null,
   "metadata": {},
   "outputs": [],
   "source": [
    "#Import data train_1\n",
    "train_1 = pd.read_csv(\"../Data/train_1.csv\",delimiter=\",\")\n",
    "\n",
    "#Import data train_2\n",
    "train_2 = pd.read_csv(\"../Data/train_2.csv\",delimiter=\",\")\n",
    "\n",
    "#Import data predict_1\n",
    "predict_1 = pd.read_csv(\"../Data/predict_1.csv\",delimiter=\",\")\n",
    "\n",
    "#Import data predict_2\n",
    "predict_2 = pd.read_csv(\"../Data/predict_2.csv\",delimiter=\",\")"
   ]
  },
  {
   "cell_type": "markdown",
   "metadata": {},
   "source": [
    "<b>Paso 2.</b> Union de los DataFrame"
   ]
  },
  {
   "cell_type": "code",
   "execution_count": null,
   "metadata": {},
   "outputs": [],
   "source": [
    "#Se unen los dos data frame de entrenamiento por columnas haciendo join por la columna ID\n",
    "dataTrain = pd.concat([train_1,train_2],axis=1)\n",
    "\n",
    "#Se unen los dos data frame de prediccion por columnas haciendo join por la columna ID\n",
    "dataPredict = pd.concat([predict_1,predict_2],axis=1)"
   ]
  },
  {
   "cell_type": "markdown",
   "metadata": {},
   "source": [
    "<b>Paso 3.</b> Validacion de informacion faltante"
   ]
  },
  {
   "cell_type": "code",
   "execution_count": null,
   "metadata": {},
   "outputs": [],
   "source": [
    "#Validacion campos faltantes datos de entrenamiento\n",
    "print(\"dataTrain\")\n",
    "print(dataTrain.isnull().any())\n",
    "print(\"\")\n",
    "\n",
    "#Validacion campos faltantes datos de prediccion\n",
    "print(\"dataPredict\")\n",
    "print(dataPredict.isnull().any())"
   ]
  },
  {
   "cell_type": "markdown",
   "metadata": {},
   "source": [
    "<b>Paso 4.</b> Descripcion de las variables "
   ]
  },
  {
   "cell_type": "code",
   "execution_count": null,
   "metadata": {},
   "outputs": [],
   "source": [
    "dataTrain.describe()"
   ]
  },
  {
   "cell_type": "markdown",
   "metadata": {},
   "source": [
    "Se puede evidenciar que las diferentes varaibles no se comportan de forma normal (Campana de Gaus), un comportamiento que es necesario en la mayoria de las regresiones. Por lo cual es necesario realizar una normalizacion de las variables este proceso se hara en cada una de los modelos de predicción."
   ]
  },
  {
   "cell_type": "markdown",
   "metadata": {},
   "source": [
    "<b>Paso 5.</b> Se realiza la particion de los datos para obtener los datos de testeo y entrenamiento"
   ]
  },
  {
   "cell_type": "code",
   "execution_count": null,
   "metadata": {},
   "outputs": [],
   "source": [
    "#Separacion de los datos y la variable a predecir\n",
    "x = dataTrain.drop(columns={\"ID\",\"medv\"})\n",
    "y = dataTrain[\"medv\"]\n",
    "\n",
    "#Particion de los datos para testeo y entrenamiento\n",
    "from sklearn.model_selection import train_test_split\n",
    "xTrain, xTest, yTrain, yTest = train_test_split(x,y,test_size=0.3,random_state=101)"
   ]
  },
  {
   "cell_type": "markdown",
   "metadata": {},
   "source": [
    "<b>Paso 6.</b> Aplicación de modelo de regresión."
   ]
  },
  {
   "cell_type": "markdown",
   "metadata": {},
   "source": [
    "<b>Modelo de regresion lineal</b>\n"
   ]
  },
  {
   "cell_type": "code",
   "execution_count": null,
   "metadata": {},
   "outputs": [],
   "source": [
    "#Se importa la ejecucion secuencial \n",
    "from sklearn.pipeline import Pipeline\n",
    "#Funcion para la normalizacion de variables\n",
    "from sklearn.preprocessing import Normalizer\n",
    "#Importacion del modelo de regresion lineal\n",
    "from sklearn.linear_model import LinearRegression\n",
    "\n",
    "#Se inicializa el modelo normalizando primero y aplicando despues el modelo de regresion lineal\n",
    "modeloRLN = Pipeline([(\"normalizacion\",Normalizer()),(\"modelo\",LinearRegression())])\n",
    "\n",
    "#Se aplica el modelo de regresion lineal sobre los datos de entrenamiento\n",
    "modeloRLN.fit(xTrain, yTrain)"
   ]
  },
  {
   "cell_type": "code",
   "execution_count": null,
   "metadata": {},
   "outputs": [],
   "source": [
    "#Predicciones para regresion lineal\n",
    "predictionsRLN = modeloRLN.predict(xTest)"
   ]
  },
  {
   "cell_type": "code",
   "execution_count": null,
   "metadata": {},
   "outputs": [],
   "source": [
    "#maxError --> Estadistica de la diferencia del mayor error\n",
    "#MAE --> El promedio de los errores\n",
    "#MSE --> El promedio de los errores al cuadradro\n",
    "#r2 --> Explica que tanto porcentaje de la varianza de la totalidad del modelo es explicada por las varaibles en relacion\n",
    "\n",
    "#Se agrega el nombre de cada uno de los modelos\n",
    "print(\"Regresion Lineal\")\n",
    "\n",
    "#Se importa la metrica de maxError\n",
    "from sklearn.metrics import max_error\n",
    "\n",
    "print(\"Max Error = \",max_error(yTest,predictionsRLN))\n",
    "\n",
    "#Se importa la metrica de MAE\n",
    "from sklearn.metrics import mean_absolute_error\n",
    "\n",
    "print(\"MAE = \",mean_absolute_error(yTest,predictionsRLN))\n",
    "\n",
    "#Se importa la metrica de MSE\n",
    "from sklearn.metrics import mean_squared_error\n",
    "\n",
    "print(\"MSE = \",mean_squared_error(yTest,predictionsRLN))\n",
    "\n",
    "#Se importa la metrica de R2\n",
    "from sklearn.metrics import r2_score\n",
    "\n",
    "print(\"R2 =\",r2_score(yTest,predictionsRLN))"
   ]
  },
  {
   "cell_type": "markdown",
   "metadata": {},
   "source": [
    "<b>Paso 7.</b> Se realiza la prediccion sobre los datos entregados inicialmente"
   ]
  },
  {
   "cell_type": "code",
   "execution_count": null,
   "metadata": {},
   "outputs": [],
   "source": [
    "#Separacion de los datos y la variable a predecir\n",
    "xPredict = dataPredict.drop(columns={\"ID\"})\n",
    "\n",
    "#Predicciones para random forest\n",
    "yPredict = modeloRLN.predict(xPredict)\n",
    "\n",
    "#Se crea el data frame con el Id de la casa y el precio\n",
    "exportar = pd.concat([dataPredict.iloc[:,0],pd.DataFrame(data=yPredict,columns={\"medv\"})],axis=1)\n",
    "\n",
    "#Se exporta el DF en CSV\n",
    "exportar.to_csv(\"../Data/resultado_pred.csv\")"
   ]
  }
 ],
 "metadata": {
  "kernelspec": {
   "display_name": "Python 3",
   "language": "python",
   "name": "python3"
  },
  "language_info": {
   "codemirror_mode": {
    "name": "ipython",
    "version": 3
   },
   "file_extension": ".py",
   "mimetype": "text/x-python",
   "name": "python",
   "nbconvert_exporter": "python",
   "pygments_lexer": "ipython3",
   "version": "3.7.6"
  }
 },
 "nbformat": 4,
 "nbformat_minor": 4
}
