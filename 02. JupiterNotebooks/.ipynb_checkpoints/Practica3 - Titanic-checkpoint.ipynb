{
 "cells": [
  {
   "cell_type": "markdown",
   "metadata": {},
   "source": [
    "## Importacion de librerias"
   ]
  },
  {
   "cell_type": "code",
   "execution_count": null,
   "metadata": {},
   "outputs": [],
   "source": [
    "#Importing libraries\n",
    "import pandas as pd\n",
    "import numpy as np\n",
    "from datetime import datetime as dt\n",
    "from datetime import timedelta as td\n",
    "import matplotlib.pyplot as pl\n",
    "import seaborn as sns\n",
    "%matplotlib inline"
   ]
  },
  {
   "cell_type": "markdown",
   "metadata": {},
   "source": [
    "## Leer datos"
   ]
  },
  {
   "cell_type": "code",
   "execution_count": null,
   "metadata": {},
   "outputs": [],
   "source": [
    "#Import data titanic\n",
    "titanic = pd.read_csv(\"../01. Flat Files/titanic.csv\",delimiter=\",\")\n",
    "titanic.head(5)"
   ]
  },
  {
   "cell_type": "markdown",
   "metadata": {},
   "source": [
    "# ETL Titanic"
   ]
  },
  {
   "cell_type": "markdown",
   "metadata": {},
   "source": [
    "## Arreglo columna Age"
   ]
  },
  {
   "cell_type": "code",
   "execution_count": null,
   "metadata": {},
   "outputs": [],
   "source": [
    "#Definicion de funcion para calcular la media de la columna age\n",
    "def addAge (cols):\n",
    "    age = cols[0]\n",
    "    pclass = cols[1]\n",
    "    \n",
    "    if pd.isnull(age):\n",
    "        return int(titanic[titanic[\"Passenger Class\"] == pclass][\"Age\"].mean())\n",
    "    else:\n",
    "        return age"
   ]
  },
  {
   "cell_type": "code",
   "execution_count": null,
   "metadata": {},
   "outputs": [],
   "source": [
    "#Cantidad de registros nulos por columna en la tabla\n",
    "null_columns = titanic.columns[titanic.isnull().any()]\n",
    "print(titanic[null_columns].isnull().sum())\n",
    "print(\"\")\n",
    "\n",
    "del null_columns\n",
    "\n",
    "#Aplica sobre la columna age la funcion add_age\n",
    "titanic[\"Age\"] = titanic[[\"Age\",\"Passenger Class\"]].apply(addAge,axis=1) #Axis 1 para que lo aplique sobre la columna\n",
    "  \n",
    "#Cantidad de registros nulos por columna en la tabla\n",
    "null_columns = titanic.columns[titanic.isnull().any()]\n",
    "print(titanic[null_columns].isnull().sum())\n",
    "\n",
    "del null_columns"
   ]
  },
  {
   "cell_type": "markdown",
   "metadata": {},
   "source": [
    "## Eliminar columnas de Cabin y Life Boat"
   ]
  },
  {
   "cell_type": "code",
   "execution_count": null,
   "metadata": {},
   "outputs": [],
   "source": [
    "#Cantidad de registros nulos por columna en la tabla\n",
    "null_columns = titanic.columns[titanic.isnull().any()]\n",
    "print(titanic[null_columns].isnull().sum())\n",
    "print(\"\")\n",
    "\n",
    "del null_columns\n",
    "\n",
    "#ELiminacion de las clumnas Cabin y Life Boat\n",
    "titanic = titanic.drop(columns=[\"Cabin\",\"Life Boat\"])\n",
    "\n",
    "#Cantidad de registros nulos por columna en la tabla\n",
    "null_columns = titanic.columns[titanic.isnull().any()]\n",
    "print(titanic[null_columns].isnull().sum())\n",
    "\n",
    "del null_columns"
   ]
  },
  {
   "cell_type": "markdown",
   "metadata": {},
   "source": [
    "## Arreglo columnas de Passenger Fare y Port of Embarkation"
   ]
  },
  {
   "cell_type": "code",
   "execution_count": null,
   "metadata": {},
   "outputs": [],
   "source": [
    "#Cantidad de registros nulos por columna en la tabla\n",
    "null_columns = titanic.columns[titanic.isnull().any()]\n",
    "print(titanic[null_columns].isnull().sum())\n",
    "print(\"\")\n",
    "\n",
    "del null_columns\n",
    "\n",
    "#ELiminacion de las filas nulas en Passenger Fare y Port of Embarkation\n",
    "titanic = titanic.dropna(axis=\"index\", subset=[\"Passenger Fare\",\"Port of Embarkation\"])\n",
    "\n",
    "#Cantidad de registros nulos por columna en la tabla\n",
    "null_columns = titanic.columns[titanic.isnull().any()]\n",
    "print(titanic[null_columns].isnull().sum())\n",
    "\n",
    "del null_columns"
   ]
  },
  {
   "cell_type": "markdown",
   "metadata": {},
   "source": [
    "## Convertir a nominal las columnas string (Cuando es posible)"
   ]
  },
  {
   "cell_type": "code",
   "execution_count": null,
   "metadata": {},
   "outputs": [],
   "source": [
    "#Se convierte la columna Sex en nominal\n",
    "sex = pd.get_dummies(titanic[\"Sex\"])\n",
    "#Se convierte la columna Passenger Class en nominal\n",
    "ps_class = pd.get_dummies(titanic[\"Passenger Class\"])\n",
    "#Se convierte la columna Port of Embarkation en nominal\n",
    "embarkation = pd.get_dummies(titanic[\"Port of Embarkation\"])\n",
    "\n",
    "#Se hace la concactenacion de las columnas con concat \n",
    "titanic = pd.concat([titanic,sex,ps_class,embarkation],axis=1) #Axis 1 agrega las columnas \n",
    "titanic.head()"
   ]
  },
  {
   "cell_type": "markdown",
   "metadata": {},
   "source": [
    "## Creacion de copia independiente de Titanic"
   ]
  },
  {
   "cell_type": "code",
   "execution_count": null,
   "metadata": {},
   "outputs": [],
   "source": [
    "seaTitanic = titanic.copy()\n",
    "seaTitanic.head()"
   ]
  },
  {
   "cell_type": "markdown",
   "metadata": {},
   "source": [
    "## Eliminacion de columnas que no son relevantes en el modelo"
   ]
  },
  {
   "cell_type": "code",
   "execution_count": null,
   "metadata": {},
   "outputs": [],
   "source": [
    "titanic = titanic.drop(columns = [\"Passenger Class\",\"Name\",\"Sex\",\"Ticket Number\",\"Port of Embarkation\",\"Passenger Fare\"])\n",
    "titanic.head()"
   ]
  },
  {
   "cell_type": "markdown",
   "metadata": {},
   "source": [
    "# Mineria de datos"
   ]
  },
  {
   "cell_type": "markdown",
   "metadata": {},
   "source": [
    "## Proceso de entrenamiento"
   ]
  },
  {
   "cell_type": "code",
   "execution_count": null,
   "metadata": {},
   "outputs": [],
   "source": [
    "# Se deja una matriz con las columnas predictorias\n",
    "x = titanic.drop(columns=[\"Survived\"])\n",
    "# Un arreglo con la columna predecida\n",
    "y = titanic[\"Survived\"]"
   ]
  },
  {
   "cell_type": "code",
   "execution_count": null,
   "metadata": {},
   "outputs": [],
   "source": [
    "#Importa la funcion train test split\n",
    "from sklearn.model_selection import train_test_split\n",
    "\n",
    "#Se obtienen 4 variables con la informacion necesaria para correr un modelo de prediccion, con la matriz de entrenamiento\n",
    "xTrain, xTest, yTrain, yTest = train_test_split(x,y,test_size = 0.3, random_state = 101)"
   ]
  },
  {
   "cell_type": "markdown",
   "metadata": {},
   "source": [
    "## Prediccion por Regresion Logistica"
   ]
  },
  {
   "cell_type": "code",
   "execution_count": null,
   "metadata": {},
   "outputs": [],
   "source": [
    "#Importa el el modelo de LogisticRegression\n",
    "from sklearn.linear_model import LogisticRegression\n",
    "\n",
    "logmodel = LogisticRegression(max_iter=1000)\n",
    "logmodel.fit(xTrain,yTrain)"
   ]
  },
  {
   "cell_type": "code",
   "execution_count": null,
   "metadata": {},
   "outputs": [],
   "source": [
    "#Apply model\n",
    "predictions = logmodel.predict(xTest)\n",
    "\n",
    "from sklearn.metrics import classification_report\n",
    "\n",
    "#Matriz de precision (accuracy)\n",
    "print(classification_report(yTest,predictions))"
   ]
  }
 ],
 "metadata": {
  "kernelspec": {
   "display_name": "Python 3",
   "language": "python",
   "name": "python3"
  },
  "language_info": {
   "codemirror_mode": {
    "name": "ipython",
    "version": 3
   },
   "file_extension": ".py",
   "mimetype": "text/x-python",
   "name": "python",
   "nbconvert_exporter": "python",
   "pygments_lexer": "ipython3",
   "version": "3.7.6"
  }
 },
 "nbformat": 4,
 "nbformat_minor": 2
}
