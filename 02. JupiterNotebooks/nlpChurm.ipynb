{
 "cells": [
  {
   "cell_type": "markdown",
   "metadata": {},
   "source": [
    "# Ejercicio 6.5 NLP "
   ]
  },
  {
   "cell_type": "markdown",
   "metadata": {},
   "source": [
    "### Importacion de librerias a utilizar"
   ]
  },
  {
   "cell_type": "markdown",
   "metadata": {},
   "source": [
    "<b>Paso 0.</b> Instalacion de librerias de anaconda"
   ]
  },
  {
   "cell_type": "markdown",
   "metadata": {},
   "source": [
    "conda install -c anaconda nltk\n",
    "\n",
    "conda install -c conda-forge r-stopwords\n",
    "\n",
    "pip install stop-words\n",
    "\n",
    "conda install -c conda-forge textblob"
   ]
  },
  {
   "cell_type": "markdown",
   "metadata": {},
   "source": [
    "<b>Paso 1.</b> Importacion de librerias"
   ]
  },
  {
   "cell_type": "code",
   "execution_count": 1,
   "metadata": {},
   "outputs": [
    {
     "name": "stderr",
     "output_type": "stream",
     "text": [
      "[nltk_data] Downloading package stopwords to\n",
      "[nltk_data]     C:\\Users\\USUARIO\\AppData\\Roaming\\nltk_data...\n",
      "[nltk_data]   Package stopwords is already up-to-date!\n"
     ]
    }
   ],
   "source": [
    "#Importacion de numpy\n",
    "import numpy as np\n",
    "#Importacion de pandas\n",
    "import pandas as pd\n",
    "#Importacion de pyplot\n",
    "import matplotlib.pyplot as plt\n",
    "#Importacion de seaborn\n",
    "import seaborn as sns\n",
    "#Importacion de nltk\n",
    "import nltk \n",
    "nltk.download('stopwords')\n",
    "#Importacion de stopwords\n",
    "from nltk.corpus import stopwords\n",
    "#Importacion de re para eliminar caracteres especiales\n",
    "import re"
   ]
  },
  {
   "cell_type": "markdown",
   "metadata": {},
   "source": [
    "## ETL"
   ]
  },
  {
   "cell_type": "markdown",
   "metadata": {},
   "source": [
    "<b>Paso 2.</b> Lectura del archivo de excel con los datos del empleado"
   ]
  },
  {
   "cell_type": "code",
   "execution_count": 2,
   "metadata": {
    "scrolled": true
   },
   "outputs": [
    {
     "data": {
      "text/html": [
       "<div>\n",
       "<style scoped>\n",
       "    .dataframe tbody tr th:only-of-type {\n",
       "        vertical-align: middle;\n",
       "    }\n",
       "\n",
       "    .dataframe tbody tr th {\n",
       "        vertical-align: top;\n",
       "    }\n",
       "\n",
       "    .dataframe thead th {\n",
       "        text-align: right;\n",
       "    }\n",
       "</style>\n",
       "<table border=\"1\" class=\"dataframe\">\n",
       "  <thead>\n",
       "    <tr style=\"text-align: right;\">\n",
       "      <th></th>\n",
       "      <th>CanDoBetter</th>\n",
       "      <th>ID</th>\n",
       "      <th>Training</th>\n",
       "      <th>Est_Income</th>\n",
       "      <th>Benefit</th>\n",
       "      <th>length_of_hire</th>\n",
       "      <th>Facility</th>\n",
       "      <th>DriveTime</th>\n",
       "      <th>Marital</th>\n",
       "      <th>SpousalBenefit</th>\n",
       "      <th>StockPlan</th>\n",
       "      <th>TrainingRecieved</th>\n",
       "      <th>PositionType</th>\n",
       "      <th>Education</th>\n",
       "      <th>Status</th>\n",
       "    </tr>\n",
       "  </thead>\n",
       "  <tbody>\n",
       "    <tr>\n",
       "      <th>0</th>\n",
       "      <td>better non-monetary benefits.</td>\n",
       "      <td>2181.0</td>\n",
       "      <td>Y</td>\n",
       "      <td>60095.20000</td>\n",
       "      <td>Y</td>\n",
       "      <td>58.479532</td>\n",
       "      <td>Facility A</td>\n",
       "      <td>More than 90 mnts</td>\n",
       "      <td>Married</td>\n",
       "      <td>Yes</td>\n",
       "      <td>Yes</td>\n",
       "      <td>No</td>\n",
       "      <td>Sales</td>\n",
       "      <td>Associate, High school, or Certification</td>\n",
       "      <td>Current</td>\n",
       "    </tr>\n",
       "    <tr>\n",
       "      <th>1</th>\n",
       "      <td>company outings</td>\n",
       "      <td>2829.0</td>\n",
       "      <td>Y</td>\n",
       "      <td>47049.07979</td>\n",
       "      <td>N</td>\n",
       "      <td>35.714286</td>\n",
       "      <td>Facility B</td>\n",
       "      <td>0-30 mnts</td>\n",
       "      <td>Married</td>\n",
       "      <td>Yes</td>\n",
       "      <td>No</td>\n",
       "      <td>Yes</td>\n",
       "      <td>Sales</td>\n",
       "      <td>Associate, High school, or Certification</td>\n",
       "      <td>Current</td>\n",
       "    </tr>\n",
       "    <tr>\n",
       "      <th>2</th>\n",
       "      <td>Having more safety meeting, and discussing wha...</td>\n",
       "      <td>2144.0</td>\n",
       "      <td>Y</td>\n",
       "      <td>60724.12250</td>\n",
       "      <td>Y</td>\n",
       "      <td>17.152659</td>\n",
       "      <td>Facility B</td>\n",
       "      <td>60-90 mnts</td>\n",
       "      <td>Married</td>\n",
       "      <td>Yes</td>\n",
       "      <td>Yes</td>\n",
       "      <td>Yes</td>\n",
       "      <td>Sales</td>\n",
       "      <td>Masters Degree</td>\n",
       "      <td>Past</td>\n",
       "    </tr>\n",
       "  </tbody>\n",
       "</table>\n",
       "</div>"
      ],
      "text/plain": [
       "                                         CanDoBetter      ID Training  \\\n",
       "0                      better non-monetary benefits.  2181.0        Y   \n",
       "1                                    company outings  2829.0        Y   \n",
       "2  Having more safety meeting, and discussing wha...  2144.0        Y   \n",
       "\n",
       "    Est_Income Benefit  length_of_hire    Facility          DriveTime  \\\n",
       "0  60095.20000       Y       58.479532  Facility A  More than 90 mnts   \n",
       "1  47049.07979       N       35.714286  Facility B          0-30 mnts   \n",
       "2  60724.12250       Y       17.152659  Facility B         60-90 mnts   \n",
       "\n",
       "   Marital SpousalBenefit StockPlan TrainingRecieved PositionType  \\\n",
       "0  Married            Yes       Yes               No        Sales   \n",
       "1  Married            Yes        No              Yes        Sales   \n",
       "2  Married            Yes       Yes              Yes        Sales   \n",
       "\n",
       "                                  Education   Status  \n",
       "0  Associate, High school, or Certification  Current  \n",
       "1  Associate, High school, or Certification  Current  \n",
       "2                            Masters Degree     Past  "
      ]
     },
     "execution_count": 2,
     "metadata": {},
     "output_type": "execute_result"
    }
   ],
   "source": [
    "#Load the dataset into a dataframe \n",
    "#Employeedf = pd.read_excel(\"../Datos/6.5. EmployeeData.xlsx\", sheet_name='RapidMiner Data')\n",
    "Employeedf = pd.read_excel(\"../01. Flat Files/6.5. EmployeeData.xlsx\", sheet_name='RapidMiner Data')\n",
    "Employeedf.head(3)"
   ]
  },
  {
   "cell_type": "markdown",
   "metadata": {},
   "source": [
    "<b> Paso 3.</b> Revision de la cantidad de datos que se tienen del DF Employeedf"
   ]
  },
  {
   "cell_type": "code",
   "execution_count": 3,
   "metadata": {},
   "outputs": [
    {
     "data": {
      "text/plain": [
       "CanDoBetter         1689\n",
       "ID                  1715\n",
       "Training            1715\n",
       "Est_Income          1715\n",
       "Benefit             1715\n",
       "length_of_hire      1715\n",
       "Facility            1715\n",
       "DriveTime           1715\n",
       "Marital             1715\n",
       "SpousalBenefit      1715\n",
       "StockPlan           1715\n",
       "TrainingRecieved    1715\n",
       "PositionType        1715\n",
       "Education           1715\n",
       "Status              1715\n",
       "dtype: int64"
      ]
     },
     "execution_count": 3,
     "metadata": {},
     "output_type": "execute_result"
    }
   ],
   "source": [
    "#Cuenta la cantidad de registros no nulos por columna\n",
    "Employeedf.count()"
   ]
  },
  {
   "cell_type": "markdown",
   "metadata": {},
   "source": [
    "<b>Paso 4.</b> Se realiza la limpieza para las columnas necesarias"
   ]
  },
  {
   "cell_type": "code",
   "execution_count": 4,
   "metadata": {},
   "outputs": [
    {
     "data": {
      "text/plain": [
       "CanDoBetter         1715\n",
       "ID                  1715\n",
       "Training            1715\n",
       "Est_Income          1715\n",
       "Benefit             1715\n",
       "length_of_hire      1715\n",
       "Facility            1715\n",
       "DriveTime           1715\n",
       "Marital             1715\n",
       "SpousalBenefit      1715\n",
       "StockPlan           1715\n",
       "TrainingRecieved    1715\n",
       "PositionType        1715\n",
       "Education           1715\n",
       "Status              1715\n",
       "dtype: int64"
      ]
     },
     "execution_count": 4,
     "metadata": {},
     "output_type": "execute_result"
    }
   ],
   "source": [
    "#Limpiamos filas en blanco\n",
    "Employeedf = Employeedf.dropna(subset=['ID'])\n",
    "\n",
    "#Normalizamos CanDoBetter con \"nothing\"\n",
    "Employeedf[\"CanDoBetter\"].fillna(\"nothing\", inplace = True) \n",
    "\n",
    "#Cuenta la cantidad de registros no nulos por columna\n",
    "Employeedf.count()"
   ]
  },
  {
   "cell_type": "markdown",
   "metadata": {},
   "source": [
    "## Modelo 1 - NLTK"
   ]
  },
  {
   "cell_type": "markdown",
   "metadata": {},
   "source": [
    "<b>Paso 5.</b> Se tokenizan las palabras de la columna CanDoBetter"
   ]
  },
  {
   "cell_type": "code",
   "execution_count": 5,
   "metadata": {},
   "outputs": [
    {
     "name": "stdout",
     "output_type": "stream",
     "text": [
      "better:116\n",
      "non-monetary:1\n",
      "benefits:25\n",
      "company:37\n",
      "outings:13\n",
      "safety:1\n",
      "meeting:2\n",
      "discussing:1\n",
      "wha:1\n",
      "careerpromotions:122\n",
      "dont:16\n",
      "want:2\n",
      "answer:5\n",
      "board:2\n",
      "members:1\n",
      "listen:67\n",
      "pay:243\n",
      "even:5\n",
      "new:4\n",
      "employee:23\n",
      "starts:1\n",
      "recognize:15\n",
      "good:26\n",
      "works:8\n",
      "boot:1\n",
      "planning:1\n",
      "retire:1\n",
      "day:2\n",
      "c:4\n",
      "treat:27\n",
      "employees:79\n",
      "respect:20\n",
      "higher:15\n",
      "wage:4\n",
      "pension:186\n",
      "know:16\n",
      "401k:15\n",
      "raise:21\n",
      "industry:7\n",
      "standard:7\n",
      "im:4\n",
      "satisfied:2\n",
      "sponsored:7\n",
      "after-work:6\n",
      "eve:5\n",
      "incentives:25\n",
      "could:14\n",
      "communicate:4\n",
      "let:2\n",
      "us:12\n",
      "reward:12\n",
      "benefit:21\n",
      "allow:4\n",
      "advancement:3\n",
      "take:38\n",
      "action:35\n",
      "practice:1\n",
      "preach:1\n",
      "hold:1\n",
      "th:3\n",
      "nc:1\n",
      "raised:1\n",
      "social:97\n",
      "events:100\n",
      "focused:1\n",
      "performance:12\n",
      "across:2\n",
      "busi:1\n",
      "need:7\n",
      "training:6\n",
      "up-to-date:1\n",
      "skills:2\n",
      "periodic:1\n",
      "extra:1\n",
      "offer:27\n",
      "fair:3\n",
      "compensation:16\n",
      "like:9\n",
      "many:4\n",
      "ot:1\n",
      "vacation:22\n",
      "time:29\n",
      "would:9\n",
      "change:2\n",
      "one:3\n",
      "w:4\n",
      "retirement:3\n",
      "fund:1\n",
      "make:11\n",
      "perks:8\n",
      "appealing:3\n",
      "stop:8\n",
      "rewarding:1\n",
      "give:14\n",
      "credit:1\n",
      "childcare:9\n",
      "support:8\n",
      "rollover:15\n",
      "wages:2\n",
      "cost:3\n",
      "living:2\n",
      "raises:11\n",
      "insurance:7\n",
      "appre:1\n",
      "perk:12\n",
      "quit:1\n",
      "promoting:1\n",
      "worst:1\n",
      "manageme:1\n",
      "activities:5\n",
      "reorganizing:1\n",
      "every:3\n",
      "year:4\n",
      "two:1\n",
      "education:9\n",
      "reimbursement:12\n",
      "occasional:1\n",
      "focus:2\n",
      "groups:1\n",
      "get:10\n",
      "idea:2\n",
      "flexible:9\n",
      "working:10\n",
      "hours:10\n",
      "provide:7\n",
      "act:6\n",
      "keep:10\n",
      "longe:4\n",
      "previous:4\n",
      "question:2\n",
      "transparency:1\n",
      "honesty:1\n",
      "management:13\n",
      "actually:6\n",
      "believe:1\n",
      "whole:1\n",
      "state:1\n",
      "bri:1\n",
      "nil:1\n",
      "show:2\n",
      "actively:1\n",
      "suggesti:1\n",
      "informed:2\n",
      "occurring:1\n",
      "unknown:1\n",
      "comment:17\n",
      "something:2\n",
      "promote:1\n",
      "within:1\n",
      "secretiv:1\n",
      "college:5\n",
      "hard:3\n",
      "identify:1\n",
      "words:1\n",
      "much:7\n",
      "probl:1\n",
      "yes:3\n",
      "treatment:1\n",
      "non:1\n",
      "sales:4\n",
      "na:1\n",
      "improve:14\n",
      "communication:24\n",
      "intra:1\n",
      "departments:5\n",
      "think:11\n",
      "mostly:1\n",
      "happy:3\n",
      "far:5\n",
      "improving:2\n",
      "work:16\n",
      "environment:1\n",
      "offi:1\n",
      "sure:7\n",
      "meals:1\n",
      "everyone:2\n",
      "subsistence:1\n",
      "drastically:1\n",
      "sourcing:1\n",
      "jobs:1\n",
      "remain:1\n",
      "flex:2\n",
      "twice:1\n",
      "rules:1\n",
      "must:1\n",
      "f:2\n",
      "facilities:303\n",
      "acknowledgement:2\n",
      "merit:2\n",
      "ad:1\n",
      "selecting:1\n",
      "level:2\n",
      "people:10\n",
      "respond:8\n",
      "concerns:7\n",
      "offe:1\n",
      "little:1\n",
      "bonus:11\n",
      "syste:1\n",
      "honest:1\n",
      "package:8\n",
      "healthcare:6\n",
      "may:1\n",
      "verbal:1\n",
      "praise:1\n",
      "things:2\n",
      "ri:1\n",
      "encouragement:2\n",
      "staff:4\n",
      "development:2\n",
      "tim:1\n",
      "frequent:1\n",
      "increase:14\n",
      "see:3\n",
      "plan:1\n",
      "group:1\n",
      "togethers:1\n",
      "feel:3\n",
      "subcontracts:1\n",
      "outing:8\n",
      "job:14\n",
      "retaining:1\n",
      "none:9\n",
      "yearly:3\n",
      "event:1\n",
      "spouses:1\n",
      "matching:2\n",
      "less:5\n",
      "politics:2\n",
      "emphasis:2\n",
      "frequently:1\n",
      "review:5\n",
      "overall:1\n",
      "structure:2\n",
      "proactive:1\n",
      "role:1\n",
      "career:4\n",
      "bout:1\n",
      "giving:5\n",
      "satisfaction:9\n",
      "never:1\n",
      "picnic:1\n",
      "place:3\n",
      "interesting:1\n",
      "fish:1\n",
      "maybe:2\n",
      "official:1\n",
      "entirely:1\n",
      "certain:1\n",
      "everything:2\n",
      "cool:1\n",
      "penalized:1\n",
      "taking:1\n",
      "gave:2\n",
      "everybody:1\n",
      "ins:1\n",
      "free:4\n",
      "lunches:2\n",
      "salaries:3\n",
      "equivalent:1\n",
      "offered:1\n",
      "leveraged:1\n",
      "upgrade:1\n",
      "positions:2\n",
      "careerpromo:1\n",
      "handbook:1\n",
      "40:1\n",
      "provided:1\n",
      "credi:1\n",
      "team:8\n",
      "stress:1\n",
      "-:1\n",
      "cut:1\n",
      "backs:1\n",
      "building:1\n",
      "issues:1\n",
      "conduct:1\n",
      "pe:1\n",
      "empower:1\n",
      "hav:1\n",
      "office:5\n",
      "atmosphere:1\n",
      "dark:1\n",
      "gloo:1\n",
      "honor:1\n",
      "contracts:1\n",
      "signed:1\n",
      "promises:1\n",
      "rew:1\n",
      "managers:3\n",
      "decisions:1\n",
      "red:1\n",
      "increases:2\n",
      "stay:2\n",
      "longer:2\n",
      "shorten:1\n",
      "disconnect:1\n",
      "corporate:2\n",
      "unlike:1\n",
      "bosses:1\n",
      "meetings:1\n",
      "consume:1\n",
      "lot:2\n",
      "regional:1\n",
      "information:2\n",
      "sharing:1\n",
      "involved:2\n",
      "monetary:1\n",
      "business:4\n",
      "chairs:1\n",
      "squeaky:1\n",
      "wheels:1\n",
      "upward:1\n",
      "mobility:2\n",
      "achieved:1\n",
      "clear:1\n",
      "often:2\n",
      "appreciation:2\n",
      "manage:1\n",
      "faineances:1\n",
      "insulat:1\n",
      "health:4\n",
      "schedules:2\n",
      "commission:1\n",
      "break:1\n",
      "medical:3\n",
      "quite:1\n",
      "expensive:1\n",
      "li:1\n",
      "though:1\n",
      "fringe:1\n",
      "tasks:1\n",
      "well:4\n",
      "done:4\n",
      "realistic:1\n",
      "quota:1\n",
      "assignment:1\n",
      "reps:1\n",
      "start:3\n",
      "hr:2\n",
      "approval:1\n",
      "processes:1\n",
      "communicatio:1\n",
      "technology:2\n",
      "increasing:1\n",
      "number:1\n",
      "full:1\n",
      "somebody:1\n",
      "always:4\n",
      "going:2\n",
      "unhap:1\n",
      "consistent:2\n",
      "program:2\n",
      "written:1\n",
      "poli:1\n",
      "contests:1\n",
      "parties:1\n",
      "fl:2\n",
      "reflecting:4\n",
      "performan:3\n",
      "individual:2\n",
      "achievement:2\n",
      "bettertreat:1\n",
      "adjust:1\n",
      "scale:3\n",
      "reflect:1\n",
      "for-profit:1\n",
      "scales:1\n",
      "someth:1\n",
      "annual:2\n",
      "reviews:3\n",
      "strictly:1\n",
      "family:2\n",
      "messages:1\n",
      "upper:1\n",
      "executive:1\n",
      "stronger:1\n",
      "operational:1\n",
      "systems:1\n",
      "really:3\n",
      "help:3\n",
      "wi:1\n",
      "contact:1\n",
      "ava:1\n",
      "positive:2\n",
      "feedback:3\n",
      "profess:1\n",
      "aware:2\n",
      "notice:1\n",
      "costs:1\n",
      "invest:1\n",
      "kickoff:1\n",
      "optional:1\n",
      "match:3\n",
      "aggrav:1\n",
      "effort:1\n",
      "yetim:1\n",
      "still:1\n",
      "without:1\n",
      "surrounding:1\n",
      "area:1\n",
      "school:1\n",
      "cannot:1\n",
      "anything:4\n",
      "air:1\n",
      "quality:1\n",
      "department:1\n",
      "trips:1\n",
      "dinners:1\n",
      "alon:1\n",
      "supervisors:1\n",
      "1980s:1\n",
      "music:1\n",
      "everyday:1\n",
      "continue:2\n",
      "revert:1\n",
      "old:2\n",
      "days:2\n",
      "shifts:1\n",
      "also:1\n",
      "follow:3\n",
      "thr:2\n",
      "rid:3\n",
      "ceo:1\n",
      "unsure:2\n",
      "nice:3\n",
      "competitiv:1\n",
      "union:2\n",
      "du:1\n",
      "cheaper:1\n",
      "cant:3\n",
      "wish:1\n",
      "treated:1\n",
      "equally:1\n",
      "pool:1\n",
      "beer:1\n",
      "morning:1\n",
      "say:3\n",
      "different:1\n",
      "lik:1\n",
      "measures:1\n",
      "fix:1\n",
      "problems:1\n",
      "thru:2\n",
      "except:1\n",
      "offering:2\n",
      "dental:2\n",
      "benef:1\n",
      "coverage:4\n",
      "compensate:1\n",
      "fire:2\n",
      "store:1\n",
      "manager:1\n",
      "hire:2\n",
      "someone:1\n",
      "use:1\n",
      "treating:1\n",
      "valuable:1\n",
      "rather:2\n",
      "exp:1\n",
      "promotions:2\n",
      "havent:1\n",
      "heard:1\n",
      "tuition:1\n",
      "put:1\n",
      "end:2\n",
      "clicks:1\n",
      "preferential:1\n",
      "trea:1\n",
      "revues:1\n",
      "cond:1\n",
      "consider:1\n",
      "human:1\n",
      "element:1\n",
      "wet:1\n",
      "bar:1\n",
      "personal:4\n",
      "developments:1\n",
      "major:1\n",
      "changes:1\n",
      "favoritism:1\n",
      "rearrange:1\n",
      "seatingcubicles:1\n",
      "attention:1\n",
      "diversity:1\n",
      "lack:1\n",
      "relative:1\n",
      "simil:1\n",
      "moral:1\n",
      "last:1\n",
      "years:1\n",
      "compa:1\n",
      "involve:1\n",
      "lower:1\n",
      "decision:2\n",
      "pr:1\n",
      "sort:1\n",
      "christmas:1\n",
      "gift:1\n",
      "generously:1\n",
      "listening:2\n",
      "proble:1\n",
      "resources:1\n",
      "hiring:1\n",
      "skilled:1\n",
      "workers:1\n",
      "open:2\n",
      "doesnt:1\n",
      "screen:1\n",
      "timely:1\n",
      "actions:1\n",
      "consultation:1\n",
      "care:3\n",
      "perhaps:1\n",
      "spend:2\n",
      "money:6\n",
      "bein:1\n",
      "general:1\n",
      "complaining:1\n",
      "internal:1\n",
      "right:1\n",
      "co:1\n",
      "significant:1\n",
      "differentiat:1\n",
      "bureaucracy:1\n",
      "funding:1\n",
      "worthless:1\n",
      "order:1\n",
      "entry:1\n",
      "process:1\n",
      "enough:1\n",
      "said:1\n",
      "correctly:1\n",
      "expanding:1\n",
      "workforce:1\n",
      "real:2\n",
      "professional:1\n",
      "growth:2\n",
      "needs:4\n",
      "option:1\n",
      "comes:2\n",
      "mind:1\n",
      "responses:1\n",
      "suggestions:1\n",
      "offere:1\n",
      "back:1\n",
      "took:1\n",
      "away:1\n",
      "available:1\n",
      "n:2\n",
      "least:1\n",
      "chance:1\n",
      "buy:1\n",
      "medi:1\n",
      "based:3\n",
      "worked:1\n",
      "used:1\n",
      "bigger:1\n",
      "employer:1\n",
      "ira:1\n",
      "cont:1\n",
      "posting:1\n",
      "offerings:1\n",
      "e:1\n",
      "availability:1\n",
      "replace:1\n",
      "co-managers:1\n",
      "yet:1\n",
      "reasons:1\n",
      "list:1\n",
      "crap:1\n",
      "mor:1\n",
      "supportive:1\n",
      "tha:1\n",
      "bringing:1\n",
      "remote:1\n",
      "offices:1\n",
      "cul:1\n",
      "view:1\n",
      "employment:1\n",
      "making:3\n",
      "valued:1\n",
      "member:1\n",
      "bonuses:4\n",
      "long:1\n",
      "financially:1\n",
      "expand:1\n",
      "network:1\n",
      "encourage:1\n",
      "interdepartmental:1\n",
      "interaction:2\n",
      "financial:1\n",
      "professionals:1\n",
      "discipl:1\n",
      "greater:1\n",
      "opportunities:1\n",
      "betw:1\n",
      "flex-time:1\n",
      "reimbu:1\n",
      "big:1\n",
      "brother:1\n",
      "located:1\n",
      "bottles:1\n",
      "water:1\n",
      "cookies:1\n",
      "fairly:5\n",
      "acting:1\n",
      "upon:1\n",
      "vision:1\n",
      "cutting:1\n",
      "commissions:1\n",
      "policies:1\n",
      "throughout:1\n",
      "entire:1\n",
      "u:1\n",
      "movies:1\n",
      "create:1\n",
      "instead:2\n",
      "parking:2\n",
      "employers:1\n",
      "unannoun:1\n",
      "distribute:1\n",
      "load:1\n",
      "r:1\n",
      "interest:2\n",
      "answers:1\n",
      "analyzing:1\n",
      "results:1\n",
      "reverse:1\n",
      "cutbacks:1\n",
      "try:1\n",
      "train:1\n",
      "lear:1\n",
      "sick:1\n",
      "ti:1\n",
      "channels:1\n",
      "starters:1\n",
      "active:1\n",
      "overtime:1\n",
      "etc:1\n",
      "positio:1\n",
      "su:1\n",
      "departmen:1\n",
      "showing:1\n",
      "proper:1\n",
      "tre:1\n",
      "part-time:1\n",
      "superior:1\n",
      "betterfaster:1\n",
      "communi:1\n",
      "according:1\n",
      "boss:1\n",
      "add:1\n",
      "please:1\n",
      "recognition:2\n",
      "company-matched:1\n",
      "include:1\n",
      "wider:1\n",
      "selection:1\n",
      "high:1\n",
      "laptops:1\n",
      "desktops:1\n",
      "tell:1\n",
      "improved:1\n",
      "condi:1\n",
      "talk:1\n",
      "minimum:1\n",
      "objectivity:1\n",
      "lose:1\n",
      "threat:1\n",
      "beyond:1\n",
      "repair:1\n",
      "--:1\n",
      "closing:1\n",
      "gossipers:1\n",
      "trouble:1\n",
      "makers:1\n",
      "pizza:1\n",
      "cheesebu:1\n",
      "times:1\n",
      "v:1\n",
      "security:1\n",
      "way:1\n",
      "fine:1\n"
     ]
    }
   ],
   "source": [
    "#Tokenizamos las palabras --> la palabras se vuelven un vector todas en minuscula\n",
    "text = Employeedf[\"CanDoBetter\"].to_string(index=False).lower()\n",
    "\n",
    "#Imprime el arreglo de text\n",
    "#print(text)     \n",
    "\n",
    "#Se realiza un arreglo con cada una de las palabras que tiene el campo ConDoBetter\n",
    "tokens = [t for t in text.split()]\n",
    "\n",
    "#Se imprime el arreglo tokens\n",
    "#print(tokens)\n",
    "\n",
    "#Removemos caracteres especiales\n",
    "tokens = [re.sub('[^a-zA-Z0-9\\s-]+', '',_) for _ in tokens]\n",
    "\n",
    "#Arreglo que representa las palabras  las palabras neutras\n",
    "clean_tokens = tokens[:]\n",
    "\n",
    "#Se obtine un arreglo de palabras neutras en ingles\n",
    "sr = stopwords.words('english')\n",
    "\n",
    "for token in tokens:\n",
    "    \n",
    "    #Si la palabra esta en el diccionario de stopwords\n",
    "    if token in sr:\n",
    "        clean_tokens.remove(token)\n",
    "    \n",
    "    #Si la palabra es nothing se elimina\n",
    "    if token in [\"nothing\",\"\"]:\n",
    "        clean_tokens.remove(token)\n",
    "        \n",
    "    #Si el token es un numero 1\n",
    "    if len(token) in [\"1\"]:\n",
    "        clean_tokens.remove(token)\n",
    "\n",
    "#Contamos frecuencia de palabras\n",
    "freq = nltk.FreqDist(clean_tokens)\n",
    "for key,val in freq.items():\n",
    "    print (str(key) + ':' + str(val))"
   ]
  },
  {
   "cell_type": "markdown",
   "metadata": {},
   "source": [
    "<b>Paso 6.</b> Se presenta un grafico y se exportan las palabras"
   ]
  },
  {
   "cell_type": "code",
   "execution_count": 6,
   "metadata": {},
   "outputs": [
    {
     "data": {
      "image/png": "[encoded data removed]",
      "text/plain": [
       "<Figure size 432x288 with 1 Axes>"
      ]
     },
     "metadata": {
      "needs_background": "light"
     },
     "output_type": "display_data"
    },
    {
     "data": {
      "text/html": [
       "<div>\n",
       "<style scoped>\n",
       "    .dataframe tbody tr th:only-of-type {\n",
       "        vertical-align: middle;\n",
       "    }\n",
       "\n",
       "    .dataframe tbody tr th {\n",
       "        vertical-align: top;\n",
       "    }\n",
       "\n",
       "    .dataframe thead th {\n",
       "        text-align: right;\n",
       "    }\n",
       "</style>\n",
       "<table border=\"1\" class=\"dataframe\">\n",
       "  <thead>\n",
       "    <tr style=\"text-align: right;\">\n",
       "      <th></th>\n",
       "      <th>Term</th>\n",
       "      <th>Frequency</th>\n",
       "    </tr>\n",
       "  </thead>\n",
       "  <tbody>\n",
       "    <tr>\n",
       "      <th>0</th>\n",
       "      <td>better</td>\n",
       "      <td>116</td>\n",
       "    </tr>\n",
       "    <tr>\n",
       "      <th>1</th>\n",
       "      <td>non-monetary</td>\n",
       "      <td>1</td>\n",
       "    </tr>\n",
       "    <tr>\n",
       "      <th>2</th>\n",
       "      <td>benefits</td>\n",
       "      <td>25</td>\n",
       "    </tr>\n",
       "  </tbody>\n",
       "</table>\n",
       "</div>"
      ],
      "text/plain": [
       "           Term  Frequency\n",
       "0        better        116\n",
       "1  non-monetary          1\n",
       "2      benefits         25"
      ]
     },
     "execution_count": 6,
     "metadata": {},
     "output_type": "execute_result"
    }
   ],
   "source": [
    "#Se hace el plot de las frecuencias de las palabras\n",
    "freq.plot(20,cumulative=False)\n",
    "\n",
    "#Se convierte en DF el arreglo de palabras\n",
    "df_fdist = pd.DataFrame.from_dict(freq, orient='index').reset_index()\n",
    "\n",
    "#Se cambia el nombre de las columnas\n",
    "df_fdist.columns = ['Term','Frequency']\n",
    "\n",
    "#Se exporta a un CSV\n",
    "df_fdist.to_csv(\"../01. Flat Files/Palabras_token.csv\",index = False)\n",
    "#df_fdist.to_csv(\"../Datos/Palabras_token.csv\")\n",
    "\n",
    "#Se muestra el DF\n",
    "df_fdist.head(3)"
   ]
  },
  {
   "cell_type": "markdown",
   "metadata": {},
   "source": [
    "<b>Paso 7.</b> Aunque ya se eliminaron ciertas palabras comunes se exploro el CSV y se encontraron otras que se podian elimninar dado que no aportan informacion, estas palabras se van a almacenar en un nuevo CSV con nombre <i>\"Ejercicio 6.5 - Token Eliminar.csv\"</i>"
   ]
  },
  {
   "cell_type": "code",
   "execution_count": 7,
   "metadata": {},
   "outputs": [],
   "source": [
    "#Se carga el DF de los Token que se deben eliminar\n",
    "#tokenDelete = pd.read_csv(\"../Datos/Ejercicio 6.5 - Token Eliminar.csv\")\n",
    "tokenDelete = pd.read_csv(\"../01. Flat Files/Ejercicio 6.5 - Token Eliminar.csv\")\n",
    "\n",
    "#Se crea el arreglo final de tokens\n",
    "df_fdistFinal = df_fdist.merge(tokenDelete,left_on='Term',right_on='TermDelete',how='left')\n",
    "\n",
    "#Se actualiza el DF final\n",
    "df_fdistFinal = df_fdistFinal[df_fdistFinal[\"TermDelete\"].isnull() == True].drop(\"TermDelete\",axis=1)\n",
    "\n",
    "#Se reinicia el indice\n",
    "df_fdistFinal = df_fdistFinal.reset_index().drop(\"index\",axis=1)"
   ]
  },
  {
   "cell_type": "markdown",
   "metadata": {},
   "source": [
    "<b>Paso 8.</b> Se actualiza el valor que tiene de peso cada palabra --> Paso de valores String a un valor numerico"
   ]
  },
  {
   "cell_type": "code",
   "execution_count": 8,
   "metadata": {},
   "outputs": [
    {
     "data": {
      "text/html": [
       "<div>\n",
       "<style scoped>\n",
       "    .dataframe tbody tr th:only-of-type {\n",
       "        vertical-align: middle;\n",
       "    }\n",
       "\n",
       "    .dataframe tbody tr th {\n",
       "        vertical-align: top;\n",
       "    }\n",
       "\n",
       "    .dataframe thead th {\n",
       "        text-align: right;\n",
       "    }\n",
       "</style>\n",
       "<table border=\"1\" class=\"dataframe\">\n",
       "  <thead>\n",
       "    <tr style=\"text-align: right;\">\n",
       "      <th></th>\n",
       "      <th>Term</th>\n",
       "      <th>Frequency</th>\n",
       "      <th>Peso</th>\n",
       "    </tr>\n",
       "  </thead>\n",
       "  <tbody>\n",
       "    <tr>\n",
       "      <th>0</th>\n",
       "      <td>better</td>\n",
       "      <td>116</td>\n",
       "      <td>0.036767</td>\n",
       "    </tr>\n",
       "    <tr>\n",
       "      <th>1</th>\n",
       "      <td>non-monetary</td>\n",
       "      <td>1</td>\n",
       "      <td>0.000317</td>\n",
       "    </tr>\n",
       "    <tr>\n",
       "      <th>2</th>\n",
       "      <td>benefits</td>\n",
       "      <td>25</td>\n",
       "      <td>0.007924</td>\n",
       "    </tr>\n",
       "  </tbody>\n",
       "</table>\n",
       "</div>"
      ],
      "text/plain": [
       "           Term  Frequency      Peso\n",
       "0        better        116  0.036767\n",
       "1  non-monetary          1  0.000317\n",
       "2      benefits         25  0.007924"
      ]
     },
     "execution_count": 8,
     "metadata": {},
     "output_type": "execute_result"
    }
   ],
   "source": [
    "#El total de palabras que hay en el campo CanDoBetter\n",
    "totalPalabras = df_fdistFinal[\"Frequency\"].sum()\n",
    "\n",
    "#Peso de cada palabra dentro del modelo\n",
    "df_fdistFinal[\"Peso\"] = df_fdistFinal[\"Frequency\"]/totalPalabras\n",
    "\n",
    "#Se muestra el DF\n",
    "df_fdistFinal.head(3)"
   ]
  },
  {
   "cell_type": "markdown",
   "metadata": {},
   "source": [
    "<b>Paso 9.</b> Funcion que se encarga de determinar el peso ponderado que tiene la frase del campo <i>\"CanDoBetter\"</i>, con el fin de que la cantidad de palabras no afecten el modelo"
   ]
  },
  {
   "cell_type": "code",
   "execution_count": 9,
   "metadata": {},
   "outputs": [],
   "source": [
    "def pesoPonderado(comparar):\n",
    "    \n",
    "    #Suma de los pesos por el total de tokens\n",
    "    peso = 0.0\n",
    "    \n",
    "    #Cantidad de tokens en la frase\n",
    "    cantidad = 0\n",
    "    \n",
    "    #Ponderacion del valor de la frase\n",
    "    ponderacion = 0\n",
    "    \n",
    "    for i in range(df_fdistFinal.shape[0]):\n",
    "        \n",
    "        #Se valida si el token esta en la frase\n",
    "        if df_fdistFinal.loc[i][0] in comparar:\n",
    "            \n",
    "            #Se actualiza el valor del peso\n",
    "            peso = peso + df_fdistFinal.loc[i][2]\n",
    "            \n",
    "            #Se actualiza la cantidad de tokens\n",
    "            cantidad = cantidad + 1\n",
    "    \n",
    "    #Se prueba si se puede dividir\n",
    "    try:\n",
    "        \n",
    "        ponderacion = peso/cantidad\n",
    "    \n",
    "    #En caso de error\n",
    "    except Exception:\n",
    "        \n",
    "        ponderacion = 0\n",
    "    \n",
    "    #Se retorna el valor de la ponderacion\n",
    "    return ponderacion"
   ]
  },
  {
   "cell_type": "markdown",
   "metadata": {},
   "source": [
    "<b>Paso 10.</b> Se actualiza el valor del peso ponderado para la frase del campo <i>\"CanDoBetter\"</i>"
   ]
  },
  {
   "cell_type": "code",
   "execution_count": 10,
   "metadata": {},
   "outputs": [
    {
     "data": {
      "text/html": [
       "<div>\n",
       "<style scoped>\n",
       "    .dataframe tbody tr th:only-of-type {\n",
       "        vertical-align: middle;\n",
       "    }\n",
       "\n",
       "    .dataframe tbody tr th {\n",
       "        vertical-align: top;\n",
       "    }\n",
       "\n",
       "    .dataframe thead th {\n",
       "        text-align: right;\n",
       "    }\n",
       "</style>\n",
       "<table border=\"1\" class=\"dataframe\">\n",
       "  <thead>\n",
       "    <tr style=\"text-align: right;\">\n",
       "      <th></th>\n",
       "      <th>CanDoBetter</th>\n",
       "      <th>ID</th>\n",
       "      <th>Training</th>\n",
       "      <th>Est_Income</th>\n",
       "      <th>Benefit</th>\n",
       "      <th>length_of_hire</th>\n",
       "      <th>Facility</th>\n",
       "      <th>DriveTime</th>\n",
       "      <th>Marital</th>\n",
       "      <th>SpousalBenefit</th>\n",
       "      <th>StockPlan</th>\n",
       "      <th>TrainingRecieved</th>\n",
       "      <th>PositionType</th>\n",
       "      <th>Education</th>\n",
       "      <th>Status</th>\n",
       "      <th>pesoPonderado</th>\n",
       "    </tr>\n",
       "  </thead>\n",
       "  <tbody>\n",
       "    <tr>\n",
       "      <th>0</th>\n",
       "      <td>better non-monetary benefits.</td>\n",
       "      <td>2181.0</td>\n",
       "      <td>Y</td>\n",
       "      <td>60095.20000</td>\n",
       "      <td>Y</td>\n",
       "      <td>58.479532</td>\n",
       "      <td>Facility A</td>\n",
       "      <td>More than 90 mnts</td>\n",
       "      <td>Married</td>\n",
       "      <td>Yes</td>\n",
       "      <td>Yes</td>\n",
       "      <td>No</td>\n",
       "      <td>Sales</td>\n",
       "      <td>Associate, High school, or Certification</td>\n",
       "      <td>Current</td>\n",
       "      <td>0.007516</td>\n",
       "    </tr>\n",
       "    <tr>\n",
       "      <th>1</th>\n",
       "      <td>company outings</td>\n",
       "      <td>2829.0</td>\n",
       "      <td>Y</td>\n",
       "      <td>47049.07979</td>\n",
       "      <td>N</td>\n",
       "      <td>35.714286</td>\n",
       "      <td>Facility B</td>\n",
       "      <td>0-30 mnts</td>\n",
       "      <td>Married</td>\n",
       "      <td>Yes</td>\n",
       "      <td>No</td>\n",
       "      <td>Yes</td>\n",
       "      <td>Sales</td>\n",
       "      <td>Associate, High school, or Certification</td>\n",
       "      <td>Current</td>\n",
       "      <td>0.004675</td>\n",
       "    </tr>\n",
       "    <tr>\n",
       "      <th>2</th>\n",
       "      <td>Having more safety meeting, and discussing wha...</td>\n",
       "      <td>2144.0</td>\n",
       "      <td>Y</td>\n",
       "      <td>60724.12250</td>\n",
       "      <td>Y</td>\n",
       "      <td>17.152659</td>\n",
       "      <td>Facility B</td>\n",
       "      <td>60-90 mnts</td>\n",
       "      <td>Married</td>\n",
       "      <td>Yes</td>\n",
       "      <td>Yes</td>\n",
       "      <td>Yes</td>\n",
       "      <td>Sales</td>\n",
       "      <td>Masters Degree</td>\n",
       "      <td>Past</td>\n",
       "      <td>0.003150</td>\n",
       "    </tr>\n",
       "  </tbody>\n",
       "</table>\n",
       "</div>"
      ],
      "text/plain": [
       "                                         CanDoBetter      ID Training  \\\n",
       "0                      better non-monetary benefits.  2181.0        Y   \n",
       "1                                    company outings  2829.0        Y   \n",
       "2  Having more safety meeting, and discussing wha...  2144.0        Y   \n",
       "\n",
       "    Est_Income Benefit  length_of_hire    Facility          DriveTime  \\\n",
       "0  60095.20000       Y       58.479532  Facility A  More than 90 mnts   \n",
       "1  47049.07979       N       35.714286  Facility B          0-30 mnts   \n",
       "2  60724.12250       Y       17.152659  Facility B         60-90 mnts   \n",
       "\n",
       "   Marital SpousalBenefit StockPlan TrainingRecieved PositionType  \\\n",
       "0  Married            Yes       Yes               No        Sales   \n",
       "1  Married            Yes        No              Yes        Sales   \n",
       "2  Married            Yes       Yes              Yes        Sales   \n",
       "\n",
       "                                  Education   Status  pesoPonderado  \n",
       "0  Associate, High school, or Certification  Current       0.007516  \n",
       "1  Associate, High school, or Certification  Current       0.004675  \n",
       "2                            Masters Degree     Past       0.003150  "
      ]
     },
     "execution_count": 10,
     "metadata": {},
     "output_type": "execute_result"
    }
   ],
   "source": [
    "#Se reinicia el indice del DF de Employee\n",
    "Employeedf = Employeedf.reset_index().drop(\"index\",axis=1)\n",
    "\n",
    "for i in range(Employeedf.shape[0]):\n",
    "    \n",
    "    #Se obtiene el valor del peso ponderado\n",
    "    pesoPond = pesoPonderado(Employeedf.loc[i][\"CanDoBetter\"])\n",
    "    \n",
    "    #Se actualiza el valor del peso ponderado para el registro\n",
    "    Employeedf.loc[i,\"pesoPonderado\"] = pesoPond\n",
    "\n",
    "#Se muestra el DF\n",
    "Employeedf.head(3)"
   ]
  },
  {
   "cell_type": "markdown",
   "metadata": {},
   "source": [
    "<b>Paso 11.</b> Se codifican las columnas con valores texto"
   ]
  },
  {
   "cell_type": "code",
   "execution_count": 11,
   "metadata": {},
   "outputs": [
    {
     "data": {
      "text/plain": [
       "{'Training': array(['N', 'Y'], dtype=object),\n",
       " 'Benefit': array(['N', 'Y'], dtype=object),\n",
       " 'Facility': array(['Facility A', 'Facility B', 'Facility C'], dtype=object),\n",
       " 'DriveTime': array(['0-30 mnts', '30-60 mnts', '60-90 mnts', 'More than 90 mnts'],\n",
       "       dtype=object),\n",
       " 'Marital': array(['Married', 'Single', 'Status Unknown',\n",
       "        'Widowed/Separated/Divorced'], dtype=object),\n",
       " 'SpousalBenefit': array(['No', 'Yes'], dtype=object),\n",
       " 'StockPlan': array(['No', 'Yes'], dtype=object),\n",
       " 'TrainingRecieved': array(['No', 'Yes'], dtype=object),\n",
       " 'PositionType': array(['Clerical Staff/Office Services', 'Executive Management',\n",
       "        'Non-Managerial/ Professional', 'Sales', 'Supervisor / Lead Tech.'],\n",
       "       dtype=object),\n",
       " 'Education': array(['Associate, High school, or Certification',\n",
       "        'Baccalaureate or 4 year college degree',\n",
       "        'Doctorate (PhD, EdD, etc)', 'Masters Degree'], dtype=object),\n",
       " 'Status': array(['Current', 'Past'], dtype=object)}"
      ]
     },
     "execution_count": 11,
     "metadata": {},
     "output_type": "execute_result"
    }
   ],
   "source": [
    "#Importa la libreria LabelEncoder\n",
    "from sklearn.preprocessing import LabelEncoder\n",
    "\n",
    "#Se inicializa el LabelEncoder\n",
    "enc = LabelEncoder()\n",
    "\n",
    "#Se crea un diccionario para las transformaciones\n",
    "diccionarioEncoder = {}\n",
    "\n",
    "#Se realiza la codificacion\n",
    "enc.fit(Employeedf[\"Training\"])\n",
    "#Obtencion de la codificacion\n",
    "diccionarioEncoder.update({'Training':enc.classes_})\n",
    "#Se realiza la actulizacion del campo\n",
    "Employeedf[\"Training\"] = enc.transform(Employeedf[\"Training\"])\n",
    "\n",
    "#Se realiza la codificacion\n",
    "enc.fit(Employeedf[\"Benefit\"])\n",
    "#Obtencion de la codificacion\n",
    "diccionarioEncoder.update({'Benefit':enc.classes_})\n",
    "#Se realiza la actulizacion del campo\n",
    "Employeedf[\"Benefit\"] = enc.transform(Employeedf[\"Benefit\"])\n",
    "\n",
    "#Se realiza la codificacion\n",
    "enc.fit(Employeedf[\"Facility\"])\n",
    "#Obtencion de la codificacion\n",
    "diccionarioEncoder.update({'Facility':enc.classes_})\n",
    "#Se realiza la actulizacion del campo\n",
    "Employeedf[\"Facility\"] = enc.transform(Employeedf[\"Facility\"])\n",
    "\n",
    "#Se realiza la codificacion\n",
    "enc.fit(Employeedf[\"DriveTime\"])\n",
    "#Obtencion de la codificacion\n",
    "diccionarioEncoder.update({'DriveTime':enc.classes_})\n",
    "#Se realiza la actulizacion del campo\n",
    "Employeedf[\"DriveTime\"] = enc.transform(Employeedf[\"DriveTime\"])\n",
    "\n",
    "#Se realiza la codificacion\n",
    "enc.fit(Employeedf[\"Marital\"])\n",
    "#Obtencion de la codificacion\n",
    "diccionarioEncoder.update({'Marital':enc.classes_})\n",
    "#Se realiza la actulizacion del campo\n",
    "Employeedf[\"Marital\"] = enc.transform(Employeedf[\"Marital\"])\n",
    "\n",
    "#Se realiza la codificacion\n",
    "enc.fit(Employeedf[\"SpousalBenefit\"])\n",
    "#Obtencion de la codificacion\n",
    "diccionarioEncoder.update({'SpousalBenefit':enc.classes_})\n",
    "#Se realiza la actulizacion del campo\n",
    "Employeedf[\"SpousalBenefit\"] = enc.transform(Employeedf[\"SpousalBenefit\"])\n",
    "\n",
    "#Se realiza la codificacion\n",
    "enc.fit(Employeedf[\"StockPlan\"])\n",
    "#Obtencion de la codificacion\n",
    "diccionarioEncoder.update({'StockPlan':enc.classes_})\n",
    "#Se realiza la actulizacion del campo\n",
    "Employeedf[\"StockPlan\"] = enc.transform(Employeedf[\"StockPlan\"])\n",
    "\n",
    "#Se realiza la codificacion\n",
    "enc.fit(Employeedf[\"TrainingRecieved\"])\n",
    "#Obtencion de la codificacion\n",
    "diccionarioEncoder.update({'TrainingRecieved':enc.classes_})\n",
    "#Se realiza la actulizacion del campo\n",
    "Employeedf[\"TrainingRecieved\"] = enc.transform(Employeedf[\"TrainingRecieved\"])\n",
    "\n",
    "#Se realiza la codificacion\n",
    "enc.fit(Employeedf[\"PositionType\"])\n",
    "#Obtencion de la codificacion\n",
    "diccionarioEncoder.update({'PositionType':enc.classes_})\n",
    "#Se realiza la actulizacion del campo\n",
    "Employeedf[\"PositionType\"] = enc.transform(Employeedf[\"PositionType\"])\n",
    "\n",
    "#Se realiza la codificacion\n",
    "enc.fit(Employeedf[\"Education\"])\n",
    "#Obtencion de la codificacion\n",
    "diccionarioEncoder.update({'Education':enc.classes_})\n",
    "#Se realiza la actulizacion del campo\n",
    "Employeedf[\"Education\"] = enc.transform(Employeedf[\"Education\"])\n",
    "\n",
    "#Se realiza la codificacion\n",
    "enc.fit(Employeedf[\"Status\"])\n",
    "#Obtencion de la codificacion\n",
    "diccionarioEncoder.update({'Status':enc.classes_})\n",
    "#Se realiza la actulizacion del campo\n",
    "Employeedf[\"Status\"] = enc.transform(Employeedf[\"Status\"])\n",
    "\n",
    "#Se muestra el diccionario\n",
    "diccionarioEncoder"
   ]
  },
  {
   "cell_type": "markdown",
   "metadata": {},
   "source": [
    "<b>Paso 12.</b> Separacion las variables"
   ]
  },
  {
   "cell_type": "code",
   "execution_count": 12,
   "metadata": {},
   "outputs": [],
   "source": [
    "# Se deja una matriz con las columnas predictorias\n",
    "X = Employeedf.drop(columns=[\"CanDoBetter\",\"ID\",\"Status\"])\n",
    "# Un arreglo con la columna predecida\n",
    "Y = Employeedf[\"Status\"]"
   ]
  },
  {
   "cell_type": "markdown",
   "metadata": {},
   "source": [
    "<b>Paso 13.</b> Se realiza la separacion de los datos de testeo y entrenamiento"
   ]
  },
  {
   "cell_type": "code",
   "execution_count": 13,
   "metadata": {},
   "outputs": [
    {
     "name": "stdout",
     "output_type": "stream",
     "text": [
      "Matriz XTrain =  (1200, 13)\n",
      "Matriz XTest =  (515, 13)\n",
      "Matriz YTrain =  (1200,)\n",
      "Matriz YTest =  (515,)\n"
     ]
    }
   ],
   "source": [
    "#Importa la funcion train test split\n",
    "from sklearn.model_selection import train_test_split\n",
    "\n",
    "#Se obtienen los valores de entrenamiento y testeo\n",
    "XTrain,XTest,YTrain,YTest = train_test_split(X,Y,test_size = 0.3,random_state = 101)\n",
    "\n",
    "print(\"Matriz XTrain = \",XTrain.shape)\n",
    "print(\"Matriz XTest = \",XTest.shape)\n",
    "print(\"Matriz YTrain = \",YTrain.shape)\n",
    "print(\"Matriz YTest = \",YTest.shape)"
   ]
  },
  {
   "cell_type": "markdown",
   "metadata": {},
   "source": [
    "<b>Paso 14.</b> Modelo Naive Bayes - Entrenamiento"
   ]
  },
  {
   "cell_type": "code",
   "execution_count": 14,
   "metadata": {},
   "outputs": [
    {
     "data": {
      "text/plain": [
       "CategoricalNB(alpha=1.0, class_prior=None, fit_prior=True)"
      ]
     },
     "execution_count": 14,
     "metadata": {},
     "output_type": "execute_result"
    }
   ],
   "source": [
    "#Importa el el modelo de Naive Bayes\n",
    "from sklearn.naive_bayes import CategoricalNB\n",
    "\n",
    "#Se realiza el entrenamiento del model\n",
    "naiveBayes = CategoricalNB()\n",
    "naiveBayes.fit(XTrain,YTrain)"
   ]
  },
  {
   "cell_type": "markdown",
   "metadata": {},
   "source": [
    "<b>Paso 15.</b> Modelo Naive Bayes - Reporte de Clasificacion"
   ]
  },
  {
   "cell_type": "code",
   "execution_count": 15,
   "metadata": {},
   "outputs": [
    {
     "data": {
      "text/html": [
       "<div>\n",
       "<style scoped>\n",
       "    .dataframe tbody tr th:only-of-type {\n",
       "        vertical-align: middle;\n",
       "    }\n",
       "\n",
       "    .dataframe tbody tr th {\n",
       "        vertical-align: top;\n",
       "    }\n",
       "\n",
       "    .dataframe thead th {\n",
       "        text-align: right;\n",
       "    }\n",
       "</style>\n",
       "<table border=\"1\" class=\"dataframe\">\n",
       "  <thead>\n",
       "    <tr style=\"text-align: right;\">\n",
       "      <th></th>\n",
       "      <th>Current</th>\n",
       "      <th>Past</th>\n",
       "      <th>accuracy</th>\n",
       "      <th>macro avg</th>\n",
       "      <th>weighted avg</th>\n",
       "    </tr>\n",
       "  </thead>\n",
       "  <tbody>\n",
       "    <tr>\n",
       "      <th>precision</th>\n",
       "      <td>0.777108</td>\n",
       "      <td>0.825137</td>\n",
       "      <td>0.794175</td>\n",
       "      <td>0.801123</td>\n",
       "      <td>0.798092</td>\n",
       "    </tr>\n",
       "    <tr>\n",
       "      <th>recall</th>\n",
       "      <td>0.889655</td>\n",
       "      <td>0.671111</td>\n",
       "      <td>0.794175</td>\n",
       "      <td>0.780383</td>\n",
       "      <td>0.794175</td>\n",
       "    </tr>\n",
       "    <tr>\n",
       "      <th>f1-score</th>\n",
       "      <td>0.829582</td>\n",
       "      <td>0.740196</td>\n",
       "      <td>0.794175</td>\n",
       "      <td>0.784889</td>\n",
       "      <td>0.790530</td>\n",
       "    </tr>\n",
       "    <tr>\n",
       "      <th>support</th>\n",
       "      <td>290.000000</td>\n",
       "      <td>225.000000</td>\n",
       "      <td>0.794175</td>\n",
       "      <td>515.000000</td>\n",
       "      <td>515.000000</td>\n",
       "    </tr>\n",
       "  </tbody>\n",
       "</table>\n",
       "</div>"
      ],
      "text/plain": [
       "              Current        Past  accuracy   macro avg  weighted avg\n",
       "precision    0.777108    0.825137  0.794175    0.801123      0.798092\n",
       "recall       0.889655    0.671111  0.794175    0.780383      0.794175\n",
       "f1-score     0.829582    0.740196  0.794175    0.784889      0.790530\n",
       "support    290.000000  225.000000  0.794175  515.000000    515.000000"
      ]
     },
     "execution_count": 15,
     "metadata": {},
     "output_type": "execute_result"
    }
   ],
   "source": [
    "#Se importa el reporte de clasificacion\n",
    "from sklearn.metrics import classification_report\n",
    "\n",
    "#Se predice con los datos de testo\n",
    "YTestPredict = naiveBayes.predict(XTest)\n",
    "\n",
    "#Reporte de clasificacion\n",
    "resultadoNB = pd.DataFrame.from_dict(classification_report(YTest,YTestPredict,output_dict=True))\n",
    "resultadoNB = resultadoNB.rename(columns={'0':'Current','1':'Past'})\n",
    "resultadoNB"
   ]
  },
  {
   "cell_type": "markdown",
   "metadata": {},
   "source": [
    "<b>Paso 16.</b> Modelo Naive Bayes - Matriz de Confusión"
   ]
  },
  {
   "cell_type": "code",
   "execution_count": 2,
   "metadata": {},
   "outputs": [
    {
     "ename": "NameError",
     "evalue": "name 'YTest' is not defined",
     "output_type": "error",
     "traceback": [
      "\u001b[1;31m---------------------------------------------------------------------------\u001b[0m",
      "\u001b[1;31mNameError\u001b[0m                                 Traceback (most recent call last)",
      "\u001b[1;32m<ipython-input-2-89cf92622623>\u001b[0m in \u001b[0;36m<module>\u001b[1;34m\u001b[0m\n\u001b[0;32m      3\u001b[0m \u001b[1;33m\u001b[0m\u001b[0m\n\u001b[0;32m      4\u001b[0m \u001b[1;31m#Se ejecuta la matriz de confusion\u001b[0m\u001b[1;33m\u001b[0m\u001b[1;33m\u001b[0m\u001b[1;33m\u001b[0m\u001b[0m\n\u001b[1;32m----> 5\u001b[1;33m \u001b[0mmatrixConfusion\u001b[0m \u001b[1;33m=\u001b[0m \u001b[0mconfusion_matrix\u001b[0m\u001b[1;33m(\u001b[0m\u001b[0mYTest\u001b[0m\u001b[1;33m,\u001b[0m \u001b[0mYTestPredict\u001b[0m\u001b[1;33m)\u001b[0m\u001b[1;33m\u001b[0m\u001b[1;33m\u001b[0m\u001b[0m\n\u001b[0m\u001b[0;32m      6\u001b[0m \u001b[1;33m\u001b[0m\u001b[0m\n\u001b[0;32m      7\u001b[0m \u001b[1;31m#Se pinta la matriz de confusion\u001b[0m\u001b[1;33m\u001b[0m\u001b[1;33m\u001b[0m\u001b[1;33m\u001b[0m\u001b[0m\n",
      "\u001b[1;31mNameError\u001b[0m: name 'YTest' is not defined"
     ]
    }
   ],
   "source": [
    "#Se importa la matriz de confusion\n",
    "from sklearn.metrics import confusion_matrix\n",
    "\n",
    "#Se ejecuta la matriz de confusion \n",
    "matrixConfusion = confusion_matrix(YTest, YTestPredict)\n",
    "\n",
    "#Se pinta la matriz de confusion\n",
    "sns.heatmap(matrixConfusion, annot=True, cmap=\"Blues\" ,fmt='g')\n",
    "plt.tight_layout()\n",
    "plt.title('Confusion matrix', y=1.1)\n",
    "plt.ylabel('Actual label')\n",
    "plt.xlabel('Predicted label')\n",
    "plt.xticks(np.arange(len(diccionarioEncoder[\"Status\"]))+0.5,diccionarioEncoder[\"Status\"])\n",
    "plt.yticks(np.arange(len(diccionarioEncoder[\"Status\"]))+0.5,diccionarioEncoder[\"Status\"])\n",
    "plt.show()"
   ]
  },
  {
   "cell_type": "markdown",
   "metadata": {},
   "source": [
    "<b>Paso 17.</b> Modelo Arbol de desicion - Entrenamiento"
   ]
  },
  {
   "cell_type": "code",
   "execution_count": 17,
   "metadata": {},
   "outputs": [
    {
     "data": {
      "text/plain": [
       "DecisionTreeClassifier(ccp_alpha=0.0, class_weight=None, criterion='gini',\n",
       "                       max_depth=None, max_features=None, max_leaf_nodes=None,\n",
       "                       min_impurity_decrease=0.0, min_impurity_split=None,\n",
       "                       min_samples_leaf=1, min_samples_split=2,\n",
       "                       min_weight_fraction_leaf=0.0, presort='deprecated',\n",
       "                       random_state=None, splitter='best')"
      ]
     },
     "execution_count": 17,
     "metadata": {},
     "output_type": "execute_result"
    }
   ],
   "source": [
    "#Importa el el modelo de Arbol de Desicion\n",
    "from sklearn.tree import DecisionTreeClassifier\n",
    "\n",
    "#Se realiza el entrenamiento del model\n",
    "arbol = DecisionTreeClassifier()\n",
    "arbol.fit(XTrain,YTrain)"
   ]
  },
  {
   "cell_type": "markdown",
   "metadata": {},
   "source": [
    "<b>Paso 18.</b> Modelo Arbol de desicion - Reporte de Clasificacion"
   ]
  },
  {
   "cell_type": "code",
   "execution_count": 18,
   "metadata": {},
   "outputs": [
    {
     "data": {
      "text/html": [
       "<div>\n",
       "<style scoped>\n",
       "    .dataframe tbody tr th:only-of-type {\n",
       "        vertical-align: middle;\n",
       "    }\n",
       "\n",
       "    .dataframe tbody tr th {\n",
       "        vertical-align: top;\n",
       "    }\n",
       "\n",
       "    .dataframe thead th {\n",
       "        text-align: right;\n",
       "    }\n",
       "</style>\n",
       "<table border=\"1\" class=\"dataframe\">\n",
       "  <thead>\n",
       "    <tr style=\"text-align: right;\">\n",
       "      <th></th>\n",
       "      <th>Current</th>\n",
       "      <th>Past</th>\n",
       "      <th>accuracy</th>\n",
       "      <th>macro avg</th>\n",
       "      <th>weighted avg</th>\n",
       "    </tr>\n",
       "  </thead>\n",
       "  <tbody>\n",
       "    <tr>\n",
       "      <th>precision</th>\n",
       "      <td>0.827119</td>\n",
       "      <td>0.790909</td>\n",
       "      <td>0.81165</td>\n",
       "      <td>0.809014</td>\n",
       "      <td>0.811299</td>\n",
       "    </tr>\n",
       "    <tr>\n",
       "      <th>recall</th>\n",
       "      <td>0.841379</td>\n",
       "      <td>0.773333</td>\n",
       "      <td>0.81165</td>\n",
       "      <td>0.807356</td>\n",
       "      <td>0.811650</td>\n",
       "    </tr>\n",
       "    <tr>\n",
       "      <th>f1-score</th>\n",
       "      <td>0.834188</td>\n",
       "      <td>0.782022</td>\n",
       "      <td>0.81165</td>\n",
       "      <td>0.808105</td>\n",
       "      <td>0.811397</td>\n",
       "    </tr>\n",
       "    <tr>\n",
       "      <th>support</th>\n",
       "      <td>290.000000</td>\n",
       "      <td>225.000000</td>\n",
       "      <td>0.81165</td>\n",
       "      <td>515.000000</td>\n",
       "      <td>515.000000</td>\n",
       "    </tr>\n",
       "  </tbody>\n",
       "</table>\n",
       "</div>"
      ],
      "text/plain": [
       "              Current        Past  accuracy   macro avg  weighted avg\n",
       "precision    0.827119    0.790909   0.81165    0.809014      0.811299\n",
       "recall       0.841379    0.773333   0.81165    0.807356      0.811650\n",
       "f1-score     0.834188    0.782022   0.81165    0.808105      0.811397\n",
       "support    290.000000  225.000000   0.81165  515.000000    515.000000"
      ]
     },
     "execution_count": 18,
     "metadata": {},
     "output_type": "execute_result"
    }
   ],
   "source": [
    "#Se importa el reporte de clasificacion\n",
    "from sklearn.metrics import classification_report\n",
    "\n",
    "#Se predice con los datos de testo\n",
    "YTestPredict = arbol.predict(XTest)\n",
    "\n",
    "#Reporte de clasificacion\n",
    "resultadoA = pd.DataFrame.from_dict(classification_report(YTest,YTestPredict,output_dict=True))\n",
    "resultadoA = resultadoA.rename(columns={'0':'Current','1':'Past'})\n",
    "resultadoA"
   ]
  },
  {
   "cell_type": "markdown",
   "metadata": {},
   "source": [
    "<b>Paso 19.</b> Modelo Arbol de desicion - Matriz de confusion"
   ]
  },
  {
   "cell_type": "code",
   "execution_count": 19,
   "metadata": {},
   "outputs": [
    {
     "data": {
      "image/png": "[encoded data removed]",
      "text/plain": [
       "<Figure size 432x288 with 2 Axes>"
      ]
     },
     "metadata": {
      "needs_background": "light"
     },
     "output_type": "display_data"
    }
   ],
   "source": [
    "#Se importa la matriz de confusion\n",
    "from sklearn.metrics import confusion_matrix\n",
    "\n",
    "#Se ejecuta la matriz de confusion \n",
    "matrixConfusion = confusion_matrix(YTest, YTestPredict)\n",
    "\n",
    "#Se pinta la matriz de confusion\n",
    "sns.heatmap(matrixConfusion, annot=True, cmap=\"YlGnBu\" ,fmt='g')\n",
    "plt.tight_layout()\n",
    "plt.title('Confusion matrix', y=1.1)\n",
    "plt.ylabel('Actual label')\n",
    "plt.xlabel('Predicted label')\n",
    "plt.xticks(np.arange(len(diccionarioEncoder[\"Status\"]))+0.5,diccionarioEncoder[\"Status\"])\n",
    "plt.yticks(np.arange(len(diccionarioEncoder[\"Status\"]))+0.5,diccionarioEncoder[\"Status\"])\n",
    "plt.show()"
   ]
  },
  {
   "cell_type": "markdown",
   "metadata": {},
   "source": [
    "<b>Paso 20.</b> Modelo Knn - Entrenamiento"
   ]
  },
  {
   "cell_type": "code",
   "execution_count": 20,
   "metadata": {},
   "outputs": [
    {
     "data": {
      "text/plain": [
       "KNeighborsClassifier(algorithm='auto', leaf_size=30, metric='minkowski',\n",
       "                     metric_params=None, n_jobs=None, n_neighbors=2, p=2,\n",
       "                     weights='uniform')"
      ]
     },
     "execution_count": 20,
     "metadata": {},
     "output_type": "execute_result"
    }
   ],
   "source": [
    "#Importa el el modelo de KNN\n",
    "from sklearn.neighbors import KNeighborsClassifier\n",
    "\n",
    "#Se realiza el entrenamiento del model\n",
    "knn = KNeighborsClassifier(n_neighbors=2)\n",
    "knn.fit(XTrain,YTrain)"
   ]
  },
  {
   "cell_type": "markdown",
   "metadata": {},
   "source": [
    "<b>Paso 21.</b> Modelo Knn - Reporte Clasificacion"
   ]
  },
  {
   "cell_type": "code",
   "execution_count": 21,
   "metadata": {},
   "outputs": [
    {
     "data": {
      "text/html": [
       "<div>\n",
       "<style scoped>\n",
       "    .dataframe tbody tr th:only-of-type {\n",
       "        vertical-align: middle;\n",
       "    }\n",
       "\n",
       "    .dataframe tbody tr th {\n",
       "        vertical-align: top;\n",
       "    }\n",
       "\n",
       "    .dataframe thead th {\n",
       "        text-align: right;\n",
       "    }\n",
       "</style>\n",
       "<table border=\"1\" class=\"dataframe\">\n",
       "  <thead>\n",
       "    <tr style=\"text-align: right;\">\n",
       "      <th></th>\n",
       "      <th>Current</th>\n",
       "      <th>Past</th>\n",
       "      <th>accuracy</th>\n",
       "      <th>macro avg</th>\n",
       "      <th>weighted avg</th>\n",
       "    </tr>\n",
       "  </thead>\n",
       "  <tbody>\n",
       "    <tr>\n",
       "      <th>precision</th>\n",
       "      <td>0.676471</td>\n",
       "      <td>0.737589</td>\n",
       "      <td>0.693204</td>\n",
       "      <td>0.707030</td>\n",
       "      <td>0.703173</td>\n",
       "    </tr>\n",
       "    <tr>\n",
       "      <th>recall</th>\n",
       "      <td>0.872414</td>\n",
       "      <td>0.462222</td>\n",
       "      <td>0.693204</td>\n",
       "      <td>0.667318</td>\n",
       "      <td>0.693204</td>\n",
       "    </tr>\n",
       "    <tr>\n",
       "      <th>f1-score</th>\n",
       "      <td>0.762048</td>\n",
       "      <td>0.568306</td>\n",
       "      <td>0.693204</td>\n",
       "      <td>0.665177</td>\n",
       "      <td>0.677404</td>\n",
       "    </tr>\n",
       "    <tr>\n",
       "      <th>support</th>\n",
       "      <td>290.000000</td>\n",
       "      <td>225.000000</td>\n",
       "      <td>0.693204</td>\n",
       "      <td>515.000000</td>\n",
       "      <td>515.000000</td>\n",
       "    </tr>\n",
       "  </tbody>\n",
       "</table>\n",
       "</div>"
      ],
      "text/plain": [
       "              Current        Past  accuracy   macro avg  weighted avg\n",
       "precision    0.676471    0.737589  0.693204    0.707030      0.703173\n",
       "recall       0.872414    0.462222  0.693204    0.667318      0.693204\n",
       "f1-score     0.762048    0.568306  0.693204    0.665177      0.677404\n",
       "support    290.000000  225.000000  0.693204  515.000000    515.000000"
      ]
     },
     "execution_count": 21,
     "metadata": {},
     "output_type": "execute_result"
    }
   ],
   "source": [
    "#Se importa el reporte de clasificacion\n",
    "from sklearn.metrics import classification_report\n",
    "\n",
    "#Se predice con los datos de testo\n",
    "YTestPredict = knn.predict(XTest)\n",
    "\n",
    "#Reporte de clasificacion\n",
    "resultadoKnn = pd.DataFrame.from_dict(classification_report(YTest,YTestPredict,output_dict=True))\n",
    "resultadoKnn = resultadoKnn.rename(columns={'0':'Current','1':'Past'})\n",
    "resultadoKnn"
   ]
  },
  {
   "cell_type": "markdown",
   "metadata": {},
   "source": [
    "<b>Paso 22.</b> Modelo Knn - Matriz de Confusion"
   ]
  },
  {
   "cell_type": "code",
   "execution_count": 1,
   "metadata": {},
   "outputs": [
    {
     "ename": "NameError",
     "evalue": "name 'YTest' is not defined",
     "output_type": "error",
     "traceback": [
      "\u001b[1;31m---------------------------------------------------------------------------\u001b[0m",
      "\u001b[1;31mNameError\u001b[0m                                 Traceback (most recent call last)",
      "\u001b[1;32m<ipython-input-1-0dcd02aad8fd>\u001b[0m in \u001b[0;36m<module>\u001b[1;34m\u001b[0m\n\u001b[0;32m      3\u001b[0m \u001b[1;33m\u001b[0m\u001b[0m\n\u001b[0;32m      4\u001b[0m \u001b[1;31m#Se ejecuta la matriz de confusion\u001b[0m\u001b[1;33m\u001b[0m\u001b[1;33m\u001b[0m\u001b[1;33m\u001b[0m\u001b[0m\n\u001b[1;32m----> 5\u001b[1;33m \u001b[0mmatrixConfusion\u001b[0m \u001b[1;33m=\u001b[0m \u001b[0mconfusion_matrix\u001b[0m\u001b[1;33m(\u001b[0m\u001b[0mYTest\u001b[0m\u001b[1;33m,\u001b[0m \u001b[0mYTestPredict\u001b[0m\u001b[1;33m)\u001b[0m\u001b[1;33m\u001b[0m\u001b[1;33m\u001b[0m\u001b[0m\n\u001b[0m\u001b[0;32m      6\u001b[0m \u001b[1;33m\u001b[0m\u001b[0m\n\u001b[0;32m      7\u001b[0m \u001b[1;31m#Se pinta la matriz de confusion\u001b[0m\u001b[1;33m\u001b[0m\u001b[1;33m\u001b[0m\u001b[1;33m\u001b[0m\u001b[0m\n",
      "\u001b[1;31mNameError\u001b[0m: name 'YTest' is not defined"
     ]
    }
   ],
   "source": [
    "#Se importa la matriz de confusion\n",
    "from sklearn.metrics import confusion_matrix\n",
    "\n",
    "#Se ejecuta la matriz de confusion \n",
    "matrixConfusion = confusion_matrix(YTest, YTestPredict)\n",
    "\n",
    "#Se pinta la matriz de confusion\n",
    "sns.heatmap(matrixConfusion, annot=True, cmap=\"YlGnBu\" ,fmt='g')\n",
    "plt.tight_layout()\n",
    "plt.title('Confusion matrix', y=1.1)\n",
    "plt.ylabel('Actual label')\n",
    "plt.xlabel('Predicted label')\n",
    "plt.xticks(np.arange(len(diccionarioEncoder[\"Status\"]))+0.5,diccionarioEncoder[\"Status\"])\n",
    "plt.yticks(np.arange(len(diccionarioEncoder[\"Status\"]))+0.5,diccionarioEncoder[\"Status\"])\n",
    "plt.show()"
   ]
  },
  {
   "cell_type": "markdown",
   "metadata": {},
   "source": [
    "<b>Paso 23.</b> Comparacion de resultados de los modelos"
   ]
  },
  {
   "cell_type": "code",
   "execution_count": 23,
   "metadata": {},
   "outputs": [
    {
     "name": "stdout",
     "output_type": "stream",
     "text": [
      "Resultado Naive Bayes Total Accuracy =  0.7941747572815534\n",
      "            Current      Past\n",
      "precision  0.777108  0.825137\n",
      "recall     0.889655  0.671111\n",
      "\n",
      "Resultado Arbol de Desicion Total Accuracy =  0.8116504854368932\n",
      "            Current      Past\n",
      "precision  0.827119  0.790909\n",
      "recall     0.841379  0.773333\n",
      "\n",
      "Resultado Knn Total Accuracy =  0.6932038834951456\n",
      "            Current      Past\n",
      "precision  0.676471  0.737589\n",
      "recall     0.872414  0.462222\n"
     ]
    }
   ],
   "source": [
    "print(\"Resultado Naive Bayes Total Accuracy = \",resultadoNB.loc[\"precision\"][\"accuracy\"])\n",
    "print(resultadoNB.loc[\"precision\":\"recall\",\"Current\":\"Past\"])\n",
    "print(\"\")\n",
    "print(\"Resultado Arbol de Desicion Total Accuracy = \",resultadoA.loc[\"precision\"][\"accuracy\"])\n",
    "print(resultadoA.loc[\"precision\":\"recall\",\"Current\":\"Past\"])\n",
    "print(\"\")\n",
    "print(\"Resultado Knn Total Accuracy = \",resultadoKnn.loc[\"precision\"][\"accuracy\"])\n",
    "print(resultadoKnn.loc[\"precision\":\"recall\",\"Current\":\"Past\"])"
   ]
  },
  {
   "cell_type": "markdown",
   "metadata": {},
   "source": [
    "Dado que nuestra variable de prediccion es si un empleado se ha marchado el modelo seleccionado sera el Arbol de Desicion dado que tiene una mayor presicion sobre la clase Past (Empleado que se ha marchado)"
   ]
  },
  {
   "cell_type": "markdown",
   "metadata": {},
   "source": [
    "## Modelo 2 - TextBlob"
   ]
  },
  {
   "cell_type": "markdown",
   "metadata": {},
   "source": [
    "<b>Paso 24.</b> Se agregan las columnas de polaridad y subjetividad de la columna <i>\"CanDoBetter\"</i>"
   ]
  },
  {
   "cell_type": "code",
   "execution_count": 24,
   "metadata": {
    "scrolled": true
   },
   "outputs": [
    {
     "data": {
      "text/html": [
       "<div>\n",
       "<style scoped>\n",
       "    .dataframe tbody tr th:only-of-type {\n",
       "        vertical-align: middle;\n",
       "    }\n",
       "\n",
       "    .dataframe tbody tr th {\n",
       "        vertical-align: top;\n",
       "    }\n",
       "\n",
       "    .dataframe thead th {\n",
       "        text-align: right;\n",
       "    }\n",
       "</style>\n",
       "<table border=\"1\" class=\"dataframe\">\n",
       "  <thead>\n",
       "    <tr style=\"text-align: right;\">\n",
       "      <th></th>\n",
       "      <th>CanDoBetter</th>\n",
       "      <th>ID</th>\n",
       "      <th>Training</th>\n",
       "      <th>Est_Income</th>\n",
       "      <th>Benefit</th>\n",
       "      <th>length_of_hire</th>\n",
       "      <th>Facility</th>\n",
       "      <th>DriveTime</th>\n",
       "      <th>Marital</th>\n",
       "      <th>SpousalBenefit</th>\n",
       "      <th>StockPlan</th>\n",
       "      <th>TrainingRecieved</th>\n",
       "      <th>PositionType</th>\n",
       "      <th>Education</th>\n",
       "      <th>Status</th>\n",
       "      <th>pesoPonderado</th>\n",
       "      <th>polarity</th>\n",
       "      <th>subjectivity</th>\n",
       "    </tr>\n",
       "  </thead>\n",
       "  <tbody>\n",
       "    <tr>\n",
       "      <th>0</th>\n",
       "      <td>better non-monetary benefits.</td>\n",
       "      <td>2181.0</td>\n",
       "      <td>1</td>\n",
       "      <td>60095.20000</td>\n",
       "      <td>1</td>\n",
       "      <td>58.479532</td>\n",
       "      <td>0</td>\n",
       "      <td>3</td>\n",
       "      <td>0</td>\n",
       "      <td>1</td>\n",
       "      <td>1</td>\n",
       "      <td>0</td>\n",
       "      <td>3</td>\n",
       "      <td>0</td>\n",
       "      <td>0</td>\n",
       "      <td>0.007516</td>\n",
       "      <td>0.50</td>\n",
       "      <td>0.5</td>\n",
       "    </tr>\n",
       "    <tr>\n",
       "      <th>1</th>\n",
       "      <td>company outings</td>\n",
       "      <td>2829.0</td>\n",
       "      <td>1</td>\n",
       "      <td>47049.07979</td>\n",
       "      <td>0</td>\n",
       "      <td>35.714286</td>\n",
       "      <td>1</td>\n",
       "      <td>0</td>\n",
       "      <td>0</td>\n",
       "      <td>1</td>\n",
       "      <td>0</td>\n",
       "      <td>1</td>\n",
       "      <td>3</td>\n",
       "      <td>0</td>\n",
       "      <td>0</td>\n",
       "      <td>0.004675</td>\n",
       "      <td>0.00</td>\n",
       "      <td>0.0</td>\n",
       "    </tr>\n",
       "    <tr>\n",
       "      <th>2</th>\n",
       "      <td>Having more safety meeting, and discussing wha...</td>\n",
       "      <td>2144.0</td>\n",
       "      <td>1</td>\n",
       "      <td>60724.12250</td>\n",
       "      <td>1</td>\n",
       "      <td>17.152659</td>\n",
       "      <td>1</td>\n",
       "      <td>2</td>\n",
       "      <td>0</td>\n",
       "      <td>1</td>\n",
       "      <td>1</td>\n",
       "      <td>1</td>\n",
       "      <td>3</td>\n",
       "      <td>3</td>\n",
       "      <td>1</td>\n",
       "      <td>0.003150</td>\n",
       "      <td>0.25</td>\n",
       "      <td>0.5</td>\n",
       "    </tr>\n",
       "  </tbody>\n",
       "</table>\n",
       "</div>"
      ],
      "text/plain": [
       "                                         CanDoBetter      ID  Training  \\\n",
       "0                      better non-monetary benefits.  2181.0         1   \n",
       "1                                    company outings  2829.0         1   \n",
       "2  Having more safety meeting, and discussing wha...  2144.0         1   \n",
       "\n",
       "    Est_Income  Benefit  length_of_hire  Facility  DriveTime  Marital  \\\n",
       "0  60095.20000        1       58.479532         0          3        0   \n",
       "1  47049.07979        0       35.714286         1          0        0   \n",
       "2  60724.12250        1       17.152659         1          2        0   \n",
       "\n",
       "   SpousalBenefit  StockPlan  TrainingRecieved  PositionType  Education  \\\n",
       "0               1          1                 0             3          0   \n",
       "1               1          0                 1             3          0   \n",
       "2               1          1                 1             3          3   \n",
       "\n",
       "   Status  pesoPonderado  polarity  subjectivity  \n",
       "0       0       0.007516      0.50           0.5  \n",
       "1       0       0.004675      0.00           0.0  \n",
       "2       1       0.003150      0.25           0.5  "
      ]
     },
     "execution_count": 24,
     "metadata": {},
     "output_type": "execute_result"
    }
   ],
   "source": [
    "#Se importa la librera TextBlod\n",
    "from textblob import TextBlob\n",
    "\n",
    "#Funcion para calcular la polaridad del texto\n",
    "pol = lambda x: TextBlob(x).sentiment.polarity\n",
    "\n",
    "#Funcion para calcular la subjetividad del texto\n",
    "sub = lambda x: TextBlob(x).sentiment.subjectivity\n",
    "\n",
    "#Se actualiza los valores de polaridad\n",
    "Employeedf['polarity'] = Employeedf['CanDoBetter'].apply(pol)\n",
    "\n",
    "#Se actualiza los valores de subjetividad\n",
    "Employeedf['subjectivity'] = Employeedf['CanDoBetter'].apply(sub)\n",
    "\n",
    "Employeedf.head(3)"
   ]
  },
  {
   "cell_type": "markdown",
   "metadata": {},
   "source": [
    "<b>Paso 25.</b> Se realiza la separacion de variables"
   ]
  },
  {
   "cell_type": "code",
   "execution_count": 25,
   "metadata": {},
   "outputs": [],
   "source": [
    "# Se deja una matriz con las columnas predictorias\n",
    "X = Employeedf.drop(columns=[\"CanDoBetter\",\"ID\",\"Status\",\"pesoPonderado\"])\n",
    "# Un arreglo con la columna predecida\n",
    "Y = Employeedf[\"Status\"]"
   ]
  },
  {
   "cell_type": "markdown",
   "metadata": {},
   "source": [
    "<b>Paso 26.</b> Separacion de los datos de entrenamiento y testeo"
   ]
  },
  {
   "cell_type": "code",
   "execution_count": 26,
   "metadata": {},
   "outputs": [
    {
     "name": "stdout",
     "output_type": "stream",
     "text": [
      "Matriz XTrain =  (1200, 14)\n",
      "Matriz XTest =  (515, 14)\n",
      "Matriz YTrain =  (1200,)\n",
      "Matriz YTest =  (515,)\n"
     ]
    }
   ],
   "source": [
    "#Importa la funcion train test split\n",
    "from sklearn.model_selection import train_test_split\n",
    "\n",
    "#Se obtienen los valores de entrenamiento y testeo\n",
    "XTrain,XTest,YTrain,YTest = train_test_split(X,Y,test_size = 0.3,random_state = 101)\n",
    "\n",
    "print(\"Matriz XTrain = \",XTrain.shape)\n",
    "print(\"Matriz XTest = \",XTest.shape)\n",
    "print(\"Matriz YTrain = \",YTrain.shape)\n",
    "print(\"Matriz YTest = \",YTest.shape)"
   ]
  },
  {
   "cell_type": "markdown",
   "metadata": {},
   "source": [
    "<b>Paso 27.</b> Naive Bayes - Entrenamiento"
   ]
  },
  {
   "cell_type": "code",
   "execution_count": 27,
   "metadata": {},
   "outputs": [
    {
     "data": {
      "text/plain": [
       "Pipeline(memory=None,\n",
       "         steps=[('normalizacion',\n",
       "                 MinMaxScaler(copy=True, feature_range=(0, 1))),\n",
       "                ('modelo',\n",
       "                 CategoricalNB(alpha=1.0, class_prior=None, fit_prior=True))],\n",
       "         verbose=False)"
      ]
     },
     "execution_count": 27,
     "metadata": {},
     "output_type": "execute_result"
    }
   ],
   "source": [
    "#Se importa la ejecucion secuencial \n",
    "from sklearn.pipeline import Pipeline\n",
    "#Funcion para la normalizacion de variables\n",
    "from sklearn.preprocessing import MinMaxScaler\n",
    "#Importa el el modelo de Naive Bayes\n",
    "from sklearn.naive_bayes import CategoricalNB\n",
    "\n",
    "#Se realiza el entrenamiento del model\n",
    "naiveBayes2 = Pipeline([(\"normalizacion\",MinMaxScaler()),(\"modelo\",CategoricalNB())])\n",
    "naiveBayes2.fit(XTrain,YTrain)"
   ]
  },
  {
   "cell_type": "markdown",
   "metadata": {},
   "source": [
    "<b>Paso 28.</b> Naive Bayes - Reporte Clasificacion"
   ]
  },
  {
   "cell_type": "code",
   "execution_count": 28,
   "metadata": {},
   "outputs": [
    {
     "data": {
      "text/html": [
       "<div>\n",
       "<style scoped>\n",
       "    .dataframe tbody tr th:only-of-type {\n",
       "        vertical-align: middle;\n",
       "    }\n",
       "\n",
       "    .dataframe tbody tr th {\n",
       "        vertical-align: top;\n",
       "    }\n",
       "\n",
       "    .dataframe thead th {\n",
       "        text-align: right;\n",
       "    }\n",
       "</style>\n",
       "<table border=\"1\" class=\"dataframe\">\n",
       "  <thead>\n",
       "    <tr style=\"text-align: right;\">\n",
       "      <th></th>\n",
       "      <th>Current</th>\n",
       "      <th>Past</th>\n",
       "      <th>accuracy</th>\n",
       "      <th>macro avg</th>\n",
       "      <th>weighted avg</th>\n",
       "    </tr>\n",
       "  </thead>\n",
       "  <tbody>\n",
       "    <tr>\n",
       "      <th>precision</th>\n",
       "      <td>0.629630</td>\n",
       "      <td>0.579268</td>\n",
       "      <td>0.613592</td>\n",
       "      <td>0.604449</td>\n",
       "      <td>0.607627</td>\n",
       "    </tr>\n",
       "    <tr>\n",
       "      <th>recall</th>\n",
       "      <td>0.762069</td>\n",
       "      <td>0.422222</td>\n",
       "      <td>0.613592</td>\n",
       "      <td>0.592146</td>\n",
       "      <td>0.613592</td>\n",
       "    </tr>\n",
       "    <tr>\n",
       "      <th>f1-score</th>\n",
       "      <td>0.689548</td>\n",
       "      <td>0.488432</td>\n",
       "      <td>0.613592</td>\n",
       "      <td>0.588990</td>\n",
       "      <td>0.601681</td>\n",
       "    </tr>\n",
       "    <tr>\n",
       "      <th>support</th>\n",
       "      <td>290.000000</td>\n",
       "      <td>225.000000</td>\n",
       "      <td>0.613592</td>\n",
       "      <td>515.000000</td>\n",
       "      <td>515.000000</td>\n",
       "    </tr>\n",
       "  </tbody>\n",
       "</table>\n",
       "</div>"
      ],
      "text/plain": [
       "              Current        Past  accuracy   macro avg  weighted avg\n",
       "precision    0.629630    0.579268  0.613592    0.604449      0.607627\n",
       "recall       0.762069    0.422222  0.613592    0.592146      0.613592\n",
       "f1-score     0.689548    0.488432  0.613592    0.588990      0.601681\n",
       "support    290.000000  225.000000  0.613592  515.000000    515.000000"
      ]
     },
     "execution_count": 28,
     "metadata": {},
     "output_type": "execute_result"
    }
   ],
   "source": [
    "#Se importa el reporte de clasificacion\n",
    "from sklearn.metrics import classification_report\n",
    "\n",
    "#Se predice con los datos de testo\n",
    "YTestPredict = naiveBayes2.predict(XTest)\n",
    "\n",
    "#Reporte de clasificacion\n",
    "resultadoNB2 = pd.DataFrame.from_dict(classification_report(YTest,YTestPredict,output_dict=True))\n",
    "resultadoNB2 = resultadoNB2.rename(columns={'0':'Current','1':'Past'})\n",
    "resultadoNB2"
   ]
  },
  {
   "cell_type": "markdown",
   "metadata": {},
   "source": [
    "<b>Paso 29.</b> Naive Bayes - Matriz de Confusion"
   ]
  },
  {
   "cell_type": "code",
   "execution_count": 29,
   "metadata": {},
   "outputs": [
    {
     "data": {
      "image/png": "[encoded data removed]",
      "text/plain": [
       "<Figure size 432x288 with 2 Axes>"
      ]
     },
     "metadata": {
      "needs_background": "light"
     },
     "output_type": "display_data"
    }
   ],
   "source": [
    "#Se importa la matriz de confusion\n",
    "from sklearn.metrics import confusion_matrix\n",
    "\n",
    "#Se ejecuta la matriz de confusion \n",
    "matrixConfusion = confusion_matrix(YTest, YTestPredict)\n",
    "\n",
    "#Se pinta la matriz de confusion\n",
    "sns.heatmap(matrixConfusion, annot=True, cmap=\"YlGnBu\" ,fmt='g')\n",
    "plt.tight_layout()\n",
    "plt.title('Confusion matrix', y=1.1)\n",
    "plt.ylabel('Actual label')\n",
    "plt.xlabel('Predicted label')\n",
    "plt.xticks(np.arange(len(diccionarioEncoder[\"Status\"]))+0.5,diccionarioEncoder[\"Status\"])\n",
    "plt.yticks(np.arange(len(diccionarioEncoder[\"Status\"]))+0.5,diccionarioEncoder[\"Status\"])\n",
    "plt.show()"
   ]
  },
  {
   "cell_type": "markdown",
   "metadata": {},
   "source": [
    "<b>Paso 30.</b> Arbol de Desicion - Entrenamiento"
   ]
  },
  {
   "cell_type": "code",
   "execution_count": 30,
   "metadata": {},
   "outputs": [
    {
     "data": {
      "text/plain": [
       "DecisionTreeClassifier(ccp_alpha=0.0, class_weight=None, criterion='gini',\n",
       "                       max_depth=None, max_features=None, max_leaf_nodes=None,\n",
       "                       min_impurity_decrease=0.0, min_impurity_split=None,\n",
       "                       min_samples_leaf=1, min_samples_split=2,\n",
       "                       min_weight_fraction_leaf=0.0, presort='deprecated',\n",
       "                       random_state=None, splitter='best')"
      ]
     },
     "execution_count": 30,
     "metadata": {},
     "output_type": "execute_result"
    }
   ],
   "source": [
    "#Importa el el modelo de Arbol de Desicion\n",
    "from sklearn.tree import DecisionTreeClassifier\n",
    "\n",
    "#Se realiza el entrenamiento del model\n",
    "arbol2 = DecisionTreeClassifier()\n",
    "arbol2.fit(XTrain,YTrain)"
   ]
  },
  {
   "cell_type": "markdown",
   "metadata": {},
   "source": [
    "<b>Paso 31.</b> Arbol de Desicion - Reporte Clasificiacion"
   ]
  },
  {
   "cell_type": "code",
   "execution_count": 31,
   "metadata": {},
   "outputs": [
    {
     "data": {
      "text/html": [
       "<div>\n",
       "<style scoped>\n",
       "    .dataframe tbody tr th:only-of-type {\n",
       "        vertical-align: middle;\n",
       "    }\n",
       "\n",
       "    .dataframe tbody tr th {\n",
       "        vertical-align: top;\n",
       "    }\n",
       "\n",
       "    .dataframe thead th {\n",
       "        text-align: right;\n",
       "    }\n",
       "</style>\n",
       "<table border=\"1\" class=\"dataframe\">\n",
       "  <thead>\n",
       "    <tr style=\"text-align: right;\">\n",
       "      <th></th>\n",
       "      <th>Current</th>\n",
       "      <th>Past</th>\n",
       "      <th>accuracy</th>\n",
       "      <th>macro avg</th>\n",
       "      <th>weighted avg</th>\n",
       "    </tr>\n",
       "  </thead>\n",
       "  <tbody>\n",
       "    <tr>\n",
       "      <th>precision</th>\n",
       "      <td>0.811688</td>\n",
       "      <td>0.806763</td>\n",
       "      <td>0.809709</td>\n",
       "      <td>0.809226</td>\n",
       "      <td>0.809537</td>\n",
       "    </tr>\n",
       "    <tr>\n",
       "      <th>recall</th>\n",
       "      <td>0.862069</td>\n",
       "      <td>0.742222</td>\n",
       "      <td>0.809709</td>\n",
       "      <td>0.802146</td>\n",
       "      <td>0.809709</td>\n",
       "    </tr>\n",
       "    <tr>\n",
       "      <th>f1-score</th>\n",
       "      <td>0.836120</td>\n",
       "      <td>0.773148</td>\n",
       "      <td>0.809709</td>\n",
       "      <td>0.804634</td>\n",
       "      <td>0.808608</td>\n",
       "    </tr>\n",
       "    <tr>\n",
       "      <th>support</th>\n",
       "      <td>290.000000</td>\n",
       "      <td>225.000000</td>\n",
       "      <td>0.809709</td>\n",
       "      <td>515.000000</td>\n",
       "      <td>515.000000</td>\n",
       "    </tr>\n",
       "  </tbody>\n",
       "</table>\n",
       "</div>"
      ],
      "text/plain": [
       "              Current        Past  accuracy   macro avg  weighted avg\n",
       "precision    0.811688    0.806763  0.809709    0.809226      0.809537\n",
       "recall       0.862069    0.742222  0.809709    0.802146      0.809709\n",
       "f1-score     0.836120    0.773148  0.809709    0.804634      0.808608\n",
       "support    290.000000  225.000000  0.809709  515.000000    515.000000"
      ]
     },
     "execution_count": 31,
     "metadata": {},
     "output_type": "execute_result"
    }
   ],
   "source": [
    "#Se importa el reporte de clasificacion\n",
    "from sklearn.metrics import classification_report\n",
    "\n",
    "#Se predice con los datos de testo\n",
    "YTestPredict = arbol2.predict(XTest)\n",
    "\n",
    "#Reporte de clasificacion\n",
    "resultadoA2 = pd.DataFrame.from_dict(classification_report(YTest,YTestPredict,output_dict=True))\n",
    "resultadoA2 = resultadoA2.rename(columns={'0':'Current','1':'Past'})\n",
    "resultadoA2"
   ]
  },
  {
   "cell_type": "markdown",
   "metadata": {},
   "source": [
    "<b>Paso 32.</b> Arbol de Desicion - Matriz de Confusion"
   ]
  },
  {
   "cell_type": "code",
   "execution_count": 32,
   "metadata": {},
   "outputs": [
    {
     "data": {
      "image/png": "[encoded data removed]",
      "text/plain": [
       "<Figure size 432x288 with 2 Axes>"
      ]
     },
     "metadata": {
      "needs_background": "light"
     },
     "output_type": "display_data"
    }
   ],
   "source": [
    "#Se importa la matriz de confusion\n",
    "from sklearn.metrics import confusion_matrix\n",
    "\n",
    "#Se ejecuta la matriz de confusion \n",
    "matrixConfusion = confusion_matrix(YTest, YTestPredict)\n",
    "\n",
    "#Se pinta la matriz de confusion\n",
    "sns.heatmap(matrixConfusion, annot=True, cmap=\"YlGnBu\" ,fmt='g')\n",
    "plt.tight_layout()\n",
    "plt.title('Confusion matrix', y=1.1)\n",
    "plt.ylabel('Actual label')\n",
    "plt.xlabel('Predicted label')\n",
    "plt.xticks(np.arange(len(diccionarioEncoder[\"Status\"]))+0.5,diccionarioEncoder[\"Status\"])\n",
    "plt.yticks(np.arange(len(diccionarioEncoder[\"Status\"]))+0.5,diccionarioEncoder[\"Status\"])\n",
    "plt.show()"
   ]
  },
  {
   "cell_type": "markdown",
   "metadata": {},
   "source": [
    "<b>Paso 33.</b> Knn - Entrenamiento"
   ]
  },
  {
   "cell_type": "code",
   "execution_count": 33,
   "metadata": {},
   "outputs": [
    {
     "data": {
      "text/plain": [
       "KNeighborsClassifier(algorithm='auto', leaf_size=30, metric='minkowski',\n",
       "                     metric_params=None, n_jobs=None, n_neighbors=2, p=2,\n",
       "                     weights='uniform')"
      ]
     },
     "execution_count": 33,
     "metadata": {},
     "output_type": "execute_result"
    }
   ],
   "source": [
    "#Importa el el modelo de KNN\n",
    "from sklearn.neighbors import KNeighborsClassifier\n",
    "\n",
    "#Se realiza el entrenamiento del model\n",
    "knn2 = KNeighborsClassifier(n_neighbors=2)\n",
    "knn2.fit(XTrain,YTrain)"
   ]
  },
  {
   "cell_type": "markdown",
   "metadata": {},
   "source": [
    "<b>Paso 34.</b> Knn - Reporte Clasificacion"
   ]
  },
  {
   "cell_type": "code",
   "execution_count": 34,
   "metadata": {},
   "outputs": [
    {
     "data": {
      "text/html": [
       "<div>\n",
       "<style scoped>\n",
       "    .dataframe tbody tr th:only-of-type {\n",
       "        vertical-align: middle;\n",
       "    }\n",
       "\n",
       "    .dataframe tbody tr th {\n",
       "        vertical-align: top;\n",
       "    }\n",
       "\n",
       "    .dataframe thead th {\n",
       "        text-align: right;\n",
       "    }\n",
       "</style>\n",
       "<table border=\"1\" class=\"dataframe\">\n",
       "  <thead>\n",
       "    <tr style=\"text-align: right;\">\n",
       "      <th></th>\n",
       "      <th>Current</th>\n",
       "      <th>Past</th>\n",
       "      <th>accuracy</th>\n",
       "      <th>macro avg</th>\n",
       "      <th>weighted avg</th>\n",
       "    </tr>\n",
       "  </thead>\n",
       "  <tbody>\n",
       "    <tr>\n",
       "      <th>precision</th>\n",
       "      <td>0.679144</td>\n",
       "      <td>0.744681</td>\n",
       "      <td>0.697087</td>\n",
       "      <td>0.711913</td>\n",
       "      <td>0.707777</td>\n",
       "    </tr>\n",
       "    <tr>\n",
       "      <th>recall</th>\n",
       "      <td>0.875862</td>\n",
       "      <td>0.466667</td>\n",
       "      <td>0.697087</td>\n",
       "      <td>0.671264</td>\n",
       "      <td>0.697087</td>\n",
       "    </tr>\n",
       "    <tr>\n",
       "      <th>f1-score</th>\n",
       "      <td>0.765060</td>\n",
       "      <td>0.573770</td>\n",
       "      <td>0.697087</td>\n",
       "      <td>0.669415</td>\n",
       "      <td>0.681487</td>\n",
       "    </tr>\n",
       "    <tr>\n",
       "      <th>support</th>\n",
       "      <td>290.000000</td>\n",
       "      <td>225.000000</td>\n",
       "      <td>0.697087</td>\n",
       "      <td>515.000000</td>\n",
       "      <td>515.000000</td>\n",
       "    </tr>\n",
       "  </tbody>\n",
       "</table>\n",
       "</div>"
      ],
      "text/plain": [
       "              Current        Past  accuracy   macro avg  weighted avg\n",
       "precision    0.679144    0.744681  0.697087    0.711913      0.707777\n",
       "recall       0.875862    0.466667  0.697087    0.671264      0.697087\n",
       "f1-score     0.765060    0.573770  0.697087    0.669415      0.681487\n",
       "support    290.000000  225.000000  0.697087  515.000000    515.000000"
      ]
     },
     "execution_count": 34,
     "metadata": {},
     "output_type": "execute_result"
    }
   ],
   "source": [
    "#Se importa el reporte de clasificacion\n",
    "from sklearn.metrics import classification_report\n",
    "\n",
    "#Se predice con los datos de testo\n",
    "YTestPredict = knn2.predict(XTest)\n",
    "\n",
    "#Reporte de clasificacion\n",
    "resultadoKnn2 = pd.DataFrame.from_dict(classification_report(YTest,YTestPredict,output_dict=True))\n",
    "resultadoKnn2 = resultadoKnn2.rename(columns={'0':'Current','1':'Past'})\n",
    "resultadoKnn2"
   ]
  },
  {
   "cell_type": "markdown",
   "metadata": {},
   "source": [
    "<b>Paso 35.</b> Knn - Matriz de Confusion"
   ]
  },
  {
   "cell_type": "code",
   "execution_count": 35,
   "metadata": {},
   "outputs": [
    {
     "data": {
      "image/png": "[encoded data removed]",
      "text/plain": [
       "<Figure size 432x288 with 2 Axes>"
      ]
     },
     "metadata": {
      "needs_background": "light"
     },
     "output_type": "display_data"
    }
   ],
   "source": [
    "#Se importa la matriz de confusion\n",
    "from sklearn.metrics import confusion_matrix\n",
    "\n",
    "#Se ejecuta la matriz de confusion \n",
    "matrixConfusion = confusion_matrix(YTest, YTestPredict)\n",
    "\n",
    "#Se pinta la matriz de confusion\n",
    "sns.heatmap(matrixConfusion, annot=True, cmap=\"YlGnBu\" ,fmt='g')\n",
    "plt.tight_layout()\n",
    "plt.title('Confusion matrix', y=1.1)\n",
    "plt.ylabel('Actual label')\n",
    "plt.xlabel('Predicted label')\n",
    "plt.xticks(np.arange(len(diccionarioEncoder[\"Status\"]))+0.5,diccionarioEncoder[\"Status\"])\n",
    "plt.yticks(np.arange(len(diccionarioEncoder[\"Status\"]))+0.5,diccionarioEncoder[\"Status\"])\n",
    "plt.show()"
   ]
  },
  {
   "cell_type": "markdown",
   "metadata": {},
   "source": [
    "<b>Paso 36.</b> Comparacion de resultados de modelos"
   ]
  },
  {
   "cell_type": "code",
   "execution_count": 36,
   "metadata": {
    "scrolled": false
   },
   "outputs": [
    {
     "name": "stdout",
     "output_type": "stream",
     "text": [
      "Resultado Naive Bayes Total Accuracy =  0.6135922330097088\n",
      "            Current      Past\n",
      "precision  0.629630  0.579268\n",
      "recall     0.762069  0.422222\n",
      "\n",
      "Resultado Arbol de Desicion Total Accuracy =  0.8097087378640777\n",
      "            Current      Past\n",
      "precision  0.811688  0.806763\n",
      "recall     0.862069  0.742222\n",
      "\n",
      "Resultado Knn Total Accuracy =  0.6970873786407767\n",
      "            Current      Past\n",
      "precision  0.679144  0.744681\n",
      "recall     0.875862  0.466667\n"
     ]
    }
   ],
   "source": [
    "print(\"Resultado Naive Bayes Total Accuracy = \",resultadoNB2.loc[\"precision\"][\"accuracy\"])\n",
    "print(resultadoNB2.loc[\"precision\":\"recall\",\"Current\":\"Past\"])\n",
    "print(\"\")\n",
    "print(\"Resultado Arbol de Desicion Total Accuracy = \",resultadoA2.loc[\"precision\"][\"accuracy\"])\n",
    "print(resultadoA2.loc[\"precision\":\"recall\",\"Current\":\"Past\"])\n",
    "print(\"\")\n",
    "print(\"Resultado Knn Total Accuracy = \",resultadoKnn2.loc[\"precision\"][\"accuracy\"])\n",
    "print(resultadoKnn2.loc[\"precision\":\"recall\",\"Current\":\"Past\"])"
   ]
  },
  {
   "cell_type": "markdown",
   "metadata": {},
   "source": [
    "## Modelo 3 - NLTK y TextBlob"
   ]
  },
  {
   "cell_type": "markdown",
   "metadata": {},
   "source": [
    "<b>Paso 37.</b> Se realiza la separacion de variables"
   ]
  },
  {
   "cell_type": "code",
   "execution_count": 37,
   "metadata": {},
   "outputs": [],
   "source": [
    "# Se deja una matriz con las columnas predictorias\n",
    "X = Employeedf.drop(columns=[\"CanDoBetter\",\"ID\",\"Status\"])\n",
    "# Un arreglo con la columna predecida\n",
    "Y = Employeedf[\"Status\"]"
   ]
  },
  {
   "cell_type": "markdown",
   "metadata": {},
   "source": [
    "<b>Paso 38.</b> Separacion de los datos de entrenamiento y testeo"
   ]
  },
  {
   "cell_type": "code",
   "execution_count": 38,
   "metadata": {},
   "outputs": [
    {
     "name": "stdout",
     "output_type": "stream",
     "text": [
      "Matriz XTrain =  (1200, 15)\n",
      "Matriz XTest =  (515, 15)\n",
      "Matriz YTrain =  (1200,)\n",
      "Matriz YTest =  (515,)\n"
     ]
    }
   ],
   "source": [
    "#Importa la funcion train test split\n",
    "from sklearn.model_selection import train_test_split\n",
    "\n",
    "#Se obtienen los valores de entrenamiento y testeo\n",
    "XTrain,XTest,YTrain,YTest = train_test_split(X,Y,test_size = 0.3,random_state = 101)\n",
    "\n",
    "print(\"Matriz XTrain = \",XTrain.shape)\n",
    "print(\"Matriz XTest = \",XTest.shape)\n",
    "print(\"Matriz YTrain = \",YTrain.shape)\n",
    "print(\"Matriz YTest = \",YTest.shape)"
   ]
  },
  {
   "cell_type": "markdown",
   "metadata": {},
   "source": [
    "<b>Paso 39.</b> Naive Bayes - Entrenamiento"
   ]
  },
  {
   "cell_type": "code",
   "execution_count": 39,
   "metadata": {},
   "outputs": [
    {
     "data": {
      "text/plain": [
       "Pipeline(memory=None,\n",
       "         steps=[('normalizacion',\n",
       "                 MinMaxScaler(copy=True, feature_range=(0, 1))),\n",
       "                ('modelo',\n",
       "                 CategoricalNB(alpha=1.0, class_prior=None, fit_prior=True))],\n",
       "         verbose=False)"
      ]
     },
     "execution_count": 39,
     "metadata": {},
     "output_type": "execute_result"
    }
   ],
   "source": [
    "#Se importa la ejecucion secuencial \n",
    "from sklearn.pipeline import Pipeline\n",
    "#Funcion para la normalizacion de variables\n",
    "from sklearn.preprocessing import MinMaxScaler\n",
    "#Importa el el modelo de Naive Bayes\n",
    "from sklearn.naive_bayes import CategoricalNB\n",
    "\n",
    "#Se realiza el entrenamiento del model\n",
    "naiveBayes3 = Pipeline([(\"normalizacion\",MinMaxScaler()),(\"modelo\",CategoricalNB())])\n",
    "naiveBayes3.fit(XTrain,YTrain)"
   ]
  },
  {
   "cell_type": "markdown",
   "metadata": {},
   "source": [
    "<b>Paso 40.</b> Naive Bayes - Reporte Clasificacion"
   ]
  },
  {
   "cell_type": "code",
   "execution_count": 40,
   "metadata": {},
   "outputs": [
    {
     "data": {
      "text/html": [
       "<div>\n",
       "<style scoped>\n",
       "    .dataframe tbody tr th:only-of-type {\n",
       "        vertical-align: middle;\n",
       "    }\n",
       "\n",
       "    .dataframe tbody tr th {\n",
       "        vertical-align: top;\n",
       "    }\n",
       "\n",
       "    .dataframe thead th {\n",
       "        text-align: right;\n",
       "    }\n",
       "</style>\n",
       "<table border=\"1\" class=\"dataframe\">\n",
       "  <thead>\n",
       "    <tr style=\"text-align: right;\">\n",
       "      <th></th>\n",
       "      <th>Current</th>\n",
       "      <th>Past</th>\n",
       "      <th>accuracy</th>\n",
       "      <th>macro avg</th>\n",
       "      <th>weighted avg</th>\n",
       "    </tr>\n",
       "  </thead>\n",
       "  <tbody>\n",
       "    <tr>\n",
       "      <th>precision</th>\n",
       "      <td>0.697674</td>\n",
       "      <td>0.843750</td>\n",
       "      <td>0.733981</td>\n",
       "      <td>0.770712</td>\n",
       "      <td>0.761494</td>\n",
       "    </tr>\n",
       "    <tr>\n",
       "      <th>recall</th>\n",
       "      <td>0.931034</td>\n",
       "      <td>0.480000</td>\n",
       "      <td>0.733981</td>\n",
       "      <td>0.705517</td>\n",
       "      <td>0.733981</td>\n",
       "    </tr>\n",
       "    <tr>\n",
       "      <th>f1-score</th>\n",
       "      <td>0.797637</td>\n",
       "      <td>0.611898</td>\n",
       "      <td>0.733981</td>\n",
       "      <td>0.704767</td>\n",
       "      <td>0.716489</td>\n",
       "    </tr>\n",
       "    <tr>\n",
       "      <th>support</th>\n",
       "      <td>290.000000</td>\n",
       "      <td>225.000000</td>\n",
       "      <td>0.733981</td>\n",
       "      <td>515.000000</td>\n",
       "      <td>515.000000</td>\n",
       "    </tr>\n",
       "  </tbody>\n",
       "</table>\n",
       "</div>"
      ],
      "text/plain": [
       "              Current        Past  accuracy   macro avg  weighted avg\n",
       "precision    0.697674    0.843750  0.733981    0.770712      0.761494\n",
       "recall       0.931034    0.480000  0.733981    0.705517      0.733981\n",
       "f1-score     0.797637    0.611898  0.733981    0.704767      0.716489\n",
       "support    290.000000  225.000000  0.733981  515.000000    515.000000"
      ]
     },
     "execution_count": 40,
     "metadata": {},
     "output_type": "execute_result"
    }
   ],
   "source": [
    "#Se importa el reporte de clasificacion\n",
    "from sklearn.metrics import classification_report\n",
    "\n",
    "#Se predice con los datos de testo\n",
    "YTestPredict = naiveBayes3.predict(XTest)\n",
    "\n",
    "#Reporte de clasificacion\n",
    "resultadoNB3 = pd.DataFrame.from_dict(classification_report(YTest,YTestPredict,output_dict=True))\n",
    "resultadoNB3 = resultadoNB3.rename(columns={'0':'Current','1':'Past'})\n",
    "resultadoNB3"
   ]
  },
  {
   "cell_type": "markdown",
   "metadata": {},
   "source": [
    "<b>Paso 41.</b> Naive Bayes - Matriz de Confusion"
   ]
  },
  {
   "cell_type": "code",
   "execution_count": 41,
   "metadata": {},
   "outputs": [
    {
     "data": {
      "image/png": "[encoded data removed]",
      "text/plain": [
       "<Figure size 432x288 with 2 Axes>"
      ]
     },
     "metadata": {
      "needs_background": "light"
     },
     "output_type": "display_data"
    }
   ],
   "source": [
    "#Se importa la matriz de confusion\n",
    "from sklearn.metrics import confusion_matrix\n",
    "\n",
    "#Se ejecuta la matriz de confusion \n",
    "matrixConfusion = confusion_matrix(YTest, YTestPredict)\n",
    "\n",
    "#Se pinta la matriz de confusion\n",
    "sns.heatmap(matrixConfusion, annot=True, cmap=\"YlGnBu\" ,fmt='g')\n",
    "plt.tight_layout()\n",
    "plt.title('Confusion matrix', y=1.1)\n",
    "plt.ylabel('Actual label')\n",
    "plt.xlabel('Predicted label')\n",
    "plt.xticks(np.arange(len(diccionarioEncoder[\"Status\"]))+0.5,diccionarioEncoder[\"Status\"])\n",
    "plt.yticks(np.arange(len(diccionarioEncoder[\"Status\"]))+0.5,diccionarioEncoder[\"Status\"])\n",
    "plt.show()"
   ]
  },
  {
   "cell_type": "markdown",
   "metadata": {},
   "source": [
    "<b>Paso 42.</b> Arbol de Desicion - Entrenamiento"
   ]
  },
  {
   "cell_type": "code",
   "execution_count": 42,
   "metadata": {},
   "outputs": [
    {
     "data": {
      "text/plain": [
       "DecisionTreeClassifier(ccp_alpha=0.0, class_weight=None, criterion='gini',\n",
       "                       max_depth=None, max_features=None, max_leaf_nodes=None,\n",
       "                       min_impurity_decrease=0.0, min_impurity_split=None,\n",
       "                       min_samples_leaf=1, min_samples_split=2,\n",
       "                       min_weight_fraction_leaf=0.0, presort='deprecated',\n",
       "                       random_state=None, splitter='best')"
      ]
     },
     "execution_count": 42,
     "metadata": {},
     "output_type": "execute_result"
    }
   ],
   "source": [
    "#Importa el el modelo de Arbol de Desicion\n",
    "from sklearn.tree import DecisionTreeClassifier\n",
    "\n",
    "#Se realiza el entrenamiento del model\n",
    "arbol3 = DecisionTreeClassifier()\n",
    "arbol3.fit(XTrain,YTrain)"
   ]
  },
  {
   "cell_type": "markdown",
   "metadata": {},
   "source": [
    "<b>Paso 42.</b> Arbol de Desicion - Reporte Clasificiacion"
   ]
  },
  {
   "cell_type": "code",
   "execution_count": 43,
   "metadata": {},
   "outputs": [
    {
     "data": {
      "text/html": [
       "<div>\n",
       "<style scoped>\n",
       "    .dataframe tbody tr th:only-of-type {\n",
       "        vertical-align: middle;\n",
       "    }\n",
       "\n",
       "    .dataframe tbody tr th {\n",
       "        vertical-align: top;\n",
       "    }\n",
       "\n",
       "    .dataframe thead th {\n",
       "        text-align: right;\n",
       "    }\n",
       "</style>\n",
       "<table border=\"1\" class=\"dataframe\">\n",
       "  <thead>\n",
       "    <tr style=\"text-align: right;\">\n",
       "      <th></th>\n",
       "      <th>Current</th>\n",
       "      <th>Past</th>\n",
       "      <th>accuracy</th>\n",
       "      <th>macro avg</th>\n",
       "      <th>weighted avg</th>\n",
       "    </tr>\n",
       "  </thead>\n",
       "  <tbody>\n",
       "    <tr>\n",
       "      <th>precision</th>\n",
       "      <td>0.800664</td>\n",
       "      <td>0.771028</td>\n",
       "      <td>0.78835</td>\n",
       "      <td>0.785846</td>\n",
       "      <td>0.787717</td>\n",
       "    </tr>\n",
       "    <tr>\n",
       "      <th>recall</th>\n",
       "      <td>0.831034</td>\n",
       "      <td>0.733333</td>\n",
       "      <td>0.78835</td>\n",
       "      <td>0.782184</td>\n",
       "      <td>0.788350</td>\n",
       "    </tr>\n",
       "    <tr>\n",
       "      <th>f1-score</th>\n",
       "      <td>0.815567</td>\n",
       "      <td>0.751708</td>\n",
       "      <td>0.78835</td>\n",
       "      <td>0.783638</td>\n",
       "      <td>0.787668</td>\n",
       "    </tr>\n",
       "    <tr>\n",
       "      <th>support</th>\n",
       "      <td>290.000000</td>\n",
       "      <td>225.000000</td>\n",
       "      <td>0.78835</td>\n",
       "      <td>515.000000</td>\n",
       "      <td>515.000000</td>\n",
       "    </tr>\n",
       "  </tbody>\n",
       "</table>\n",
       "</div>"
      ],
      "text/plain": [
       "              Current        Past  accuracy   macro avg  weighted avg\n",
       "precision    0.800664    0.771028   0.78835    0.785846      0.787717\n",
       "recall       0.831034    0.733333   0.78835    0.782184      0.788350\n",
       "f1-score     0.815567    0.751708   0.78835    0.783638      0.787668\n",
       "support    290.000000  225.000000   0.78835  515.000000    515.000000"
      ]
     },
     "execution_count": 43,
     "metadata": {},
     "output_type": "execute_result"
    }
   ],
   "source": [
    "#Se importa el reporte de clasificacion\n",
    "from sklearn.metrics import classification_report\n",
    "\n",
    "#Se predice con los datos de testo\n",
    "YTestPredict = arbol3.predict(XTest)\n",
    "\n",
    "#Reporte de clasificacion\n",
    "resultadoA3 = pd.DataFrame.from_dict(classification_report(YTest,YTestPredict,output_dict=True))\n",
    "resultadoA3 = resultadoA3.rename(columns={'0':'Current','1':'Past'})\n",
    "resultadoA3"
   ]
  },
  {
   "cell_type": "markdown",
   "metadata": {},
   "source": [
    "<b>Paso 43.</b> Arbol de Desicion - Matriz de Confusion"
   ]
  },
  {
   "cell_type": "code",
   "execution_count": 44,
   "metadata": {},
   "outputs": [
    {
     "data": {
      "image/png": "[encoded data removed]",
      "text/plain": [
       "<Figure size 432x288 with 2 Axes>"
      ]
     },
     "metadata": {
      "needs_background": "light"
     },
     "output_type": "display_data"
    }
   ],
   "source": [
    "#Se importa la matriz de confusion\n",
    "from sklearn.metrics import confusion_matrix\n",
    "\n",
    "#Se ejecuta la matriz de confusion \n",
    "matrixConfusion = confusion_matrix(YTest, YTestPredict)\n",
    "\n",
    "#Se pinta la matriz de confusion\n",
    "sns.heatmap(matrixConfusion, annot=True, cmap=\"YlGnBu\" ,fmt='g')\n",
    "plt.tight_layout()\n",
    "plt.title('Confusion matrix', y=1.1)\n",
    "plt.ylabel('Actual label')\n",
    "plt.xlabel('Predicted label')\n",
    "plt.xticks(np.arange(len(diccionarioEncoder[\"Status\"]))+0.5,diccionarioEncoder[\"Status\"])\n",
    "plt.yticks(np.arange(len(diccionarioEncoder[\"Status\"]))+0.5,diccionarioEncoder[\"Status\"])\n",
    "plt.show()"
   ]
  },
  {
   "cell_type": "markdown",
   "metadata": {},
   "source": [
    "<b>Paso 44.</b> Knn - Entrenamiento"
   ]
  },
  {
   "cell_type": "code",
   "execution_count": 45,
   "metadata": {},
   "outputs": [
    {
     "data": {
      "text/plain": [
       "KNeighborsClassifier(algorithm='auto', leaf_size=30, metric='minkowski',\n",
       "                     metric_params=None, n_jobs=None, n_neighbors=2, p=2,\n",
       "                     weights='uniform')"
      ]
     },
     "execution_count": 45,
     "metadata": {},
     "output_type": "execute_result"
    }
   ],
   "source": [
    "#Importa el el modelo de KNN\n",
    "from sklearn.neighbors import KNeighborsClassifier\n",
    "\n",
    "#Se realiza el entrenamiento del model\n",
    "knn3 = KNeighborsClassifier(n_neighbors=2)\n",
    "knn3.fit(XTrain,YTrain)"
   ]
  },
  {
   "cell_type": "markdown",
   "metadata": {},
   "source": [
    "<b>Paso 45.</b> Knn - Reporte Clasificacion"
   ]
  },
  {
   "cell_type": "code",
   "execution_count": 46,
   "metadata": {},
   "outputs": [
    {
     "data": {
      "text/html": [
       "<div>\n",
       "<style scoped>\n",
       "    .dataframe tbody tr th:only-of-type {\n",
       "        vertical-align: middle;\n",
       "    }\n",
       "\n",
       "    .dataframe tbody tr th {\n",
       "        vertical-align: top;\n",
       "    }\n",
       "\n",
       "    .dataframe thead th {\n",
       "        text-align: right;\n",
       "    }\n",
       "</style>\n",
       "<table border=\"1\" class=\"dataframe\">\n",
       "  <thead>\n",
       "    <tr style=\"text-align: right;\">\n",
       "      <th></th>\n",
       "      <th>Current</th>\n",
       "      <th>Past</th>\n",
       "      <th>accuracy</th>\n",
       "      <th>macro avg</th>\n",
       "      <th>weighted avg</th>\n",
       "    </tr>\n",
       "  </thead>\n",
       "  <tbody>\n",
       "    <tr>\n",
       "      <th>precision</th>\n",
       "      <td>0.679144</td>\n",
       "      <td>0.744681</td>\n",
       "      <td>0.697087</td>\n",
       "      <td>0.711913</td>\n",
       "      <td>0.707777</td>\n",
       "    </tr>\n",
       "    <tr>\n",
       "      <th>recall</th>\n",
       "      <td>0.875862</td>\n",
       "      <td>0.466667</td>\n",
       "      <td>0.697087</td>\n",
       "      <td>0.671264</td>\n",
       "      <td>0.697087</td>\n",
       "    </tr>\n",
       "    <tr>\n",
       "      <th>f1-score</th>\n",
       "      <td>0.765060</td>\n",
       "      <td>0.573770</td>\n",
       "      <td>0.697087</td>\n",
       "      <td>0.669415</td>\n",
       "      <td>0.681487</td>\n",
       "    </tr>\n",
       "    <tr>\n",
       "      <th>support</th>\n",
       "      <td>290.000000</td>\n",
       "      <td>225.000000</td>\n",
       "      <td>0.697087</td>\n",
       "      <td>515.000000</td>\n",
       "      <td>515.000000</td>\n",
       "    </tr>\n",
       "  </tbody>\n",
       "</table>\n",
       "</div>"
      ],
      "text/plain": [
       "              Current        Past  accuracy   macro avg  weighted avg\n",
       "precision    0.679144    0.744681  0.697087    0.711913      0.707777\n",
       "recall       0.875862    0.466667  0.697087    0.671264      0.697087\n",
       "f1-score     0.765060    0.573770  0.697087    0.669415      0.681487\n",
       "support    290.000000  225.000000  0.697087  515.000000    515.000000"
      ]
     },
     "execution_count": 46,
     "metadata": {},
     "output_type": "execute_result"
    }
   ],
   "source": [
    "#Se importa el reporte de clasificacion\n",
    "from sklearn.metrics import classification_report\n",
    "\n",
    "#Se predice con los datos de testo\n",
    "YTestPredict = knn3.predict(XTest)\n",
    "\n",
    "#Reporte de clasificacion\n",
    "resultadoKnn3 = pd.DataFrame.from_dict(classification_report(YTest,YTestPredict,output_dict=True))\n",
    "resultadoKnn3 = resultadoKnn3.rename(columns={'0':'Current','1':'Past'})\n",
    "resultadoKnn3"
   ]
  },
  {
   "cell_type": "markdown",
   "metadata": {},
   "source": [
    "<b>Paso 46.</b> Knn - Matriz de Confusion"
   ]
  },
  {
   "cell_type": "code",
   "execution_count": 47,
   "metadata": {},
   "outputs": [
    {
     "data": {
      "image/png": "[encoded data removed]",
      "text/plain": [
       "<Figure size 432x288 with 2 Axes>"
      ]
     },
     "metadata": {
      "needs_background": "light"
     },
     "output_type": "display_data"
    }
   ],
   "source": [
    "#Se importa la matriz de confusion\n",
    "from sklearn.metrics import confusion_matrix\n",
    "\n",
    "#Se ejecuta la matriz de confusion \n",
    "matrixConfusion = confusion_matrix(YTest, YTestPredict)\n",
    "\n",
    "#Se pinta la matriz de confusion\n",
    "sns.heatmap(matrixConfusion, annot=True, cmap=\"YlGnBu\" ,fmt='g')\n",
    "plt.tight_layout()\n",
    "plt.title('Confusion matrix', y=1.1)\n",
    "plt.ylabel('Actual label')\n",
    "plt.xlabel('Predicted label')\n",
    "plt.xticks(np.arange(len(diccionarioEncoder[\"Status\"]))+0.5,diccionarioEncoder[\"Status\"])\n",
    "plt.yticks(np.arange(len(diccionarioEncoder[\"Status\"]))+0.5,diccionarioEncoder[\"Status\"])\n",
    "plt.show()"
   ]
  },
  {
   "cell_type": "markdown",
   "metadata": {},
   "source": [
    "<b>Paso 47.</b> Comparacion de resultados de modelos"
   ]
  },
  {
   "cell_type": "code",
   "execution_count": 48,
   "metadata": {},
   "outputs": [
    {
     "name": "stdout",
     "output_type": "stream",
     "text": [
      "Resultado Naive Bayes Total Accuracy =  0.7339805825242719\n",
      "            Current     Past\n",
      "precision  0.697674  0.84375\n",
      "recall     0.931034  0.48000\n",
      "\n",
      "Resultado Arbol de Desicion Total Accuracy =  0.7883495145631068\n",
      "            Current      Past\n",
      "precision  0.800664  0.771028\n",
      "recall     0.831034  0.733333\n",
      "\n",
      "Resultado Knn Total Accuracy =  0.6970873786407767\n",
      "            Current      Past\n",
      "precision  0.679144  0.744681\n",
      "recall     0.875862  0.466667\n"
     ]
    }
   ],
   "source": [
    "print(\"Resultado Naive Bayes Total Accuracy = \",resultadoNB3.loc[\"precision\"][\"accuracy\"])\n",
    "print(resultadoNB3.loc[\"precision\":\"recall\",\"Current\":\"Past\"])\n",
    "print(\"\")\n",
    "print(\"Resultado Arbol de Desicion Total Accuracy = \",resultadoA3.loc[\"precision\"][\"accuracy\"])\n",
    "print(resultadoA3.loc[\"precision\":\"recall\",\"Current\":\"Past\"])\n",
    "print(\"\")\n",
    "print(\"Resultado Knn Total Accuracy = \",resultadoKnn3.loc[\"precision\"][\"accuracy\"])\n",
    "print(resultadoKnn3.loc[\"precision\":\"recall\",\"Current\":\"Past\"])"
   ]
  },
  {
   "cell_type": "markdown",
   "metadata": {},
   "source": [
    "## Comparacion todos los modelos"
   ]
  },
  {
   "cell_type": "code",
   "execution_count": 49,
   "metadata": {},
   "outputs": [
    {
     "name": "stdout",
     "output_type": "stream",
     "text": [
      "NLTK\n",
      "Resultado Naive Bayes Total Accuracy =  0.7941747572815534\n",
      "            Current      Past\n",
      "precision  0.777108  0.825137\n",
      "recall     0.889655  0.671111\n",
      "\n",
      "Resultado Arbol de Desicion Total Accuracy =  0.8116504854368932\n",
      "            Current      Past\n",
      "precision  0.827119  0.790909\n",
      "recall     0.841379  0.773333\n",
      "\n",
      "Resultado Knn Total Accuracy =  0.6932038834951456\n",
      "            Current      Past\n",
      "precision  0.676471  0.737589\n",
      "recall     0.872414  0.462222\n",
      "\n",
      "TextBlob\n",
      "Resultado Naive Bayes Total Accuracy =  0.6135922330097088\n",
      "            Current      Past\n",
      "precision  0.629630  0.579268\n",
      "recall     0.762069  0.422222\n",
      "\n",
      "Resultado Arbol de Desicion Total Accuracy =  0.8097087378640777\n",
      "            Current      Past\n",
      "precision  0.811688  0.806763\n",
      "recall     0.862069  0.742222\n",
      "\n",
      "Resultado Knn Total Accuracy =  0.6970873786407767\n",
      "            Current      Past\n",
      "precision  0.679144  0.744681\n",
      "recall     0.875862  0.466667\n",
      "\n",
      "NLTK y TextBlob\n",
      "Resultado Naive Bayes Total Accuracy =  0.7339805825242719\n",
      "            Current     Past\n",
      "precision  0.697674  0.84375\n",
      "recall     0.931034  0.48000\n",
      "\n",
      "Resultado Arbol de Desicion Total Accuracy =  0.7883495145631068\n",
      "            Current      Past\n",
      "precision  0.800664  0.771028\n",
      "recall     0.831034  0.733333\n",
      "\n",
      "Resultado Knn Total Accuracy =  0.6970873786407767\n",
      "            Current      Past\n",
      "precision  0.679144  0.744681\n",
      "recall     0.875862  0.466667\n"
     ]
    }
   ],
   "source": [
    "print(\"NLTK\")\n",
    "print(\"Resultado Naive Bayes Total Accuracy = \",resultadoNB.loc[\"precision\"][\"accuracy\"])\n",
    "print(resultadoNB.loc[\"precision\":\"recall\",\"Current\":\"Past\"])\n",
    "print(\"\")\n",
    "print(\"Resultado Arbol de Desicion Total Accuracy = \",resultadoA.loc[\"precision\"][\"accuracy\"])\n",
    "print(resultadoA.loc[\"precision\":\"recall\",\"Current\":\"Past\"])\n",
    "print(\"\")\n",
    "print(\"Resultado Knn Total Accuracy = \",resultadoKnn.loc[\"precision\"][\"accuracy\"])\n",
    "print(resultadoKnn.loc[\"precision\":\"recall\",\"Current\":\"Past\"])\n",
    "\n",
    "print(\"\")\n",
    "\n",
    "print(\"TextBlob\")\n",
    "print(\"Resultado Naive Bayes Total Accuracy = \",resultadoNB2.loc[\"precision\"][\"accuracy\"])\n",
    "print(resultadoNB2.loc[\"precision\":\"recall\",\"Current\":\"Past\"])\n",
    "print(\"\")\n",
    "print(\"Resultado Arbol de Desicion Total Accuracy = \",resultadoA2.loc[\"precision\"][\"accuracy\"])\n",
    "print(resultadoA2.loc[\"precision\":\"recall\",\"Current\":\"Past\"])\n",
    "print(\"\")\n",
    "print(\"Resultado Knn Total Accuracy = \",resultadoKnn2.loc[\"precision\"][\"accuracy\"])\n",
    "print(resultadoKnn2.loc[\"precision\":\"recall\",\"Current\":\"Past\"])\n",
    "\n",
    "print(\"\")\n",
    "\n",
    "print(\"NLTK y TextBlob\")\n",
    "print(\"Resultado Naive Bayes Total Accuracy = \",resultadoNB3.loc[\"precision\"][\"accuracy\"])\n",
    "print(resultadoNB3.loc[\"precision\":\"recall\",\"Current\":\"Past\"])\n",
    "print(\"\")\n",
    "print(\"Resultado Arbol de Desicion Total Accuracy = \",resultadoA3.loc[\"precision\"][\"accuracy\"])\n",
    "print(resultadoA3.loc[\"precision\":\"recall\",\"Current\":\"Past\"])\n",
    "print(\"\")\n",
    "print(\"Resultado Knn Total Accuracy = \",resultadoKnn3.loc[\"precision\"][\"accuracy\"])\n",
    "print(resultadoKnn3.loc[\"precision\":\"recall\",\"Current\":\"Past\"])"
   ]
  }
 ],
 "metadata": {
  "kernelspec": {
   "display_name": "Python 3",
   "language": "python",
   "name": "python3"
  },
  "language_info": {
   "codemirror_mode": {
    "name": "ipython",
    "version": 3
   },
   "file_extension": ".py",
   "mimetype": "text/x-python",
   "name": "python",
   "nbconvert_exporter": "python",
   "pygments_lexer": "ipython3",
   "version": "3.7.6"
  }
 },
 "nbformat": 4,
 "nbformat_minor": 2
}
