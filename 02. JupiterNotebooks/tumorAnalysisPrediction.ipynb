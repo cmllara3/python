{
 "cells": [
  {
   "cell_type": "markdown",
   "metadata": {},
   "source": [
    "# ClinicalProteomic Tumor AnalysisConsortium"
   ]
  },
  {
   "cell_type": "markdown",
   "metadata": {},
   "source": [
    "## Importación de Librerias"
   ]
  },
  {
   "cell_type": "markdown",
   "metadata": {},
   "source": [
    "<b>Paso 0.</b> Importación de Librerias"
   ]
  },
  {
   "cell_type": "code",
   "execution_count": 1,
   "metadata": {},
   "outputs": [],
   "source": [
    "#Importing libraries\n",
    "import pandas as pd\n",
    "import numpy as np\n",
    "import matplotlib.pyplot as plt"
   ]
  },
  {
   "cell_type": "markdown",
   "metadata": {},
   "source": [
    "## ETL"
   ]
  },
  {
   "cell_type": "markdown",
   "metadata": {},
   "source": [
    "<b>Paso 1.</b> Cargue de fuente de datos"
   ]
  },
  {
   "cell_type": "code",
   "execution_count": 2,
   "metadata": {},
   "outputs": [
    {
     "name": "stdout",
     "output_type": "stream",
     "text": [
      "Archivo dfClinical cargado:  (12553, 86)\n",
      "RefSeq_accession_number     object\n",
      "gene_symbol                 object\n",
      "gene_name                   object\n",
      "AO-A12D.01TCGA             float64\n",
      "C8-A131.01TCGA             float64\n",
      "                            ...   \n",
      "BH-A0C7.36TCGA             float64\n",
      "A2-A0SX.36TCGA             float64\n",
      "263d3f-I.CPTAC             float64\n",
      "blcdb9-I.CPTAC             float64\n",
      "c4155b-C.CPTAC             float64\n",
      "Length: 86, dtype: object\n"
     ]
    }
   ],
   "source": [
    "#Import data 5.2 - Breast cancer data\n",
    "dfClinical = pd.read_csv(\"../01. Flat Files/5.2 - Breast cancer data.csv\",delimiter=\",\")\n",
    "#dfClinical = pd.read_csv(\"../Datos/5.2 - Breast cancer data.csv\",delimiter=\",\")\n",
    "print(\"Archivo dfClinical cargado: \",dfClinical.shape)\n",
    "print(dfClinical.dtypes)"
   ]
  },
  {
   "cell_type": "markdown",
   "metadata": {},
   "source": [
    "<b>Paso 2.</b> Remplazo de valores nulos por 0, dado que son necesarias para identificar corecctamente los grupos acertadamente"
   ]
  },
  {
   "cell_type": "code",
   "execution_count": 3,
   "metadata": {},
   "outputs": [],
   "source": [
    "#Se identifica las columnas del DF \n",
    "arrColumnas = dfClinical.columns\n",
    "for i in arrColumnas:\n",
    "    #Se valida que no sean las columnas label a actualizar\n",
    "    if i != \"RefSeq_accession_number\" and i != \"gene_symbol\" and i != \"gene_name\":\n",
    "        dfClinical[i] = dfClinical[i].fillna(0)"
   ]
  },
  {
   "cell_type": "markdown",
   "metadata": {},
   "source": [
    "<b>Paso 3.</b> Eliminacion de columnas label"
   ]
  },
  {
   "cell_type": "code",
   "execution_count": 4,
   "metadata": {},
   "outputs": [],
   "source": [
    "#Se eliminal las columns label del DF\n",
    "dfClinical = dfClinical.drop(columns=[\"RefSeq_accession_number\",\"gene_symbol\",\"gene_name\"])"
   ]
  },
  {
   "cell_type": "markdown",
   "metadata": {},
   "source": [
    "## Clustering"
   ]
  },
  {
   "cell_type": "markdown",
   "metadata": {},
   "source": [
    "<b>Paso 4.</b> Encontrar el k optimo para la ejecución de los clusters"
   ]
  },
  {
   "cell_type": "code",
   "execution_count": 6,
   "metadata": {},
   "outputs": [],
   "source": [
    "#Se importa la ejecucion secuencial \n",
    "from sklearn.pipeline import Pipeline\n",
    "#Funcion para la normalizacion de variables\n",
    "from sklearn.preprocessing import Normalizer\n",
    "#Importacion del modelo de KMeans\n",
    "from sklearn.cluster import KMeans\n",
    "\n",
    "#Matriz para gar la distorsion del modelo de KMeans\n",
    "distorsion = []\n",
    "#Rango de 1 a 20 donde se probaran la diferente cantidad de clusters\n",
    "K = range(1,20)\n",
    "\n",
    "for i in K:\n",
    "    #Se define el modelo de KMeans con la cantidad de clusters\n",
    "    model = KMeans(n_clusters=i)\n",
    "    #Se efectua el Pipeline para normalizar primero las variables y despues ejecutar el modelo de KMeans\n",
    "    modeloKM = Pipeline([(\"normalizacion\",Normalizer()),(\"modelo\",model)])\n",
    "    #Se hace la ejecucion del modelo\n",
    "    modeloKM.fit(dfClinical)\n",
    "    #Se guarda la inercia del modelo pora identificar la cantidad de grupos optimos\n",
    "    distorsion.append(model.inertia_)"
   ]
  },
  {
   "cell_type": "markdown",
   "metadata": {},
   "source": [
    "<b>Paso 5.</b> Plot de la inercia del modelo dependiendo de la cantidad de clusters"
   ]
  },
  {
   "cell_type": "code",
   "execution_count": 7,
   "metadata": {},
   "outputs": [
    {
     "data": {
      "image/png": "[encoded data removed]",
      "text/plain": [
       "<Figure size 1152x576 with 1 Axes>"
      ]
     },
     "metadata": {
      "needs_background": "light"
     },
     "output_type": "display_data"
    }
   ],
   "source": [
    "#Se cambia el tamaño del plot\n",
    "plt.figure(figsize=(16,8))\n",
    "#Se pasan los parametros del plot en el eje X la cantidad de clusters y en el Y la distorsion\n",
    "plt.plot(K,distorsion,'bx-')\n",
    "#Se cambia el label del eje X\n",
    "plt.xlabel('n_clusters')\n",
    "#Se cambia el label del eje Y\n",
    "plt.ylabel('distorsion')\n",
    "#Se muestra el grafico\n",
    "plt.show()"
   ]
  },
  {
   "cell_type": "markdown",
   "metadata": {},
   "source": [
    "Para el desarrollo de este ejercicio se tomaran 6 clusters, dado que segun la grafica canun que no es el punto de inflexion es un punto donde la distorsion del modelo se empieza a reducir mucho menos en cada paso"
   ]
  },
  {
   "cell_type": "markdown",
   "metadata": {},
   "source": [
    "<b>Paso 6.</b> Ejecucion del modelo KMeans con 6 clusters"
   ]
  },
  {
   "cell_type": "code",
   "execution_count": 8,
   "metadata": {},
   "outputs": [
    {
     "name": "stdout",
     "output_type": "stream",
     "text": [
      "Cluster    12553\n",
      "dtype: int64\n",
      "\n",
      "5    2878\n",
      "3    2288\n",
      "2    2050\n",
      "1    1918\n",
      "0    1793\n",
      "4    1626\n",
      "Name: Cluster, dtype: int64\n"
     ]
    }
   ],
   "source": [
    "#Kmeans cluster 6\n",
    "model = KMeans(n_clusters=6)\n",
    "#Pipeline de la ejecucion del modelo\n",
    "modeloKM = Pipeline([(\"normalizacion\",Normalizer()),(\"modelo\",model)])\n",
    "#Se hace la ejecucion del modelo de KMeans\n",
    "modeloKM.fit(dfClinical)\n",
    "\n",
    "#Se busca los centros de clusters\n",
    "centers = model.cluster_centers_\n",
    "#Se extrae el label del cluster da cada uno de los registros\n",
    "df_cluster = pd.DataFrame(data=model.labels_,columns=['Cluster'])\n",
    "\n",
    "#Se cuentan por clusters \n",
    "print(df_cluster.count())\n",
    "print(\"\")\n",
    "#Se cuenta la cantidad de registros por cluster\n",
    "print(df_cluster['Cluster'].value_counts())"
   ]
  },
  {
   "cell_type": "markdown",
   "metadata": {},
   "source": [
    "## Analisis modelo de clusterización"
   ]
  },
  {
   "cell_type": "markdown",
   "metadata": {},
   "source": [
    "<b>Paso 7.</b> Funcion que retorna un arreglo con la informacion de la importancia de cada variable dentro de cada cluster"
   ]
  },
  {
   "cell_type": "code",
   "execution_count": 9,
   "metadata": {},
   "outputs": [],
   "source": [
    "def modeloArbol(X,Y):\n",
    "    \n",
    "    #Importacion del modelo de clasificacion de DecisionTreeClassifier\n",
    "    from sklearn.tree import DecisionTreeClassifier\n",
    "\n",
    "    #Se crea el modelo de clasificacion de arbol de decision\n",
    "    modelArbol = DecisionTreeClassifier()\n",
    "    #Se hace el pipeline con la normalizacion y el modelo de arbol de desicion\n",
    "    modeloCluster = Pipeline([(\"normalizacion\",Normalizer()),(\"modelo\",modelArbol)])\n",
    "    \n",
    "    #Se aplica el modelo\n",
    "    modeloCluster.fit(X,Y)\n",
    "    \n",
    "    #Se obtiene el nombre de las columnas\n",
    "    columnas = pd.DataFrame(data=X.columns,columns=['proteina'])\n",
    "    #Importancia de cada una de las varaibles dentro del modelo\n",
    "    importancia = pd.DataFrame(data=modelArbol.feature_importances_,columns=['importancia'])\n",
    "    #Se concatena la informacion de la potreina y la importancia\n",
    "    dfClusterInfo = pd.concat([columnas,importancia],axis=1)\n",
    "    #Se ordena de mayor a menor la importancia de cada varaible\n",
    "    dfClusterInfo = dfClusterInfo.sort_values(by='importancia',ascending=False)\n",
    "    \n",
    "    return dfClusterInfo"
   ]
  },
  {
   "cell_type": "markdown",
   "metadata": {},
   "source": [
    "<b>Paso 8.</b> Se obtiene la importancia de cada variable en estudio para cada cluster haciendo uso de la funcion definida en el paso anterior"
   ]
  },
  {
   "cell_type": "code",
   "execution_count": 10,
   "metadata": {},
   "outputs": [
    {
     "data": {
      "text/plain": [
       "[          proteina  importancia\n",
       " 21  AO-A0J6.11TCGA     0.294156\n",
       " 11  BH-A0AV.05TCGA     0.103941\n",
       " 50  A2-A0YD.24TCGA     0.084447\n",
       " 77  A2-A0YM.36TCGA     0.035168\n",
       " 33  AR-A1AW.17TCGA     0.034349\n",
       " ..             ...          ...\n",
       " 24  A7-A0CE.13TCGA     0.000434\n",
       " 37  AN-A0AM.18TCGA     0.000325\n",
       " 34  AR-A1AV.17TCGA     0.000325\n",
       " 63  A2-A0D2.31TCGA     0.000000\n",
       " 10  AN-A04A.05TCGA     0.000000\n",
       " \n",
       " [83 rows x 2 columns],\n",
       "           proteina  importancia\n",
       " 19  AR-A1AP.11TCGA     0.106845\n",
       " 14  A2-A0CM.07TCGA     0.096067\n",
       " 77  A2-A0YM.36TCGA     0.054013\n",
       " 63  A2-A0D2.31TCGA     0.045357\n",
       " 47  AO-A12F.22TCGA     0.034619\n",
       " ..             ...          ...\n",
       " 72  AR-A0TT.34TCGA     0.001998\n",
       " 67  C8-A131.32TCGA     0.001831\n",
       " 6   E2-A154.03TCGA     0.001010\n",
       " 1   C8-A131.01TCGA     0.000591\n",
       " 2   AO-A12B.01TCGA     0.000000\n",
       " \n",
       " [83 rows x 2 columns],\n",
       "           proteina  importancia\n",
       " 0   AO-A12D.01TCGA     0.113830\n",
       " 27  A8-A08Z.14TCGA     0.066386\n",
       " 48  A8-A079.23TCGA     0.057948\n",
       " 74  A2-A0SW.35TCGA     0.044725\n",
       " 11  BH-A0AV.05TCGA     0.039454\n",
       " ..             ...          ...\n",
       " 17  AR-A0U4.09TCGA     0.002679\n",
       " 34  AR-A1AV.17TCGA     0.002560\n",
       " 61  AO-A0JM.30TCGA     0.002187\n",
       " 69  A2-A0YF.33TCGA     0.001840\n",
       " 10  AN-A04A.05TCGA     0.001785\n",
       " \n",
       " [83 rows x 2 columns],\n",
       "           proteina  importancia\n",
       " 73  AO-A12B.34TCGA     0.222007\n",
       " 14  A2-A0CM.07TCGA     0.052485\n",
       " 2   AO-A12B.01TCGA     0.046436\n",
       " 68  C8-A134.32TCGA     0.044995\n",
       " 1   C8-A131.01TCGA     0.043428\n",
       " ..             ...          ...\n",
       " 44  AO-A0JE.21TCGA     0.002071\n",
       " 74  A2-A0SW.35TCGA     0.002006\n",
       " 4   C8-A130.02TCGA     0.001766\n",
       " 60  E2-A15A.29TCGA     0.001251\n",
       " 61  AO-A0JM.30TCGA     0.000713\n",
       " \n",
       " [83 rows x 2 columns],\n",
       "           proteina  importancia\n",
       " 62  C8-A12V.30TCGA     0.131804\n",
       " 72  AR-A0TT.34TCGA     0.075843\n",
       " 44  AO-A0JE.21TCGA     0.067342\n",
       " 3   BH-A18Q.02TCGA     0.036872\n",
       " 1   C8-A131.01TCGA     0.026337\n",
       " ..             ...          ...\n",
       " 35  C8-A135.17TCGA     0.001051\n",
       " 23  BH-A0E1.12TCGA     0.000854\n",
       " 26  AO-A0JC.14TCGA     0.000691\n",
       " 40  BH-A0DG.19TCGA     0.000288\n",
       " 39  AN-A0FL.19TCGA     0.000000\n",
       " \n",
       " [83 rows x 2 columns],\n",
       "           proteina  importancia\n",
       " 42  C8-A12Z.20TCGA     0.298247\n",
       " 36  A2-A0EV.18TCGA     0.116633\n",
       " 66  A8-A09G.32TCGA     0.062926\n",
       " 35  C8-A135.17TCGA     0.053315\n",
       " 28  AR-A0TX.14TCGA     0.050780\n",
       " ..             ...          ...\n",
       " 71  BH-A0E9.33TCGA     0.000666\n",
       " 16  A2-A0EQ.08TCGA     0.000653\n",
       " 33  AR-A1AW.17TCGA     0.000548\n",
       " 5   C8-A138.03TCGA     0.000376\n",
       " 19  AR-A1AP.11TCGA     0.000301\n",
       " \n",
       " [83 rows x 2 columns]]"
      ]
     },
     "execution_count": 10,
     "metadata": {},
     "output_type": "execute_result"
    }
   ],
   "source": [
    "#Arreglo de importancia de variables en cada cluster\n",
    "arrClusterInfo = []\n",
    "\n",
    "for i in range(6):\n",
    "    \n",
    "    #Se crea el vector de clasificacion\n",
    "    y = df_cluster['Cluster'].apply(lambda x: 1 if x == i else 0)\n",
    "    \n",
    "    #Se guarda el DF resultado de la funcion declarada en el paso anterior\n",
    "    resultadoCluster = modeloArbol(dfClinical,y)\n",
    "    \n",
    "    #Se inserta la informacion para cluster\n",
    "    arrClusterInfo.append(resultadoCluster)\n",
    "    \n",
    "arrClusterInfo"
   ]
  },
  {
   "cell_type": "markdown",
   "metadata": {},
   "source": [
    "<b>Paso 9.</b> Funcion que permite obtener las proteinas y su respectiva importancia para un porcentajea acumulado de importancia"
   ]
  },
  {
   "cell_type": "code",
   "execution_count": 11,
   "metadata": {},
   "outputs": [],
   "source": [
    "def variablesImportancia(data,porcentajeObj):\n",
    "    #Arreglo que guardara la informacion del nombre de la proteina\n",
    "    retornoProteina = []\n",
    "    #Arreglo que guardara la informacion de la importnacia de la proteina\n",
    "    retornoImportancia = []\n",
    "    #Porcentaje acumulado de la importancia\n",
    "    porcentajeAcumulado = 0.0\n",
    "    #Posicion en el DF\n",
    "    posicion = 0\n",
    "    \n",
    "    while porcentajeAcumulado < porcentajeObj:\n",
    "        #Se agrega a los arreglos la proteina y la importancia\n",
    "        retornoProteina.append(data.iloc[posicion,0])\n",
    "        retornoImportancia.append(data.iloc[posicion,1])\n",
    "        \n",
    "        #Se actualiza el valor acumulado de la importancia\n",
    "        porcentajeAcumulado = sum(retornoImportancia)\n",
    "        #Se suma uno a la posicion\n",
    "        posicion = posicion + 1\n",
    "    \n",
    "    #Se convierte el arreglo de proteinas en DF\n",
    "    retornoProteina = pd.DataFrame(data=retornoProteina,columns=['proteina'])\n",
    "    #Importancia de cada una de las varaibles dentro del modelo\n",
    "    retornoImportancia = pd.DataFrame(data=retornoImportancia,columns=['importancia'])\n",
    "    #Se concatena la informacion de la potreina y la importancia\n",
    "\n",
    "    retorno = pd.concat([retornoProteina,retornoImportancia],axis=1)\n",
    "    \n",
    "    return retorno"
   ]
  },
  {
   "cell_type": "markdown",
   "metadata": {},
   "source": [
    "<b>Paso 10.</b> Se incluye la informacion de cada proteina para que la importancia acumulada en cada uno sea lo mas cercano al 90% o el 95%"
   ]
  },
  {
   "cell_type": "code",
   "execution_count": 13,
   "metadata": {},
   "outputs": [
    {
     "data": {
      "text/html": [
       "<div>\n",
       "<style scoped>\n",
       "    .dataframe tbody tr th:only-of-type {\n",
       "        vertical-align: middle;\n",
       "    }\n",
       "\n",
       "    .dataframe tbody tr th {\n",
       "        vertical-align: top;\n",
       "    }\n",
       "\n",
       "    .dataframe thead th {\n",
       "        text-align: right;\n",
       "    }\n",
       "</style>\n",
       "<table border=\"1\" class=\"dataframe\">\n",
       "  <thead>\n",
       "    <tr style=\"text-align: right;\">\n",
       "      <th></th>\n",
       "      <th>cluster</th>\n",
       "      <th>cantProteinas90</th>\n",
       "      <th>sumImportancia90</th>\n",
       "      <th>cantProteinas95</th>\n",
       "      <th>simImportancia95</th>\n",
       "    </tr>\n",
       "  </thead>\n",
       "  <tbody>\n",
       "    <tr>\n",
       "      <th>0</th>\n",
       "      <td>0</td>\n",
       "      <td>38</td>\n",
       "      <td>0.904258</td>\n",
       "      <td>52</td>\n",
       "      <td>0.952249</td>\n",
       "    </tr>\n",
       "    <tr>\n",
       "      <th>1</th>\n",
       "      <td>1</td>\n",
       "      <td>52</td>\n",
       "      <td>0.903065</td>\n",
       "      <td>63</td>\n",
       "      <td>0.952932</td>\n",
       "    </tr>\n",
       "    <tr>\n",
       "      <th>2</th>\n",
       "      <td>2</td>\n",
       "      <td>58</td>\n",
       "      <td>0.901466</td>\n",
       "      <td>68</td>\n",
       "      <td>0.950718</td>\n",
       "    </tr>\n",
       "    <tr>\n",
       "      <th>3</th>\n",
       "      <td>3</td>\n",
       "      <td>54</td>\n",
       "      <td>0.904837</td>\n",
       "      <td>64</td>\n",
       "      <td>0.951021</td>\n",
       "    </tr>\n",
       "    <tr>\n",
       "      <th>4</th>\n",
       "      <td>4</td>\n",
       "      <td>51</td>\n",
       "      <td>0.900400</td>\n",
       "      <td>62</td>\n",
       "      <td>0.953286</td>\n",
       "    </tr>\n",
       "    <tr>\n",
       "      <th>5</th>\n",
       "      <td>5</td>\n",
       "      <td>42</td>\n",
       "      <td>0.901902</td>\n",
       "      <td>56</td>\n",
       "      <td>0.952724</td>\n",
       "    </tr>\n",
       "  </tbody>\n",
       "</table>\n",
       "</div>"
      ],
      "text/plain": [
       "   cluster  cantProteinas90  sumImportancia90  cantProteinas95  \\\n",
       "0        0               38          0.904258               52   \n",
       "1        1               52          0.903065               63   \n",
       "2        2               58          0.901466               68   \n",
       "3        3               54          0.904837               64   \n",
       "4        4               51          0.900400               62   \n",
       "5        5               42          0.901902               56   \n",
       "\n",
       "   simImportancia95  \n",
       "0          0.952249  \n",
       "1          0.952932  \n",
       "2          0.950718  \n",
       "3          0.951021  \n",
       "4          0.953286  \n",
       "5          0.952724  "
      ]
     },
     "execution_count": 13,
     "metadata": {},
     "output_type": "execute_result"
    }
   ],
   "source": [
    "#Arreglo que identifica el cluster\n",
    "arrCluster = []\n",
    "#Arreglo de DF que trae la informacion de las proteinas que suman una importancia acumulada igual al 90% en un DF\n",
    "arrDFImportancia90 = []\n",
    "#Arreglo de DF que trae la informacion de las proteinas que suman una importancia acumulada igual al 95% en un DF\n",
    "arrDFImportancia95 = []\n",
    "#Arreglo de la suma de la importancia acumulada en una importancia acumulada del 90%\n",
    "arrImpProteina90 = []\n",
    "#Arreglo de la suma de la importancia acumulada en una importancia acumulada del 95%\n",
    "arrImpProteina95 = []\n",
    "#Arreglo de la cantidad de proteinas necesarias para llegar a una importancia acumulada del 90%\n",
    "arrCantProteina90 = []\n",
    "#Arreglo de la cantidad de proteinas necesarias para llegar a una importancia acumulada del 95%\n",
    "arrCantProteina95 = []\n",
    "#Identificador del cluster\n",
    "cluster = 0\n",
    "\n",
    "for i in arrClusterInfo:\n",
    "    \n",
    "    #Se agrega la informacion del cluster al arreglo de clusters\n",
    "    arrCluster.append(cluster)\n",
    "    \n",
    "    #Se agrega la informacion del DF al arreglo de DF del 90%\n",
    "    arrDFImportancia90.append(variablesImportancia(i,0.9))\n",
    "    #Se agrega la informacion del DF al arreglo de DF del 95%\n",
    "    arrDFImportancia95.append(variablesImportancia(i,0.95))\n",
    "    \n",
    "    #Se agrega la informacion de la cantidad de proteinas necesarias para el 90%\n",
    "    arrCantProteina90.append(arrDFImportancia90[cluster].count()[0])\n",
    "    #Se agrega la informacion de la importancia acumualda cercana al 90%\n",
    "    arrImpProteina90.append(sum(arrDFImportancia90[cluster].iloc[:,1]))\n",
    "    \n",
    "    #Se agrega la informacion de la cantidad de proteinas necesarias para el 95%\n",
    "    arrCantProteina95.append(arrDFImportancia95[cluster].count()[0])\n",
    "    #Se agrega la informacion de la importancia acumualda cercana al 95%\n",
    "    arrImpProteina95.append(sum(arrDFImportancia95[cluster].iloc[:,1]))\n",
    "    \n",
    "    #Se acualiza el indicador del cluster\n",
    "    cluster = cluster + 1\n",
    "    \n",
    "#Se convierte en DF el arreglo de clusters\n",
    "arrCluster = pd.DataFrame(data=arrCluster,columns=['cluster'])\n",
    "#Se convierte en DF el arreglo de cantidad de proteinas al 90%\n",
    "arrCantProteina90 = pd.DataFrame(data=arrCantProteina90,columns=['cantProteinas90'])\n",
    "#Se convierte en DF el arreglo de suma de importancia al 90%\n",
    "arrImpProteina90 = pd.DataFrame(data=arrImpProteina90,columns=['sumImportancia90'])\n",
    "#Se convierte en DF el arreglo de cantidad de proteinas al 95%\n",
    "arrCantProteina95 = pd.DataFrame(data=arrCantProteina95,columns=['cantProteinas95'])\n",
    "#Se convierte en DF el arreglo de suma de importancia al 95%\n",
    "arrImpProteina95 = pd.DataFrame(data=arrImpProteina95,columns=['simImportancia95'])\n",
    "\n",
    "#Se concatena los DF\n",
    "resultadoFinal = pd.concat([arrCluster,arrCantProteina90,arrImpProteina90,arrCantProteina95,arrImpProteina95],axis=1)\n",
    "resultadoFinal"
   ]
  },
  {
   "cell_type": "markdown",
   "metadata": {},
   "source": [
    "<b>Paso 11.</b> Se define la funcion cantidadClustersProteina con el fin de identificar que proteina se encuentra en que cluster"
   ]
  },
  {
   "cell_type": "code",
   "execution_count": 77,
   "metadata": {},
   "outputs": [],
   "source": [
    "def cantidadClustersProteina (dfImportancia):\n",
    "    \n",
    "    dfProteinas = pd.DataFrame()\n",
    "    \n",
    "    for i in dfImportancia:\n",
    "        \n",
    "        dfProteinas = pd.concat([dfProteinas,i.iloc[:,0]])\n",
    "        \n",
    "    dfProteinas = dfProteinas.rename(columns={0:'proteina'})\n",
    "        \n",
    "    dfProteinas = dfProteinas.groupby([\"proteina\"]).size().reset_index(name='cantidadClusters')\n",
    "        \n",
    "    return dfProteinas"
   ]
  },
  {
   "cell_type": "markdown",
   "metadata": {},
   "source": [
    "<b>Paso 12.</b> Se guarda en 2 arreglos las proteinas y su respectiva cantidad de clusters en la cual esta"
   ]
  },
  {
   "cell_type": "code",
   "execution_count": 79,
   "metadata": {},
   "outputs": [],
   "source": [
    "proteinasCantCluster90 = cantidadClustersProteina(arrDFImportancia90)\n",
    "proteinasCantCluster95 = cantidadClustersProteina(arrDFImportancia95)"
   ]
  },
  {
   "cell_type": "markdown",
   "metadata": {},
   "source": [
    "<b>Paso 13.</b> Se exportan los resultados a diferentes CSV"
   ]
  },
  {
   "cell_type": "code",
   "execution_count": 91,
   "metadata": {},
   "outputs": [],
   "source": [
    "dfFinal90 = pd.DataFrame()\n",
    "dfFinal95 = pd.DataFrame()\n",
    "\n",
    "for i in range(6):\n",
    "    \n",
    "    df90 = arrDFImportancia90[i] \n",
    "    df90[\"Cluster\"] = \"Cluster \"+str(i)\n",
    "    \n",
    "    df95 = arrDFImportancia95[i] \n",
    "    df95[\"Cluster\"] = \"Cluster \"+str(i)\n",
    "    \n",
    "    if i == 0:\n",
    "         \n",
    "        dfFinal90 = df90\n",
    "        dfFinal95 = df95\n",
    "    \n",
    "    else:\n",
    "        \n",
    "        dfFinal90 = pd.concat([dfFinal90,df90])\n",
    "        dfFinal95 = pd.concat([dfFinal95,df95])\n",
    "\n",
    "#Se exporta el DF en CSV\n",
    "dfFinal90.to_csv(\"../01. Flat Files/Ejercicio3Proteinas90.csv\",index=False)\n",
    "\n",
    "#Se exporta el DF en CSV\n",
    "dfFinal95.to_csv(\"../01. Flat Files/Ejercicio3Proteinas95.csv\",index=False)\n",
    "\n",
    "#Se exporta el DF en CSV\n",
    "proteinasCantCluster90.to_csv(\"../01. Flat Files/Ejercicio3CantProteinas90.csv\",index=False)\n",
    "\n",
    "#Se exporta el DF en CSV\n",
    "proteinasCantCluster95.to_csv(\"../01. Flat Files/Ejercicio3CantProteinas95.csv\",index=False)\n",
    "\n",
    "#Se exporta el DF en CSV\n",
    "resultadoFinal.to_csv(\"../01. Flat Files/Ejercicio3Resumen.csv\",index=False)"
   ]
  }
 ],
 "metadata": {
  "kernelspec": {
   "display_name": "Python 3",
   "language": "python",
   "name": "python3"
  },
  "language_info": {
   "codemirror_mode": {
    "name": "ipython",
    "version": 3
   },
   "file_extension": ".py",
   "mimetype": "text/x-python",
   "name": "python",
   "nbconvert_exporter": "python",
   "pygments_lexer": "ipython3",
   "version": "3.7.6"
  }
 },
 "nbformat": 4,
 "nbformat_minor": 4
}
