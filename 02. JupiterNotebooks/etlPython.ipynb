{
 "cells": [
  {
   "cell_type": "markdown",
   "metadata": {
    "slideshow": {
     "slide_type": "-"
    }
   },
   "source": [
    "## Importacion de librerias"
   ]
  },
  {
   "cell_type": "code",
   "execution_count": 4,
   "metadata": {
    "slideshow": {
     "slide_type": "-"
    }
   },
   "outputs": [],
   "source": [
    "#Importing libraries\n",
    "import pandas as pd\n",
    "import numpy as np\n",
    "from datetime import datetime as dt\n",
    "from datetime import timedelta as td\n",
    "import matplotlib.pyplot as plt"
   ]
  },
  {
   "cell_type": "markdown",
   "metadata": {},
   "source": [
    "## Lectura Flat Files"
   ]
  },
  {
   "cell_type": "code",
   "execution_count": 5,
   "metadata": {},
   "outputs": [],
   "source": [
    "#Import data UK\n",
    "blood_uk = pd.read_csv(\"../01. Flat Files/blood_pressure_uk.csv\",delimiter=\",\")"
   ]
  },
  {
   "cell_type": "code",
   "execution_count": 6,
   "metadata": {},
   "outputs": [],
   "source": [
    "#Import data SP\n",
    "blood_sp = pd.read_csv(\"../01. Flat Files/blood_pressure_sp.csv\",delimiter=\",\")"
   ]
  },
  {
   "cell_type": "markdown",
   "metadata": {},
   "source": [
    "## Renombrar columnas"
   ]
  },
  {
   "cell_type": "code",
   "execution_count": 7,
   "metadata": {},
   "outputs": [],
   "source": [
    "#Spain renombrar ss_number --> identifier\n",
    "blood_sp = blood_sp.rename(columns={'ss_number':'identifier'})\n",
    "#UK renombrar nhs_numbrer --> identifier\n",
    "blood_uk = blood_uk.rename(columns={'nhs_number':'identifier'})"
   ]
  },
  {
   "cell_type": "markdown",
   "metadata": {},
   "source": [
    "## Tratamiento columna city"
   ]
  },
  {
   "cell_type": "code",
   "execution_count": 8,
   "metadata": {},
   "outputs": [],
   "source": [
    "#Se actualiza el campo de ciudad para los valores nulos de Spain\n",
    "blood_sp[\"city\"] = blood_sp[\"city\"].fillna(\"Barcelona\") \n",
    "#Se actualiza el campo de ciudad para los valores nulos de Uk\n",
    "blood_uk[\"city\"] = blood_uk[\"city\"].fillna(\"London\") "
   ]
  },
  {
   "cell_type": "markdown",
   "metadata": {},
   "source": [
    "## Unión datos"
   ]
  },
  {
   "cell_type": "code",
   "execution_count": 9,
   "metadata": {},
   "outputs": [],
   "source": [
    "#Arreglo de data frames\n",
    "data_full = [blood_sp,blood_uk]\n",
    "#Concat para crear una tabla con los datos necesarios\n",
    "tabla = pd.concat(data_full,ignore_index=True,sort=False)\n",
    "tabla.head()\n",
    "del blood_sp,blood_uk,data_full"
   ]
  },
  {
   "cell_type": "markdown",
   "metadata": {},
   "source": [
    "## Tratamiento columna identifier"
   ]
  },
  {
   "cell_type": "code",
   "execution_count": 10,
   "metadata": {},
   "outputs": [],
   "source": [
    "#Identificar que columnas tienen valores nulos\n",
    "#tabla.columns[tabla.isnull().any()]\n",
    "\n",
    "#Remplaza valores nulos\n",
    "tabla[\"identifier\"] = tabla[\"identifier\"].fillna(0) \n",
    "\n",
    "#Tipo de datos de los campos\n",
    "#tabla.dtypes\n",
    "\n",
    "#Cambia el tipo de datos a str\n",
    "tabla[\"identifier\"]=tabla[\"identifier\"].astype(str) "
   ]
  },
  {
   "cell_type": "markdown",
   "metadata": {},
   "source": [
    "## Eliminacion de columnas"
   ]
  },
  {
   "cell_type": "code",
   "execution_count": 11,
   "metadata": {},
   "outputs": [],
   "source": [
    "#Elimina las columnas first_name, last_name, identifier, email\n",
    "tabla = tabla.drop(columns=[\"first_name\",\"last_name\",\"identifier\",\"email\"])"
   ]
  },
  {
   "cell_type": "markdown",
   "metadata": {},
   "source": [
    "## Tratamiento columna fecha"
   ]
  },
  {
   "cell_type": "code",
   "execution_count": 12,
   "metadata": {},
   "outputs": [],
   "source": [
    "#Cambia el formato del campo a fecha\n",
    "tabla[\"birthday\"] = pd.to_datetime(tabla[\"birthday\"],format=\"%m/%d/%Y\")\n",
    "\n",
    "#Se agrega la columna edad como la diferencia en años de now() y el nacimiento\n",
    "tabla[\"edad\"] = (dt.now() - tabla[\"birthday\"])//np.timedelta64(1,'Y')"
   ]
  },
  {
   "cell_type": "markdown",
   "metadata": {},
   "source": [
    "## Tratamiento columna gender While"
   ]
  },
  {
   "cell_type": "code",
   "execution_count": 13,
   "metadata": {},
   "outputs": [
    {
     "name": "stdout",
     "output_type": "stream",
     "text": [
      "NaN       206\n",
      "Male      949\n",
      "Female    845\n",
      "Name: gender, dtype: int64\n",
      "\n",
      "Male      1155\n",
      "Female     845\n",
      "Name: gender, dtype: int64\n"
     ]
    }
   ],
   "source": [
    "#Cuenta los registros de una columna\n",
    "cantidad = tabla[\"gender\"].value_counts(sort=False,dropna=False) # Cuenta tambien los nulos (dropna=False) \n",
    "print(cantidad)\n",
    "print(\"\")\n",
    "\n",
    "#Cuenta los registros y los coloca en un DataFrame \n",
    "group = tabla.groupby([\"gender\"]).size().reset_index(name='count') #[\"nombre_col\"].sum() para agrupar por funciones\n",
    "\n",
    "genero = np.nan\n",
    "mayor = 0\n",
    "indice = 0\n",
    "\n",
    "while indice < group.shape[0]: #Shape row count del data frame\n",
    "    countGeneroIndice = group.iloc[indice][\"count\"] #Obtiene el valor almacenado en el DataFrame en la fila indice y col \"count\"\n",
    "    if countGeneroIndice > mayor:\n",
    "        genero = group.iloc[indice][\"gender\"] #Obtiene el valor almacenado en el DataFrame en la fila indice y col \"count\"\n",
    "    indice = indice + 1\n",
    "\n",
    "#Actualiza los registros de genero que son nulos\n",
    "tabla[\"gender\"] = tabla[\"gender\"].fillna(genero)\n",
    "\n",
    "#Cuenta los registros de la columna gender\n",
    "cantidad = tabla[\"gender\"].value_counts(sort=False,dropna=False) # Cuenta tambien los nulos (dropna=False) \n",
    "print(cantidad)\n",
    "\n",
    "del cantidad,genero,mayor,indice,group,countGeneroIndice"
   ]
  },
  {
   "cell_type": "markdown",
   "metadata": {},
   "source": [
    "## Tratamiento columna gender For"
   ]
  },
  {
   "cell_type": "code",
   "execution_count": 14,
   "metadata": {},
   "outputs": [
    {
     "name": "stdout",
     "output_type": "stream",
     "text": [
      "Male      1155\n",
      "Female     845\n",
      "Name: gender, dtype: int64\n",
      "\n",
      "Male      1155\n",
      "Female     845\n",
      "Name: gender, dtype: int64\n"
     ]
    }
   ],
   "source": [
    "#Cuenta los registros de una columna\n",
    "cantidad = tabla[\"gender\"].value_counts(sort=False,dropna=False) # Cuenta tambien los nulos (dropna=False) \n",
    "print(cantidad)\n",
    "print(\"\")\n",
    "\n",
    "#Cuenta los registros y los coloca en un DataFrame \n",
    "group = tabla.groupby([\"gender\"]).size().reset_index(name='count') #[\"nombre_col\"].sum() para agrupar por funciones\n",
    "\n",
    "genero = np.nan\n",
    "mayor = 0\n",
    "\n",
    "for i in range(0,group.shape[0],1) : #Shape row count del data frame, range(inicio,final,cantPaso) break en el for para terminarlo\n",
    "    countGeneroIndice = group.iloc[i][\"count\"] #Obtiene el valor almacenado en el DataFrame en la fila indice y col \"count\"\n",
    "    if countGeneroIndice > mayor:\n",
    "        genero = group.iloc[i][\"gender\"] #Obtiene el valor almacenado en el DataFrame en la fila indice y col \"count\"\n",
    "\n",
    "#Actualiza los registros de genero que son nulos\n",
    "tabla[\"gender\"] = tabla[\"gender\"].fillna(genero)\n",
    "\n",
    "#Cuenta los registros de la columna gender\n",
    "cantidad = tabla[\"gender\"].value_counts(sort=False,dropna=False) # Cuenta tambien los nulos (dropna=False) \n",
    "print(cantidad)\n",
    "\n",
    "del cantidad,genero,mayor,group,countGeneroIndice"
   ]
  },
  {
   "cell_type": "markdown",
   "metadata": {},
   "source": [
    "## Tratamiento columna diastolic and systolic"
   ]
  },
  {
   "cell_type": "code",
   "execution_count": 15,
   "metadata": {},
   "outputs": [
    {
     "name": "stdout",
     "output_type": "stream",
     "text": [
      "birthday       96\n",
      "systolic       26\n",
      "overweight    103\n",
      "edad           96\n",
      "dtype: int64\n",
      "\n",
      "birthday       95\n",
      "overweight    103\n",
      "edad           95\n",
      "dtype: int64\n"
     ]
    }
   ],
   "source": [
    "#Renombrar sys --> systolic\n",
    "tabla = tabla.rename(columns={'sys':'systolic'})\n",
    "\n",
    "#Renombrar sys --> systolic\n",
    "tabla = tabla.rename(columns={'dia':'diastolic'})\n",
    "\n",
    "#Cantidad de registros nulos por columna en la tabla\n",
    "null_columns = tabla.columns[tabla.isnull().any()]\n",
    "print(tabla[null_columns].isnull().sum())\n",
    "print(\"\")\n",
    "\n",
    "#DropNa elimina registros nulos axis = \"index\" elimina filas, axis = \"columns\" elimina columnas nulas \n",
    "tabla = tabla.dropna(axis=\"index\", subset=[\"systolic\",\"diastolic\"])\n",
    "\n",
    "#Cantidad de registros nulos por columna en la tabla\n",
    "null_columns = tabla.columns[tabla.isnull().any()]\n",
    "print(tabla[null_columns].isnull().sum())\n",
    "\n",
    "del null_columns"
   ]
  },
  {
   "cell_type": "markdown",
   "metadata": {},
   "source": [
    "## Tratamiento columna overweight"
   ]
  },
  {
   "cell_type": "code",
   "execution_count": 16,
   "metadata": {},
   "outputs": [
    {
     "name": "stdout",
     "output_type": "stream",
     "text": [
      "NaN      103\n",
      "False    951\n",
      "True     920\n",
      "Name: overweight, dtype: int64\n",
      "\n",
      "False     951\n",
      "True     1023\n",
      "Name: overweight, dtype: int64\n"
     ]
    }
   ],
   "source": [
    "#Cuenta los registros de una columna\n",
    "cantidad = tabla[\"overweight\"].value_counts(sort=False,dropna=False) # Cuenta tambien los nulos (dropna=False) \n",
    "print(cantidad)\n",
    "print(\"\")\n",
    "\n",
    "#Cuenta los registros y los coloca en un DataFrame \n",
    "group = tabla.groupby([\"overweight\"]).size().reset_index(name='count') #[\"nombre_col\"].sum() para agrupar por funciones\n",
    "\n",
    "overweight = np.nan\n",
    "mayor = 0\n",
    "indice = 0\n",
    "\n",
    "while indice < group.shape[0]: #Shape row count del data frame\n",
    "    countOverWeight = group.iloc[indice][\"count\"] #Obtiene el valor almacenado en el DataFrame en la fila indice y col \"count\"\n",
    "    if countOverWeight > mayor:\n",
    "        overweight = group.iloc[indice][\"overweight\"] #Obtiene el valor almacenado en el DataFrame en la fila indice y col \"count\"\n",
    "    indice = indice + 1\n",
    "\n",
    "#Actualiza los registros de genero que son nulos\n",
    "tabla[\"overweight\"] = tabla[\"overweight\"].fillna(overweight)\n",
    "\n",
    "#Cuenta los registros de la columna gender\n",
    "cantidad = tabla[\"overweight\"].value_counts(sort=False,dropna=False) # Cuenta tambien los nulos (dropna=False) \n",
    "print(cantidad)\n",
    "\n",
    "del cantidad,overweight,mayor,indice,group,countOverWeight"
   ]
  },
  {
   "cell_type": "markdown",
   "metadata": {},
   "source": [
    "## Creacion columna diagnostic"
   ]
  },
  {
   "cell_type": "code",
   "execution_count": 17,
   "metadata": {},
   "outputs": [
    {
     "name": "stdout",
     "output_type": "stream",
     "text": [
      "NaN    1974\n",
      "Name: diagnostic, dtype: int64\n",
      "\n",
      "NaN    1655\n",
      "LP      319\n",
      "Name: diagnostic, dtype: int64\n",
      "\n",
      "NaN    1643\n",
      "NP       12\n",
      "LP      319\n",
      "Name: diagnostic, dtype: int64\n",
      "\n",
      "HP     533\n",
      "NP    1122\n",
      "LP     319\n",
      "Name: diagnostic, dtype: int64\n"
     ]
    }
   ],
   "source": [
    "#Se crea la columna diagnostic en nulo\n",
    "tabla[\"diagnostic\"] = np.nan\n",
    "\n",
    "cantidad = tabla[\"diagnostic\"].value_counts(sort=False,dropna=False) # Cuenta tambien los nulos (dropna=False) \n",
    "print(cantidad)\n",
    "print(\"\")\n",
    "\n",
    "#Actualiza la columna diagnostic con el valor LP\n",
    "tabla.loc[(tabla[\"systolic\"] < 130) & (tabla[\"diastolic\"] < 80),\"diagnostic\"] = \"LP\"\n",
    "\n",
    "cantidad = tabla[\"diagnostic\"].value_counts(sort=False,dropna=False) # Cuenta tambien los nulos (dropna=False) \n",
    "print(cantidad)\n",
    "print(\"\")\n",
    "\n",
    "#Actualiza la columna diagnostic con el valor NP\n",
    "tabla.loc[(tabla[\"systolic\"] >= 130) & (tabla[\"systolic\"] < 135) & (tabla[\"diastolic\"] >= 80) & (tabla[\"diastolic\"] < 85),\"diagnostic\"] = \"NP\"\n",
    "\n",
    "cantidad = tabla[\"diagnostic\"].value_counts(sort=False,dropna=False) # Cuenta tambien los nulos (dropna=False) \n",
    "print(cantidad)\n",
    "print(\"\")\n",
    "\n",
    "#Actualiza la columna diagnostic con el valor HP\n",
    "tabla.loc[(tabla[\"systolic\"] >= 135) & (tabla[\"diastolic\"] >= 85),\"diagnostic\"] = \"HP\"\n",
    "\n",
    "#Actualiza la columna diagnostic con el valor HP\n",
    "tabla[\"diagnostic\"] = tabla[\"diagnostic\"].fillna(\"NP\")\n",
    "\n",
    "cantidad = tabla[\"diagnostic\"].value_counts(sort=False,dropna=False) # Cuenta tambien los nulos (dropna=False) \n",
    "print(cantidad)\n",
    "\n",
    "del cantidad"
   ]
  },
  {
   "cell_type": "markdown",
   "metadata": {},
   "source": [
    "## Grafico de barras diagnostic group"
   ]
  },
  {
   "cell_type": "code",
   "execution_count": 18,
   "metadata": {},
   "outputs": [
    {
     "data": {
      "image/png": "[encoded data removed]",
      "text/plain": [
       "<Figure size 432x288 with 1 Axes>"
      ]
     },
     "metadata": {
      "needs_background": "light"
     },
     "output_type": "display_data"
    }
   ],
   "source": [
    "#Cuenta los registros y los coloca en un DataFrame \n",
    "group = tabla.groupby([\"diagnostic\"]).size().reset_index(name='count') #[\"nombre_col\"].sum() para agrupar por funciones\n",
    "\n",
    "#Se crea el arreglo de las categorias\n",
    "diagnostic=group[\"diagnostic\"]\n",
    "#Se crea un arreglo de posiciones\n",
    "pos = np.arange(len(diagnostic))\n",
    "#Se crea el arreglo de los valores\n",
    "count=group[\"count\"]\n",
    "\n",
    "#Se crea el grafico de barras \n",
    "plt.bar(pos,count,color='blue',edgecolor='black')\n",
    "#Se asigna los labels de las barras\n",
    "plt.xticks(pos, diagnostic)\n",
    "#Se agrega el titulo del eje x\n",
    "plt.xlabel('Diagnostic Group', fontsize=14)\n",
    "#Se agrega el titulo del eje y\n",
    "plt.ylabel('Number of individuals', fontsize=14)\n",
    "#Se agrega el titulo del grafico\n",
    "plt.title('Barchart - Patients per Diagnostic Group',fontsize=20)\n",
    "#Se muestra el grafico\n",
    "plt.show()\n",
    "\n",
    "del group,diagnostic,pos,count"
   ]
  },
  {
   "cell_type": "markdown",
   "metadata": {},
   "source": [
    "## Grafico de barras diagnostic group and sex"
   ]
  },
  {
   "cell_type": "code",
   "execution_count": 19,
   "metadata": {},
   "outputs": [
    {
     "data": {
      "image/png": "[encoded data removed]",
      "text/plain": [
       "<Figure size 432x288 with 1 Axes>"
      ]
     },
     "metadata": {
      "needs_background": "light"
     },
     "output_type": "display_data"
    }
   ],
   "source": [
    "#Cuenta los registros y los coloca en un DataFrame \n",
    "groupMale = tabla[tabla[\"gender\"] == \"Male\"].groupby([\"diagnostic\"]).size().reset_index(name='count') #[\"nombre_col\"].sum() para agrupar por funciones\n",
    "\n",
    "#Cuenta los registros y los coloca en un DataFrame \n",
    "groupFemale = tabla[tabla[\"gender\"] == \"Female\"].groupby([\"diagnostic\"]).size().reset_index(name='count') #[\"nombre_col\"].sum() para agrupar por funciones\n",
    "\n",
    "#Se crea el arreglo de las categorias\n",
    "diagnostic=groupMale[\"diagnostic\"]\n",
    "#Se crea un arreglo de posiciones\n",
    "pos = np.arange(len(diagnostic))\n",
    "#Se crea el arreglo de los valores\n",
    "countMale=groupMale[\"count\"]\n",
    "#Se crea el arreglo de los valores\n",
    "countFemale=groupFemale[\"count\"]\n",
    "#Se crea el arreglo de genero\n",
    "gender=[\"Male\",\"Female\"]\n",
    "\n",
    "#Barra para el Male Gender\n",
    "plt.bar(pos,countMale,color='yellow',edgecolor='black')\n",
    "#Barra para el Female Gender\n",
    "plt.bar(pos,countFemale,color='green',edgecolor='black',bottom=countMale)\n",
    "#Se asigna los labels de las barras\n",
    "plt.xticks(pos, diagnostic)\n",
    "#Se agrega el titulo del eje x\n",
    "plt.xlabel('Diagnostic Group', fontsize=14)\n",
    "#Se agrega el titulo del eje x\n",
    "plt.ylabel('Number of individuals', fontsize=14)\n",
    "#Se agrega el titulo del eje x\n",
    "plt.title('Stacked Barchart - Patients per Diagnostic Group and Gender',fontsize=18)\n",
    "#Se muestra agrega la leyenda del grafico\n",
    "plt.legend(gender,loc=2)\n",
    "#Se muestra el grafico\n",
    "plt.show()\n",
    "\n",
    "del groupMale,groupFemale,diagnostic,pos,countMale,countFemale,gender"
   ]
  },
  {
   "cell_type": "markdown",
   "metadata": {},
   "source": [
    "## Grafico de barras por grupo de edad"
   ]
  },
  {
   "cell_type": "code",
   "execution_count": 20,
   "metadata": {},
   "outputs": [
    {
     "data": {
      "image/png": "[encoded data removed]",
      "text/plain": [
       "<Figure size 432x288 with 1 Axes>"
      ]
     },
     "metadata": {
      "needs_background": "light"
     },
     "output_type": "display_data"
    }
   ],
   "source": [
    "#Crea columna adicional\n",
    "tabla[\"grupoEdad\"] = np.nan\n",
    "\n",
    "#Se actualiza el grupo para menores de 50 años\n",
    "tabla.loc[(tabla[\"edad\"] < 50),\"grupoEdad\"] = \"< 50 años\"\n",
    "#Se actualiza el grupo para entre 50 y 65 años\n",
    "tabla.loc[(tabla[\"edad\"] >= 50) & (tabla[\"edad\"] <= 65),\"grupoEdad\"] = \"Entre 50 y 65 años\"\n",
    "#Se actualiza el grupo para mayores de 65 años\n",
    "tabla.loc[(tabla[\"edad\"] > 65),\"grupoEdad\"] = \"> 65 años\"\n",
    "\n",
    "#Cuenta los registros y los coloca en un DataFrame \n",
    "group = tabla.groupby([\"grupoEdad\"]).size().reset_index(name='count') #[\"nombre_col\"].sum() para agrupar por funciones\n",
    "\n",
    "#Se crea el arreglo de las categorias\n",
    "grupoEdad=group[\"grupoEdad\"]\n",
    "#Se crea un arreglo de posiciones\n",
    "pos = np.arange(len(grupoEdad))\n",
    "#Se crea el arreglo de los valores\n",
    "count=group[\"count\"]\n",
    "\n",
    "#Se crea el grafico de barras \n",
    "plt.bar(pos,count,color='blue',edgecolor='black')\n",
    "#Se asigna los labels de las barras\n",
    "plt.xticks(pos, grupoEdad)\n",
    "#Se agrega el titulo del eje x\n",
    "plt.xlabel('Age Group', fontsize=14)\n",
    "#Se agrega el titulo del eje y\n",
    "plt.ylabel('Number of individuals', fontsize=14)\n",
    "#Se agrega el titulo del grafico\n",
    "plt.title('Barchart - Patients per Age Group',fontsize=20)\n",
    "#Se muestra el grafico\n",
    "plt.show()\n",
    "\n",
    "del group,grupoEdad,pos,count"
   ]
  },
  {
   "cell_type": "markdown",
   "metadata": {},
   "source": [
    "## Grafico de barras por ciudad y grupo de diagnostico"
   ]
  },
  {
   "cell_type": "code",
   "execution_count": 28,
   "metadata": {},
   "outputs": [
    {
     "data": {
      "image/png": "[encoded data removed]",
      "text/plain": [
       "<Figure size 432x288 with 1 Axes>"
      ]
     },
     "metadata": {
      "needs_background": "light"
     },
     "output_type": "display_data"
    }
   ],
   "source": [
    "#Cuenta los registros y los coloca en un DataFrame \n",
    "group = pd.pivot_table(tabla,values=\"overweight\",index=[\"city\"],columns=[\"diagnostic\"],aggfunc=len,fill_value=0)\n",
    "\n",
    "#Se crea un arreglo de posiciones\n",
    "pos = np.arange(len(group.index))\n",
    "#Tamaño de la barra\n",
    "barWidth = barWidth = (plt.figure().get_size_inches()[0])/(len(group.index)*len(group.columns))\n",
    "#Cantidad barras\n",
    "cantidad = 0\n",
    "\n",
    "for i in group.columns:\n",
    "    #Barra para cada uno de los grupos\n",
    "    plt.bar(pos+(barWidth*cantidad),group[i],barWidth)\n",
    "    cantidad = cantidad + 1\n",
    "    \n",
    "#Se asigna los labels de las barras\n",
    "plt.xticks(pos,group.index,rotation='vertical')\n",
    "#Se agrega el titulo del eje x\n",
    "plt.xlabel('City', fontsize=14)\n",
    "#Se agrega el titulo del eje y\n",
    "plt.ylabel('Happiness_Index', fontsize=14)\n",
    "#Se agrega el titulo del grafico\n",
    "plt.title('Group Barchart - Diagnostic per City',fontsize=18)\n",
    "#Se agrega la legenda del grafico\n",
    "plt.legend(group.columns,loc=2)\n",
    "#Se muestra el grafico\n",
    "plt.show()\n",
    "\n",
    "del group,pos,barWidth,cantidad"
   ]
  },
  {
   "cell_type": "markdown",
   "metadata": {},
   "source": [
    "## Otros comandos"
   ]
  },
  {
   "cell_type": "code",
   "execution_count": null,
   "metadata": {},
   "outputs": [],
   "source": [
    "#Variables\n",
    "%whos\n",
    "\n",
    "#Borrar variables\n",
    "#del nombreVariable"
   ]
  }
 ],
 "metadata": {
  "kernelspec": {
   "display_name": "Python 3",
   "language": "python",
   "name": "python3"
  },
  "language_info": {
   "codemirror_mode": {
    "name": "ipython",
    "version": 3
   },
   "file_extension": ".py",
   "mimetype": "text/x-python",
   "name": "python",
   "nbconvert_exporter": "python",
   "pygments_lexer": "ipython3",
   "version": "3.7.6"
  }
 },
 "nbformat": 4,
 "nbformat_minor": 2
}
