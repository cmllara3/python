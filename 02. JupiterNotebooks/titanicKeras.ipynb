{
 "cells": [
  {
   "cell_type": "markdown",
   "metadata": {
    "colab_type": "text",
    "id": "rIwWSVEhVQ_P"
   },
   "source": [
    "# Titanic - Just another approach"
   ]
  },
  {
   "cell_type": "markdown",
   "metadata": {
    "colab_type": "text",
    "id": "KkYUFYgzVQ_V"
   },
   "source": [
    "### Importing libraries"
   ]
  },
  {
   "cell_type": "code",
   "execution_count": 0,
   "metadata": {
    "colab": {},
    "colab_type": "code",
    "id": "qrdzrU0KVQ_Y"
   },
   "outputs": [],
   "source": [
    "# Titanic Example\n",
    "import numpy as np\n",
    "import pandas as pd\n",
    "import matplotlib.pyplot as plt\n",
    "import seaborn as sns\n",
    "%matplotlib inline"
   ]
  },
  {
   "cell_type": "markdown",
   "metadata": {
    "colab_type": "text",
    "id": "5AyFvXIsVQ_h"
   },
   "source": [
    "### Reading files"
   ]
  },
  {
   "cell_type": "code",
   "execution_count": 0,
   "metadata": {
    "colab": {
     "base_uri": "https://localhost:8080/",
     "height": 504
    },
    "colab_type": "code",
    "executionInfo": {
     "elapsed": 1859,
     "status": "ok",
     "timestamp": 1581968355060,
     "user": {
      "displayName": "Carlos Mario Lara Sefair",
      "photoUrl": "https://lh3.googleusercontent.com/a-/AAuE7mBKJ_mJPCFBhDzPjimFHIJoxUSDXGmwpEnQNpSexok=s64",
      "userId": "13413303801860468273"
     },
     "user_tz": -60
    },
    "id": "pwlhdmUWVQ_i",
    "outputId": "edc87b02-4e1d-45c0-a574-6be396e07c5f"
   },
   "outputs": [
    {
     "data": {
      "text/html": [
       "<div>\n",
       "<style scoped>\n",
       "    .dataframe tbody tr th:only-of-type {\n",
       "        vertical-align: middle;\n",
       "    }\n",
       "\n",
       "    .dataframe tbody tr th {\n",
       "        vertical-align: top;\n",
       "    }\n",
       "\n",
       "    .dataframe thead th {\n",
       "        text-align: right;\n",
       "    }\n",
       "</style>\n",
       "<table border=\"1\" class=\"dataframe\">\n",
       "  <thead>\n",
       "    <tr style=\"text-align: right;\">\n",
       "      <th></th>\n",
       "      <th>Passenger Class</th>\n",
       "      <th>Name</th>\n",
       "      <th>Sex</th>\n",
       "      <th>Age</th>\n",
       "      <th>No of Siblings or Spouses on Board</th>\n",
       "      <th>No of Parents or Children on Board</th>\n",
       "      <th>Ticket Number</th>\n",
       "      <th>Passenger Fare</th>\n",
       "      <th>Cabin</th>\n",
       "      <th>Port of Embarkation</th>\n",
       "      <th>Life Boat</th>\n",
       "      <th>Survived</th>\n",
       "    </tr>\n",
       "  </thead>\n",
       "  <tbody>\n",
       "    <tr>\n",
       "      <th>0</th>\n",
       "      <td>First</td>\n",
       "      <td>Allen, Miss. Elisabeth Walton</td>\n",
       "      <td>Female</td>\n",
       "      <td>29.0</td>\n",
       "      <td>0.0</td>\n",
       "      <td>0.0</td>\n",
       "      <td>24160</td>\n",
       "      <td>211.3</td>\n",
       "      <td>B5</td>\n",
       "      <td>Southampton</td>\n",
       "      <td>2</td>\n",
       "      <td>Yes</td>\n",
       "    </tr>\n",
       "    <tr>\n",
       "      <th>1</th>\n",
       "      <td>First</td>\n",
       "      <td>Allison, Master. Hudson Trevor</td>\n",
       "      <td>Male</td>\n",
       "      <td>0.9</td>\n",
       "      <td>1.0</td>\n",
       "      <td>2.0</td>\n",
       "      <td>113781</td>\n",
       "      <td>151.6</td>\n",
       "      <td>C22 C26</td>\n",
       "      <td>Southampton</td>\n",
       "      <td>11</td>\n",
       "      <td>Yes</td>\n",
       "    </tr>\n",
       "    <tr>\n",
       "      <th>2</th>\n",
       "      <td>First</td>\n",
       "      <td>Allison, Miss. Helen Loraine</td>\n",
       "      <td>Female</td>\n",
       "      <td>2.0</td>\n",
       "      <td>1.0</td>\n",
       "      <td>2.0</td>\n",
       "      <td>113781</td>\n",
       "      <td>151.6</td>\n",
       "      <td>C22 C26</td>\n",
       "      <td>Southampton</td>\n",
       "      <td>NaN</td>\n",
       "      <td>No</td>\n",
       "    </tr>\n",
       "    <tr>\n",
       "      <th>3</th>\n",
       "      <td>First</td>\n",
       "      <td>Allison, Mr. Hudson Joshua Creighton</td>\n",
       "      <td>Male</td>\n",
       "      <td>30.0</td>\n",
       "      <td>1.0</td>\n",
       "      <td>2.0</td>\n",
       "      <td>113781</td>\n",
       "      <td>151.6</td>\n",
       "      <td>C22 C26</td>\n",
       "      <td>Southampton</td>\n",
       "      <td>NaN</td>\n",
       "      <td>No</td>\n",
       "    </tr>\n",
       "    <tr>\n",
       "      <th>4</th>\n",
       "      <td>First</td>\n",
       "      <td>Allison, Mrs. Hudson J C (Bessie Waldo Daniels)</td>\n",
       "      <td>Female</td>\n",
       "      <td>25.0</td>\n",
       "      <td>1.0</td>\n",
       "      <td>2.0</td>\n",
       "      <td>113781</td>\n",
       "      <td>151.6</td>\n",
       "      <td>C22 C26</td>\n",
       "      <td>Southampton</td>\n",
       "      <td>NaN</td>\n",
       "      <td>No</td>\n",
       "    </tr>\n",
       "    <tr>\n",
       "      <th>...</th>\n",
       "      <td>...</td>\n",
       "      <td>...</td>\n",
       "      <td>...</td>\n",
       "      <td>...</td>\n",
       "      <td>...</td>\n",
       "      <td>...</td>\n",
       "      <td>...</td>\n",
       "      <td>...</td>\n",
       "      <td>...</td>\n",
       "      <td>...</td>\n",
       "      <td>...</td>\n",
       "      <td>...</td>\n",
       "    </tr>\n",
       "    <tr>\n",
       "      <th>1304</th>\n",
       "      <td>Third</td>\n",
       "      <td>Zabour, Miss. Hileni</td>\n",
       "      <td>Female</td>\n",
       "      <td>14.5</td>\n",
       "      <td>1.0</td>\n",
       "      <td>0.0</td>\n",
       "      <td>2665</td>\n",
       "      <td>14.5</td>\n",
       "      <td>NaN</td>\n",
       "      <td>Cherbourg</td>\n",
       "      <td>NaN</td>\n",
       "      <td>No</td>\n",
       "    </tr>\n",
       "    <tr>\n",
       "      <th>1305</th>\n",
       "      <td>Third</td>\n",
       "      <td>Zabour, Miss. Thamine</td>\n",
       "      <td>Female</td>\n",
       "      <td>NaN</td>\n",
       "      <td>1.0</td>\n",
       "      <td>0.0</td>\n",
       "      <td>2665</td>\n",
       "      <td>14.5</td>\n",
       "      <td>NaN</td>\n",
       "      <td>Cherbourg</td>\n",
       "      <td>NaN</td>\n",
       "      <td>No</td>\n",
       "    </tr>\n",
       "    <tr>\n",
       "      <th>1306</th>\n",
       "      <td>Third</td>\n",
       "      <td>Zakarian, Mr. Mapriededer</td>\n",
       "      <td>Male</td>\n",
       "      <td>26.5</td>\n",
       "      <td>0.0</td>\n",
       "      <td>0.0</td>\n",
       "      <td>2656</td>\n",
       "      <td>7.2</td>\n",
       "      <td>NaN</td>\n",
       "      <td>Cherbourg</td>\n",
       "      <td>NaN</td>\n",
       "      <td>No</td>\n",
       "    </tr>\n",
       "    <tr>\n",
       "      <th>1307</th>\n",
       "      <td>Third</td>\n",
       "      <td>Zakarian, Mr. Ortin</td>\n",
       "      <td>Male</td>\n",
       "      <td>27.0</td>\n",
       "      <td>0.0</td>\n",
       "      <td>0.0</td>\n",
       "      <td>2670</td>\n",
       "      <td>7.2</td>\n",
       "      <td>NaN</td>\n",
       "      <td>Cherbourg</td>\n",
       "      <td>NaN</td>\n",
       "      <td>No</td>\n",
       "    </tr>\n",
       "    <tr>\n",
       "      <th>1308</th>\n",
       "      <td>Third</td>\n",
       "      <td>Zimmerman, Mr. Leo</td>\n",
       "      <td>Male</td>\n",
       "      <td>29.0</td>\n",
       "      <td>0.0</td>\n",
       "      <td>0.0</td>\n",
       "      <td>315082</td>\n",
       "      <td>7.9</td>\n",
       "      <td>NaN</td>\n",
       "      <td>Southampton</td>\n",
       "      <td>NaN</td>\n",
       "      <td>No</td>\n",
       "    </tr>\n",
       "  </tbody>\n",
       "</table>\n",
       "<p>1309 rows × 12 columns</p>\n",
       "</div>"
      ],
      "text/plain": [
       "     Passenger Class  ... Survived\n",
       "0              First  ...      Yes\n",
       "1              First  ...      Yes\n",
       "2              First  ...       No\n",
       "3              First  ...       No\n",
       "4              First  ...       No\n",
       "...              ...  ...      ...\n",
       "1304           Third  ...       No\n",
       "1305           Third  ...       No\n",
       "1306           Third  ...       No\n",
       "1307           Third  ...       No\n",
       "1308           Third  ...       No\n",
       "\n",
       "[1309 rows x 12 columns]"
      ]
     },
     "execution_count": 47,
     "metadata": {
      "tags": []
     },
     "output_type": "execute_result"
    }
   ],
   "source": [
    "# Reading csv Titanic's Dataset\n",
    "titanic = pd.read_csv('titanic(1).csv')# .head(50)\n",
    "titanic\n"
   ]
  },
  {
   "cell_type": "markdown",
   "metadata": {
    "colab_type": "text",
    "id": "QpqM5nk_VQ_o"
   },
   "source": [
    "### Make ETL cleaning\n",
    "Please think carefully about the impact of row deletion on your dataframe as there may be other ways of fixing missing data"
   ]
  },
  {
   "cell_type": "code",
   "execution_count": 0,
   "metadata": {
    "colab": {
     "base_uri": "https://localhost:8080/",
     "height": 238
    },
    "colab_type": "code",
    "executionInfo": {
     "elapsed": 1834,
     "status": "ok",
     "timestamp": 1581968355061,
     "user": {
      "displayName": "Carlos Mario Lara Sefair",
      "photoUrl": "https://lh3.googleusercontent.com/a-/AAuE7mBKJ_mJPCFBhDzPjimFHIJoxUSDXGmwpEnQNpSexok=s64",
      "userId": "13413303801860468273"
     },
     "user_tz": -60
    },
    "id": "2LVgAEpmVQ_q",
    "outputId": "4d42c6dd-cf63-4ced-b4e2-4f0290c6a9d5"
   },
   "outputs": [
    {
     "data": {
      "text/plain": [
       "Passenger Class                       1309\n",
       "Name                                  1309\n",
       "Sex                                   1309\n",
       "Age                                   1046\n",
       "No of Siblings or Spouses on Board    1309\n",
       "No of Parents or Children on Board    1309\n",
       "Ticket Number                         1309\n",
       "Passenger Fare                        1308\n",
       "Cabin                                  295\n",
       "Port of Embarkation                   1307\n",
       "Life Boat                              486\n",
       "Survived                              1309\n",
       "dtype: int64"
      ]
     },
     "execution_count": 48,
     "metadata": {
      "tags": []
     },
     "output_type": "execute_result"
    }
   ],
   "source": [
    "# Let's begin by having a look to see how \"good\" is our dataset by using count(). Thre are missing values?\n",
    "titanic.count()\n",
    "\n",
    "# As we can see from the results below, there are missing values in some columns."
   ]
  },
  {
   "cell_type": "markdown",
   "metadata": {
    "colab_type": "text",
    "id": "GbPKFgQhVQ_w"
   },
   "source": [
    "Let's fix age issue using a mix of pandas and pure Python code!!!\n",
    "Don't expect libraries will resolve all your needs. They are tools to made your life easier just when you need it.\n"
   ]
  },
  {
   "cell_type": "code",
   "execution_count": 0,
   "metadata": {
    "colab": {
     "base_uri": "https://localhost:8080/",
     "height": 238
    },
    "colab_type": "code",
    "executionInfo": {
     "elapsed": 1793,
     "status": "ok",
     "timestamp": 1581968355063,
     "user": {
      "displayName": "Carlos Mario Lara Sefair",
      "photoUrl": "https://lh3.googleusercontent.com/a-/AAuE7mBKJ_mJPCFBhDzPjimFHIJoxUSDXGmwpEnQNpSexok=s64",
      "userId": "13413303801860468273"
     },
     "user_tz": -60
    },
    "id": "RMJl6rdQVQ_y",
    "outputId": "50713c22-0dd8-43cf-dd02-8af6c4148b6c"
   },
   "outputs": [
    {
     "data": {
      "text/plain": [
       "Passenger Class                       1309\n",
       "Name                                  1309\n",
       "Sex                                   1309\n",
       "Age                                   1309\n",
       "No of Siblings or Spouses on Board    1309\n",
       "No of Parents or Children on Board    1309\n",
       "Ticket Number                         1309\n",
       "Passenger Fare                        1308\n",
       "Cabin                                  295\n",
       "Port of Embarkation                   1307\n",
       "Life Boat                              486\n",
       "Survived                              1309\n",
       "dtype: int64"
      ]
     },
     "execution_count": 49,
     "metadata": {
      "tags": []
     },
     "output_type": "execute_result"
    }
   ],
   "source": [
    "# definig a function to fill zero values with the dataset's age mean\n",
    "# Option 1\n",
    "def add_age(cols):\n",
    "    Age = cols[0]\n",
    "    Pclass= cols[1]\n",
    "    if pd.isnull(Age):\n",
    "        return int(titanic[titanic[\"Passenger Class\"] == Pclass][\"Age\"].mean())\n",
    "    else:\n",
    "        return Age\n",
    "\n",
    "titanic[\"Age\"] = titanic[[\"Age\", \"Passenger Class\"]].apply(add_age,axis=1)\n",
    "\n",
    "##########################################\n",
    "# Option 2\n",
    "# def add_age2 ( Age, Pclass)\n",
    "#    if pd.isnull(Age):\n",
    "#        return int(titanic[titanic[\"Passenger Class\"] == Pclass][\"Age\"].mean())\n",
    "#    else:\n",
    "#        return Age\n",
    "    \n",
    "# Calling de function\n",
    "# titanic[\"Age\"] = add_age2 ( titanic[\"Age\"],titanic[\"Passenger Class\"])\n",
    "titanic.count()"
   ]
  },
  {
   "cell_type": "markdown",
   "metadata": {
    "colab_type": "text",
    "id": "kJ5dnmkrVQ_6"
   },
   "source": [
    "We have too many null values for Cabin column, so we just remove it. Notice that we remove the column, not the rows with nuls in Cabin column.\n"
   ]
  },
  {
   "cell_type": "code",
   "execution_count": 0,
   "metadata": {
    "colab": {
     "base_uri": "https://localhost:8080/",
     "height": 204
    },
    "colab_type": "code",
    "executionInfo": {
     "elapsed": 1776,
     "status": "ok",
     "timestamp": 1581968355064,
     "user": {
      "displayName": "Carlos Mario Lara Sefair",
      "photoUrl": "https://lh3.googleusercontent.com/a-/AAuE7mBKJ_mJPCFBhDzPjimFHIJoxUSDXGmwpEnQNpSexok=s64",
      "userId": "13413303801860468273"
     },
     "user_tz": -60
    },
    "id": "UAmzs_8aVQ_-",
    "outputId": "57bbc120-6413-42fb-b6fd-91657ace5913"
   },
   "outputs": [
    {
     "data": {
      "text/plain": [
       "Passenger Class                       1309\n",
       "Name                                  1309\n",
       "Sex                                   1309\n",
       "Age                                   1309\n",
       "No of Siblings or Spouses on Board    1309\n",
       "No of Parents or Children on Board    1309\n",
       "Ticket Number                         1309\n",
       "Passenger Fare                        1308\n",
       "Port of Embarkation                   1307\n",
       "Survived                              1309\n",
       "dtype: int64"
      ]
     },
     "execution_count": 50,
     "metadata": {
      "tags": []
     },
     "output_type": "execute_result"
    }
   ],
   "source": [
    "titanic.drop([\"Cabin\", \"Life Boat\"],inplace=True,axis=1)\n",
    "\n",
    "titanic.count()"
   ]
  },
  {
   "cell_type": "markdown",
   "metadata": {
    "colab_type": "text",
    "id": "u6yrk_-HVRAF"
   },
   "source": [
    "Again, we remove some rows with null values that we can't fix by any means"
   ]
  },
  {
   "cell_type": "code",
   "execution_count": 0,
   "metadata": {
    "colab": {
     "base_uri": "https://localhost:8080/",
     "height": 204
    },
    "colab_type": "code",
    "executionInfo": {
     "elapsed": 2189,
     "status": "ok",
     "timestamp": 1581968355492,
     "user": {
      "displayName": "Carlos Mario Lara Sefair",
      "photoUrl": "https://lh3.googleusercontent.com/a-/AAuE7mBKJ_mJPCFBhDzPjimFHIJoxUSDXGmwpEnQNpSexok=s64",
      "userId": "13413303801860468273"
     },
     "user_tz": -60
    },
    "id": "x2vonAS3VRAH",
    "outputId": "06011a63-f03b-4cbf-9b72-0f79b39f3948"
   },
   "outputs": [
    {
     "data": {
      "text/plain": [
       "Passenger Class                       1306\n",
       "Name                                  1306\n",
       "Sex                                   1306\n",
       "Age                                   1306\n",
       "No of Siblings or Spouses on Board    1306\n",
       "No of Parents or Children on Board    1306\n",
       "Ticket Number                         1306\n",
       "Passenger Fare                        1306\n",
       "Port of Embarkation                   1306\n",
       "Survived                              1306\n",
       "dtype: int64"
      ]
     },
     "execution_count": 51,
     "metadata": {
      "tags": []
     },
     "output_type": "execute_result"
    }
   ],
   "source": [
    "titanic.dropna(inplace=True)\n",
    "titanic.count()"
   ]
  },
  {
   "cell_type": "markdown",
   "metadata": {
    "colab_type": "text",
    "id": "O3HfH36QVRAM"
   },
   "source": [
    "### Converting non-numerical data (when possible)"
   ]
  },
  {
   "cell_type": "markdown",
   "metadata": {
    "colab_type": "text",
    "id": "Cmm1qIBkVRAN"
   },
   "source": [
    "Ok, now that we are done with cleaning the data, let's convert some categorical data into numeric."
   ]
  },
  {
   "cell_type": "code",
   "execution_count": 0,
   "metadata": {
    "colab": {
     "base_uri": "https://localhost:8080/",
     "height": 204
    },
    "colab_type": "code",
    "executionInfo": {
     "elapsed": 2175,
     "status": "ok",
     "timestamp": 1581968355495,
     "user": {
      "displayName": "Carlos Mario Lara Sefair",
      "photoUrl": "https://lh3.googleusercontent.com/a-/AAuE7mBKJ_mJPCFBhDzPjimFHIJoxUSDXGmwpEnQNpSexok=s64",
      "userId": "13413303801860468273"
     },
     "user_tz": -60
    },
    "id": "_1qlFfhoVRAO",
    "outputId": "b05b9f19-9dab-47f8-c027-e8fe11d842ab"
   },
   "outputs": [
    {
     "data": {
      "text/html": [
       "<div>\n",
       "<style scoped>\n",
       "    .dataframe tbody tr th:only-of-type {\n",
       "        vertical-align: middle;\n",
       "    }\n",
       "\n",
       "    .dataframe tbody tr th {\n",
       "        vertical-align: top;\n",
       "    }\n",
       "\n",
       "    .dataframe thead th {\n",
       "        text-align: right;\n",
       "    }\n",
       "</style>\n",
       "<table border=\"1\" class=\"dataframe\">\n",
       "  <thead>\n",
       "    <tr style=\"text-align: right;\">\n",
       "      <th></th>\n",
       "      <th>Female</th>\n",
       "      <th>Male</th>\n",
       "    </tr>\n",
       "  </thead>\n",
       "  <tbody>\n",
       "    <tr>\n",
       "      <th>0</th>\n",
       "      <td>1</td>\n",
       "      <td>0</td>\n",
       "    </tr>\n",
       "    <tr>\n",
       "      <th>1</th>\n",
       "      <td>0</td>\n",
       "      <td>1</td>\n",
       "    </tr>\n",
       "    <tr>\n",
       "      <th>2</th>\n",
       "      <td>1</td>\n",
       "      <td>0</td>\n",
       "    </tr>\n",
       "    <tr>\n",
       "      <th>3</th>\n",
       "      <td>0</td>\n",
       "      <td>1</td>\n",
       "    </tr>\n",
       "    <tr>\n",
       "      <th>4</th>\n",
       "      <td>1</td>\n",
       "      <td>0</td>\n",
       "    </tr>\n",
       "  </tbody>\n",
       "</table>\n",
       "</div>"
      ],
      "text/plain": [
       "   Female  Male\n",
       "0       1     0\n",
       "1       0     1\n",
       "2       1     0\n",
       "3       0     1\n",
       "4       1     0"
      ]
     },
     "execution_count": 52,
     "metadata": {
      "tags": []
     },
     "output_type": "execute_result"
    }
   ],
   "source": [
    "#  Sex column.Using the get_dummies function of Pandas to create two columns, one for male, one for female.\n",
    "sex = pd.get_dummies(titanic[\"Sex\"])\n",
    "sex.head()"
   ]
  },
  {
   "cell_type": "markdown",
   "metadata": {
    "colab_type": "text",
    "id": "dkiQsOEnVRAU"
   },
   "source": [
    "Let's do the same for \"Port of Embarkation\" and \"Passenger Class\""
   ]
  },
  {
   "cell_type": "code",
   "execution_count": 0,
   "metadata": {
    "colab": {
     "base_uri": "https://localhost:8080/",
     "height": 419
    },
    "colab_type": "code",
    "executionInfo": {
     "elapsed": 2135,
     "status": "ok",
     "timestamp": 1581968355498,
     "user": {
      "displayName": "Carlos Mario Lara Sefair",
      "photoUrl": "https://lh3.googleusercontent.com/a-/AAuE7mBKJ_mJPCFBhDzPjimFHIJoxUSDXGmwpEnQNpSexok=s64",
      "userId": "13413303801860468273"
     },
     "user_tz": -60
    },
    "id": "mLWOWOOOVRAW",
    "outputId": "b64ac893-ec31-4abb-dad1-f3372bc58446"
   },
   "outputs": [
    {
     "data": {
      "text/html": [
       "<div>\n",
       "<style scoped>\n",
       "    .dataframe tbody tr th:only-of-type {\n",
       "        vertical-align: middle;\n",
       "    }\n",
       "\n",
       "    .dataframe tbody tr th {\n",
       "        vertical-align: top;\n",
       "    }\n",
       "\n",
       "    .dataframe thead th {\n",
       "        text-align: right;\n",
       "    }\n",
       "</style>\n",
       "<table border=\"1\" class=\"dataframe\">\n",
       "  <thead>\n",
       "    <tr style=\"text-align: right;\">\n",
       "      <th></th>\n",
       "      <th>Cherbourg</th>\n",
       "      <th>Queenstown</th>\n",
       "      <th>Southampton</th>\n",
       "    </tr>\n",
       "  </thead>\n",
       "  <tbody>\n",
       "    <tr>\n",
       "      <th>0</th>\n",
       "      <td>0</td>\n",
       "      <td>0</td>\n",
       "      <td>1</td>\n",
       "    </tr>\n",
       "    <tr>\n",
       "      <th>1</th>\n",
       "      <td>0</td>\n",
       "      <td>0</td>\n",
       "      <td>1</td>\n",
       "    </tr>\n",
       "    <tr>\n",
       "      <th>2</th>\n",
       "      <td>0</td>\n",
       "      <td>0</td>\n",
       "      <td>1</td>\n",
       "    </tr>\n",
       "    <tr>\n",
       "      <th>3</th>\n",
       "      <td>0</td>\n",
       "      <td>0</td>\n",
       "      <td>1</td>\n",
       "    </tr>\n",
       "    <tr>\n",
       "      <th>4</th>\n",
       "      <td>0</td>\n",
       "      <td>0</td>\n",
       "      <td>1</td>\n",
       "    </tr>\n",
       "    <tr>\n",
       "      <th>...</th>\n",
       "      <td>...</td>\n",
       "      <td>...</td>\n",
       "      <td>...</td>\n",
       "    </tr>\n",
       "    <tr>\n",
       "      <th>1304</th>\n",
       "      <td>1</td>\n",
       "      <td>0</td>\n",
       "      <td>0</td>\n",
       "    </tr>\n",
       "    <tr>\n",
       "      <th>1305</th>\n",
       "      <td>1</td>\n",
       "      <td>0</td>\n",
       "      <td>0</td>\n",
       "    </tr>\n",
       "    <tr>\n",
       "      <th>1306</th>\n",
       "      <td>1</td>\n",
       "      <td>0</td>\n",
       "      <td>0</td>\n",
       "    </tr>\n",
       "    <tr>\n",
       "      <th>1307</th>\n",
       "      <td>1</td>\n",
       "      <td>0</td>\n",
       "      <td>0</td>\n",
       "    </tr>\n",
       "    <tr>\n",
       "      <th>1308</th>\n",
       "      <td>0</td>\n",
       "      <td>0</td>\n",
       "      <td>1</td>\n",
       "    </tr>\n",
       "  </tbody>\n",
       "</table>\n",
       "<p>1306 rows × 3 columns</p>\n",
       "</div>"
      ],
      "text/plain": [
       "      Cherbourg  Queenstown  Southampton\n",
       "0             0           0            1\n",
       "1             0           0            1\n",
       "2             0           0            1\n",
       "3             0           0            1\n",
       "4             0           0            1\n",
       "...         ...         ...          ...\n",
       "1304          1           0            0\n",
       "1305          1           0            0\n",
       "1306          1           0            0\n",
       "1307          1           0            0\n",
       "1308          0           0            1\n",
       "\n",
       "[1306 rows x 3 columns]"
      ]
     },
     "execution_count": 53,
     "metadata": {
      "tags": []
     },
     "output_type": "execute_result"
    }
   ],
   "source": [
    "embarked = pd.get_dummies(titanic[\"Port of Embarkation\"])\n",
    "embarked"
   ]
  },
  {
   "cell_type": "code",
   "execution_count": 0,
   "metadata": {
    "colab": {
     "base_uri": "https://localhost:8080/",
     "height": 419
    },
    "colab_type": "code",
    "executionInfo": {
     "elapsed": 2092,
     "status": "ok",
     "timestamp": 1581968355500,
     "user": {
      "displayName": "Carlos Mario Lara Sefair",
      "photoUrl": "https://lh3.googleusercontent.com/a-/AAuE7mBKJ_mJPCFBhDzPjimFHIJoxUSDXGmwpEnQNpSexok=s64",
      "userId": "13413303801860468273"
     },
     "user_tz": -60
    },
    "id": "LBBzjt8cVRAe",
    "outputId": "21976098-83dc-449f-87d2-d5e0695d3559"
   },
   "outputs": [
    {
     "data": {
      "text/html": [
       "<div>\n",
       "<style scoped>\n",
       "    .dataframe tbody tr th:only-of-type {\n",
       "        vertical-align: middle;\n",
       "    }\n",
       "\n",
       "    .dataframe tbody tr th {\n",
       "        vertical-align: top;\n",
       "    }\n",
       "\n",
       "    .dataframe thead th {\n",
       "        text-align: right;\n",
       "    }\n",
       "</style>\n",
       "<table border=\"1\" class=\"dataframe\">\n",
       "  <thead>\n",
       "    <tr style=\"text-align: right;\">\n",
       "      <th></th>\n",
       "      <th>First</th>\n",
       "      <th>Second</th>\n",
       "      <th>Third</th>\n",
       "    </tr>\n",
       "  </thead>\n",
       "  <tbody>\n",
       "    <tr>\n",
       "      <th>0</th>\n",
       "      <td>1</td>\n",
       "      <td>0</td>\n",
       "      <td>0</td>\n",
       "    </tr>\n",
       "    <tr>\n",
       "      <th>1</th>\n",
       "      <td>1</td>\n",
       "      <td>0</td>\n",
       "      <td>0</td>\n",
       "    </tr>\n",
       "    <tr>\n",
       "      <th>2</th>\n",
       "      <td>1</td>\n",
       "      <td>0</td>\n",
       "      <td>0</td>\n",
       "    </tr>\n",
       "    <tr>\n",
       "      <th>3</th>\n",
       "      <td>1</td>\n",
       "      <td>0</td>\n",
       "      <td>0</td>\n",
       "    </tr>\n",
       "    <tr>\n",
       "      <th>4</th>\n",
       "      <td>1</td>\n",
       "      <td>0</td>\n",
       "      <td>0</td>\n",
       "    </tr>\n",
       "    <tr>\n",
       "      <th>...</th>\n",
       "      <td>...</td>\n",
       "      <td>...</td>\n",
       "      <td>...</td>\n",
       "    </tr>\n",
       "    <tr>\n",
       "      <th>1304</th>\n",
       "      <td>0</td>\n",
       "      <td>0</td>\n",
       "      <td>1</td>\n",
       "    </tr>\n",
       "    <tr>\n",
       "      <th>1305</th>\n",
       "      <td>0</td>\n",
       "      <td>0</td>\n",
       "      <td>1</td>\n",
       "    </tr>\n",
       "    <tr>\n",
       "      <th>1306</th>\n",
       "      <td>0</td>\n",
       "      <td>0</td>\n",
       "      <td>1</td>\n",
       "    </tr>\n",
       "    <tr>\n",
       "      <th>1307</th>\n",
       "      <td>0</td>\n",
       "      <td>0</td>\n",
       "      <td>1</td>\n",
       "    </tr>\n",
       "    <tr>\n",
       "      <th>1308</th>\n",
       "      <td>0</td>\n",
       "      <td>0</td>\n",
       "      <td>1</td>\n",
       "    </tr>\n",
       "  </tbody>\n",
       "</table>\n",
       "<p>1306 rows × 3 columns</p>\n",
       "</div>"
      ],
      "text/plain": [
       "      First  Second  Third\n",
       "0         1       0      0\n",
       "1         1       0      0\n",
       "2         1       0      0\n",
       "3         1       0      0\n",
       "4         1       0      0\n",
       "...     ...     ...    ...\n",
       "1304      0       0      1\n",
       "1305      0       0      1\n",
       "1306      0       0      1\n",
       "1307      0       0      1\n",
       "1308      0       0      1\n",
       "\n",
       "[1306 rows x 3 columns]"
      ]
     },
     "execution_count": 54,
     "metadata": {
      "tags": []
     },
     "output_type": "execute_result"
    }
   ],
   "source": [
    "pc_class = pd.get_dummies(titanic[\"Passenger Class\"])\n",
    "pc_class"
   ]
  },
  {
   "cell_type": "markdown",
   "metadata": {
    "colab_type": "text",
    "id": "o5t9I-5WVRAj"
   },
   "source": [
    "now we add these new numeric columns to the dataframe"
   ]
  },
  {
   "cell_type": "code",
   "execution_count": 0,
   "metadata": {
    "colab": {
     "base_uri": "https://localhost:8080/",
     "height": 340
    },
    "colab_type": "code",
    "executionInfo": {
     "elapsed": 2078,
     "status": "ok",
     "timestamp": 1581968355502,
     "user": {
      "displayName": "Carlos Mario Lara Sefair",
      "photoUrl": "https://lh3.googleusercontent.com/a-/AAuE7mBKJ_mJPCFBhDzPjimFHIJoxUSDXGmwpEnQNpSexok=s64",
      "userId": "13413303801860468273"
     },
     "user_tz": -60
    },
    "id": "MUlmJUNnVRAk",
    "outputId": "8ee0837e-6b53-4fa0-94db-57a81fdc32ef"
   },
   "outputs": [
    {
     "data": {
      "text/plain": [
       "Passenger Class                       1306\n",
       "Name                                  1306\n",
       "Sex                                   1306\n",
       "Age                                   1306\n",
       "No of Siblings or Spouses on Board    1306\n",
       "No of Parents or Children on Board    1306\n",
       "Ticket Number                         1306\n",
       "Passenger Fare                        1306\n",
       "Port of Embarkation                   1306\n",
       "Survived                              1306\n",
       "First                                 1306\n",
       "Second                                1306\n",
       "Third                                 1306\n",
       "Female                                1306\n",
       "Male                                  1306\n",
       "Cherbourg                             1306\n",
       "Queenstown                            1306\n",
       "Southampton                           1306\n",
       "dtype: int64"
      ]
     },
     "execution_count": 55,
     "metadata": {
      "tags": []
     },
     "output_type": "execute_result"
    }
   ],
   "source": [
    "titanic = pd.concat([titanic,pc_class,sex,embarked],axis=1)\n",
    "titanic.count()"
   ]
  },
  {
   "cell_type": "code",
   "execution_count": 0,
   "metadata": {
    "colab": {
     "base_uri": "https://localhost:8080/",
     "height": 606
    },
    "colab_type": "code",
    "executionInfo": {
     "elapsed": 2053,
     "status": "ok",
     "timestamp": 1581968355503,
     "user": {
      "displayName": "Carlos Mario Lara Sefair",
      "photoUrl": "https://lh3.googleusercontent.com/a-/AAuE7mBKJ_mJPCFBhDzPjimFHIJoxUSDXGmwpEnQNpSexok=s64",
      "userId": "13413303801860468273"
     },
     "user_tz": -60
    },
    "id": "yVyUSIFCVRAp",
    "outputId": "0cb9523e-ddee-4240-a800-1a3039512408"
   },
   "outputs": [
    {
     "data": {
      "text/html": [
       "<div>\n",
       "<style scoped>\n",
       "    .dataframe tbody tr th:only-of-type {\n",
       "        vertical-align: middle;\n",
       "    }\n",
       "\n",
       "    .dataframe tbody tr th {\n",
       "        vertical-align: top;\n",
       "    }\n",
       "\n",
       "    .dataframe thead th {\n",
       "        text-align: right;\n",
       "    }\n",
       "</style>\n",
       "<table border=\"1\" class=\"dataframe\">\n",
       "  <thead>\n",
       "    <tr style=\"text-align: right;\">\n",
       "      <th></th>\n",
       "      <th>Passenger Class</th>\n",
       "      <th>Name</th>\n",
       "      <th>Sex</th>\n",
       "      <th>Age</th>\n",
       "      <th>No of Siblings or Spouses on Board</th>\n",
       "      <th>No of Parents or Children on Board</th>\n",
       "      <th>Ticket Number</th>\n",
       "      <th>Passenger Fare</th>\n",
       "      <th>Port of Embarkation</th>\n",
       "      <th>Survived</th>\n",
       "      <th>First</th>\n",
       "      <th>Second</th>\n",
       "      <th>Third</th>\n",
       "      <th>Female</th>\n",
       "      <th>Male</th>\n",
       "      <th>Cherbourg</th>\n",
       "      <th>Queenstown</th>\n",
       "      <th>Southampton</th>\n",
       "    </tr>\n",
       "  </thead>\n",
       "  <tbody>\n",
       "    <tr>\n",
       "      <th>0</th>\n",
       "      <td>First</td>\n",
       "      <td>Allen, Miss. Elisabeth Walton</td>\n",
       "      <td>Female</td>\n",
       "      <td>29.0</td>\n",
       "      <td>0.0</td>\n",
       "      <td>0.0</td>\n",
       "      <td>24160</td>\n",
       "      <td>211.3</td>\n",
       "      <td>Southampton</td>\n",
       "      <td>Yes</td>\n",
       "      <td>1</td>\n",
       "      <td>0</td>\n",
       "      <td>0</td>\n",
       "      <td>1</td>\n",
       "      <td>0</td>\n",
       "      <td>0</td>\n",
       "      <td>0</td>\n",
       "      <td>1</td>\n",
       "    </tr>\n",
       "    <tr>\n",
       "      <th>1</th>\n",
       "      <td>First</td>\n",
       "      <td>Allison, Master. Hudson Trevor</td>\n",
       "      <td>Male</td>\n",
       "      <td>0.9</td>\n",
       "      <td>1.0</td>\n",
       "      <td>2.0</td>\n",
       "      <td>113781</td>\n",
       "      <td>151.6</td>\n",
       "      <td>Southampton</td>\n",
       "      <td>Yes</td>\n",
       "      <td>1</td>\n",
       "      <td>0</td>\n",
       "      <td>0</td>\n",
       "      <td>0</td>\n",
       "      <td>1</td>\n",
       "      <td>0</td>\n",
       "      <td>0</td>\n",
       "      <td>1</td>\n",
       "    </tr>\n",
       "    <tr>\n",
       "      <th>2</th>\n",
       "      <td>First</td>\n",
       "      <td>Allison, Miss. Helen Loraine</td>\n",
       "      <td>Female</td>\n",
       "      <td>2.0</td>\n",
       "      <td>1.0</td>\n",
       "      <td>2.0</td>\n",
       "      <td>113781</td>\n",
       "      <td>151.6</td>\n",
       "      <td>Southampton</td>\n",
       "      <td>No</td>\n",
       "      <td>1</td>\n",
       "      <td>0</td>\n",
       "      <td>0</td>\n",
       "      <td>1</td>\n",
       "      <td>0</td>\n",
       "      <td>0</td>\n",
       "      <td>0</td>\n",
       "      <td>1</td>\n",
       "    </tr>\n",
       "    <tr>\n",
       "      <th>3</th>\n",
       "      <td>First</td>\n",
       "      <td>Allison, Mr. Hudson Joshua Creighton</td>\n",
       "      <td>Male</td>\n",
       "      <td>30.0</td>\n",
       "      <td>1.0</td>\n",
       "      <td>2.0</td>\n",
       "      <td>113781</td>\n",
       "      <td>151.6</td>\n",
       "      <td>Southampton</td>\n",
       "      <td>No</td>\n",
       "      <td>1</td>\n",
       "      <td>0</td>\n",
       "      <td>0</td>\n",
       "      <td>0</td>\n",
       "      <td>1</td>\n",
       "      <td>0</td>\n",
       "      <td>0</td>\n",
       "      <td>1</td>\n",
       "    </tr>\n",
       "    <tr>\n",
       "      <th>4</th>\n",
       "      <td>First</td>\n",
       "      <td>Allison, Mrs. Hudson J C (Bessie Waldo Daniels)</td>\n",
       "      <td>Female</td>\n",
       "      <td>25.0</td>\n",
       "      <td>1.0</td>\n",
       "      <td>2.0</td>\n",
       "      <td>113781</td>\n",
       "      <td>151.6</td>\n",
       "      <td>Southampton</td>\n",
       "      <td>No</td>\n",
       "      <td>1</td>\n",
       "      <td>0</td>\n",
       "      <td>0</td>\n",
       "      <td>1</td>\n",
       "      <td>0</td>\n",
       "      <td>0</td>\n",
       "      <td>0</td>\n",
       "      <td>1</td>\n",
       "    </tr>\n",
       "    <tr>\n",
       "      <th>...</th>\n",
       "      <td>...</td>\n",
       "      <td>...</td>\n",
       "      <td>...</td>\n",
       "      <td>...</td>\n",
       "      <td>...</td>\n",
       "      <td>...</td>\n",
       "      <td>...</td>\n",
       "      <td>...</td>\n",
       "      <td>...</td>\n",
       "      <td>...</td>\n",
       "      <td>...</td>\n",
       "      <td>...</td>\n",
       "      <td>...</td>\n",
       "      <td>...</td>\n",
       "      <td>...</td>\n",
       "      <td>...</td>\n",
       "      <td>...</td>\n",
       "      <td>...</td>\n",
       "    </tr>\n",
       "    <tr>\n",
       "      <th>1304</th>\n",
       "      <td>Third</td>\n",
       "      <td>Zabour, Miss. Hileni</td>\n",
       "      <td>Female</td>\n",
       "      <td>14.5</td>\n",
       "      <td>1.0</td>\n",
       "      <td>0.0</td>\n",
       "      <td>2665</td>\n",
       "      <td>14.5</td>\n",
       "      <td>Cherbourg</td>\n",
       "      <td>No</td>\n",
       "      <td>0</td>\n",
       "      <td>0</td>\n",
       "      <td>1</td>\n",
       "      <td>1</td>\n",
       "      <td>0</td>\n",
       "      <td>1</td>\n",
       "      <td>0</td>\n",
       "      <td>0</td>\n",
       "    </tr>\n",
       "    <tr>\n",
       "      <th>1305</th>\n",
       "      <td>Third</td>\n",
       "      <td>Zabour, Miss. Thamine</td>\n",
       "      <td>Female</td>\n",
       "      <td>24.0</td>\n",
       "      <td>1.0</td>\n",
       "      <td>0.0</td>\n",
       "      <td>2665</td>\n",
       "      <td>14.5</td>\n",
       "      <td>Cherbourg</td>\n",
       "      <td>No</td>\n",
       "      <td>0</td>\n",
       "      <td>0</td>\n",
       "      <td>1</td>\n",
       "      <td>1</td>\n",
       "      <td>0</td>\n",
       "      <td>1</td>\n",
       "      <td>0</td>\n",
       "      <td>0</td>\n",
       "    </tr>\n",
       "    <tr>\n",
       "      <th>1306</th>\n",
       "      <td>Third</td>\n",
       "      <td>Zakarian, Mr. Mapriededer</td>\n",
       "      <td>Male</td>\n",
       "      <td>26.5</td>\n",
       "      <td>0.0</td>\n",
       "      <td>0.0</td>\n",
       "      <td>2656</td>\n",
       "      <td>7.2</td>\n",
       "      <td>Cherbourg</td>\n",
       "      <td>No</td>\n",
       "      <td>0</td>\n",
       "      <td>0</td>\n",
       "      <td>1</td>\n",
       "      <td>0</td>\n",
       "      <td>1</td>\n",
       "      <td>1</td>\n",
       "      <td>0</td>\n",
       "      <td>0</td>\n",
       "    </tr>\n",
       "    <tr>\n",
       "      <th>1307</th>\n",
       "      <td>Third</td>\n",
       "      <td>Zakarian, Mr. Ortin</td>\n",
       "      <td>Male</td>\n",
       "      <td>27.0</td>\n",
       "      <td>0.0</td>\n",
       "      <td>0.0</td>\n",
       "      <td>2670</td>\n",
       "      <td>7.2</td>\n",
       "      <td>Cherbourg</td>\n",
       "      <td>No</td>\n",
       "      <td>0</td>\n",
       "      <td>0</td>\n",
       "      <td>1</td>\n",
       "      <td>0</td>\n",
       "      <td>1</td>\n",
       "      <td>1</td>\n",
       "      <td>0</td>\n",
       "      <td>0</td>\n",
       "    </tr>\n",
       "    <tr>\n",
       "      <th>1308</th>\n",
       "      <td>Third</td>\n",
       "      <td>Zimmerman, Mr. Leo</td>\n",
       "      <td>Male</td>\n",
       "      <td>29.0</td>\n",
       "      <td>0.0</td>\n",
       "      <td>0.0</td>\n",
       "      <td>315082</td>\n",
       "      <td>7.9</td>\n",
       "      <td>Southampton</td>\n",
       "      <td>No</td>\n",
       "      <td>0</td>\n",
       "      <td>0</td>\n",
       "      <td>1</td>\n",
       "      <td>0</td>\n",
       "      <td>1</td>\n",
       "      <td>0</td>\n",
       "      <td>0</td>\n",
       "      <td>1</td>\n",
       "    </tr>\n",
       "  </tbody>\n",
       "</table>\n",
       "<p>1306 rows × 18 columns</p>\n",
       "</div>"
      ],
      "text/plain": [
       "     Passenger Class  ... Southampton\n",
       "0              First  ...           1\n",
       "1              First  ...           1\n",
       "2              First  ...           1\n",
       "3              First  ...           1\n",
       "4              First  ...           1\n",
       "...              ...  ...         ...\n",
       "1304           Third  ...           0\n",
       "1305           Third  ...           0\n",
       "1306           Third  ...           0\n",
       "1307           Third  ...           0\n",
       "1308           Third  ...           1\n",
       "\n",
       "[1306 rows x 18 columns]"
      ]
     },
     "execution_count": 56,
     "metadata": {
      "tags": []
     },
     "output_type": "execute_result"
    }
   ],
   "source": [
    "# We save a DataFrame copy to be used with Seaborn's plots\n",
    "sea_titanic = titanic.copy()\n",
    "sea_titanic"
   ]
  },
  {
   "cell_type": "markdown",
   "metadata": {
    "colab_type": "text",
    "id": "LC2WNENhVRAw"
   },
   "source": [
    "Finally, we can get rid of non-numerical columns (except for \"Passenger Class\" wich will be used later)"
   ]
  },
  {
   "cell_type": "code",
   "execution_count": 0,
   "metadata": {
    "colab": {
     "base_uri": "https://localhost:8080/",
     "height": 204
    },
    "colab_type": "code",
    "executionInfo": {
     "elapsed": 2030,
     "status": "ok",
     "timestamp": 1581968355504,
     "user": {
      "displayName": "Carlos Mario Lara Sefair",
      "photoUrl": "https://lh3.googleusercontent.com/a-/AAuE7mBKJ_mJPCFBhDzPjimFHIJoxUSDXGmwpEnQNpSexok=s64",
      "userId": "13413303801860468273"
     },
     "user_tz": -60
    },
    "id": "cIZsDNeDVRAz",
    "outputId": "8de26e5c-086e-4e08-d54f-1264ae21f755"
   },
   "outputs": [
    {
     "data": {
      "text/html": [
       "<div>\n",
       "<style scoped>\n",
       "    .dataframe tbody tr th:only-of-type {\n",
       "        vertical-align: middle;\n",
       "    }\n",
       "\n",
       "    .dataframe tbody tr th {\n",
       "        vertical-align: top;\n",
       "    }\n",
       "\n",
       "    .dataframe thead th {\n",
       "        text-align: right;\n",
       "    }\n",
       "</style>\n",
       "<table border=\"1\" class=\"dataframe\">\n",
       "  <thead>\n",
       "    <tr style=\"text-align: right;\">\n",
       "      <th></th>\n",
       "      <th>Age</th>\n",
       "      <th>No of Siblings or Spouses on Board</th>\n",
       "      <th>No of Parents or Children on Board</th>\n",
       "      <th>Survived</th>\n",
       "      <th>First</th>\n",
       "      <th>Second</th>\n",
       "      <th>Third</th>\n",
       "      <th>Female</th>\n",
       "      <th>Male</th>\n",
       "      <th>Cherbourg</th>\n",
       "      <th>Queenstown</th>\n",
       "      <th>Southampton</th>\n",
       "    </tr>\n",
       "  </thead>\n",
       "  <tbody>\n",
       "    <tr>\n",
       "      <th>0</th>\n",
       "      <td>29.0</td>\n",
       "      <td>0.0</td>\n",
       "      <td>0.0</td>\n",
       "      <td>Yes</td>\n",
       "      <td>1</td>\n",
       "      <td>0</td>\n",
       "      <td>0</td>\n",
       "      <td>1</td>\n",
       "      <td>0</td>\n",
       "      <td>0</td>\n",
       "      <td>0</td>\n",
       "      <td>1</td>\n",
       "    </tr>\n",
       "    <tr>\n",
       "      <th>1</th>\n",
       "      <td>0.9</td>\n",
       "      <td>1.0</td>\n",
       "      <td>2.0</td>\n",
       "      <td>Yes</td>\n",
       "      <td>1</td>\n",
       "      <td>0</td>\n",
       "      <td>0</td>\n",
       "      <td>0</td>\n",
       "      <td>1</td>\n",
       "      <td>0</td>\n",
       "      <td>0</td>\n",
       "      <td>1</td>\n",
       "    </tr>\n",
       "    <tr>\n",
       "      <th>2</th>\n",
       "      <td>2.0</td>\n",
       "      <td>1.0</td>\n",
       "      <td>2.0</td>\n",
       "      <td>No</td>\n",
       "      <td>1</td>\n",
       "      <td>0</td>\n",
       "      <td>0</td>\n",
       "      <td>1</td>\n",
       "      <td>0</td>\n",
       "      <td>0</td>\n",
       "      <td>0</td>\n",
       "      <td>1</td>\n",
       "    </tr>\n",
       "    <tr>\n",
       "      <th>3</th>\n",
       "      <td>30.0</td>\n",
       "      <td>1.0</td>\n",
       "      <td>2.0</td>\n",
       "      <td>No</td>\n",
       "      <td>1</td>\n",
       "      <td>0</td>\n",
       "      <td>0</td>\n",
       "      <td>0</td>\n",
       "      <td>1</td>\n",
       "      <td>0</td>\n",
       "      <td>0</td>\n",
       "      <td>1</td>\n",
       "    </tr>\n",
       "    <tr>\n",
       "      <th>4</th>\n",
       "      <td>25.0</td>\n",
       "      <td>1.0</td>\n",
       "      <td>2.0</td>\n",
       "      <td>No</td>\n",
       "      <td>1</td>\n",
       "      <td>0</td>\n",
       "      <td>0</td>\n",
       "      <td>1</td>\n",
       "      <td>0</td>\n",
       "      <td>0</td>\n",
       "      <td>0</td>\n",
       "      <td>1</td>\n",
       "    </tr>\n",
       "  </tbody>\n",
       "</table>\n",
       "</div>"
      ],
      "text/plain": [
       "    Age  No of Siblings or Spouses on Board  ...  Queenstown Southampton\n",
       "0  29.0                                 0.0  ...           0           1\n",
       "1   0.9                                 1.0  ...           0           1\n",
       "2   2.0                                 1.0  ...           0           1\n",
       "3  30.0                                 1.0  ...           0           1\n",
       "4  25.0                                 1.0  ...           0           1\n",
       "\n",
       "[5 rows x 12 columns]"
      ]
     },
     "execution_count": 57,
     "metadata": {
      "tags": []
     },
     "output_type": "execute_result"
    }
   ],
   "source": [
    "titanic.drop([\"Passenger Class\",\"Passenger Fare\",\"Name\",\"Sex\",\"Ticket Number\",\"Port of Embarkation\"],axis=1,inplace=True)\n",
    "titanic.head()"
   ]
  },
  {
   "cell_type": "markdown",
   "metadata": {
    "colab_type": "text",
    "id": "G40aaqTIVRA9"
   },
   "source": [
    "### Training Process"
   ]
  },
  {
   "cell_type": "markdown",
   "metadata": {
    "colab_type": "text",
    "id": "UTLm5eZ0VRA-"
   },
   "source": [
    "Now need train and test subsets to work with. X will contain all the features and y will contain the target variable"
   ]
  },
  {
   "cell_type": "code",
   "execution_count": 0,
   "metadata": {
    "colab": {},
    "colab_type": "code",
    "id": "P9J3Zpv9VRA_"
   },
   "outputs": [],
   "source": [
    "X = titanic.drop(\"Survived\",axis=1)\n",
    "y = titanic[\"Survived\"]"
   ]
  },
  {
   "cell_type": "markdown",
   "metadata": {
    "colab_type": "text",
    "id": "cW2STb6HVRBF"
   },
   "source": [
    "We will use train_test_split from cross_validation module to split our data. 70% of the data will be training data and %30 will be testing data.\n"
   ]
  },
  {
   "cell_type": "markdown",
   "metadata": {
    "colab_type": "text",
    "id": "1mcwIDoyVRBH"
   },
   "source": [
    "random_state = 101: Random state ensures that the splits that you generate are reproducible. The number doesn't matter, the important thing is that everytime you use the same number, you will always get the same output the first time you make the split. Scikit-learn uses random permutations to generate the splits. The random state that you provide is used as a seed to the random number generator. This ensures that the random numbers are generated in the same order."
   ]
  },
  {
   "cell_type": "code",
   "execution_count": 0,
   "metadata": {
    "colab": {
     "base_uri": "https://localhost:8080/",
     "height": 136
    },
    "colab_type": "code",
    "executionInfo": {
     "elapsed": 1987,
     "status": "ok",
     "timestamp": 1581968355508,
     "user": {
      "displayName": "Carlos Mario Lara Sefair",
      "photoUrl": "https://lh3.googleusercontent.com/a-/AAuE7mBKJ_mJPCFBhDzPjimFHIJoxUSDXGmwpEnQNpSexok=s64",
      "userId": "13413303801860468273"
     },
     "user_tz": -60
    },
    "id": "POpGC-dzVRCR",
    "outputId": "e7f79c9a-aaf5-4ded-80cc-3e75ab99f16c"
   },
   "outputs": [
    {
     "data": {
      "text/plain": [
       "array([[29. ,  0. ,  0. , ...,  0. ,  0. ,  1. ],\n",
       "       [ 0.9,  1. ,  2. , ...,  0. ,  0. ,  1. ],\n",
       "       [ 2. ,  1. ,  2. , ...,  0. ,  0. ,  1. ],\n",
       "       ...,\n",
       "       [26.5,  0. ,  0. , ...,  1. ,  0. ,  0. ],\n",
       "       [27. ,  0. ,  0. , ...,  1. ,  0. ,  0. ],\n",
       "       [29. ,  0. ,  0. , ...,  0. ,  0. ,  1. ]])"
      ]
     },
     "execution_count": 59,
     "metadata": {
      "tags": []
     },
     "output_type": "execute_result"
    }
   ],
   "source": [
    "X = X.values\n",
    "X"
   ]
  },
  {
   "cell_type": "code",
   "execution_count": 0,
   "metadata": {
    "colab": {
     "base_uri": "https://localhost:8080/",
     "height": 34
    },
    "colab_type": "code",
    "executionInfo": {
     "elapsed": 1955,
     "status": "ok",
     "timestamp": 1581968355509,
     "user": {
      "displayName": "Carlos Mario Lara Sefair",
      "photoUrl": "https://lh3.googleusercontent.com/a-/AAuE7mBKJ_mJPCFBhDzPjimFHIJoxUSDXGmwpEnQNpSexok=s64",
      "userId": "13413303801860468273"
     },
     "user_tz": -60
    },
    "id": "rt2myLILYBq3",
    "outputId": "1bd9fc98-f2ef-432c-8ac1-e91b99af09b3"
   },
   "outputs": [
    {
     "data": {
      "text/plain": [
       "array([1, 1, 0, ..., 0, 0, 0])"
      ]
     },
     "execution_count": 60,
     "metadata": {
      "tags": []
     },
     "output_type": "execute_result"
    }
   ],
   "source": [
    "#Todos los valores en DeepLearning (Redes neuronales deben estar en numero)\n",
    "from sklearn.preprocessing import LabelEncoder\n",
    "labelEncoder_y = LabelEncoder()\n",
    "\n",
    "y = labelEncoder_y.fit_transform(titanic[\"Survived\"])\n",
    "y"
   ]
  },
  {
   "cell_type": "code",
   "execution_count": 0,
   "metadata": {
    "colab": {},
    "colab_type": "code",
    "id": "8S7gtAIZVRBK"
   },
   "outputs": [],
   "source": [
    "from sklearn.model_selection import train_test_split\n",
    "X_train, X_test, y_train, y_test = train_test_split(X, y, test_size = 0.3, random_state = 101)"
   ]
  },
  {
   "cell_type": "code",
   "execution_count": 0,
   "metadata": {
    "colab": {},
    "colab_type": "code",
    "id": "QZX6TRB6aT0o"
   },
   "outputs": [],
   "source": [
    "%tensorflow_version 2.x\n",
    "import tensorflow.keras as keras\n",
    "from tensorflow.keras.models import Sequential\n",
    "from tensorflow.keras.layers import Dense"
   ]
  },
  {
   "cell_type": "code",
   "execution_count": 0,
   "metadata": {
    "colab": {},
    "colab_type": "code",
    "id": "TNIH8a_JcI-m"
   },
   "outputs": [],
   "source": [
    "#Se crea la arquitectura del modelo\n",
    "model = Sequential()"
   ]
  },
  {
   "cell_type": "code",
   "execution_count": 0,
   "metadata": {
    "colab": {},
    "colab_type": "code",
    "id": "J2sN5ox6clcW"
   },
   "outputs": [],
   "source": [
    "#Dense todo conectado con la capa anterior con la cantidad de neuronas \n",
    "model.add(Dense(3,input_shape=(11,),activation=\"relu\"))\n",
    "model.add(Dense(2,activation=\"relu\"))\n",
    "model.add(Dense(1,activation=\"sigmoid\"))"
   ]
  },
  {
   "cell_type": "code",
   "execution_count": 0,
   "metadata": {
    "colab": {},
    "colab_type": "code",
    "id": "_LfsfWwLiZeQ"
   },
   "outputs": [],
   "source": [
    "#Compilacion del modelo\n",
    "model.compile(optimizer='adam',loss='binary_crossentropy',metrics=['accuracy'])"
   ]
  },
  {
   "cell_type": "code",
   "execution_count": 0,
   "metadata": {
    "colab": {
     "base_uri": "https://localhost:8080/",
     "height": 1000
    },
    "colab_type": "code",
    "executionInfo": {
     "elapsed": 18613,
     "status": "ok",
     "timestamp": 1581968372271,
     "user": {
      "displayName": "Carlos Mario Lara Sefair",
      "photoUrl": "https://lh3.googleusercontent.com/a-/AAuE7mBKJ_mJPCFBhDzPjimFHIJoxUSDXGmwpEnQNpSexok=s64",
      "userId": "13413303801860468273"
     },
     "user_tz": -60
    },
    "id": "5TUTiQj2kowq",
    "outputId": "085af782-a155-41be-afc6-aed256bbfd5c"
   },
   "outputs": [
    {
     "name": "stdout",
     "output_type": "stream",
     "text": [
      "Train on 914 samples\n",
      "Epoch 1/100\n",
      "914/914 [==============================] - 1s 686us/sample - loss: 1.6648 - accuracy: 0.3807\n",
      "Epoch 2/100\n",
      "914/914 [==============================] - 0s 163us/sample - loss: 0.7403 - accuracy: 0.4989\n",
      "Epoch 3/100\n",
      "914/914 [==============================] - 0s 196us/sample - loss: 0.6689 - accuracy: 0.6138\n",
      "Epoch 4/100\n",
      "914/914 [==============================] - 0s 167us/sample - loss: 0.6679 - accuracy: 0.6138\n",
      "Epoch 5/100\n",
      "914/914 [==============================] - 0s 154us/sample - loss: 0.6684 - accuracy: 0.6138\n",
      "Epoch 6/100\n",
      "914/914 [==============================] - 0s 172us/sample - loss: 0.6677 - accuracy: 0.6138\n",
      "Epoch 7/100\n",
      "914/914 [==============================] - 0s 162us/sample - loss: 0.6677 - accuracy: 0.6138\n",
      "Epoch 8/100\n",
      "914/914 [==============================] - 0s 164us/sample - loss: 0.6682 - accuracy: 0.6138\n",
      "Epoch 9/100\n",
      "914/914 [==============================] - 0s 158us/sample - loss: 0.6689 - accuracy: 0.6138\n",
      "Epoch 10/100\n",
      "914/914 [==============================] - 0s 171us/sample - loss: 0.6678 - accuracy: 0.6138\n",
      "Epoch 11/100\n",
      "914/914 [==============================] - 0s 170us/sample - loss: 0.6684 - accuracy: 0.6138\n",
      "Epoch 12/100\n",
      "914/914 [==============================] - 0s 159us/sample - loss: 0.6680 - accuracy: 0.6138\n",
      "Epoch 13/100\n",
      "914/914 [==============================] - 0s 166us/sample - loss: 0.6682 - accuracy: 0.6138\n",
      "Epoch 14/100\n",
      "914/914 [==============================] - 0s 169us/sample - loss: 0.6682 - accuracy: 0.6138\n",
      "Epoch 15/100\n",
      "914/914 [==============================] - 0s 169us/sample - loss: 0.6670 - accuracy: 0.6138\n",
      "Epoch 16/100\n",
      "914/914 [==============================] - 0s 163us/sample - loss: 0.6682 - accuracy: 0.6138\n",
      "Epoch 17/100\n",
      "914/914 [==============================] - 0s 158us/sample - loss: 0.6666 - accuracy: 0.6138\n",
      "Epoch 18/100\n",
      "914/914 [==============================] - 0s 189us/sample - loss: 0.6692 - accuracy: 0.6138\n",
      "Epoch 19/100\n",
      "914/914 [==============================] - 0s 159us/sample - loss: 0.6672 - accuracy: 0.6138\n",
      "Epoch 20/100\n",
      "914/914 [==============================] - 0s 157us/sample - loss: 0.6667 - accuracy: 0.6138\n",
      "Epoch 21/100\n",
      "914/914 [==============================] - 0s 168us/sample - loss: 0.6668 - accuracy: 0.6138\n",
      "Epoch 22/100\n",
      "914/914 [==============================] - 0s 173us/sample - loss: 0.6667 - accuracy: 0.6138\n",
      "Epoch 23/100\n",
      "914/914 [==============================] - 0s 181us/sample - loss: 0.6663 - accuracy: 0.6138\n",
      "Epoch 24/100\n",
      "914/914 [==============================] - 0s 188us/sample - loss: 0.6663 - accuracy: 0.6138\n",
      "Epoch 25/100\n",
      "914/914 [==============================] - 0s 189us/sample - loss: 0.6668 - accuracy: 0.6138\n",
      "Epoch 26/100\n",
      "914/914 [==============================] - 0s 175us/sample - loss: 0.6671 - accuracy: 0.6138\n",
      "Epoch 27/100\n",
      "914/914 [==============================] - 0s 184us/sample - loss: 0.6666 - accuracy: 0.6138\n",
      "Epoch 28/100\n",
      "914/914 [==============================] - 0s 176us/sample - loss: 0.6675 - accuracy: 0.6138\n",
      "Epoch 29/100\n",
      "914/914 [==============================] - 0s 165us/sample - loss: 0.6666 - accuracy: 0.6138\n",
      "Epoch 30/100\n",
      "914/914 [==============================] - 0s 187us/sample - loss: 0.6662 - accuracy: 0.6138\n",
      "Epoch 31/100\n",
      "914/914 [==============================] - 0s 158us/sample - loss: 0.6665 - accuracy: 0.6138\n",
      "Epoch 32/100\n",
      "914/914 [==============================] - 0s 161us/sample - loss: 0.6661 - accuracy: 0.6138\n",
      "Epoch 33/100\n",
      "914/914 [==============================] - 0s 194us/sample - loss: 0.6663 - accuracy: 0.6138\n",
      "Epoch 34/100\n",
      "914/914 [==============================] - 0s 180us/sample - loss: 0.6653 - accuracy: 0.6138\n",
      "Epoch 35/100\n",
      "914/914 [==============================] - 0s 157us/sample - loss: 0.6653 - accuracy: 0.6138\n",
      "Epoch 36/100\n",
      "914/914 [==============================] - 0s 179us/sample - loss: 0.6652 - accuracy: 0.6138\n",
      "Epoch 37/100\n",
      "914/914 [==============================] - 0s 162us/sample - loss: 0.6651 - accuracy: 0.6138\n",
      "Epoch 38/100\n",
      "914/914 [==============================] - 0s 158us/sample - loss: 0.6644 - accuracy: 0.6138\n",
      "Epoch 39/100\n",
      "914/914 [==============================] - 0s 172us/sample - loss: 0.6638 - accuracy: 0.6138\n",
      "Epoch 40/100\n",
      "914/914 [==============================] - 0s 158us/sample - loss: 0.6651 - accuracy: 0.6138\n",
      "Epoch 41/100\n",
      "914/914 [==============================] - 0s 171us/sample - loss: 0.6640 - accuracy: 0.6138\n",
      "Epoch 42/100\n",
      "914/914 [==============================] - 0s 166us/sample - loss: 0.6634 - accuracy: 0.6138\n",
      "Epoch 43/100\n",
      "914/914 [==============================] - 0s 159us/sample - loss: 0.6627 - accuracy: 0.6138\n",
      "Epoch 44/100\n",
      "914/914 [==============================] - 0s 168us/sample - loss: 0.6621 - accuracy: 0.6138\n",
      "Epoch 45/100\n",
      "914/914 [==============================] - 0s 177us/sample - loss: 0.6634 - accuracy: 0.6138\n",
      "Epoch 46/100\n",
      "914/914 [==============================] - 0s 159us/sample - loss: 0.6622 - accuracy: 0.6138\n",
      "Epoch 47/100\n",
      "914/914 [==============================] - 0s 168us/sample - loss: 0.6621 - accuracy: 0.6138\n",
      "Epoch 48/100\n",
      "914/914 [==============================] - 0s 184us/sample - loss: 0.6613 - accuracy: 0.6138\n",
      "Epoch 49/100\n",
      "914/914 [==============================] - 0s 165us/sample - loss: 0.6614 - accuracy: 0.6138\n",
      "Epoch 50/100\n",
      "914/914 [==============================] - 0s 164us/sample - loss: 0.6605 - accuracy: 0.6138\n",
      "Epoch 51/100\n",
      "914/914 [==============================] - 0s 165us/sample - loss: 0.6595 - accuracy: 0.6138\n",
      "Epoch 52/100\n",
      "914/914 [==============================] - 0s 179us/sample - loss: 0.6574 - accuracy: 0.6138\n",
      "Epoch 53/100\n",
      "914/914 [==============================] - 0s 163us/sample - loss: 0.6540 - accuracy: 0.6138\n",
      "Epoch 54/100\n",
      "914/914 [==============================] - 0s 180us/sample - loss: 0.6412 - accuracy: 0.6138\n",
      "Epoch 55/100\n",
      "914/914 [==============================] - 0s 157us/sample - loss: 0.6272 - accuracy: 0.6138\n",
      "Epoch 56/100\n",
      "914/914 [==============================] - 0s 192us/sample - loss: 0.6117 - accuracy: 0.6138\n",
      "Epoch 57/100\n",
      "914/914 [==============================] - 0s 176us/sample - loss: 0.5977 - accuracy: 0.6138\n",
      "Epoch 58/100\n",
      "914/914 [==============================] - 0s 161us/sample - loss: 0.5853 - accuracy: 0.6477\n",
      "Epoch 59/100\n",
      "914/914 [==============================] - 0s 161us/sample - loss: 0.5745 - accuracy: 0.7254\n",
      "Epoch 60/100\n",
      "914/914 [==============================] - 0s 167us/sample - loss: 0.5642 - accuracy: 0.7429\n",
      "Epoch 61/100\n",
      "914/914 [==============================] - 0s 161us/sample - loss: 0.5563 - accuracy: 0.7615\n",
      "Epoch 62/100\n",
      "914/914 [==============================] - 0s 170us/sample - loss: 0.5493 - accuracy: 0.7691\n",
      "Epoch 63/100\n",
      "914/914 [==============================] - 0s 162us/sample - loss: 0.5433 - accuracy: 0.7724\n",
      "Epoch 64/100\n",
      "914/914 [==============================] - 0s 174us/sample - loss: 0.5392 - accuracy: 0.7735\n",
      "Epoch 65/100\n",
      "914/914 [==============================] - 0s 162us/sample - loss: 0.5344 - accuracy: 0.7779\n",
      "Epoch 66/100\n",
      "914/914 [==============================] - 0s 193us/sample - loss: 0.5312 - accuracy: 0.7845\n",
      "Epoch 67/100\n",
      "914/914 [==============================] - 0s 164us/sample - loss: 0.5268 - accuracy: 0.7812\n",
      "Epoch 68/100\n",
      "914/914 [==============================] - 0s 164us/sample - loss: 0.5241 - accuracy: 0.7768\n",
      "Epoch 69/100\n",
      "914/914 [==============================] - 0s 165us/sample - loss: 0.5206 - accuracy: 0.7834\n",
      "Epoch 70/100\n",
      "914/914 [==============================] - 0s 189us/sample - loss: 0.5184 - accuracy: 0.7834\n",
      "Epoch 71/100\n",
      "914/914 [==============================] - 0s 175us/sample - loss: 0.5157 - accuracy: 0.7856\n",
      "Epoch 72/100\n",
      "914/914 [==============================] - 0s 160us/sample - loss: 0.5135 - accuracy: 0.7845\n",
      "Epoch 73/100\n",
      "914/914 [==============================] - 0s 167us/sample - loss: 0.5116 - accuracy: 0.7823\n",
      "Epoch 74/100\n",
      "914/914 [==============================] - 0s 189us/sample - loss: 0.5100 - accuracy: 0.7834\n",
      "Epoch 75/100\n",
      "914/914 [==============================] - 0s 162us/sample - loss: 0.5085 - accuracy: 0.7801\n",
      "Epoch 76/100\n",
      "914/914 [==============================] - 0s 154us/sample - loss: 0.5058 - accuracy: 0.7834\n",
      "Epoch 77/100\n",
      "914/914 [==============================] - 0s 180us/sample - loss: 0.5048 - accuracy: 0.7823\n",
      "Epoch 78/100\n",
      "914/914 [==============================] - 0s 170us/sample - loss: 0.5029 - accuracy: 0.7910\n",
      "Epoch 79/100\n",
      "914/914 [==============================] - 0s 155us/sample - loss: 0.5013 - accuracy: 0.7888\n",
      "Epoch 80/100\n",
      "914/914 [==============================] - 0s 182us/sample - loss: 0.5004 - accuracy: 0.7845\n",
      "Epoch 81/100\n",
      "914/914 [==============================] - 0s 172us/sample - loss: 0.4995 - accuracy: 0.7867\n",
      "Epoch 82/100\n",
      "914/914 [==============================] - 0s 162us/sample - loss: 0.4977 - accuracy: 0.7867\n",
      "Epoch 83/100\n",
      "914/914 [==============================] - 0s 188us/sample - loss: 0.4973 - accuracy: 0.7834\n",
      "Epoch 84/100\n",
      "914/914 [==============================] - 0s 168us/sample - loss: 0.4973 - accuracy: 0.7856\n",
      "Epoch 85/100\n",
      "914/914 [==============================] - 0s 169us/sample - loss: 0.4958 - accuracy: 0.7867\n",
      "Epoch 86/100\n",
      "914/914 [==============================] - 0s 175us/sample - loss: 0.4944 - accuracy: 0.7899\n",
      "Epoch 87/100\n",
      "914/914 [==============================] - 0s 186us/sample - loss: 0.4941 - accuracy: 0.7823\n",
      "Epoch 88/100\n",
      "914/914 [==============================] - 0s 190us/sample - loss: 0.4930 - accuracy: 0.7877\n",
      "Epoch 89/100\n",
      "914/914 [==============================] - 0s 182us/sample - loss: 0.4913 - accuracy: 0.7888\n",
      "Epoch 90/100\n",
      "914/914 [==============================] - 0s 186us/sample - loss: 0.4912 - accuracy: 0.7834\n",
      "Epoch 91/100\n",
      "914/914 [==============================] - 0s 177us/sample - loss: 0.4914 - accuracy: 0.7867\n",
      "Epoch 92/100\n",
      "914/914 [==============================] - 0s 164us/sample - loss: 0.4897 - accuracy: 0.7877\n",
      "Epoch 93/100\n",
      "914/914 [==============================] - 0s 177us/sample - loss: 0.4891 - accuracy: 0.7867\n",
      "Epoch 94/100\n",
      "914/914 [==============================] - 0s 167us/sample - loss: 0.4891 - accuracy: 0.7834\n",
      "Epoch 95/100\n",
      "914/914 [==============================] - 0s 168us/sample - loss: 0.4892 - accuracy: 0.7888\n",
      "Epoch 96/100\n",
      "914/914 [==============================] - 0s 177us/sample - loss: 0.4883 - accuracy: 0.7888\n",
      "Epoch 97/100\n",
      "914/914 [==============================] - 0s 168us/sample - loss: 0.4866 - accuracy: 0.7921\n",
      "Epoch 98/100\n",
      "914/914 [==============================] - 0s 181us/sample - loss: 0.4868 - accuracy: 0.7888\n",
      "Epoch 99/100\n",
      "914/914 [==============================] - 0s 214us/sample - loss: 0.4861 - accuracy: 0.7867\n",
      "Epoch 100/100\n",
      "914/914 [==============================] - 0s 184us/sample - loss: 0.4855 - accuracy: 0.7801\n"
     ]
    },
    {
     "data": {
      "text/plain": [
       "<tensorflow.python.keras.callbacks.History at 0x7fef2915b588>"
      ]
     },
     "execution_count": 66,
     "metadata": {
      "tags": []
     },
     "output_type": "execute_result"
    }
   ],
   "source": [
    "#Entrenamiento\n",
    "model.fit(X_train,y_train,batch_size=10,epochs=100)"
   ]
  },
  {
   "cell_type": "code",
   "execution_count": 0,
   "metadata": {
    "colab": {},
    "colab_type": "code",
    "id": "wQlWb_hkpiUV"
   },
   "outputs": [],
   "source": [
    "predictions = model.predict(X_test)"
   ]
  }
 ],
 "metadata": {
  "colab": {
   "collapsed_sections": [],
   "name": "titanic.ipynb",
   "provenance": [],
   "toc_visible": true
  },
  "kernelspec": {
   "display_name": "Python 3",
   "language": "python",
   "name": "python3"
  },
  "language_info": {
   "codemirror_mode": {
    "name": "ipython",
    "version": 3
   },
   "file_extension": ".py",
   "mimetype": "text/x-python",
   "name": "python",
   "nbconvert_exporter": "python",
   "pygments_lexer": "ipython3",
   "version": "3.7.6"
  }
 },
 "nbformat": 4,
 "nbformat_minor": 1
}
